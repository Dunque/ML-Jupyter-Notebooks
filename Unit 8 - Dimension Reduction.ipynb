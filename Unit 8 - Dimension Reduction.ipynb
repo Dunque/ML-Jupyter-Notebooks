{
 "cells": [
  {
   "cell_type": "markdown",
   "id": "59a35ab0",
   "metadata": {},
   "source": [
    "## The curse of dimensionality\n",
    "\n",
    "One of the main problems in machine learning is what is known as the curse of dimensionality or the curse of dimensions. This problem arises from the moment in which one tries to improve an approximation by simply using more variables. Maybe you could, but most probably you can't. This is where the curse of dimensionality comes in. It is here that the curse is incurred since, **as the number of characteristics or dimensions increases, the amount of data needed to obtain an accurate generalisation increases exponentially. ** However, before you can tackle the problem, you need to know where it comes from.\n",
    "\n",
    "![Performance behaviour when the number of variables is increased](./img/unit8/Perfomance_Dimension_plot.png)\n",
    "\n",
    "\n",
    "### The dimensionality of problems\n",
    "\n",
    "Rarely do the impact that a given variable will have on an optimisation process come to mind. Take for example a case where there are 5 observations for a given variable **X**, and these observations are uniformly distributed in space. Thus each of the observations will try to represent $\\frac{1}{5}$ of the said space.\n",
    "\n",
    "![](./img/unit8/Sampling_Examples.png)\n",
    "\n",
    "hen adding another **Y** variable (moving to a two-dimensional space) in order to maintain the same distance between them, i.e. the same rate of representativeness of the space, the number of samples should be increased to 25. With a third one, 125 samples would be needed to explore the space under the same conditions, and so on. \n",
    "\n",
    "Therefore, the present problem increases exponentially the more dimensions we have.\n",
    "\n",
    "\n",
    "### The curse\n",
    "\n",
    "What happens in a real problem? Well, it is usually not possible to increase the number of samples to maintain the representativeness of the sample points and the equidistance. That is why, if we add a new feature but do not provide enough points, the result would be a more complex model but with an impoverished performance.\n",
    "\n",
    "The reason for this statement can be clearly seen in the following example in which we try to classify between images of cats and dogs. If only one dimension is taken into account, the examples are uniformly distributed. \n",
    "\n",
    "![](./img/unit8/Doom_1.png)\n",
    "\n",
    "In this case there are 10 samples covering the whole space. But, if you increase one dimension, that distribution becomes something like the following figure.\n",
    "\n",
    "![](./img/unit8/Doom_2.png)\n",
    "\n",
    "This situation might lead one to think that a new dimension would make it even easier to divide the space. For example, adding a third dimension to the previous problem would give something like:\n",
    "\n",
    "![](./img/unit8/Doom_3.png)\n",
    "\n",
    "Where the result is linearly separable as can be seen in the following image.\n",
    "\n",
    "![](./img/unit8/Doom_4.png)\n",
    "\n",
    "The erroneous conclusion that can be drawn is that the higher the dimensionality is increased, the easier the separation on the basis of features will be. Note how the distribution of the data has changed: while in one dimension there are 2 samples per five-sample interval mentioned above, in three-dimensional space there are barely 0.08 samples per interval (10/125). Therefore, it is more complicated to find counter examples on the same side of the classifier. The problem arises when we project this data to a lower dimensional space as happens when any artificial neural network is applied when creating a classifier. In that situation the result would be similar to the following figure:\n",
    "\n",
    "![](./img/unit8/Doom_5.png)\n",
    "\n",
    "As can be seen in the following figure, the classifier has been overtrained and therefore the result is not as good as it could be for new instances. For example, see the following figure where a simple linear classifier has been applied on fewer dimensions\n",
    "\n",
    "![](./img/unit8/Doom_6.png)\n",
    "\n",
    "### How to avoid the curse?\n",
    "\n",
    "There is no single rule defining how many features should be used in a regression/classification problem. The number will depend on the amount of training data available, the complexity of the decision boundaries and the type of classifier being used. \n",
    "\n",
    "There are mainly two types of approaches in order to reduce dimensionality. These two types are:\n",
    "* projections \n",
    "* transformations\n",
    "\n",
    "The difference between one and the other is that, while projections operate on the space defined by the input samples itself, transformations try to modify this space in order to find a transition function that allows a suitable and separable representation of the data.\n",
    "Some of the most common techniques are:\n",
    "\n",
    "* Principal Component Analysis (PCA) \n",
    "* Linear Discriminant Analysis (LDA) \n",
    "* Linear Discriminant Analysis (LCD)\n",
    "* Independent Components Analysis (ICA) \n",
    "* Locally linear embedding (LLE) \n",
    "* T-distributed Stochastic Stochastic Neighbor Embedding (t-SNE) \n",
    "* IsoMaps\n",
    "* Autoencoders"
   ]
  },
  {
   "cell_type": "markdown",
   "id": "22f062de",
   "metadata": {},
   "source": [
    "## Loading the data for the examples\n",
    "In this unit we are going to load, again, the machine learning problem known as **rock or mine?**. As it was said in the previous unit, this small database consists of 111 patterns corresponding to rocks and 97 patterns corresponding to water mines (simulated as metal cylinders). Each of the patterns consists of 60 numerical measurements between 0.0. and 1.0. These measurements correspond to the energy value of different wavelength ranges for a certain period of time.\n",
    "\n",
    "The first step will be to download the data set if it is not already available. For this purpose, the following code will be used with the utility function shown below. You should already have it downloaded, but as an alternative to the previous case where we use the DataFrames to prepare the data in this case we are going to use pure default libraries and Arrays"
   ]
  },
  {
   "cell_type": "code",
   "execution_count": 14,
   "id": "de75ac2c",
   "metadata": {},
   "outputs": [
    {
     "data": {
      "text/plain": [
       "(208, 61)"
      ]
     },
     "execution_count": 14,
     "metadata": {},
     "output_type": "execute_result"
    }
   ],
   "source": [
    "using Downloads;\n",
    "using DelimitedFiles;\n",
    "using Statistics;\n",
    "import Dates;\n",
    "using Random;\n",
    "\n",
    "function load_data(filename::String, url::String)\n",
    "    if !isfile(filename)\n",
    "        Downloads.download(url, filename)\n",
    "    end\n",
    "    data = readdlm(filename,',');\n",
    "end\n",
    "\n",
    "file_name = \"sonar.all_data\"\n",
    "url = \"https://archive.ics.uci.edu/ml/machine-learning-databases/undocumented/connectionist-bench/sonar/sonar.all-data\"\n",
    "data = load_data(file_name, url)\n",
    "size(data)"
   ]
  },
  {
   "cell_type": "markdown",
   "id": "eaa4ede5",
   "metadata": {},
   "source": [
    "#### Question\n",
    "Does the fact that the values of the variables are between 0 and 1 imply that they are standardised?"
   ]
  },
  {
   "cell_type": "markdown",
   "id": "fc5eba90",
   "metadata": {},
   "source": [
    "`No. Some values can be in range (0,0.5) for example, and therefore need to be normalised. The only way to make sure that the values are standarised is by performing standarisation or checking the dataset source.`"
   ]
  },
  {
   "cell_type": "markdown",
   "id": "863719d7",
   "metadata": {},
   "source": [
    "### Data pre-processing\n",
    "Once the data have been downloaded, although the measurements are already normalised, although they are not standardised, it is necessary to make a small adaptation to the data. Specifically, it is necessary to divide the set into inputs and outputs, as well as to change the interpretation of the last column, which contains the problem label, to an integer. In addition, the data set will also be divided into training and test. This division will maintain a percentage of 10% of patterns for the test."
   ]
  },
  {
   "cell_type": "code",
   "execution_count": 197,
   "id": "2595d0f5",
   "metadata": {},
   "outputs": [],
   "source": [
    "function holdOut(N::Int, P::Real)\n",
    "    @assert ((P >= 0.) & (P <= 1.)) \"The percentage must be a number between 0 and 1\"\n",
    "    \n",
    "    indices = randperm(N)\n",
    "    sizeTrainSet = Int(round(N * (1 - P)))\n",
    "    return indices[1:sizeTrainSet], indices[sizeTrainSet + 1:end]\n",
    "end;\n",
    "\n",
    "function oneHotEncoding(feature::AbstractArray{<:Any,1}, classes::AbstractArray{<:Any,1})\n",
    "    nClasses = length(classes)\n",
    "    println(nClasses)\n",
    "    if nClasses == 2\n",
    "        feat = convert(Array{Bool}, feature .== classes[1])  # encode the first class as 1/true and the second class as 0/false\n",
    "        feat = reshape(feat, (length(feat), 1))  # convert from Vector to Matrix with one column\n",
    "    else\n",
    "        # permutedims is necessary because the transpose operation is not defined for e.g. string vectors\n",
    "        feat = Array{Bool,2}((permutedims(feature) .== classes)')\n",
    "    end\n",
    "    return feat\n",
    "end;\n",
    "\n",
    "oneHotEncoding(feature::AbstractArray{<:Any,1}) = oneHotEncoding(feature, unique(feature));\n",
    "oneHotEncoding(feature::AbstractArray{Bool,1}) = oneHotEncoding(reshape(feature, 1, :))\n",
    "\n",
    "function calculateMinMaxNormalizationParameters(dataset::AbstractArray{<:Real,2})\n",
    "    return minimum(dataset, dims=1), maximum(dataset, dims=1)\n",
    "end;\n",
    "\n",
    "function normalizeMinMax!(dataset::AbstractArray{<:Real,2},      \n",
    "    normalizationParameters::NTuple{2, AbstractArray{<:Real,2}})\n",
    "    min, max = normalizationParameters\n",
    "    dataset .-= min\n",
    "    dataset ./= (max .- min)\n",
    "    dataset[:, vec(max .== min)] .= 0  # can be removed the attributes whose max == min in the same variable? (no reassign)\n",
    "    return dataset\n",
    "end;\n",
    "\n",
    "function normalizeMinMax!(dataset::AbstractArray{<:Real,2})\n",
    "    min, max = calculateMinMaxNormalizationParameters(dataset)\n",
    "    return normalizeMinMax!(dataset, (min, max))\n",
    "end;\n",
    "\n",
    "function normalizeMinMax(dataset::AbstractArray{<:Real,2},      \n",
    "    normalizationParameters::NTuple{2, AbstractArray{<:Real,2}}) \n",
    "    newDataset = copy(dataset)\n",
    "    normalizeMinMax!(newDataset, normalizationParameters)\n",
    "    return newDataset\n",
    "end;\n",
    "\n",
    "function normalizeMinMax(dataset::AbstractArray{<:Real,2})\n",
    "    return normalizeMinMax(copy(dataset), calculateMinMaxNormalizationParameters(dataset))\n",
    "end;"
   ]
  },
  {
   "cell_type": "code",
   "execution_count": 198,
   "id": "58342a53",
   "metadata": {},
   "outputs": [
    {
     "name": "stdout",
     "output_type": "stream",
     "text": [
      "2\n",
      "Matrix{Bool}\n",
      "(187, 60)(187, 1)(21, 60)(21, 1)\n",
      "true"
     ]
    }
   ],
   "source": [
    "# Prepare input data\n",
    "input_data = normalizeMinMax!(convert(Array{Float32,2},data[:,1:end-1]))\n",
    "@assert isa(input_data, Array{<:Float32,2})\n",
    "\n",
    "# Prepare output data\n",
    "output_data = oneHotEncoding(data[:, end])\n",
    "println(typeof(output_data))\n",
    "#@assert isa(output_data, AbstractArray{Bool,2})\n",
    "\n",
    "# Split the data in train and test dataset\n",
    "ho_train, ho_test = holdOut(size(input_data,1), 0.1)\n",
    "train_input, train_output = input_data[ho_train, :], output_data[ho_train, :]\n",
    "test_input, test_output = input_data[ho_test, :], output_data[ho_test, :]\n",
    "\n",
    "println(size(train_input), size(train_output), size(test_input), size(test_output))\n",
    "\n",
    "print(isa(output_data, AbstractArray{Bool,2}))\n",
    "\n",
    "# @assert size(train_input) ≈ [floor(Int, 0.9*length(input_data)), size(input_data)[2]]"
   ]
  },
  {
   "cell_type": "markdown",
   "id": "e54eded0",
   "metadata": {},
   "source": [
    "## Principal Component Analysis (PCA)\n",
    "\n",
    "Probably the most widely used dimensionality reduction technique. It can be used both individually and in combination with other techniques. It is a method that transforms data by means of a projection onto a set of orthogonal axes. To do this, the method searches for the best linear combinations of the original variables, trying to maximise the variance along the new variable. For example, the image on the right shows a set of points in three dimensions. These three dimensions, when projected, give the images on the right that allow us to see the variability of the data for each of the axes. The continuous line is the one with the highest variability and, therefore, the one that will be taken as the base or first component. For the second component, among the remaining possibilities, the one that maximises and remains perpendicular (orthogonal) to the first dimension selected will be chosen.\n",
    "\n",
    "![](./img/unit8/PCA.png)\n",
    "\n",
    "If a third dimension is needed, PCA would have to search for one that is perpendicular to these. This process is based on the so-called *Single Value Decomposition (SVD)* matrix which extracts the eigenvectors from the sample space. These are sorted in decreasing order and those that best represent the corresponding space are selected.\n",
    "\n",
    "For those who wish to understand in detail how it works, a step-by-step description of how to implement PCA can be found in the following [link](https://sebastianraschka.com/Articles/2014_pca_step_by_step.html).\n",
    "\n",
    "Generally speaking, if you want to make use of PCA, a good alternative is to use the implementation as found in the `scikit-learn` library. This library has the `PCA` function that allows us to execute this reduction technique. See the following example:"
   ]
  },
  {
   "cell_type": "code",
   "execution_count": 135,
   "id": "04f681b6",
   "metadata": {},
   "outputs": [
    {
     "name": "stdout",
     "output_type": "stream",
     "text": [
      "Input shape: (187, 60)\n",
      "Input shape: (21, 60)\n",
      "Output shape: (187, 1)\n",
      "Output shape: (21, 1)\n"
     ]
    },
    {
     "data": {
      "text/plain": [
       "21×2 Matrix{Float32}:\n",
       "  0.552436    0.128244\n",
       "  1.0004      0.66115\n",
       "  0.328975   -1.08027\n",
       " -0.992701   -0.468079\n",
       "  0.696564    1.8506\n",
       "  0.163164   -0.985136\n",
       " -0.696348    0.650667\n",
       "  0.983936    0.538391\n",
       "  0.098713    0.813094\n",
       " -0.471381   -0.831862\n",
       "  0.412928   -0.857907\n",
       " -0.262869   -0.51469\n",
       "  0.619834   -0.85295\n",
       "  0.343062   -0.391497\n",
       "  0.621755    1.69335\n",
       "  0.688401    0.737367\n",
       "  0.511749   -0.578961\n",
       "  1.08028     0.0233529\n",
       "  1.05944     1.38274\n",
       " -0.0561179  -0.430478\n",
       "  1.49411    -0.166554"
      ]
     },
     "execution_count": 135,
     "metadata": {},
     "output_type": "execute_result"
    }
   ],
   "source": [
    "# using ScikitLearn\n",
    "\n",
    "# @sk_import decomposition:PCA\n",
    "\n",
    "#Define the PCA object and the number of componentes that are desired\n",
    "pca = PCA(2)\n",
    "\n",
    "# print input shape\n",
    "println(\"Input shape: \", size(train_input))\n",
    "println(\"Input shape: \", size(test_input))\n",
    "println(\"Output shape: \", size(train_output))\n",
    "println(\"Output shape: \", size(test_output))\n",
    "\n",
    "#Ajust the matrix acording to the train data\n",
    "fit!(pca, train_input)\n",
    "\n",
    "#Once it is ajusted it can be used to transform the data\n",
    "pca_train = pca.transform(train_input)\n",
    "pca_test = pca.transform(test_input)"
   ]
  },
  {
   "cell_type": "markdown",
   "id": "16a26dd8",
   "metadata": {},
   "source": [
    "It should be highlighted the importance of fitting the transformation on the training data only. In case of doing it on the total data, the transformation would be contaminating with the transformation the possible training of classification or regression techniques that could be applied later.\n",
    "\n",
    "One of the main advantages of applying dimensionality reduction is that it allows a first visual study to be carried out by transforming a multidimensional space into a 2 or 3 dimensional space that can be represented graphically. In the example, the PCA-transformed data will be used for the representation. First, a function is defined to facilitate the presentation of the data:"
   ]
  },
  {
   "cell_type": "code",
   "execution_count": 199,
   "id": "3d6f3635",
   "metadata": {},
   "outputs": [
    {
     "data": {
      "text/plain": [
       "draw_results (generic function with 2 methods)"
      ]
     },
     "execution_count": 199,
     "metadata": {},
     "output_type": "execute_result"
    }
   ],
   "source": [
    "using Plots;\n",
    "\n",
    "function draw_results(x, y, colors, target_names)\n",
    "    num_classes = length(unique(colors))\n",
    "    println(\"x_shape=\", size(x))\n",
    "    println(\"y_shape=\", size(y))\n",
    "    if !isnothing(target_names)\n",
    "        @assert num_classes == length(target_names)\n",
    "        label = target_names\n",
    "    else\n",
    "        label =  [string(i) for i in range(1,num_classes)]\n",
    "\n",
    "    end\n",
    "    fig = plot()\n",
    "\n",
    "    for i in range(1, num_classes)\n",
    "        scatter!(fig, scatter(x[y[:,1],1], x[y[:,1],2], makercolor=colors[i], label=label[i]))\n",
    "    end\n",
    "end"
   ]
  },
  {
   "cell_type": "markdown",
   "id": "780e795e",
   "metadata": {},
   "source": [
    "Without dimensionality reduction, the expert would be responsible for choosing the two variables to represent. Doing so would run the risk of not representing the distribution correctly. Then, print two of the dimensions of your choice and compare the results with the one obtained by PCA."
   ]
  },
  {
   "cell_type": "code",
   "execution_count": 209,
   "id": "2f554ce5",
   "metadata": {},
   "outputs": [
    {
     "name": "stdout",
     "output_type": "stream",
     "text": [
      "x_shape=(187, 2)\n",
      "y_shape=(187, 1)\n"
     ]
    },
    {
     "data": {
      "image/svg+xml": "<?xml version=\"1.0\" encoding=\"utf-8\"?>\n<svg xmlns=\"http://www.w3.org/2000/svg\" xmlns:xlink=\"http://www.w3.org/1999/xlink\" width=\"600\" height=\"400\" viewBox=\"0 0 2400 1600\">\n<defs>\n  <clipPath id=\"clip480\">\n    <rect x=\"0\" y=\"0\" width=\"2400\" height=\"1600\"/>\n  </clipPath>\n</defs>\n<path clip-path=\"url(#clip480)\" d=\"\nM0 1600 L2400 1600 L2400 0 L0 0  Z\n  \" fill=\"#ffffff\" fill-rule=\"evenodd\" fill-opacity=\"1\"/>\n<defs>\n  <clipPath id=\"clip481\">\n    <rect x=\"480\" y=\"0\" width=\"1681\" height=\"1600\"/>\n  </clipPath>\n</defs>\n<path clip-path=\"url(#clip480)\" d=\"\nM156.598 1486.45 L524.753 1486.45 L524.753 47.2441 L156.598 47.2441  Z\n  \" fill=\"#ffffff\" fill-rule=\"evenodd\" fill-opacity=\"1\"/>\n<defs>\n  <clipPath id=\"clip482\">\n    <rect x=\"156\" y=\"47\" width=\"369\" height=\"1440\"/>\n  </clipPath>\n</defs>\n<polyline clip-path=\"url(#clip482)\" style=\"stroke:#000000; stroke-linecap:round; stroke-linejoin:round; stroke-width:2; stroke-opacity:0.1; fill:none\" points=\"\n  156.598,1486.45 156.598,47.2441 \n  \"/>\n<polyline clip-path=\"url(#clip482)\" style=\"stroke:#000000; stroke-linecap:round; stroke-linejoin:round; stroke-width:2; stroke-opacity:0.1; fill:none\" points=\"\n  230.229,1486.45 230.229,47.2441 \n  \"/>\n<polyline clip-path=\"url(#clip482)\" style=\"stroke:#000000; stroke-linecap:round; stroke-linejoin:round; stroke-width:2; stroke-opacity:0.1; fill:none\" points=\"\n  303.86,1486.45 303.86,47.2441 \n  \"/>\n<polyline clip-path=\"url(#clip482)\" style=\"stroke:#000000; stroke-linecap:round; stroke-linejoin:round; stroke-width:2; stroke-opacity:0.1; fill:none\" points=\"\n  377.491,1486.45 377.491,47.2441 \n  \"/>\n<polyline clip-path=\"url(#clip482)\" style=\"stroke:#000000; stroke-linecap:round; stroke-linejoin:round; stroke-width:2; stroke-opacity:0.1; fill:none\" points=\"\n  451.122,1486.45 451.122,47.2441 \n  \"/>\n<polyline clip-path=\"url(#clip482)\" style=\"stroke:#000000; stroke-linecap:round; stroke-linejoin:round; stroke-width:2; stroke-opacity:0.1; fill:none\" points=\"\n  524.753,1486.45 524.753,47.2441 \n  \"/>\n<polyline clip-path=\"url(#clip480)\" style=\"stroke:#000000; stroke-linecap:round; stroke-linejoin:round; stroke-width:4; stroke-opacity:1; fill:none\" points=\"\n  156.598,1486.45 524.753,1486.45 \n  \"/>\n<polyline clip-path=\"url(#clip480)\" style=\"stroke:#000000; stroke-linecap:round; stroke-linejoin:round; stroke-width:4; stroke-opacity:1; fill:none\" points=\"\n  156.598,1486.45 156.598,1467.55 \n  \"/>\n<polyline clip-path=\"url(#clip480)\" style=\"stroke:#000000; stroke-linecap:round; stroke-linejoin:round; stroke-width:4; stroke-opacity:1; fill:none\" points=\"\n  230.229,1486.45 230.229,1467.55 \n  \"/>\n<polyline clip-path=\"url(#clip480)\" style=\"stroke:#000000; stroke-linecap:round; stroke-linejoin:round; stroke-width:4; stroke-opacity:1; fill:none\" points=\"\n  303.86,1486.45 303.86,1467.55 \n  \"/>\n<polyline clip-path=\"url(#clip480)\" style=\"stroke:#000000; stroke-linecap:round; stroke-linejoin:round; stroke-width:4; stroke-opacity:1; fill:none\" points=\"\n  377.491,1486.45 377.491,1467.55 \n  \"/>\n<polyline clip-path=\"url(#clip480)\" style=\"stroke:#000000; stroke-linecap:round; stroke-linejoin:round; stroke-width:4; stroke-opacity:1; fill:none\" points=\"\n  451.122,1486.45 451.122,1467.55 \n  \"/>\n<polyline clip-path=\"url(#clip480)\" style=\"stroke:#000000; stroke-linecap:round; stroke-linejoin:round; stroke-width:4; stroke-opacity:1; fill:none\" points=\"\n  524.753,1486.45 524.753,1467.55 \n  \"/>\n<path clip-path=\"url(#clip480)\" d=\"M133.983 1517.37 Q130.372 1517.37 128.543 1520.93 Q126.737 1524.47 126.737 1531.6 Q126.737 1538.71 128.543 1542.27 Q130.372 1545.82 133.983 1545.82 Q137.617 1545.82 139.422 1542.27 Q141.251 1538.71 141.251 1531.6 Q141.251 1524.47 139.422 1520.93 Q137.617 1517.37 133.983 1517.37 M133.983 1513.66 Q139.793 1513.66 142.848 1518.27 Q145.927 1522.85 145.927 1531.6 Q145.927 1540.33 142.848 1544.94 Q139.793 1549.52 133.983 1549.52 Q128.172 1549.52 125.094 1544.94 Q122.038 1540.33 122.038 1531.6 Q122.038 1522.85 125.094 1518.27 Q128.172 1513.66 133.983 1513.66 Z\" fill=\"#000000\" fill-rule=\"evenodd\" fill-opacity=\"1\" /><path clip-path=\"url(#clip480)\" d=\"M154.145 1542.97 L159.029 1542.97 L159.029 1548.85 L154.145 1548.85 L154.145 1542.97 Z\" fill=\"#000000\" fill-rule=\"evenodd\" fill-opacity=\"1\" /><path clip-path=\"url(#clip480)\" d=\"M179.214 1517.37 Q175.603 1517.37 173.774 1520.93 Q171.969 1524.47 171.969 1531.6 Q171.969 1538.71 173.774 1542.27 Q175.603 1545.82 179.214 1545.82 Q182.848 1545.82 184.654 1542.27 Q186.482 1538.71 186.482 1531.6 Q186.482 1524.47 184.654 1520.93 Q182.848 1517.37 179.214 1517.37 M179.214 1513.66 Q185.024 1513.66 188.08 1518.27 Q191.158 1522.85 191.158 1531.6 Q191.158 1540.33 188.08 1544.94 Q185.024 1549.52 179.214 1549.52 Q173.404 1549.52 170.325 1544.94 Q167.269 1540.33 167.269 1531.6 Q167.269 1522.85 170.325 1518.27 Q173.404 1513.66 179.214 1513.66 Z\" fill=\"#000000\" fill-rule=\"evenodd\" fill-opacity=\"1\" /><path clip-path=\"url(#clip480)\" d=\"M208.412 1517.37 Q204.801 1517.37 202.972 1520.93 Q201.167 1524.47 201.167 1531.6 Q201.167 1538.71 202.972 1542.27 Q204.801 1545.82 208.412 1545.82 Q212.046 1545.82 213.852 1542.27 Q215.681 1538.71 215.681 1531.6 Q215.681 1524.47 213.852 1520.93 Q212.046 1517.37 208.412 1517.37 M208.412 1513.66 Q214.222 1513.66 217.278 1518.27 Q220.356 1522.85 220.356 1531.6 Q220.356 1540.33 217.278 1544.94 Q214.222 1549.52 208.412 1549.52 Q202.602 1549.52 199.523 1544.94 Q196.468 1540.33 196.468 1531.6 Q196.468 1522.85 199.523 1518.27 Q202.602 1513.66 208.412 1513.66 Z\" fill=\"#000000\" fill-rule=\"evenodd\" fill-opacity=\"1\" /><path clip-path=\"url(#clip480)\" d=\"M228.574 1542.97 L233.458 1542.97 L233.458 1548.85 L228.574 1548.85 L228.574 1542.97 Z\" fill=\"#000000\" fill-rule=\"evenodd\" fill-opacity=\"1\" /><path clip-path=\"url(#clip480)\" d=\"M247.671 1544.91 L263.99 1544.91 L263.99 1548.85 L242.046 1548.85 L242.046 1544.91 Q244.708 1542.16 249.292 1537.53 Q253.898 1532.88 255.079 1531.53 Q257.324 1529.01 258.203 1527.27 Q259.106 1525.51 259.106 1523.82 Q259.106 1521.07 257.162 1519.33 Q255.241 1517.6 252.139 1517.6 Q249.94 1517.6 247.486 1518.36 Q245.055 1519.13 242.278 1520.68 L242.278 1515.95 Q245.102 1514.82 247.555 1514.24 Q250.009 1513.66 252.046 1513.66 Q257.416 1513.66 260.611 1516.35 Q263.805 1519.03 263.805 1523.52 Q263.805 1525.65 262.995 1527.57 Q262.208 1529.47 260.102 1532.07 Q259.523 1532.74 256.421 1535.95 Q253.319 1539.15 247.671 1544.91 Z\" fill=\"#000000\" fill-rule=\"evenodd\" fill-opacity=\"1\" /><path clip-path=\"url(#clip480)\" d=\"M281.001 1517.37 Q277.39 1517.37 275.562 1520.93 Q273.756 1524.47 273.756 1531.6 Q273.756 1538.71 275.562 1542.27 Q277.39 1545.82 281.001 1545.82 Q284.636 1545.82 286.441 1542.27 Q288.27 1538.71 288.27 1531.6 Q288.27 1524.47 286.441 1520.93 Q284.636 1517.37 281.001 1517.37 M281.001 1513.66 Q286.811 1513.66 289.867 1518.27 Q292.946 1522.85 292.946 1531.6 Q292.946 1540.33 289.867 1544.94 Q286.811 1549.52 281.001 1549.52 Q275.191 1549.52 272.112 1544.94 Q269.057 1540.33 269.057 1531.6 Q269.057 1522.85 272.112 1518.27 Q275.191 1513.66 281.001 1513.66 Z\" fill=\"#000000\" fill-rule=\"evenodd\" fill-opacity=\"1\" /><path clip-path=\"url(#clip480)\" d=\"M301.163 1542.97 L306.047 1542.97 L306.047 1548.85 L301.163 1548.85 L301.163 1542.97 Z\" fill=\"#000000\" fill-rule=\"evenodd\" fill-opacity=\"1\" /><path clip-path=\"url(#clip480)\" d=\"M329.08 1518.36 L317.274 1536.81 L329.08 1536.81 L329.08 1518.36 M327.853 1514.29 L333.732 1514.29 L333.732 1536.81 L338.663 1536.81 L338.663 1540.7 L333.732 1540.7 L333.732 1548.85 L329.08 1548.85 L329.08 1540.7 L313.478 1540.7 L313.478 1536.19 L327.853 1514.29 Z\" fill=\"#000000\" fill-rule=\"evenodd\" fill-opacity=\"1\" /><path clip-path=\"url(#clip480)\" d=\"M354.794 1517.37 Q351.183 1517.37 349.354 1520.93 Q347.549 1524.47 347.549 1531.6 Q347.549 1538.71 349.354 1542.27 Q351.183 1545.82 354.794 1545.82 Q358.428 1545.82 360.234 1542.27 Q362.063 1538.71 362.063 1531.6 Q362.063 1524.47 360.234 1520.93 Q358.428 1517.37 354.794 1517.37 M354.794 1513.66 Q360.604 1513.66 363.66 1518.27 Q366.739 1522.85 366.739 1531.6 Q366.739 1540.33 363.66 1544.94 Q360.604 1549.52 354.794 1549.52 Q348.984 1549.52 345.905 1544.94 Q342.85 1540.33 342.85 1531.6 Q342.85 1522.85 345.905 1518.27 Q348.984 1513.66 354.794 1513.66 Z\" fill=\"#000000\" fill-rule=\"evenodd\" fill-opacity=\"1\" /><path clip-path=\"url(#clip480)\" d=\"M374.956 1542.97 L379.84 1542.97 L379.84 1548.85 L374.956 1548.85 L374.956 1542.97 Z\" fill=\"#000000\" fill-rule=\"evenodd\" fill-opacity=\"1\" /><path clip-path=\"url(#clip480)\" d=\"M400.604 1529.7 Q397.456 1529.7 395.604 1531.86 Q393.775 1534.01 393.775 1537.76 Q393.775 1541.49 395.604 1543.66 Q397.456 1545.82 400.604 1545.82 Q403.752 1545.82 405.581 1543.66 Q407.433 1541.49 407.433 1537.76 Q407.433 1534.01 405.581 1531.86 Q403.752 1529.7 400.604 1529.7 M409.887 1515.05 L409.887 1519.31 Q408.127 1518.48 406.322 1518.04 Q404.539 1517.6 402.78 1517.6 Q398.15 1517.6 395.697 1520.72 Q393.266 1523.85 392.919 1530.17 Q394.285 1528.15 396.345 1527.09 Q398.405 1526 400.882 1526 Q406.09 1526 409.099 1529.17 Q412.132 1532.32 412.132 1537.76 Q412.132 1543.08 408.984 1546.3 Q405.836 1549.52 400.604 1549.52 Q394.609 1549.52 391.438 1544.94 Q388.266 1540.33 388.266 1531.6 Q388.266 1523.41 392.155 1518.55 Q396.044 1513.66 402.595 1513.66 Q404.354 1513.66 406.137 1514.01 Q407.942 1514.36 409.887 1515.05 Z\" fill=\"#000000\" fill-rule=\"evenodd\" fill-opacity=\"1\" /><path clip-path=\"url(#clip480)\" d=\"M428.552 1517.37 Q424.941 1517.37 423.113 1520.93 Q421.307 1524.47 421.307 1531.6 Q421.307 1538.71 423.113 1542.27 Q424.941 1545.82 428.552 1545.82 Q432.187 1545.82 433.992 1542.27 Q435.821 1538.71 435.821 1531.6 Q435.821 1524.47 433.992 1520.93 Q432.187 1517.37 428.552 1517.37 M428.552 1513.66 Q434.363 1513.66 437.418 1518.27 Q440.497 1522.85 440.497 1531.6 Q440.497 1540.33 437.418 1544.94 Q434.363 1549.52 428.552 1549.52 Q422.742 1549.52 419.664 1544.94 Q416.608 1540.33 416.608 1531.6 Q416.608 1522.85 419.664 1518.27 Q422.742 1513.66 428.552 1513.66 Z\" fill=\"#000000\" fill-rule=\"evenodd\" fill-opacity=\"1\" /><path clip-path=\"url(#clip480)\" d=\"M448.714 1542.97 L453.599 1542.97 L453.599 1548.85 L448.714 1548.85 L448.714 1542.97 Z\" fill=\"#000000\" fill-rule=\"evenodd\" fill-opacity=\"1\" /><path clip-path=\"url(#clip480)\" d=\"M473.784 1532.44 Q470.45 1532.44 468.529 1534.22 Q466.631 1536 466.631 1539.13 Q466.631 1542.25 468.529 1544.03 Q470.45 1545.82 473.784 1545.82 Q477.117 1545.82 479.038 1544.03 Q480.96 1542.23 480.96 1539.13 Q480.96 1536 479.038 1534.22 Q477.14 1532.44 473.784 1532.44 M469.108 1530.45 Q466.098 1529.7 464.409 1527.64 Q462.742 1525.58 462.742 1522.62 Q462.742 1518.48 465.682 1516.07 Q468.645 1513.66 473.784 1513.66 Q478.946 1513.66 481.885 1516.07 Q484.825 1518.48 484.825 1522.62 Q484.825 1525.58 483.135 1527.64 Q481.469 1529.7 478.483 1530.45 Q481.862 1531.23 483.737 1533.52 Q485.635 1535.82 485.635 1539.13 Q485.635 1544.15 482.557 1546.83 Q479.501 1549.52 473.784 1549.52 Q468.066 1549.52 464.987 1546.83 Q461.932 1544.15 461.932 1539.13 Q461.932 1535.82 463.83 1533.52 Q465.728 1531.23 469.108 1530.45 M467.395 1523.06 Q467.395 1525.75 469.061 1527.25 Q470.751 1528.76 473.784 1528.76 Q476.793 1528.76 478.483 1527.25 Q480.196 1525.75 480.196 1523.06 Q480.196 1520.38 478.483 1518.87 Q476.793 1517.37 473.784 1517.37 Q470.751 1517.37 469.061 1518.87 Q467.395 1520.38 467.395 1523.06 Z\" fill=\"#000000\" fill-rule=\"evenodd\" fill-opacity=\"1\" /><path clip-path=\"url(#clip480)\" d=\"M491.906 1544.91 L499.544 1544.91 L499.544 1518.55 L491.234 1520.21 L491.234 1515.95 L499.498 1514.29 L504.174 1514.29 L504.174 1544.91 L511.813 1544.91 L511.813 1548.85 L491.906 1548.85 L491.906 1544.91 Z\" fill=\"#000000\" fill-rule=\"evenodd\" fill-opacity=\"1\" /><path clip-path=\"url(#clip480)\" d=\"M521.257 1542.97 L526.141 1542.97 L526.141 1548.85 L521.257 1548.85 L521.257 1542.97 Z\" fill=\"#000000\" fill-rule=\"evenodd\" fill-opacity=\"1\" /><path clip-path=\"url(#clip480)\" d=\"M546.327 1517.37 Q542.715 1517.37 540.887 1520.93 Q539.081 1524.47 539.081 1531.6 Q539.081 1538.71 540.887 1542.27 Q542.715 1545.82 546.327 1545.82 Q549.961 1545.82 551.766 1542.27 Q553.595 1538.71 553.595 1531.6 Q553.595 1524.47 551.766 1520.93 Q549.961 1517.37 546.327 1517.37 M546.327 1513.66 Q552.137 1513.66 555.192 1518.27 Q558.271 1522.85 558.271 1531.6 Q558.271 1540.33 555.192 1544.94 Q552.137 1549.52 546.327 1549.52 Q540.516 1549.52 537.438 1544.94 Q534.382 1540.33 534.382 1531.6 Q534.382 1522.85 537.438 1518.27 Q540.516 1513.66 546.327 1513.66 Z\" fill=\"#000000\" fill-rule=\"evenodd\" fill-opacity=\"1\" /><polyline clip-path=\"url(#clip482)\" style=\"stroke:#000000; stroke-linecap:round; stroke-linejoin:round; stroke-width:2; stroke-opacity:0.1; fill:none\" points=\"\n  156.598,1486.45 524.753,1486.45 \n  \"/>\n<polyline clip-path=\"url(#clip482)\" style=\"stroke:#000000; stroke-linecap:round; stroke-linejoin:round; stroke-width:2; stroke-opacity:0.1; fill:none\" points=\"\n  156.598,1198.61 524.753,1198.61 \n  \"/>\n<polyline clip-path=\"url(#clip482)\" style=\"stroke:#000000; stroke-linecap:round; stroke-linejoin:round; stroke-width:2; stroke-opacity:0.1; fill:none\" points=\"\n  156.598,910.766 524.753,910.766 \n  \"/>\n<polyline clip-path=\"url(#clip482)\" style=\"stroke:#000000; stroke-linecap:round; stroke-linejoin:round; stroke-width:2; stroke-opacity:0.1; fill:none\" points=\"\n  156.598,622.926 524.753,622.926 \n  \"/>\n<polyline clip-path=\"url(#clip482)\" style=\"stroke:#000000; stroke-linecap:round; stroke-linejoin:round; stroke-width:2; stroke-opacity:0.1; fill:none\" points=\"\n  156.598,335.085 524.753,335.085 \n  \"/>\n<polyline clip-path=\"url(#clip482)\" style=\"stroke:#000000; stroke-linecap:round; stroke-linejoin:round; stroke-width:2; stroke-opacity:0.1; fill:none\" points=\"\n  156.598,47.2441 524.753,47.2441 \n  \"/>\n<polyline clip-path=\"url(#clip480)\" style=\"stroke:#000000; stroke-linecap:round; stroke-linejoin:round; stroke-width:4; stroke-opacity:1; fill:none\" points=\"\n  156.598,1486.45 156.598,47.2441 \n  \"/>\n<polyline clip-path=\"url(#clip480)\" style=\"stroke:#000000; stroke-linecap:round; stroke-linejoin:round; stroke-width:4; stroke-opacity:1; fill:none\" points=\"\n  156.598,1486.45 175.496,1486.45 \n  \"/>\n<polyline clip-path=\"url(#clip480)\" style=\"stroke:#000000; stroke-linecap:round; stroke-linejoin:round; stroke-width:4; stroke-opacity:1; fill:none\" points=\"\n  156.598,1198.61 175.496,1198.61 \n  \"/>\n<polyline clip-path=\"url(#clip480)\" style=\"stroke:#000000; stroke-linecap:round; stroke-linejoin:round; stroke-width:4; stroke-opacity:1; fill:none\" points=\"\n  156.598,910.766 175.496,910.766 \n  \"/>\n<polyline clip-path=\"url(#clip480)\" style=\"stroke:#000000; stroke-linecap:round; stroke-linejoin:round; stroke-width:4; stroke-opacity:1; fill:none\" points=\"\n  156.598,622.926 175.496,622.926 \n  \"/>\n<polyline clip-path=\"url(#clip480)\" style=\"stroke:#000000; stroke-linecap:round; stroke-linejoin:round; stroke-width:4; stroke-opacity:1; fill:none\" points=\"\n  156.598,335.085 175.496,335.085 \n  \"/>\n<polyline clip-path=\"url(#clip480)\" style=\"stroke:#000000; stroke-linecap:round; stroke-linejoin:round; stroke-width:4; stroke-opacity:1; fill:none\" points=\"\n  156.598,47.2441 175.496,47.2441 \n  \"/>\n<path clip-path=\"url(#clip480)\" d=\"M63.4226 1472.25 Q59.8115 1472.25 57.9828 1475.81 Q56.1773 1479.35 56.1773 1486.48 Q56.1773 1493.59 57.9828 1497.15 Q59.8115 1500.7 63.4226 1500.7 Q67.0569 1500.7 68.8624 1497.15 Q70.6911 1493.59 70.6911 1486.48 Q70.6911 1479.35 68.8624 1475.81 Q67.0569 1472.25 63.4226 1472.25 M63.4226 1468.54 Q69.2328 1468.54 72.2883 1473.15 Q75.367 1477.73 75.367 1486.48 Q75.367 1495.21 72.2883 1499.82 Q69.2328 1504.4 63.4226 1504.4 Q57.6125 1504.4 54.5338 1499.82 Q51.4782 1495.21 51.4782 1486.48 Q51.4782 1477.73 54.5338 1473.15 Q57.6125 1468.54 63.4226 1468.54 Z\" fill=\"#000000\" fill-rule=\"evenodd\" fill-opacity=\"1\" /><path clip-path=\"url(#clip480)\" d=\"M83.5845 1497.85 L88.4688 1497.85 L88.4688 1503.73 L83.5845 1503.73 L83.5845 1497.85 Z\" fill=\"#000000\" fill-rule=\"evenodd\" fill-opacity=\"1\" /><path clip-path=\"url(#clip480)\" d=\"M108.654 1472.25 Q105.043 1472.25 103.214 1475.81 Q101.409 1479.35 101.409 1486.48 Q101.409 1493.59 103.214 1497.15 Q105.043 1500.7 108.654 1500.7 Q112.288 1500.7 114.094 1497.15 Q115.922 1493.59 115.922 1486.48 Q115.922 1479.35 114.094 1475.81 Q112.288 1472.25 108.654 1472.25 M108.654 1468.54 Q114.464 1468.54 117.52 1473.15 Q120.598 1477.73 120.598 1486.48 Q120.598 1495.21 117.52 1499.82 Q114.464 1504.4 108.654 1504.4 Q102.844 1504.4 99.765 1499.82 Q96.7095 1495.21 96.7095 1486.48 Q96.7095 1477.73 99.765 1473.15 Q102.844 1468.54 108.654 1468.54 Z\" fill=\"#000000\" fill-rule=\"evenodd\" fill-opacity=\"1\" /><path clip-path=\"url(#clip480)\" d=\"M65.0198 1184.41 Q61.4087 1184.41 59.58 1187.97 Q57.7745 1191.51 57.7745 1198.64 Q57.7745 1205.75 59.58 1209.31 Q61.4087 1212.85 65.0198 1212.85 Q68.6541 1212.85 70.4596 1209.31 Q72.2883 1205.75 72.2883 1198.64 Q72.2883 1191.51 70.4596 1187.97 Q68.6541 1184.41 65.0198 1184.41 M65.0198 1180.7 Q70.83 1180.7 73.8855 1185.31 Q76.9642 1189.89 76.9642 1198.64 Q76.9642 1207.37 73.8855 1211.98 Q70.83 1216.56 65.0198 1216.56 Q59.2097 1216.56 56.131 1211.98 Q53.0754 1207.37 53.0754 1198.64 Q53.0754 1189.89 56.131 1185.31 Q59.2097 1180.7 65.0198 1180.7 Z\" fill=\"#000000\" fill-rule=\"evenodd\" fill-opacity=\"1\" /><path clip-path=\"url(#clip480)\" d=\"M85.1818 1210.01 L90.066 1210.01 L90.066 1215.89 L85.1818 1215.89 L85.1818 1210.01 Z\" fill=\"#000000\" fill-rule=\"evenodd\" fill-opacity=\"1\" /><path clip-path=\"url(#clip480)\" d=\"M104.279 1211.95 L120.598 1211.95 L120.598 1215.89 L98.6539 1215.89 L98.6539 1211.95 Q101.316 1209.2 105.899 1204.57 Q110.506 1199.91 111.686 1198.57 Q113.932 1196.05 114.811 1194.31 Q115.714 1192.55 115.714 1190.86 Q115.714 1188.11 113.77 1186.37 Q111.848 1184.64 108.746 1184.64 Q106.547 1184.64 104.094 1185.4 Q101.663 1186.17 98.8854 1187.72 L98.8854 1182.99 Q101.709 1181.86 104.163 1181.28 Q106.617 1180.7 108.654 1180.7 Q114.024 1180.7 117.219 1183.39 Q120.413 1186.07 120.413 1190.56 Q120.413 1192.69 119.603 1194.61 Q118.816 1196.51 116.709 1199.1 Q116.131 1199.78 113.029 1202.99 Q109.927 1206.19 104.279 1211.95 Z\" fill=\"#000000\" fill-rule=\"evenodd\" fill-opacity=\"1\" /><path clip-path=\"url(#clip480)\" d=\"M62.9365 896.565 Q59.3254 896.565 57.4967 900.13 Q55.6912 903.671 55.6912 910.801 Q55.6912 917.908 57.4967 921.472 Q59.3254 925.014 62.9365 925.014 Q66.5707 925.014 68.3763 921.472 Q70.205 917.908 70.205 910.801 Q70.205 903.671 68.3763 900.13 Q66.5707 896.565 62.9365 896.565 M62.9365 892.861 Q68.7467 892.861 71.8022 897.468 Q74.8809 902.051 74.8809 910.801 Q74.8809 919.528 71.8022 924.134 Q68.7467 928.718 62.9365 928.718 Q57.1264 928.718 54.0477 924.134 Q50.9921 919.528 50.9921 910.801 Q50.9921 902.051 54.0477 897.468 Q57.1264 892.861 62.9365 892.861 Z\" fill=\"#000000\" fill-rule=\"evenodd\" fill-opacity=\"1\" /><path clip-path=\"url(#clip480)\" d=\"M83.0984 922.167 L87.9827 922.167 L87.9827 928.046 L83.0984 928.046 L83.0984 922.167 Z\" fill=\"#000000\" fill-rule=\"evenodd\" fill-opacity=\"1\" /><path clip-path=\"url(#clip480)\" d=\"M111.015 897.56 L99.2095 916.009 L111.015 916.009 L111.015 897.56 M109.788 893.486 L115.668 893.486 L115.668 916.009 L120.598 916.009 L120.598 919.898 L115.668 919.898 L115.668 928.046 L111.015 928.046 L111.015 919.898 L95.4132 919.898 L95.4132 915.384 L109.788 893.486 Z\" fill=\"#000000\" fill-rule=\"evenodd\" fill-opacity=\"1\" /><path clip-path=\"url(#clip480)\" d=\"M63.2606 608.724 Q59.6495 608.724 57.8208 612.289 Q56.0152 615.831 56.0152 622.96 Q56.0152 630.067 57.8208 633.632 Q59.6495 637.173 63.2606 637.173 Q66.8948 637.173 68.7004 633.632 Q70.5291 630.067 70.5291 622.96 Q70.5291 615.831 68.7004 612.289 Q66.8948 608.724 63.2606 608.724 M63.2606 605.021 Q69.0707 605.021 72.1263 609.627 Q75.205 614.21 75.205 622.96 Q75.205 631.687 72.1263 636.294 Q69.0707 640.877 63.2606 640.877 Q57.4504 640.877 54.3717 636.294 Q51.3162 631.687 51.3162 622.96 Q51.3162 614.21 54.3717 609.627 Q57.4504 605.021 63.2606 605.021 Z\" fill=\"#000000\" fill-rule=\"evenodd\" fill-opacity=\"1\" /><path clip-path=\"url(#clip480)\" d=\"M83.4225 634.326 L88.3067 634.326 L88.3067 640.206 L83.4225 640.206 L83.4225 634.326 Z\" fill=\"#000000\" fill-rule=\"evenodd\" fill-opacity=\"1\" /><path clip-path=\"url(#clip480)\" d=\"M109.071 621.062 Q105.922 621.062 104.071 623.215 Q102.242 625.368 102.242 629.118 Q102.242 632.845 104.071 635.02 Q105.922 637.173 109.071 637.173 Q112.219 637.173 114.047 635.02 Q115.899 632.845 115.899 629.118 Q115.899 625.368 114.047 623.215 Q112.219 621.062 109.071 621.062 M118.353 606.409 L118.353 610.669 Q116.594 609.835 114.788 609.396 Q113.006 608.956 111.246 608.956 Q106.617 608.956 104.163 612.081 Q101.733 615.206 101.385 621.525 Q102.751 619.511 104.811 618.446 Q106.871 617.359 109.348 617.359 Q114.557 617.359 117.566 620.53 Q120.598 623.678 120.598 629.118 Q120.598 634.442 117.45 637.659 Q114.302 640.877 109.071 640.877 Q103.075 640.877 99.9039 636.294 Q96.7326 631.687 96.7326 622.96 Q96.7326 614.766 100.621 609.905 Q104.51 605.021 111.061 605.021 Q112.82 605.021 114.603 605.368 Q116.408 605.715 118.353 606.409 Z\" fill=\"#000000\" fill-rule=\"evenodd\" fill-opacity=\"1\" /><path clip-path=\"url(#clip480)\" d=\"M63.5152 320.884 Q59.9041 320.884 58.0754 324.448 Q56.2699 327.99 56.2699 335.12 Q56.2699 342.226 58.0754 345.791 Q59.9041 349.332 63.5152 349.332 Q67.1494 349.332 68.955 345.791 Q70.7837 342.226 70.7837 335.12 Q70.7837 327.99 68.955 324.448 Q67.1494 320.884 63.5152 320.884 M63.5152 317.18 Q69.3254 317.18 72.3809 321.786 Q75.4596 326.37 75.4596 335.12 Q75.4596 343.846 72.3809 348.453 Q69.3254 353.036 63.5152 353.036 Q57.7051 353.036 54.6264 348.453 Q51.5708 343.846 51.5708 335.12 Q51.5708 326.37 54.6264 321.786 Q57.7051 317.18 63.5152 317.18 Z\" fill=\"#000000\" fill-rule=\"evenodd\" fill-opacity=\"1\" /><path clip-path=\"url(#clip480)\" d=\"M83.6771 346.485 L88.5614 346.485 L88.5614 352.365 L83.6771 352.365 L83.6771 346.485 Z\" fill=\"#000000\" fill-rule=\"evenodd\" fill-opacity=\"1\" /><path clip-path=\"url(#clip480)\" d=\"M108.746 335.953 Q105.413 335.953 103.492 337.735 Q101.594 339.518 101.594 342.643 Q101.594 345.768 103.492 347.55 Q105.413 349.332 108.746 349.332 Q112.08 349.332 114.001 347.55 Q115.922 345.745 115.922 342.643 Q115.922 339.518 114.001 337.735 Q112.103 335.953 108.746 335.953 M104.071 333.962 Q101.061 333.221 99.3715 331.161 Q97.7048 329.101 97.7048 326.138 Q97.7048 321.995 100.645 319.587 Q103.608 317.18 108.746 317.18 Q113.908 317.18 116.848 319.587 Q119.788 321.995 119.788 326.138 Q119.788 329.101 118.098 331.161 Q116.432 333.221 113.445 333.962 Q116.825 334.749 118.7 337.041 Q120.598 339.333 120.598 342.643 Q120.598 347.666 117.52 350.351 Q114.464 353.036 108.746 353.036 Q103.029 353.036 99.9502 350.351 Q96.8947 347.666 96.8947 342.643 Q96.8947 339.333 98.7928 337.041 Q100.691 334.749 104.071 333.962 M102.358 326.578 Q102.358 329.263 104.024 330.768 Q105.714 332.272 108.746 332.272 Q111.756 332.272 113.445 330.768 Q115.158 329.263 115.158 326.578 Q115.158 323.893 113.445 322.388 Q111.756 320.884 108.746 320.884 Q105.714 320.884 104.024 322.388 Q102.358 323.893 102.358 326.578 Z\" fill=\"#000000\" fill-rule=\"evenodd\" fill-opacity=\"1\" /><path clip-path=\"url(#clip480)\" d=\"M54.2328 60.5889 L61.8717 60.5889 L61.8717 34.2233 L53.5616 35.89 L53.5616 31.6308 L61.8254 29.9641 L66.5013 29.9641 L66.5013 60.5889 L74.1402 60.5889 L74.1402 64.5241 L54.2328 64.5241 L54.2328 60.5889 Z\" fill=\"#000000\" fill-rule=\"evenodd\" fill-opacity=\"1\" /><path clip-path=\"url(#clip480)\" d=\"M83.5845 58.6445 L88.4688 58.6445 L88.4688 64.5241 L83.5845 64.5241 L83.5845 58.6445 Z\" fill=\"#000000\" fill-rule=\"evenodd\" fill-opacity=\"1\" /><path clip-path=\"url(#clip480)\" d=\"M108.654 33.0428 Q105.043 33.0428 103.214 36.6076 Q101.409 40.1492 101.409 47.2788 Q101.409 54.3853 103.214 57.9501 Q105.043 61.4917 108.654 61.4917 Q112.288 61.4917 114.094 57.9501 Q115.922 54.3853 115.922 47.2788 Q115.922 40.1492 114.094 36.6076 Q112.288 33.0428 108.654 33.0428 M108.654 29.3391 Q114.464 29.3391 117.52 33.9456 Q120.598 38.5289 120.598 47.2788 Q120.598 56.0056 117.52 60.6121 Q114.464 65.1954 108.654 65.1954 Q102.844 65.1954 99.765 60.6121 Q96.7095 56.0056 96.7095 47.2788 Q96.7095 38.5289 99.765 33.9456 Q102.844 29.3391 108.654 29.3391 Z\" fill=\"#000000\" fill-rule=\"evenodd\" fill-opacity=\"1\" /><path clip-path=\"url(#clip480)\" d=\"\nM765.933 1486.45 L1134.09 1486.45 L1134.09 47.2441 L765.933 47.2441  Z\n  \" fill=\"#ffffff\" fill-rule=\"evenodd\" fill-opacity=\"1\"/>\n<defs>\n  <clipPath id=\"clip483\">\n    <rect x=\"765\" y=\"47\" width=\"369\" height=\"1440\"/>\n  </clipPath>\n</defs>\n<polyline clip-path=\"url(#clip483)\" style=\"stroke:#000000; stroke-linecap:round; stroke-linejoin:round; stroke-width:2; stroke-opacity:0.1; fill:none\" points=\"\n  787.128,1486.45 787.128,47.2441 \n  \"/>\n<polyline clip-path=\"url(#clip483)\" style=\"stroke:#000000; stroke-linecap:round; stroke-linejoin:round; stroke-width:2; stroke-opacity:0.1; fill:none\" points=\"\n  838.662,1486.45 838.662,47.2441 \n  \"/>\n<polyline clip-path=\"url(#clip483)\" style=\"stroke:#000000; stroke-linecap:round; stroke-linejoin:round; stroke-width:2; stroke-opacity:0.1; fill:none\" points=\"\n  890.196,1486.45 890.196,47.2441 \n  \"/>\n<polyline clip-path=\"url(#clip483)\" style=\"stroke:#000000; stroke-linecap:round; stroke-linejoin:round; stroke-width:2; stroke-opacity:0.1; fill:none\" points=\"\n  941.73,1486.45 941.73,47.2441 \n  \"/>\n<polyline clip-path=\"url(#clip483)\" style=\"stroke:#000000; stroke-linecap:round; stroke-linejoin:round; stroke-width:2; stroke-opacity:0.1; fill:none\" points=\"\n  993.264,1486.45 993.264,47.2441 \n  \"/>\n<polyline clip-path=\"url(#clip483)\" style=\"stroke:#000000; stroke-linecap:round; stroke-linejoin:round; stroke-width:2; stroke-opacity:0.1; fill:none\" points=\"\n  1044.8,1486.45 1044.8,47.2441 \n  \"/>\n<polyline clip-path=\"url(#clip483)\" style=\"stroke:#000000; stroke-linecap:round; stroke-linejoin:round; stroke-width:2; stroke-opacity:0.1; fill:none\" points=\"\n  1096.33,1486.45 1096.33,47.2441 \n  \"/>\n<polyline clip-path=\"url(#clip480)\" style=\"stroke:#000000; stroke-linecap:round; stroke-linejoin:round; stroke-width:4; stroke-opacity:1; fill:none\" points=\"\n  765.933,1486.45 1134.09,1486.45 \n  \"/>\n<polyline clip-path=\"url(#clip480)\" style=\"stroke:#000000; stroke-linecap:round; stroke-linejoin:round; stroke-width:4; stroke-opacity:1; fill:none\" points=\"\n  787.128,1486.45 787.128,1467.55 \n  \"/>\n<polyline clip-path=\"url(#clip480)\" style=\"stroke:#000000; stroke-linecap:round; stroke-linejoin:round; stroke-width:4; stroke-opacity:1; fill:none\" points=\"\n  838.662,1486.45 838.662,1467.55 \n  \"/>\n<polyline clip-path=\"url(#clip480)\" style=\"stroke:#000000; stroke-linecap:round; stroke-linejoin:round; stroke-width:4; stroke-opacity:1; fill:none\" points=\"\n  890.196,1486.45 890.196,1467.55 \n  \"/>\n<polyline clip-path=\"url(#clip480)\" style=\"stroke:#000000; stroke-linecap:round; stroke-linejoin:round; stroke-width:4; stroke-opacity:1; fill:none\" points=\"\n  941.73,1486.45 941.73,1467.55 \n  \"/>\n<polyline clip-path=\"url(#clip480)\" style=\"stroke:#000000; stroke-linecap:round; stroke-linejoin:round; stroke-width:4; stroke-opacity:1; fill:none\" points=\"\n  993.264,1486.45 993.264,1467.55 \n  \"/>\n<polyline clip-path=\"url(#clip480)\" style=\"stroke:#000000; stroke-linecap:round; stroke-linejoin:round; stroke-width:4; stroke-opacity:1; fill:none\" points=\"\n  1044.8,1486.45 1044.8,1467.55 \n  \"/>\n<polyline clip-path=\"url(#clip480)\" style=\"stroke:#000000; stroke-linecap:round; stroke-linejoin:round; stroke-width:4; stroke-opacity:1; fill:none\" points=\"\n  1096.33,1486.45 1096.33,1467.55 \n  \"/>\n<path clip-path=\"url(#clip480)\" d=\"M734.153 1532.02 L763.829 1532.02 L763.829 1535.95 L734.153 1535.95 L734.153 1532.02 Z\" fill=\"#000000\" fill-rule=\"evenodd\" fill-opacity=\"1\" /><path clip-path=\"url(#clip480)\" d=\"M774.732 1544.91 L782.371 1544.91 L782.371 1518.55 L774.061 1520.21 L774.061 1515.95 L782.324 1514.29 L787 1514.29 L787 1544.91 L794.639 1544.91 L794.639 1548.85 L774.732 1548.85 L774.732 1544.91 Z\" fill=\"#000000\" fill-rule=\"evenodd\" fill-opacity=\"1\" /><path clip-path=\"url(#clip480)\" d=\"M804.084 1542.97 L808.968 1542.97 L808.968 1548.85 L804.084 1548.85 L804.084 1542.97 Z\" fill=\"#000000\" fill-rule=\"evenodd\" fill-opacity=\"1\" /><path clip-path=\"url(#clip480)\" d=\"M819.199 1514.29 L837.556 1514.29 L837.556 1518.22 L823.482 1518.22 L823.482 1526.7 Q824.5 1526.35 825.519 1526.19 Q826.537 1526 827.556 1526 Q833.343 1526 836.722 1529.17 Q840.102 1532.34 840.102 1537.76 Q840.102 1543.34 836.63 1546.44 Q833.157 1549.52 826.838 1549.52 Q824.662 1549.52 822.394 1549.15 Q820.148 1548.78 817.741 1548.04 L817.741 1543.34 Q819.824 1544.47 822.046 1545.03 Q824.269 1545.58 826.745 1545.58 Q830.75 1545.58 833.088 1543.48 Q835.426 1541.37 835.426 1537.76 Q835.426 1534.15 833.088 1532.04 Q830.75 1529.94 826.745 1529.94 Q824.871 1529.94 822.996 1530.35 Q821.144 1530.77 819.199 1531.65 L819.199 1514.29 Z\" fill=\"#000000\" fill-rule=\"evenodd\" fill-opacity=\"1\" /><path clip-path=\"url(#clip480)\" d=\"M785.19 1532.02 L814.866 1532.02 L814.866 1535.95 L785.19 1535.95 L785.19 1532.02 Z\" fill=\"#000000\" fill-rule=\"evenodd\" fill-opacity=\"1\" /><path clip-path=\"url(#clip480)\" d=\"M825.768 1544.91 L833.407 1544.91 L833.407 1518.55 L825.097 1520.21 L825.097 1515.95 L833.361 1514.29 L838.037 1514.29 L838.037 1544.91 L845.676 1544.91 L845.676 1548.85 L825.768 1548.85 L825.768 1544.91 Z\" fill=\"#000000\" fill-rule=\"evenodd\" fill-opacity=\"1\" /><path clip-path=\"url(#clip480)\" d=\"M855.12 1542.97 L860.004 1542.97 L860.004 1548.85 L855.12 1548.85 L855.12 1542.97 Z\" fill=\"#000000\" fill-rule=\"evenodd\" fill-opacity=\"1\" /><path clip-path=\"url(#clip480)\" d=\"M880.189 1517.37 Q876.578 1517.37 874.749 1520.93 Q872.944 1524.47 872.944 1531.6 Q872.944 1538.71 874.749 1542.27 Q876.578 1545.82 880.189 1545.82 Q883.824 1545.82 885.629 1542.27 Q887.458 1538.71 887.458 1531.6 Q887.458 1524.47 885.629 1520.93 Q883.824 1517.37 880.189 1517.37 M880.189 1513.66 Q885.999 1513.66 889.055 1518.27 Q892.134 1522.85 892.134 1531.6 Q892.134 1540.33 889.055 1544.94 Q885.999 1549.52 880.189 1549.52 Q874.379 1549.52 871.3 1544.94 Q868.245 1540.33 868.245 1531.6 Q868.245 1522.85 871.3 1518.27 Q874.379 1513.66 880.189 1513.66 Z\" fill=\"#000000\" fill-rule=\"evenodd\" fill-opacity=\"1\" /><path clip-path=\"url(#clip480)\" d=\"M837.222 1532.02 L866.897 1532.02 L866.897 1535.95 L837.222 1535.95 L837.222 1532.02 Z\" fill=\"#000000\" fill-rule=\"evenodd\" fill-opacity=\"1\" /><path clip-path=\"url(#clip480)\" d=\"M886.99 1517.37 Q883.379 1517.37 881.55 1520.93 Q879.744 1524.47 879.744 1531.6 Q879.744 1538.71 881.55 1542.27 Q883.379 1545.82 886.99 1545.82 Q890.624 1545.82 892.43 1542.27 Q894.258 1538.71 894.258 1531.6 Q894.258 1524.47 892.43 1520.93 Q890.624 1517.37 886.99 1517.37 M886.99 1513.66 Q892.8 1513.66 895.855 1518.27 Q898.934 1522.85 898.934 1531.6 Q898.934 1540.33 895.855 1544.94 Q892.8 1549.52 886.99 1549.52 Q881.18 1549.52 878.101 1544.94 Q875.045 1540.33 875.045 1531.6 Q875.045 1522.85 878.101 1518.27 Q881.18 1513.66 886.99 1513.66 Z\" fill=\"#000000\" fill-rule=\"evenodd\" fill-opacity=\"1\" /><path clip-path=\"url(#clip480)\" d=\"M907.152 1542.97 L912.036 1542.97 L912.036 1548.85 L907.152 1548.85 L907.152 1542.97 Z\" fill=\"#000000\" fill-rule=\"evenodd\" fill-opacity=\"1\" /><path clip-path=\"url(#clip480)\" d=\"M922.267 1514.29 L940.624 1514.29 L940.624 1518.22 L926.55 1518.22 L926.55 1526.7 Q927.568 1526.35 928.587 1526.19 Q929.605 1526 930.624 1526 Q936.411 1526 939.79 1529.17 Q943.17 1532.34 943.17 1537.76 Q943.17 1543.34 939.698 1546.44 Q936.226 1549.52 929.906 1549.52 Q927.73 1549.52 925.462 1549.15 Q923.216 1548.78 920.809 1548.04 L920.809 1543.34 Q922.892 1544.47 925.115 1545.03 Q927.337 1545.58 929.814 1545.58 Q933.818 1545.58 936.156 1543.48 Q938.494 1541.37 938.494 1537.76 Q938.494 1534.15 936.156 1532.04 Q933.818 1529.94 929.814 1529.94 Q927.939 1529.94 926.064 1530.35 Q924.212 1530.77 922.267 1531.65 L922.267 1514.29 Z\" fill=\"#000000\" fill-rule=\"evenodd\" fill-opacity=\"1\" /><path clip-path=\"url(#clip480)\" d=\"M919.114 1517.37 Q915.503 1517.37 913.674 1520.93 Q911.869 1524.47 911.869 1531.6 Q911.869 1538.71 913.674 1542.27 Q915.503 1545.82 919.114 1545.82 Q922.748 1545.82 924.554 1542.27 Q926.383 1538.71 926.383 1531.6 Q926.383 1524.47 924.554 1520.93 Q922.748 1517.37 919.114 1517.37 M919.114 1513.66 Q924.924 1513.66 927.98 1518.27 Q931.059 1522.85 931.059 1531.6 Q931.059 1540.33 927.98 1544.94 Q924.924 1549.52 919.114 1549.52 Q913.304 1549.52 910.225 1544.94 Q907.17 1540.33 907.17 1531.6 Q907.17 1522.85 910.225 1518.27 Q913.304 1513.66 919.114 1513.66 Z\" fill=\"#000000\" fill-rule=\"evenodd\" fill-opacity=\"1\" /><path clip-path=\"url(#clip480)\" d=\"M939.276 1542.97 L944.16 1542.97 L944.16 1548.85 L939.276 1548.85 L939.276 1542.97 Z\" fill=\"#000000\" fill-rule=\"evenodd\" fill-opacity=\"1\" /><path clip-path=\"url(#clip480)\" d=\"M964.345 1517.37 Q960.734 1517.37 958.906 1520.93 Q957.1 1524.47 957.1 1531.6 Q957.1 1538.71 958.906 1542.27 Q960.734 1545.82 964.345 1545.82 Q967.98 1545.82 969.785 1542.27 Q971.614 1538.71 971.614 1531.6 Q971.614 1524.47 969.785 1520.93 Q967.98 1517.37 964.345 1517.37 M964.345 1513.66 Q970.156 1513.66 973.211 1518.27 Q976.29 1522.85 976.29 1531.6 Q976.29 1540.33 973.211 1544.94 Q970.156 1549.52 964.345 1549.52 Q958.535 1549.52 955.457 1544.94 Q952.401 1540.33 952.401 1531.6 Q952.401 1522.85 955.457 1518.27 Q958.535 1513.66 964.345 1513.66 Z\" fill=\"#000000\" fill-rule=\"evenodd\" fill-opacity=\"1\" /><path clip-path=\"url(#clip480)\" d=\"M971.146 1517.37 Q967.535 1517.37 965.706 1520.93 Q963.901 1524.47 963.901 1531.6 Q963.901 1538.71 965.706 1542.27 Q967.535 1545.82 971.146 1545.82 Q974.78 1545.82 976.586 1542.27 Q978.414 1538.71 978.414 1531.6 Q978.414 1524.47 976.586 1520.93 Q974.78 1517.37 971.146 1517.37 M971.146 1513.66 Q976.956 1513.66 980.012 1518.27 Q983.09 1522.85 983.09 1531.6 Q983.09 1540.33 980.012 1544.94 Q976.956 1549.52 971.146 1549.52 Q965.336 1549.52 962.257 1544.94 Q959.202 1540.33 959.202 1531.6 Q959.202 1522.85 962.257 1518.27 Q965.336 1513.66 971.146 1513.66 Z\" fill=\"#000000\" fill-rule=\"evenodd\" fill-opacity=\"1\" /><path clip-path=\"url(#clip480)\" d=\"M991.308 1542.97 L996.192 1542.97 L996.192 1548.85 L991.308 1548.85 L991.308 1542.97 Z\" fill=\"#000000\" fill-rule=\"evenodd\" fill-opacity=\"1\" /><path clip-path=\"url(#clip480)\" d=\"M1006.42 1514.29 L1024.78 1514.29 L1024.78 1518.22 L1010.71 1518.22 L1010.71 1526.7 Q1011.72 1526.35 1012.74 1526.19 Q1013.76 1526 1014.78 1526 Q1020.57 1526 1023.95 1529.17 Q1027.33 1532.34 1027.33 1537.76 Q1027.33 1543.34 1023.85 1546.44 Q1020.38 1549.52 1014.06 1549.52 Q1011.89 1549.52 1009.62 1549.15 Q1007.37 1548.78 1004.97 1548.04 L1004.97 1543.34 Q1007.05 1544.47 1009.27 1545.03 Q1011.49 1545.58 1013.97 1545.58 Q1017.97 1545.58 1020.31 1543.48 Q1022.65 1541.37 1022.65 1537.76 Q1022.65 1534.15 1020.31 1532.04 Q1017.97 1529.94 1013.97 1529.94 Q1012.09 1529.94 1010.22 1530.35 Q1008.37 1530.77 1006.42 1531.65 L1006.42 1514.29 Z\" fill=\"#000000\" fill-rule=\"evenodd\" fill-opacity=\"1\" /><path clip-path=\"url(#clip480)\" d=\"M1011.95 1544.91 L1019.59 1544.91 L1019.59 1518.55 L1011.28 1520.21 L1011.28 1515.95 L1019.54 1514.29 L1024.22 1514.29 L1024.22 1544.91 L1031.86 1544.91 L1031.86 1548.85 L1011.95 1548.85 L1011.95 1544.91 Z\" fill=\"#000000\" fill-rule=\"evenodd\" fill-opacity=\"1\" /><path clip-path=\"url(#clip480)\" d=\"M1041.3 1542.97 L1046.19 1542.97 L1046.19 1548.85 L1041.3 1548.85 L1041.3 1542.97 Z\" fill=\"#000000\" fill-rule=\"evenodd\" fill-opacity=\"1\" /><path clip-path=\"url(#clip480)\" d=\"M1066.37 1517.37 Q1062.76 1517.37 1060.93 1520.93 Q1059.13 1524.47 1059.13 1531.6 Q1059.13 1538.71 1060.93 1542.27 Q1062.76 1545.82 1066.37 1545.82 Q1070.01 1545.82 1071.81 1542.27 Q1073.64 1538.71 1073.64 1531.6 Q1073.64 1524.47 1071.81 1520.93 Q1070.01 1517.37 1066.37 1517.37 M1066.37 1513.66 Q1072.18 1513.66 1075.24 1518.27 Q1078.32 1522.85 1078.32 1531.6 Q1078.32 1540.33 1075.24 1544.94 Q1072.18 1549.52 1066.37 1549.52 Q1060.56 1549.52 1057.48 1544.94 Q1054.43 1540.33 1054.43 1531.6 Q1054.43 1522.85 1057.48 1518.27 Q1060.56 1513.66 1066.37 1513.66 Z\" fill=\"#000000\" fill-rule=\"evenodd\" fill-opacity=\"1\" /><path clip-path=\"url(#clip480)\" d=\"M1063.98 1544.91 L1071.62 1544.91 L1071.62 1518.55 L1063.31 1520.21 L1063.31 1515.95 L1071.58 1514.29 L1076.25 1514.29 L1076.25 1544.91 L1083.89 1544.91 L1083.89 1548.85 L1063.98 1548.85 L1063.98 1544.91 Z\" fill=\"#000000\" fill-rule=\"evenodd\" fill-opacity=\"1\" /><path clip-path=\"url(#clip480)\" d=\"M1093.33 1542.97 L1098.22 1542.97 L1098.22 1548.85 L1093.33 1548.85 L1093.33 1542.97 Z\" fill=\"#000000\" fill-rule=\"evenodd\" fill-opacity=\"1\" /><path clip-path=\"url(#clip480)\" d=\"M1108.45 1514.29 L1126.81 1514.29 L1126.81 1518.22 L1112.73 1518.22 L1112.73 1526.7 Q1113.75 1526.35 1114.77 1526.19 Q1115.79 1526 1116.81 1526 Q1122.59 1526 1125.97 1529.17 Q1129.35 1532.34 1129.35 1537.76 Q1129.35 1543.34 1125.88 1546.44 Q1122.41 1549.52 1116.09 1549.52 Q1113.91 1549.52 1111.64 1549.15 Q1109.4 1548.78 1106.99 1548.04 L1106.99 1543.34 Q1109.07 1544.47 1111.3 1545.03 Q1113.52 1545.58 1116 1545.58 Q1120 1545.58 1122.34 1543.48 Q1124.68 1541.37 1124.68 1537.76 Q1124.68 1534.15 1122.34 1532.04 Q1120 1529.94 1116 1529.94 Q1114.12 1529.94 1112.25 1530.35 Q1110.39 1530.77 1108.45 1531.65 L1108.45 1514.29 Z\" fill=\"#000000\" fill-rule=\"evenodd\" fill-opacity=\"1\" /><polyline clip-path=\"url(#clip483)\" style=\"stroke:#000000; stroke-linecap:round; stroke-linejoin:round; stroke-width:2; stroke-opacity:0.1; fill:none\" points=\"\n  765.933,1401.9 1134.09,1401.9 \n  \"/>\n<polyline clip-path=\"url(#clip483)\" style=\"stroke:#000000; stroke-linecap:round; stroke-linejoin:round; stroke-width:2; stroke-opacity:0.1; fill:none\" points=\"\n  765.933,1171.89 1134.09,1171.89 \n  \"/>\n<polyline clip-path=\"url(#clip483)\" style=\"stroke:#000000; stroke-linecap:round; stroke-linejoin:round; stroke-width:2; stroke-opacity:0.1; fill:none\" points=\"\n  765.933,941.889 1134.09,941.889 \n  \"/>\n<polyline clip-path=\"url(#clip483)\" style=\"stroke:#000000; stroke-linecap:round; stroke-linejoin:round; stroke-width:2; stroke-opacity:0.1; fill:none\" points=\"\n  765.933,711.884 1134.09,711.884 \n  \"/>\n<polyline clip-path=\"url(#clip483)\" style=\"stroke:#000000; stroke-linecap:round; stroke-linejoin:round; stroke-width:2; stroke-opacity:0.1; fill:none\" points=\"\n  765.933,481.88 1134.09,481.88 \n  \"/>\n<polyline clip-path=\"url(#clip483)\" style=\"stroke:#000000; stroke-linecap:round; stroke-linejoin:round; stroke-width:2; stroke-opacity:0.1; fill:none\" points=\"\n  765.933,251.876 1134.09,251.876 \n  \"/>\n<polyline clip-path=\"url(#clip480)\" style=\"stroke:#000000; stroke-linecap:round; stroke-linejoin:round; stroke-width:4; stroke-opacity:1; fill:none\" points=\"\n  765.933,1486.45 765.933,47.2441 \n  \"/>\n<polyline clip-path=\"url(#clip480)\" style=\"stroke:#000000; stroke-linecap:round; stroke-linejoin:round; stroke-width:4; stroke-opacity:1; fill:none\" points=\"\n  765.933,1401.9 784.83,1401.9 \n  \"/>\n<polyline clip-path=\"url(#clip480)\" style=\"stroke:#000000; stroke-linecap:round; stroke-linejoin:round; stroke-width:4; stroke-opacity:1; fill:none\" points=\"\n  765.933,1171.89 784.83,1171.89 \n  \"/>\n<polyline clip-path=\"url(#clip480)\" style=\"stroke:#000000; stroke-linecap:round; stroke-linejoin:round; stroke-width:4; stroke-opacity:1; fill:none\" points=\"\n  765.933,941.889 784.83,941.889 \n  \"/>\n<polyline clip-path=\"url(#clip480)\" style=\"stroke:#000000; stroke-linecap:round; stroke-linejoin:round; stroke-width:4; stroke-opacity:1; fill:none\" points=\"\n  765.933,711.884 784.83,711.884 \n  \"/>\n<polyline clip-path=\"url(#clip480)\" style=\"stroke:#000000; stroke-linecap:round; stroke-linejoin:round; stroke-width:4; stroke-opacity:1; fill:none\" points=\"\n  765.933,481.88 784.83,481.88 \n  \"/>\n<polyline clip-path=\"url(#clip480)\" style=\"stroke:#000000; stroke-linecap:round; stroke-linejoin:round; stroke-width:4; stroke-opacity:1; fill:none\" points=\"\n  765.933,251.876 784.83,251.876 \n  \"/>\n<path clip-path=\"url(#clip480)\" d=\"M622.989 1402.35 L652.665 1402.35 L652.665 1406.28 L622.989 1406.28 L622.989 1402.35 Z\" fill=\"#000000\" fill-rule=\"evenodd\" fill-opacity=\"1\" /><path clip-path=\"url(#clip480)\" d=\"M663.567 1415.24 L671.206 1415.24 L671.206 1388.88 L662.896 1390.54 L662.896 1386.28 L671.16 1384.62 L675.836 1384.62 L675.836 1415.24 L683.475 1415.24 L683.475 1419.18 L663.567 1419.18 L663.567 1415.24 Z\" fill=\"#000000\" fill-rule=\"evenodd\" fill-opacity=\"1\" /><path clip-path=\"url(#clip480)\" d=\"M692.919 1413.3 L697.803 1413.3 L697.803 1419.18 L692.919 1419.18 L692.919 1413.3 Z\" fill=\"#000000\" fill-rule=\"evenodd\" fill-opacity=\"1\" /><path clip-path=\"url(#clip480)\" d=\"M717.988 1387.7 Q714.377 1387.7 712.549 1391.26 Q710.743 1394.8 710.743 1401.93 Q710.743 1409.04 712.549 1412.6 Q714.377 1416.14 717.988 1416.14 Q721.623 1416.14 723.428 1412.6 Q725.257 1409.04 725.257 1401.93 Q725.257 1394.8 723.428 1391.26 Q721.623 1387.7 717.988 1387.7 M717.988 1383.99 Q723.798 1383.99 726.854 1388.6 Q729.933 1393.18 729.933 1401.93 Q729.933 1410.66 726.854 1415.26 Q723.798 1419.85 717.988 1419.85 Q712.178 1419.85 709.099 1415.26 Q706.044 1410.66 706.044 1401.93 Q706.044 1393.18 709.099 1388.6 Q712.178 1383.99 717.988 1383.99 Z\" fill=\"#000000\" fill-rule=\"evenodd\" fill-opacity=\"1\" /><path clip-path=\"url(#clip480)\" d=\"M623.984 1172.34 L653.66 1172.34 L653.66 1176.28 L623.984 1176.28 L623.984 1172.34 Z\" fill=\"#000000\" fill-rule=\"evenodd\" fill-opacity=\"1\" /><path clip-path=\"url(#clip480)\" d=\"M673.752 1157.69 Q670.141 1157.69 668.313 1161.26 Q666.507 1164.8 666.507 1171.93 Q666.507 1179.03 668.313 1182.6 Q670.141 1186.14 673.752 1186.14 Q677.387 1186.14 679.192 1182.6 Q681.021 1179.03 681.021 1171.93 Q681.021 1164.8 679.192 1161.26 Q677.387 1157.69 673.752 1157.69 M673.752 1153.99 Q679.563 1153.99 682.618 1158.59 Q685.697 1163.18 685.697 1171.93 Q685.697 1180.65 682.618 1185.26 Q679.563 1189.84 673.752 1189.84 Q667.942 1189.84 664.864 1185.26 Q661.808 1180.65 661.808 1171.93 Q661.808 1163.18 664.864 1158.59 Q667.942 1153.99 673.752 1153.99 Z\" fill=\"#000000\" fill-rule=\"evenodd\" fill-opacity=\"1\" /><path clip-path=\"url(#clip480)\" d=\"M693.914 1183.29 L698.799 1183.29 L698.799 1189.17 L693.914 1189.17 L693.914 1183.29 Z\" fill=\"#000000\" fill-rule=\"evenodd\" fill-opacity=\"1\" /><path clip-path=\"url(#clip480)\" d=\"M709.03 1154.61 L727.386 1154.61 L727.386 1158.55 L713.312 1158.55 L713.312 1167.02 Q714.331 1166.67 715.349 1166.51 Q716.368 1166.33 717.386 1166.33 Q723.173 1166.33 726.553 1169.5 Q729.933 1172.67 729.933 1178.08 Q729.933 1183.66 726.46 1186.77 Q722.988 1189.84 716.669 1189.84 Q714.493 1189.84 712.224 1189.47 Q709.979 1189.1 707.572 1188.36 L707.572 1183.66 Q709.655 1184.8 711.877 1185.35 Q714.099 1185.91 716.576 1185.91 Q720.581 1185.91 722.919 1183.8 Q725.257 1181.7 725.257 1178.08 Q725.257 1174.47 722.919 1172.37 Q720.581 1170.26 716.576 1170.26 Q714.701 1170.26 712.826 1170.68 Q710.974 1171.09 709.03 1171.97 L709.03 1154.61 Z\" fill=\"#000000\" fill-rule=\"evenodd\" fill-opacity=\"1\" /><path clip-path=\"url(#clip480)\" d=\"M672.757 927.687 Q669.146 927.687 667.317 931.252 Q665.512 934.794 665.512 941.923 Q665.512 949.03 667.317 952.595 Q669.146 956.136 672.757 956.136 Q676.391 956.136 678.197 952.595 Q680.026 949.03 680.026 941.923 Q680.026 934.794 678.197 931.252 Q676.391 927.687 672.757 927.687 M672.757 923.984 Q678.567 923.984 681.623 928.59 Q684.701 933.173 684.701 941.923 Q684.701 950.65 681.623 955.257 Q678.567 959.84 672.757 959.84 Q666.947 959.84 663.868 955.257 Q660.813 950.65 660.813 941.923 Q660.813 933.173 663.868 928.59 Q666.947 923.984 672.757 923.984 Z\" fill=\"#000000\" fill-rule=\"evenodd\" fill-opacity=\"1\" /><path clip-path=\"url(#clip480)\" d=\"M692.919 953.289 L697.803 953.289 L697.803 959.169 L692.919 959.169 L692.919 953.289 Z\" fill=\"#000000\" fill-rule=\"evenodd\" fill-opacity=\"1\" /><path clip-path=\"url(#clip480)\" d=\"M717.988 927.687 Q714.377 927.687 712.549 931.252 Q710.743 934.794 710.743 941.923 Q710.743 949.03 712.549 952.595 Q714.377 956.136 717.988 956.136 Q721.623 956.136 723.428 952.595 Q725.257 949.03 725.257 941.923 Q725.257 934.794 723.428 931.252 Q721.623 927.687 717.988 927.687 M717.988 923.984 Q723.798 923.984 726.854 928.59 Q729.933 933.173 729.933 941.923 Q729.933 950.65 726.854 955.257 Q723.798 959.84 717.988 959.84 Q712.178 959.84 709.099 955.257 Q706.044 950.65 706.044 941.923 Q706.044 933.173 709.099 928.59 Q712.178 923.984 717.988 923.984 Z\" fill=\"#000000\" fill-rule=\"evenodd\" fill-opacity=\"1\" /><path clip-path=\"url(#clip480)\" d=\"M673.752 697.683 Q670.141 697.683 668.313 701.248 Q666.507 704.79 666.507 711.919 Q666.507 719.026 668.313 722.59 Q670.141 726.132 673.752 726.132 Q677.387 726.132 679.192 722.59 Q681.021 719.026 681.021 711.919 Q681.021 704.79 679.192 701.248 Q677.387 697.683 673.752 697.683 M673.752 693.979 Q679.563 693.979 682.618 698.586 Q685.697 703.169 685.697 711.919 Q685.697 720.646 682.618 725.252 Q679.563 729.836 673.752 729.836 Q667.942 729.836 664.864 725.252 Q661.808 720.646 661.808 711.919 Q661.808 703.169 664.864 698.586 Q667.942 693.979 673.752 693.979 Z\" fill=\"#000000\" fill-rule=\"evenodd\" fill-opacity=\"1\" /><path clip-path=\"url(#clip480)\" d=\"M693.914 723.285 L698.799 723.285 L698.799 729.164 L693.914 729.164 L693.914 723.285 Z\" fill=\"#000000\" fill-rule=\"evenodd\" fill-opacity=\"1\" /><path clip-path=\"url(#clip480)\" d=\"M709.03 694.604 L727.386 694.604 L727.386 698.54 L713.312 698.54 L713.312 707.012 Q714.331 706.665 715.349 706.503 Q716.368 706.317 717.386 706.317 Q723.173 706.317 726.553 709.489 Q729.933 712.66 729.933 718.077 Q729.933 723.655 726.46 726.757 Q722.988 729.836 716.669 729.836 Q714.493 729.836 712.224 729.465 Q709.979 729.095 707.572 728.354 L707.572 723.655 Q709.655 724.79 711.877 725.345 Q714.099 725.901 716.576 725.901 Q720.581 725.901 722.919 723.794 Q725.257 721.688 725.257 718.077 Q725.257 714.465 722.919 712.359 Q720.581 710.253 716.576 710.253 Q714.701 710.253 712.826 710.669 Q710.974 711.086 709.03 711.966 L709.03 694.604 Z\" fill=\"#000000\" fill-rule=\"evenodd\" fill-opacity=\"1\" /><path clip-path=\"url(#clip480)\" d=\"M663.567 495.225 L671.206 495.225 L671.206 468.86 L662.896 470.526 L662.896 466.267 L671.16 464.6 L675.836 464.6 L675.836 495.225 L683.475 495.225 L683.475 499.16 L663.567 499.16 L663.567 495.225 Z\" fill=\"#000000\" fill-rule=\"evenodd\" fill-opacity=\"1\" /><path clip-path=\"url(#clip480)\" d=\"M692.919 493.281 L697.803 493.281 L697.803 499.16 L692.919 499.16 L692.919 493.281 Z\" fill=\"#000000\" fill-rule=\"evenodd\" fill-opacity=\"1\" /><path clip-path=\"url(#clip480)\" d=\"M717.988 467.679 Q714.377 467.679 712.549 471.244 Q710.743 474.785 710.743 481.915 Q710.743 489.022 712.549 492.586 Q714.377 496.128 717.988 496.128 Q721.623 496.128 723.428 492.586 Q725.257 489.022 725.257 481.915 Q725.257 474.785 723.428 471.244 Q721.623 467.679 717.988 467.679 M717.988 463.975 Q723.798 463.975 726.854 468.582 Q729.933 473.165 729.933 481.915 Q729.933 490.642 726.854 495.248 Q723.798 499.832 717.988 499.832 Q712.178 499.832 709.099 495.248 Q706.044 490.642 706.044 481.915 Q706.044 473.165 709.099 468.582 Q712.178 463.975 717.988 463.975 Z\" fill=\"#000000\" fill-rule=\"evenodd\" fill-opacity=\"1\" /><path clip-path=\"url(#clip480)\" d=\"M664.563 265.221 L672.202 265.221 L672.202 238.855 L663.891 240.522 L663.891 236.263 L672.155 234.596 L676.831 234.596 L676.831 265.221 L684.47 265.221 L684.47 269.156 L664.563 269.156 L664.563 265.221 Z\" fill=\"#000000\" fill-rule=\"evenodd\" fill-opacity=\"1\" /><path clip-path=\"url(#clip480)\" d=\"M693.914 263.277 L698.799 263.277 L698.799 269.156 L693.914 269.156 L693.914 263.277 Z\" fill=\"#000000\" fill-rule=\"evenodd\" fill-opacity=\"1\" /><path clip-path=\"url(#clip480)\" d=\"M709.03 234.596 L727.386 234.596 L727.386 238.531 L713.312 238.531 L713.312 247.004 Q714.331 246.656 715.349 246.494 Q716.368 246.309 717.386 246.309 Q723.173 246.309 726.553 249.48 Q729.933 252.652 729.933 258.068 Q729.933 263.647 726.46 266.749 Q722.988 269.827 716.669 269.827 Q714.493 269.827 712.224 269.457 Q709.979 269.087 707.572 268.346 L707.572 263.647 Q709.655 264.781 711.877 265.337 Q714.099 265.892 716.576 265.892 Q720.581 265.892 722.919 263.786 Q725.257 261.679 725.257 258.068 Q725.257 254.457 722.919 252.351 Q720.581 250.244 716.576 250.244 Q714.701 250.244 712.826 250.661 Q710.974 251.078 709.03 251.957 L709.03 234.596 Z\" fill=\"#000000\" fill-rule=\"evenodd\" fill-opacity=\"1\" /><circle clip-path=\"url(#clip483)\" cx=\"1110.36\" cy=\"800.909\" r=\"14.4\" fill=\"#009af9\" fill-rule=\"evenodd\" fill-opacity=\"1\" stroke=\"#000000\" stroke-opacity=\"1\" stroke-width=\"3.2\"/>\n<circle clip-path=\"url(#clip483)\" cx=\"858.597\" cy=\"886.222\" r=\"14.4\" fill=\"#009af9\" fill-rule=\"evenodd\" fill-opacity=\"1\" stroke=\"#000000\" stroke-opacity=\"1\" stroke-width=\"3.2\"/>\n<circle clip-path=\"url(#clip483)\" cx=\"935.355\" cy=\"1445.72\" r=\"14.4\" fill=\"#009af9\" fill-rule=\"evenodd\" fill-opacity=\"1\" stroke=\"#000000\" stroke-opacity=\"1\" stroke-width=\"3.2\"/>\n<circle clip-path=\"url(#clip483)\" cx=\"959.632\" cy=\"1396.59\" r=\"14.4\" fill=\"#009af9\" fill-rule=\"evenodd\" fill-opacity=\"1\" stroke=\"#000000\" stroke-opacity=\"1\" stroke-width=\"3.2\"/>\n<circle clip-path=\"url(#clip483)\" cx=\"829.746\" cy=\"930.657\" r=\"14.4\" fill=\"#009af9\" fill-rule=\"evenodd\" fill-opacity=\"1\" stroke=\"#000000\" stroke-opacity=\"1\" stroke-width=\"3.2\"/>\n<circle clip-path=\"url(#clip483)\" cx=\"982.14\" cy=\"1397.89\" r=\"14.4\" fill=\"#009af9\" fill-rule=\"evenodd\" fill-opacity=\"1\" stroke=\"#000000\" stroke-opacity=\"1\" stroke-width=\"3.2\"/>\n<circle clip-path=\"url(#clip483)\" cx=\"1009.94\" cy=\"1073.97\" r=\"14.4\" fill=\"#009af9\" fill-rule=\"evenodd\" fill-opacity=\"1\" stroke=\"#000000\" stroke-opacity=\"1\" stroke-width=\"3.2\"/>\n<circle clip-path=\"url(#clip483)\" cx=\"947.899\" cy=\"1395.55\" r=\"14.4\" fill=\"#009af9\" fill-rule=\"evenodd\" fill-opacity=\"1\" stroke=\"#000000\" stroke-opacity=\"1\" stroke-width=\"3.2\"/>\n<circle clip-path=\"url(#clip483)\" cx=\"966.411\" cy=\"784.713\" r=\"14.4\" fill=\"#009af9\" fill-rule=\"evenodd\" fill-opacity=\"1\" stroke=\"#000000\" stroke-opacity=\"1\" stroke-width=\"3.2\"/>\n<circle clip-path=\"url(#clip483)\" cx=\"903.059\" cy=\"1000.64\" r=\"14.4\" fill=\"#009af9\" fill-rule=\"evenodd\" fill-opacity=\"1\" stroke=\"#000000\" stroke-opacity=\"1\" stroke-width=\"3.2\"/>\n<circle clip-path=\"url(#clip483)\" cx=\"932.629\" cy=\"992.666\" r=\"14.4\" fill=\"#009af9\" fill-rule=\"evenodd\" fill-opacity=\"1\" stroke=\"#000000\" stroke-opacity=\"1\" stroke-width=\"3.2\"/>\n<circle clip-path=\"url(#clip483)\" cx=\"1004.62\" cy=\"87.9763\" r=\"14.4\" fill=\"#009af9\" fill-rule=\"evenodd\" fill-opacity=\"1\" stroke=\"#000000\" stroke-opacity=\"1\" stroke-width=\"3.2\"/>\n<circle clip-path=\"url(#clip483)\" cx=\"968.739\" cy=\"1336.59\" r=\"14.4\" fill=\"#009af9\" fill-rule=\"evenodd\" fill-opacity=\"1\" stroke=\"#000000\" stroke-opacity=\"1\" stroke-width=\"3.2\"/>\n<circle clip-path=\"url(#clip483)\" cx=\"1035.74\" cy=\"717.425\" r=\"14.4\" fill=\"#009af9\" fill-rule=\"evenodd\" fill-opacity=\"1\" stroke=\"#000000\" stroke-opacity=\"1\" stroke-width=\"3.2\"/>\n<circle clip-path=\"url(#clip483)\" cx=\"872.085\" cy=\"824.599\" r=\"14.4\" fill=\"#009af9\" fill-rule=\"evenodd\" fill-opacity=\"1\" stroke=\"#000000\" stroke-opacity=\"1\" stroke-width=\"3.2\"/>\n<circle clip-path=\"url(#clip483)\" cx=\"1115.83\" cy=\"549.185\" r=\"14.4\" fill=\"#009af9\" fill-rule=\"evenodd\" fill-opacity=\"1\" stroke=\"#000000\" stroke-opacity=\"1\" stroke-width=\"3.2\"/>\n<circle clip-path=\"url(#clip483)\" cx=\"1069.88\" cy=\"1262.15\" r=\"14.4\" fill=\"#009af9\" fill-rule=\"evenodd\" fill-opacity=\"1\" stroke=\"#000000\" stroke-opacity=\"1\" stroke-width=\"3.2\"/>\n<circle clip-path=\"url(#clip483)\" cx=\"1093.5\" cy=\"972.288\" r=\"14.4\" fill=\"#009af9\" fill-rule=\"evenodd\" fill-opacity=\"1\" stroke=\"#000000\" stroke-opacity=\"1\" stroke-width=\"3.2\"/>\n<circle clip-path=\"url(#clip483)\" cx=\"1013.81\" cy=\"1186.12\" r=\"14.4\" fill=\"#009af9\" fill-rule=\"evenodd\" fill-opacity=\"1\" stroke=\"#000000\" stroke-opacity=\"1\" stroke-width=\"3.2\"/>\n<circle clip-path=\"url(#clip483)\" cx=\"891.683\" cy=\"1345.07\" r=\"14.4\" fill=\"#009af9\" fill-rule=\"evenodd\" fill-opacity=\"1\" stroke=\"#000000\" stroke-opacity=\"1\" stroke-width=\"3.2\"/>\n<circle clip-path=\"url(#clip483)\" cx=\"788.372\" cy=\"400.271\" r=\"14.4\" fill=\"#009af9\" fill-rule=\"evenodd\" fill-opacity=\"1\" stroke=\"#000000\" stroke-opacity=\"1\" stroke-width=\"3.2\"/>\n<circle clip-path=\"url(#clip483)\" cx=\"1120.76\" cy=\"815.541\" r=\"14.4\" fill=\"#009af9\" fill-rule=\"evenodd\" fill-opacity=\"1\" stroke=\"#000000\" stroke-opacity=\"1\" stroke-width=\"3.2\"/>\n<circle clip-path=\"url(#clip483)\" cx=\"943.775\" cy=\"856.127\" r=\"14.4\" fill=\"#009af9\" fill-rule=\"evenodd\" fill-opacity=\"1\" stroke=\"#000000\" stroke-opacity=\"1\" stroke-width=\"3.2\"/>\n<circle clip-path=\"url(#clip483)\" cx=\"1078.14\" cy=\"803.381\" r=\"14.4\" fill=\"#009af9\" fill-rule=\"evenodd\" fill-opacity=\"1\" stroke=\"#000000\" stroke-opacity=\"1\" stroke-width=\"3.2\"/>\n<circle clip-path=\"url(#clip483)\" cx=\"843.848\" cy=\"866.861\" r=\"14.4\" fill=\"#009af9\" fill-rule=\"evenodd\" fill-opacity=\"1\" stroke=\"#000000\" stroke-opacity=\"1\" stroke-width=\"3.2\"/>\n<circle clip-path=\"url(#clip483)\" cx=\"1063.44\" cy=\"1096.76\" r=\"14.4\" fill=\"#009af9\" fill-rule=\"evenodd\" fill-opacity=\"1\" stroke=\"#000000\" stroke-opacity=\"1\" stroke-width=\"3.2\"/>\n<circle clip-path=\"url(#clip483)\" cx=\"966.856\" cy=\"924.797\" r=\"14.4\" fill=\"#009af9\" fill-rule=\"evenodd\" fill-opacity=\"1\" stroke=\"#000000\" stroke-opacity=\"1\" stroke-width=\"3.2\"/>\n<circle clip-path=\"url(#clip483)\" cx=\"1034.55\" cy=\"810.031\" r=\"14.4\" fill=\"#009af9\" fill-rule=\"evenodd\" fill-opacity=\"1\" stroke=\"#000000\" stroke-opacity=\"1\" stroke-width=\"3.2\"/>\n<circle clip-path=\"url(#clip483)\" cx=\"967.792\" cy=\"1286.14\" r=\"14.4\" fill=\"#009af9\" fill-rule=\"evenodd\" fill-opacity=\"1\" stroke=\"#000000\" stroke-opacity=\"1\" stroke-width=\"3.2\"/>\n<circle clip-path=\"url(#clip483)\" cx=\"924.987\" cy=\"1102.76\" r=\"14.4\" fill=\"#009af9\" fill-rule=\"evenodd\" fill-opacity=\"1\" stroke=\"#000000\" stroke-opacity=\"1\" stroke-width=\"3.2\"/>\n<circle clip-path=\"url(#clip483)\" cx=\"785.568\" cy=\"690.126\" r=\"14.4\" fill=\"#009af9\" fill-rule=\"evenodd\" fill-opacity=\"1\" stroke=\"#000000\" stroke-opacity=\"1\" stroke-width=\"3.2\"/>\n<circle clip-path=\"url(#clip483)\" cx=\"984.698\" cy=\"967.936\" r=\"14.4\" fill=\"#009af9\" fill-rule=\"evenodd\" fill-opacity=\"1\" stroke=\"#000000\" stroke-opacity=\"1\" stroke-width=\"3.2\"/>\n<circle clip-path=\"url(#clip483)\" cx=\"844.324\" cy=\"814.242\" r=\"14.4\" fill=\"#009af9\" fill-rule=\"evenodd\" fill-opacity=\"1\" stroke=\"#000000\" stroke-opacity=\"1\" stroke-width=\"3.2\"/>\n<circle clip-path=\"url(#clip483)\" cx=\"829.252\" cy=\"1206.1\" r=\"14.4\" fill=\"#009af9\" fill-rule=\"evenodd\" fill-opacity=\"1\" stroke=\"#000000\" stroke-opacity=\"1\" stroke-width=\"3.2\"/>\n<circle clip-path=\"url(#clip483)\" cx=\"1027.97\" cy=\"1005.17\" r=\"14.4\" fill=\"#009af9\" fill-rule=\"evenodd\" fill-opacity=\"1\" stroke=\"#000000\" stroke-opacity=\"1\" stroke-width=\"3.2\"/>\n<circle clip-path=\"url(#clip483)\" cx=\"1045.6\" cy=\"643.342\" r=\"14.4\" fill=\"#009af9\" fill-rule=\"evenodd\" fill-opacity=\"1\" stroke=\"#000000\" stroke-opacity=\"1\" stroke-width=\"3.2\"/>\n<circle clip-path=\"url(#clip483)\" cx=\"959.664\" cy=\"1304.48\" r=\"14.4\" fill=\"#009af9\" fill-rule=\"evenodd\" fill-opacity=\"1\" stroke=\"#000000\" stroke-opacity=\"1\" stroke-width=\"3.2\"/>\n<circle clip-path=\"url(#clip483)\" cx=\"843.59\" cy=\"1015.33\" r=\"14.4\" fill=\"#009af9\" fill-rule=\"evenodd\" fill-opacity=\"1\" stroke=\"#000000\" stroke-opacity=\"1\" stroke-width=\"3.2\"/>\n<circle clip-path=\"url(#clip483)\" cx=\"965.793\" cy=\"684.934\" r=\"14.4\" fill=\"#009af9\" fill-rule=\"evenodd\" fill-opacity=\"1\" stroke=\"#000000\" stroke-opacity=\"1\" stroke-width=\"3.2\"/>\n<circle clip-path=\"url(#clip483)\" cx=\"986.527\" cy=\"1095.73\" r=\"14.4\" fill=\"#009af9\" fill-rule=\"evenodd\" fill-opacity=\"1\" stroke=\"#000000\" stroke-opacity=\"1\" stroke-width=\"3.2\"/>\n<circle clip-path=\"url(#clip483)\" cx=\"819.331\" cy=\"1220.6\" r=\"14.4\" fill=\"#009af9\" fill-rule=\"evenodd\" fill-opacity=\"1\" stroke=\"#000000\" stroke-opacity=\"1\" stroke-width=\"3.2\"/>\n<circle clip-path=\"url(#clip483)\" cx=\"874.913\" cy=\"1245.37\" r=\"14.4\" fill=\"#009af9\" fill-rule=\"evenodd\" fill-opacity=\"1\" stroke=\"#000000\" stroke-opacity=\"1\" stroke-width=\"3.2\"/>\n<circle clip-path=\"url(#clip483)\" cx=\"814.48\" cy=\"1191.52\" r=\"14.4\" fill=\"#009af9\" fill-rule=\"evenodd\" fill-opacity=\"1\" stroke=\"#000000\" stroke-opacity=\"1\" stroke-width=\"3.2\"/>\n<circle clip-path=\"url(#clip483)\" cx=\"918.065\" cy=\"1399.23\" r=\"14.4\" fill=\"#009af9\" fill-rule=\"evenodd\" fill-opacity=\"1\" stroke=\"#000000\" stroke-opacity=\"1\" stroke-width=\"3.2\"/>\n<circle clip-path=\"url(#clip483)\" cx=\"1002.44\" cy=\"1179.49\" r=\"14.4\" fill=\"#009af9\" fill-rule=\"evenodd\" fill-opacity=\"1\" stroke=\"#000000\" stroke-opacity=\"1\" stroke-width=\"3.2\"/>\n<circle clip-path=\"url(#clip483)\" cx=\"1110.01\" cy=\"747.774\" r=\"14.4\" fill=\"#009af9\" fill-rule=\"evenodd\" fill-opacity=\"1\" stroke=\"#000000\" stroke-opacity=\"1\" stroke-width=\"3.2\"/>\n<circle clip-path=\"url(#clip483)\" cx=\"1123.67\" cy=\"180.377\" r=\"14.4\" fill=\"#009af9\" fill-rule=\"evenodd\" fill-opacity=\"1\" stroke=\"#000000\" stroke-opacity=\"1\" stroke-width=\"3.2\"/>\n<circle clip-path=\"url(#clip483)\" cx=\"928.966\" cy=\"775.409\" r=\"14.4\" fill=\"#009af9\" fill-rule=\"evenodd\" fill-opacity=\"1\" stroke=\"#000000\" stroke-opacity=\"1\" stroke-width=\"3.2\"/>\n<circle clip-path=\"url(#clip483)\" cx=\"833.095\" cy=\"983.138\" r=\"14.4\" fill=\"#009af9\" fill-rule=\"evenodd\" fill-opacity=\"1\" stroke=\"#000000\" stroke-opacity=\"1\" stroke-width=\"3.2\"/>\n<circle clip-path=\"url(#clip483)\" cx=\"948.319\" cy=\"885.847\" r=\"14.4\" fill=\"#009af9\" fill-rule=\"evenodd\" fill-opacity=\"1\" stroke=\"#000000\" stroke-opacity=\"1\" stroke-width=\"3.2\"/>\n<circle clip-path=\"url(#clip483)\" cx=\"834.408\" cy=\"816.8\" r=\"14.4\" fill=\"#009af9\" fill-rule=\"evenodd\" fill-opacity=\"1\" stroke=\"#000000\" stroke-opacity=\"1\" stroke-width=\"3.2\"/>\n<circle clip-path=\"url(#clip483)\" cx=\"827.678\" cy=\"862.385\" r=\"14.4\" fill=\"#009af9\" fill-rule=\"evenodd\" fill-opacity=\"1\" stroke=\"#000000\" stroke-opacity=\"1\" stroke-width=\"3.2\"/>\n<circle clip-path=\"url(#clip483)\" cx=\"1029.58\" cy=\"1344.22\" r=\"14.4\" fill=\"#009af9\" fill-rule=\"evenodd\" fill-opacity=\"1\" stroke=\"#000000\" stroke-opacity=\"1\" stroke-width=\"3.2\"/>\n<circle clip-path=\"url(#clip483)\" cx=\"920.378\" cy=\"868.712\" r=\"14.4\" fill=\"#009af9\" fill-rule=\"evenodd\" fill-opacity=\"1\" stroke=\"#000000\" stroke-opacity=\"1\" stroke-width=\"3.2\"/>\n<circle clip-path=\"url(#clip483)\" cx=\"934.434\" cy=\"740.857\" r=\"14.4\" fill=\"#009af9\" fill-rule=\"evenodd\" fill-opacity=\"1\" stroke=\"#000000\" stroke-opacity=\"1\" stroke-width=\"3.2\"/>\n<circle clip-path=\"url(#clip483)\" cx=\"883.73\" cy=\"718.511\" r=\"14.4\" fill=\"#009af9\" fill-rule=\"evenodd\" fill-opacity=\"1\" stroke=\"#000000\" stroke-opacity=\"1\" stroke-width=\"3.2\"/>\n<circle clip-path=\"url(#clip483)\" cx=\"984.654\" cy=\"1425.04\" r=\"14.4\" fill=\"#009af9\" fill-rule=\"evenodd\" fill-opacity=\"1\" stroke=\"#000000\" stroke-opacity=\"1\" stroke-width=\"3.2\"/>\n<circle clip-path=\"url(#clip483)\" cx=\"776.352\" cy=\"620.966\" r=\"14.4\" fill=\"#009af9\" fill-rule=\"evenodd\" fill-opacity=\"1\" stroke=\"#000000\" stroke-opacity=\"1\" stroke-width=\"3.2\"/>\n<circle clip-path=\"url(#clip483)\" cx=\"878.55\" cy=\"644.922\" r=\"14.4\" fill=\"#009af9\" fill-rule=\"evenodd\" fill-opacity=\"1\" stroke=\"#000000\" stroke-opacity=\"1\" stroke-width=\"3.2\"/>\n<circle clip-path=\"url(#clip483)\" cx=\"984.223\" cy=\"727.571\" r=\"14.4\" fill=\"#009af9\" fill-rule=\"evenodd\" fill-opacity=\"1\" stroke=\"#000000\" stroke-opacity=\"1\" stroke-width=\"3.2\"/>\n<circle clip-path=\"url(#clip483)\" cx=\"1041.32\" cy=\"1070.41\" r=\"14.4\" fill=\"#009af9\" fill-rule=\"evenodd\" fill-opacity=\"1\" stroke=\"#000000\" stroke-opacity=\"1\" stroke-width=\"3.2\"/>\n<circle clip-path=\"url(#clip483)\" cx=\"915.577\" cy=\"818.539\" r=\"14.4\" fill=\"#009af9\" fill-rule=\"evenodd\" fill-opacity=\"1\" stroke=\"#000000\" stroke-opacity=\"1\" stroke-width=\"3.2\"/>\n<circle clip-path=\"url(#clip483)\" cx=\"979.6\" cy=\"1293.38\" r=\"14.4\" fill=\"#009af9\" fill-rule=\"evenodd\" fill-opacity=\"1\" stroke=\"#000000\" stroke-opacity=\"1\" stroke-width=\"3.2\"/>\n<circle clip-path=\"url(#clip483)\" cx=\"870.258\" cy=\"1018.77\" r=\"14.4\" fill=\"#009af9\" fill-rule=\"evenodd\" fill-opacity=\"1\" stroke=\"#000000\" stroke-opacity=\"1\" stroke-width=\"3.2\"/>\n<circle clip-path=\"url(#clip483)\" cx=\"1001.8\" cy=\"788.1\" r=\"14.4\" fill=\"#009af9\" fill-rule=\"evenodd\" fill-opacity=\"1\" stroke=\"#000000\" stroke-opacity=\"1\" stroke-width=\"3.2\"/>\n<circle clip-path=\"url(#clip483)\" cx=\"1076.52\" cy=\"1264.52\" r=\"14.4\" fill=\"#009af9\" fill-rule=\"evenodd\" fill-opacity=\"1\" stroke=\"#000000\" stroke-opacity=\"1\" stroke-width=\"3.2\"/>\n<circle clip-path=\"url(#clip483)\" cx=\"849.229\" cy=\"667.158\" r=\"14.4\" fill=\"#009af9\" fill-rule=\"evenodd\" fill-opacity=\"1\" stroke=\"#000000\" stroke-opacity=\"1\" stroke-width=\"3.2\"/>\n<circle clip-path=\"url(#clip483)\" cx=\"1018.78\" cy=\"1194.54\" r=\"14.4\" fill=\"#009af9\" fill-rule=\"evenodd\" fill-opacity=\"1\" stroke=\"#000000\" stroke-opacity=\"1\" stroke-width=\"3.2\"/>\n<circle clip-path=\"url(#clip483)\" cx=\"938.855\" cy=\"741.231\" r=\"14.4\" fill=\"#009af9\" fill-rule=\"evenodd\" fill-opacity=\"1\" stroke=\"#000000\" stroke-opacity=\"1\" stroke-width=\"3.2\"/>\n<circle clip-path=\"url(#clip483)\" cx=\"1001.22\" cy=\"1069.18\" r=\"14.4\" fill=\"#009af9\" fill-rule=\"evenodd\" fill-opacity=\"1\" stroke=\"#000000\" stroke-opacity=\"1\" stroke-width=\"3.2\"/>\n<circle clip-path=\"url(#clip483)\" cx=\"1003.24\" cy=\"624.05\" r=\"14.4\" fill=\"#009af9\" fill-rule=\"evenodd\" fill-opacity=\"1\" stroke=\"#000000\" stroke-opacity=\"1\" stroke-width=\"3.2\"/>\n<circle clip-path=\"url(#clip483)\" cx=\"982.735\" cy=\"1360.28\" r=\"14.4\" fill=\"#009af9\" fill-rule=\"evenodd\" fill-opacity=\"1\" stroke=\"#000000\" stroke-opacity=\"1\" stroke-width=\"3.2\"/>\n<circle clip-path=\"url(#clip483)\" cx=\"787.169\" cy=\"734.908\" r=\"14.4\" fill=\"#009af9\" fill-rule=\"evenodd\" fill-opacity=\"1\" stroke=\"#000000\" stroke-opacity=\"1\" stroke-width=\"3.2\"/>\n<circle clip-path=\"url(#clip483)\" cx=\"956.733\" cy=\"1295.59\" r=\"14.4\" fill=\"#009af9\" fill-rule=\"evenodd\" fill-opacity=\"1\" stroke=\"#000000\" stroke-opacity=\"1\" stroke-width=\"3.2\"/>\n<circle clip-path=\"url(#clip483)\" cx=\"981.437\" cy=\"1000.39\" r=\"14.4\" fill=\"#009af9\" fill-rule=\"evenodd\" fill-opacity=\"1\" stroke=\"#000000\" stroke-opacity=\"1\" stroke-width=\"3.2\"/>\n<circle clip-path=\"url(#clip483)\" cx=\"837.216\" cy=\"1321.07\" r=\"14.4\" fill=\"#009af9\" fill-rule=\"evenodd\" fill-opacity=\"1\" stroke=\"#000000\" stroke-opacity=\"1\" stroke-width=\"3.2\"/>\n<circle clip-path=\"url(#clip483)\" cx=\"909.879\" cy=\"867.422\" r=\"14.4\" fill=\"#009af9\" fill-rule=\"evenodd\" fill-opacity=\"1\" stroke=\"#000000\" stroke-opacity=\"1\" stroke-width=\"3.2\"/>\n<circle clip-path=\"url(#clip483)\" cx=\"923.178\" cy=\"882.79\" r=\"14.4\" fill=\"#009af9\" fill-rule=\"evenodd\" fill-opacity=\"1\" stroke=\"#000000\" stroke-opacity=\"1\" stroke-width=\"3.2\"/>\n<circle clip-path=\"url(#clip483)\" cx=\"941.871\" cy=\"965.893\" r=\"14.4\" fill=\"#009af9\" fill-rule=\"evenodd\" fill-opacity=\"1\" stroke=\"#000000\" stroke-opacity=\"1\" stroke-width=\"3.2\"/>\n<circle clip-path=\"url(#clip483)\" cx=\"940.414\" cy=\"1173.17\" r=\"14.4\" fill=\"#009af9\" fill-rule=\"evenodd\" fill-opacity=\"1\" stroke=\"#000000\" stroke-opacity=\"1\" stroke-width=\"3.2\"/>\n<circle clip-path=\"url(#clip483)\" cx=\"1095.57\" cy=\"749.586\" r=\"14.4\" fill=\"#009af9\" fill-rule=\"evenodd\" fill-opacity=\"1\" stroke=\"#000000\" stroke-opacity=\"1\" stroke-width=\"3.2\"/>\n<circle clip-path=\"url(#clip483)\" cx=\"971.564\" cy=\"1181.66\" r=\"14.4\" fill=\"#009af9\" fill-rule=\"evenodd\" fill-opacity=\"1\" stroke=\"#000000\" stroke-opacity=\"1\" stroke-width=\"3.2\"/>\n<circle clip-path=\"url(#clip483)\" cx=\"817.845\" cy=\"972.379\" r=\"14.4\" fill=\"#009af9\" fill-rule=\"evenodd\" fill-opacity=\"1\" stroke=\"#000000\" stroke-opacity=\"1\" stroke-width=\"3.2\"/>\n<circle clip-path=\"url(#clip483)\" cx=\"1026.43\" cy=\"1206.15\" r=\"14.4\" fill=\"#009af9\" fill-rule=\"evenodd\" fill-opacity=\"1\" stroke=\"#000000\" stroke-opacity=\"1\" stroke-width=\"3.2\"/>\n<circle clip-path=\"url(#clip483)\" cx=\"1001.35\" cy=\"1120.33\" r=\"14.4\" fill=\"#009af9\" fill-rule=\"evenodd\" fill-opacity=\"1\" stroke=\"#000000\" stroke-opacity=\"1\" stroke-width=\"3.2\"/>\n<circle clip-path=\"url(#clip483)\" cx=\"908.508\" cy=\"872.225\" r=\"14.4\" fill=\"#009af9\" fill-rule=\"evenodd\" fill-opacity=\"1\" stroke=\"#000000\" stroke-opacity=\"1\" stroke-width=\"3.2\"/>\n<circle clip-path=\"url(#clip483)\" cx=\"1058.74\" cy=\"332.963\" r=\"14.4\" fill=\"#009af9\" fill-rule=\"evenodd\" fill-opacity=\"1\" stroke=\"#000000\" stroke-opacity=\"1\" stroke-width=\"3.2\"/>\n<path clip-path=\"url(#clip480)\" d=\"\nM972.368 198.898 L1121.82 198.898 L1121.82 95.2176 L972.368 95.2176  Z\n  \" fill=\"#ffffff\" fill-rule=\"evenodd\" fill-opacity=\"1\"/>\n<polyline clip-path=\"url(#clip480)\" style=\"stroke:#000000; stroke-linecap:round; stroke-linejoin:round; stroke-width:4; stroke-opacity:1; fill:none\" points=\"\n  972.368,198.898 1121.82,198.898 1121.82,95.2176 972.368,95.2176 972.368,198.898 \n  \"/>\n<circle clip-path=\"url(#clip480)\" cx=\"988.731\" cy=\"147.058\" r=\"23.04\" fill=\"#009af9\" fill-rule=\"evenodd\" fill-opacity=\"1\" stroke=\"#000000\" stroke-opacity=\"1\" stroke-width=\"5.12\"/>\n<path clip-path=\"url(#clip480)\" d=\"M1021.48 148.134 Q1022.99 148.643 1024.4 150.31 Q1025.83 151.977 1027.27 154.893 L1032.01 164.338 L1026.99 164.338 L1022.57 155.472 Q1020.86 152 1019.24 150.865 Q1017.64 149.731 1014.86 149.731 L1009.77 149.731 L1009.77 164.338 L1005.09 164.338 L1005.09 129.778 L1015.65 129.778 Q1021.57 129.778 1024.49 132.254 Q1027.41 134.731 1027.41 139.731 Q1027.41 142.995 1025.88 145.148 Q1024.38 147.301 1021.48 148.134 M1009.77 133.62 L1009.77 145.889 L1015.65 145.889 Q1019.03 145.889 1020.74 144.338 Q1022.48 142.764 1022.48 139.731 Q1022.48 136.699 1020.74 135.171 Q1019.03 133.62 1015.65 133.62 L1009.77 133.62 Z\" fill=\"#000000\" fill-rule=\"evenodd\" fill-opacity=\"1\" /><path clip-path=\"url(#clip480)\" d=\"M1045.76 141.398 Q1042.34 141.398 1040.35 144.083 Q1038.36 146.745 1038.36 151.398 Q1038.36 156.051 1040.32 158.736 Q1042.31 161.398 1045.76 161.398 Q1049.17 161.398 1051.16 158.713 Q1053.15 156.027 1053.15 151.398 Q1053.15 146.791 1051.16 144.106 Q1049.17 141.398 1045.76 141.398 M1045.76 137.787 Q1051.32 137.787 1054.49 141.398 Q1057.66 145.009 1057.66 151.398 Q1057.66 157.764 1054.49 161.398 Q1051.32 165.009 1045.76 165.009 Q1040.19 165.009 1037.01 161.398 Q1033.87 157.764 1033.87 151.398 Q1033.87 145.009 1037.01 141.398 Q1040.19 137.787 1045.76 137.787 Z\" fill=\"#000000\" fill-rule=\"evenodd\" fill-opacity=\"1\" /><path clip-path=\"url(#clip480)\" d=\"M1083.38 139.407 L1083.38 143.389 Q1081.57 142.393 1079.75 141.907 Q1077.94 141.398 1076.09 141.398 Q1071.94 141.398 1069.65 144.037 Q1067.36 146.652 1067.36 151.398 Q1067.36 156.143 1069.65 158.782 Q1071.94 161.398 1076.09 161.398 Q1077.94 161.398 1079.75 160.912 Q1081.57 160.402 1083.38 159.407 L1083.38 163.342 Q1081.6 164.176 1079.68 164.592 Q1077.78 165.009 1075.62 165.009 Q1069.77 165.009 1066.32 161.328 Q1062.87 157.648 1062.87 151.398 Q1062.87 145.055 1066.34 141.421 Q1069.84 137.787 1075.9 137.787 Q1077.87 137.787 1079.75 138.203 Q1081.62 138.597 1083.38 139.407 Z\" fill=\"#000000\" fill-rule=\"evenodd\" fill-opacity=\"1\" /><path clip-path=\"url(#clip480)\" d=\"M1090.62 128.319 L1094.91 128.319 L1094.91 149.592 L1107.62 138.412 L1113.06 138.412 L1099.31 150.541 L1113.63 164.338 L1108.08 164.338 L1094.91 151.676 L1094.91 164.338 L1090.62 164.338 L1090.62 128.319 Z\" fill=\"#000000\" fill-rule=\"evenodd\" fill-opacity=\"1\" /><path clip-path=\"url(#clip480)\" d=\"\nM1375.27 1486.45 L2352.76 1486.45 L2352.76 47.2441 L1375.27 47.2441  Z\n  \" fill=\"#ffffff\" fill-rule=\"evenodd\" fill-opacity=\"1\"/>\n<defs>\n  <clipPath id=\"clip484\">\n    <rect x=\"1375\" y=\"47\" width=\"978\" height=\"1440\"/>\n  </clipPath>\n</defs>\n<polyline clip-path=\"url(#clip484)\" style=\"stroke:#000000; stroke-linecap:round; stroke-linejoin:round; stroke-width:2; stroke-opacity:0.1; fill:none\" points=\"\n  1431.54,1486.45 1431.54,47.2441 \n  \"/>\n<polyline clip-path=\"url(#clip484)\" style=\"stroke:#000000; stroke-linecap:round; stroke-linejoin:round; stroke-width:2; stroke-opacity:0.1; fill:none\" points=\"\n  1568.37,1486.45 1568.37,47.2441 \n  \"/>\n<polyline clip-path=\"url(#clip484)\" style=\"stroke:#000000; stroke-linecap:round; stroke-linejoin:round; stroke-width:2; stroke-opacity:0.1; fill:none\" points=\"\n  1705.2,1486.45 1705.2,47.2441 \n  \"/>\n<polyline clip-path=\"url(#clip484)\" style=\"stroke:#000000; stroke-linecap:round; stroke-linejoin:round; stroke-width:2; stroke-opacity:0.1; fill:none\" points=\"\n  1842.03,1486.45 1842.03,47.2441 \n  \"/>\n<polyline clip-path=\"url(#clip484)\" style=\"stroke:#000000; stroke-linecap:round; stroke-linejoin:round; stroke-width:2; stroke-opacity:0.1; fill:none\" points=\"\n  1978.86,1486.45 1978.86,47.2441 \n  \"/>\n<polyline clip-path=\"url(#clip484)\" style=\"stroke:#000000; stroke-linecap:round; stroke-linejoin:round; stroke-width:2; stroke-opacity:0.1; fill:none\" points=\"\n  2115.68,1486.45 2115.68,47.2441 \n  \"/>\n<polyline clip-path=\"url(#clip484)\" style=\"stroke:#000000; stroke-linecap:round; stroke-linejoin:round; stroke-width:2; stroke-opacity:0.1; fill:none\" points=\"\n  2252.51,1486.45 2252.51,47.2441 \n  \"/>\n<polyline clip-path=\"url(#clip480)\" style=\"stroke:#000000; stroke-linecap:round; stroke-linejoin:round; stroke-width:4; stroke-opacity:1; fill:none\" points=\"\n  1375.27,1486.45 2352.76,1486.45 \n  \"/>\n<polyline clip-path=\"url(#clip480)\" style=\"stroke:#000000; stroke-linecap:round; stroke-linejoin:round; stroke-width:4; stroke-opacity:1; fill:none\" points=\"\n  1431.54,1486.45 1431.54,1467.55 \n  \"/>\n<polyline clip-path=\"url(#clip480)\" style=\"stroke:#000000; stroke-linecap:round; stroke-linejoin:round; stroke-width:4; stroke-opacity:1; fill:none\" points=\"\n  1568.37,1486.45 1568.37,1467.55 \n  \"/>\n<polyline clip-path=\"url(#clip480)\" style=\"stroke:#000000; stroke-linecap:round; stroke-linejoin:round; stroke-width:4; stroke-opacity:1; fill:none\" points=\"\n  1705.2,1486.45 1705.2,1467.55 \n  \"/>\n<polyline clip-path=\"url(#clip480)\" style=\"stroke:#000000; stroke-linecap:round; stroke-linejoin:round; stroke-width:4; stroke-opacity:1; fill:none\" points=\"\n  1842.03,1486.45 1842.03,1467.55 \n  \"/>\n<polyline clip-path=\"url(#clip480)\" style=\"stroke:#000000; stroke-linecap:round; stroke-linejoin:round; stroke-width:4; stroke-opacity:1; fill:none\" points=\"\n  1978.86,1486.45 1978.86,1467.55 \n  \"/>\n<polyline clip-path=\"url(#clip480)\" style=\"stroke:#000000; stroke-linecap:round; stroke-linejoin:round; stroke-width:4; stroke-opacity:1; fill:none\" points=\"\n  2115.68,1486.45 2115.68,1467.55 \n  \"/>\n<polyline clip-path=\"url(#clip480)\" style=\"stroke:#000000; stroke-linecap:round; stroke-linejoin:round; stroke-width:4; stroke-opacity:1; fill:none\" points=\"\n  2252.51,1486.45 2252.51,1467.55 \n  \"/>\n<path clip-path=\"url(#clip480)\" d=\"M1378.57 1532.02 L1408.24 1532.02 L1408.24 1535.95 L1378.57 1535.95 L1378.57 1532.02 Z\" fill=\"#000000\" fill-rule=\"evenodd\" fill-opacity=\"1\" /><path clip-path=\"url(#clip480)\" d=\"M1419.15 1544.91 L1426.79 1544.91 L1426.79 1518.55 L1418.47 1520.21 L1418.47 1515.95 L1426.74 1514.29 L1431.41 1514.29 L1431.41 1544.91 L1439.05 1544.91 L1439.05 1548.85 L1419.15 1548.85 L1419.15 1544.91 Z\" fill=\"#000000\" fill-rule=\"evenodd\" fill-opacity=\"1\" /><path clip-path=\"url(#clip480)\" d=\"M1448.5 1542.97 L1453.38 1542.97 L1453.38 1548.85 L1448.5 1548.85 L1448.5 1542.97 Z\" fill=\"#000000\" fill-rule=\"evenodd\" fill-opacity=\"1\" /><path clip-path=\"url(#clip480)\" d=\"M1463.61 1514.29 L1481.97 1514.29 L1481.97 1518.22 L1467.9 1518.22 L1467.9 1526.7 Q1468.91 1526.35 1469.93 1526.19 Q1470.95 1526 1471.97 1526 Q1477.76 1526 1481.14 1529.17 Q1484.52 1532.34 1484.52 1537.76 Q1484.52 1543.34 1481.04 1546.44 Q1477.57 1549.52 1471.25 1549.52 Q1469.08 1549.52 1466.81 1549.15 Q1464.56 1548.78 1462.16 1548.04 L1462.16 1543.34 Q1464.24 1544.47 1466.46 1545.03 Q1468.68 1545.58 1471.16 1545.58 Q1475.16 1545.58 1477.5 1543.48 Q1479.84 1541.37 1479.84 1537.76 Q1479.84 1534.15 1477.5 1532.04 Q1475.16 1529.94 1471.16 1529.94 Q1469.28 1529.94 1467.41 1530.35 Q1465.56 1530.77 1463.61 1531.65 L1463.61 1514.29 Z\" fill=\"#000000\" fill-rule=\"evenodd\" fill-opacity=\"1\" /><path clip-path=\"url(#clip480)\" d=\"M1514.9 1532.02 L1544.57 1532.02 L1544.57 1535.95 L1514.9 1535.95 L1514.9 1532.02 Z\" fill=\"#000000\" fill-rule=\"evenodd\" fill-opacity=\"1\" /><path clip-path=\"url(#clip480)\" d=\"M1555.48 1544.91 L1563.12 1544.91 L1563.12 1518.55 L1554.81 1520.21 L1554.81 1515.95 L1563.07 1514.29 L1567.75 1514.29 L1567.75 1544.91 L1575.38 1544.91 L1575.38 1548.85 L1555.48 1548.85 L1555.48 1544.91 Z\" fill=\"#000000\" fill-rule=\"evenodd\" fill-opacity=\"1\" /><path clip-path=\"url(#clip480)\" d=\"M1584.83 1542.97 L1589.71 1542.97 L1589.71 1548.85 L1584.83 1548.85 L1584.83 1542.97 Z\" fill=\"#000000\" fill-rule=\"evenodd\" fill-opacity=\"1\" /><path clip-path=\"url(#clip480)\" d=\"M1609.9 1517.37 Q1606.29 1517.37 1604.46 1520.93 Q1602.65 1524.47 1602.65 1531.6 Q1602.65 1538.71 1604.46 1542.27 Q1606.29 1545.82 1609.9 1545.82 Q1613.53 1545.82 1615.34 1542.27 Q1617.17 1538.71 1617.17 1531.6 Q1617.17 1524.47 1615.34 1520.93 Q1613.53 1517.37 1609.9 1517.37 M1609.9 1513.66 Q1615.71 1513.66 1618.76 1518.27 Q1621.84 1522.85 1621.84 1531.6 Q1621.84 1540.33 1618.76 1544.94 Q1615.71 1549.52 1609.9 1549.52 Q1604.09 1549.52 1601.01 1544.94 Q1597.95 1540.33 1597.95 1531.6 Q1597.95 1522.85 1601.01 1518.27 Q1604.09 1513.66 1609.9 1513.66 Z\" fill=\"#000000\" fill-rule=\"evenodd\" fill-opacity=\"1\" /><path clip-path=\"url(#clip480)\" d=\"M1652.22 1532.02 L1681.9 1532.02 L1681.9 1535.95 L1652.22 1535.95 L1652.22 1532.02 Z\" fill=\"#000000\" fill-rule=\"evenodd\" fill-opacity=\"1\" /><path clip-path=\"url(#clip480)\" d=\"M1701.99 1517.37 Q1698.38 1517.37 1696.55 1520.93 Q1694.75 1524.47 1694.75 1531.6 Q1694.75 1538.71 1696.55 1542.27 Q1698.38 1545.82 1701.99 1545.82 Q1705.63 1545.82 1707.43 1542.27 Q1709.26 1538.71 1709.26 1531.6 Q1709.26 1524.47 1707.43 1520.93 Q1705.63 1517.37 1701.99 1517.37 M1701.99 1513.66 Q1707.8 1513.66 1710.86 1518.27 Q1713.94 1522.85 1713.94 1531.6 Q1713.94 1540.33 1710.86 1544.94 Q1707.8 1549.52 1701.99 1549.52 Q1696.18 1549.52 1693.1 1544.94 Q1690.05 1540.33 1690.05 1531.6 Q1690.05 1522.85 1693.1 1518.27 Q1696.18 1513.66 1701.99 1513.66 Z\" fill=\"#000000\" fill-rule=\"evenodd\" fill-opacity=\"1\" /><path clip-path=\"url(#clip480)\" d=\"M1722.15 1542.97 L1727.04 1542.97 L1727.04 1548.85 L1722.15 1548.85 L1722.15 1542.97 Z\" fill=\"#000000\" fill-rule=\"evenodd\" fill-opacity=\"1\" /><path clip-path=\"url(#clip480)\" d=\"M1737.27 1514.29 L1755.63 1514.29 L1755.63 1518.22 L1741.55 1518.22 L1741.55 1526.7 Q1742.57 1526.35 1743.59 1526.19 Q1744.61 1526 1745.63 1526 Q1751.41 1526 1754.79 1529.17 Q1758.17 1532.34 1758.17 1537.76 Q1758.17 1543.34 1754.7 1546.44 Q1751.23 1549.52 1744.91 1549.52 Q1742.73 1549.52 1740.46 1549.15 Q1738.22 1548.78 1735.81 1548.04 L1735.81 1543.34 Q1737.9 1544.47 1740.12 1545.03 Q1742.34 1545.58 1744.82 1545.58 Q1748.82 1545.58 1751.16 1543.48 Q1753.5 1541.37 1753.5 1537.76 Q1753.5 1534.15 1751.16 1532.04 Q1748.82 1529.94 1744.82 1529.94 Q1742.94 1529.94 1741.07 1530.35 Q1739.21 1530.77 1737.27 1531.65 L1737.27 1514.29 Z\" fill=\"#000000\" fill-rule=\"evenodd\" fill-opacity=\"1\" /><path clip-path=\"url(#clip480)\" d=\"M1819.41 1517.37 Q1815.8 1517.37 1813.97 1520.93 Q1812.17 1524.47 1812.17 1531.6 Q1812.17 1538.71 1813.97 1542.27 Q1815.8 1545.82 1819.41 1545.82 Q1823.05 1545.82 1824.85 1542.27 Q1826.68 1538.71 1826.68 1531.6 Q1826.68 1524.47 1824.85 1520.93 Q1823.05 1517.37 1819.41 1517.37 M1819.41 1513.66 Q1825.22 1513.66 1828.28 1518.27 Q1831.36 1522.85 1831.36 1531.6 Q1831.36 1540.33 1828.28 1544.94 Q1825.22 1549.52 1819.41 1549.52 Q1813.6 1549.52 1810.52 1544.94 Q1807.47 1540.33 1807.47 1531.6 Q1807.47 1522.85 1810.52 1518.27 Q1813.6 1513.66 1819.41 1513.66 Z\" fill=\"#000000\" fill-rule=\"evenodd\" fill-opacity=\"1\" /><path clip-path=\"url(#clip480)\" d=\"M1839.57 1542.97 L1844.46 1542.97 L1844.46 1548.85 L1839.57 1548.85 L1839.57 1542.97 Z\" fill=\"#000000\" fill-rule=\"evenodd\" fill-opacity=\"1\" /><path clip-path=\"url(#clip480)\" d=\"M1864.64 1517.37 Q1861.03 1517.37 1859.2 1520.93 Q1857.4 1524.47 1857.4 1531.6 Q1857.4 1538.71 1859.2 1542.27 Q1861.03 1545.82 1864.64 1545.82 Q1868.28 1545.82 1870.08 1542.27 Q1871.91 1538.71 1871.91 1531.6 Q1871.91 1524.47 1870.08 1520.93 Q1868.28 1517.37 1864.64 1517.37 M1864.64 1513.66 Q1870.45 1513.66 1873.51 1518.27 Q1876.59 1522.85 1876.59 1531.6 Q1876.59 1540.33 1873.51 1544.94 Q1870.45 1549.52 1864.64 1549.52 Q1858.83 1549.52 1855.75 1544.94 Q1852.7 1540.33 1852.7 1531.6 Q1852.7 1522.85 1855.75 1518.27 Q1858.83 1513.66 1864.64 1513.66 Z\" fill=\"#000000\" fill-rule=\"evenodd\" fill-opacity=\"1\" /><path clip-path=\"url(#clip480)\" d=\"M1956.74 1517.37 Q1953.13 1517.37 1951.3 1520.93 Q1949.49 1524.47 1949.49 1531.6 Q1949.49 1538.71 1951.3 1542.27 Q1953.13 1545.82 1956.74 1545.82 Q1960.37 1545.82 1962.18 1542.27 Q1964.01 1538.71 1964.01 1531.6 Q1964.01 1524.47 1962.18 1520.93 Q1960.37 1517.37 1956.74 1517.37 M1956.74 1513.66 Q1962.55 1513.66 1965.6 1518.27 Q1968.68 1522.85 1968.68 1531.6 Q1968.68 1540.33 1965.6 1544.94 Q1962.55 1549.52 1956.74 1549.52 Q1950.93 1549.52 1947.85 1544.94 Q1944.79 1540.33 1944.79 1531.6 Q1944.79 1522.85 1947.85 1518.27 Q1950.93 1513.66 1956.74 1513.66 Z\" fill=\"#000000\" fill-rule=\"evenodd\" fill-opacity=\"1\" /><path clip-path=\"url(#clip480)\" d=\"M1976.9 1542.97 L1981.78 1542.97 L1981.78 1548.85 L1976.9 1548.85 L1976.9 1542.97 Z\" fill=\"#000000\" fill-rule=\"evenodd\" fill-opacity=\"1\" /><path clip-path=\"url(#clip480)\" d=\"M1992.02 1514.29 L2010.37 1514.29 L2010.37 1518.22 L1996.3 1518.22 L1996.3 1526.7 Q1997.32 1526.35 1998.33 1526.19 Q1999.35 1526 2000.37 1526 Q2006.16 1526 2009.54 1529.17 Q2012.92 1532.34 2012.92 1537.76 Q2012.92 1543.34 2009.45 1546.44 Q2005.97 1549.52 1999.65 1549.52 Q1997.48 1549.52 1995.21 1549.15 Q1992.96 1548.78 1990.56 1548.04 L1990.56 1543.34 Q1992.64 1544.47 1994.86 1545.03 Q1997.08 1545.58 1999.56 1545.58 Q2003.57 1545.58 2005.9 1543.48 Q2008.24 1541.37 2008.24 1537.76 Q2008.24 1534.15 2005.9 1532.04 Q2003.57 1529.94 1999.56 1529.94 Q1997.69 1529.94 1995.81 1530.35 Q1993.96 1530.77 1992.02 1531.65 L1992.02 1514.29 Z\" fill=\"#000000\" fill-rule=\"evenodd\" fill-opacity=\"1\" /><path clip-path=\"url(#clip480)\" d=\"M2082.84 1544.91 L2090.48 1544.91 L2090.48 1518.55 L2082.17 1520.21 L2082.17 1515.95 L2090.43 1514.29 L2095.11 1514.29 L2095.11 1544.91 L2102.74 1544.91 L2102.74 1548.85 L2082.84 1548.85 L2082.84 1544.91 Z\" fill=\"#000000\" fill-rule=\"evenodd\" fill-opacity=\"1\" /><path clip-path=\"url(#clip480)\" d=\"M2112.19 1542.97 L2117.07 1542.97 L2117.07 1548.85 L2112.19 1548.85 L2112.19 1542.97 Z\" fill=\"#000000\" fill-rule=\"evenodd\" fill-opacity=\"1\" /><path clip-path=\"url(#clip480)\" d=\"M2137.26 1517.37 Q2133.65 1517.37 2131.82 1520.93 Q2130.01 1524.47 2130.01 1531.6 Q2130.01 1538.71 2131.82 1542.27 Q2133.65 1545.82 2137.26 1545.82 Q2140.89 1545.82 2142.7 1542.27 Q2144.53 1538.71 2144.53 1531.6 Q2144.53 1524.47 2142.7 1520.93 Q2140.89 1517.37 2137.26 1517.37 M2137.26 1513.66 Q2143.07 1513.66 2146.12 1518.27 Q2149.2 1522.85 2149.2 1531.6 Q2149.2 1540.33 2146.12 1544.94 Q2143.07 1549.52 2137.26 1549.52 Q2131.45 1549.52 2128.37 1544.94 Q2125.31 1540.33 2125.31 1531.6 Q2125.31 1522.85 2128.37 1518.27 Q2131.45 1513.66 2137.26 1513.66 Z\" fill=\"#000000\" fill-rule=\"evenodd\" fill-opacity=\"1\" /><path clip-path=\"url(#clip480)\" d=\"M2220.16 1544.91 L2227.8 1544.91 L2227.8 1518.55 L2219.49 1520.21 L2219.49 1515.95 L2227.76 1514.29 L2232.43 1514.29 L2232.43 1544.91 L2240.07 1544.91 L2240.07 1548.85 L2220.16 1548.85 L2220.16 1544.91 Z\" fill=\"#000000\" fill-rule=\"evenodd\" fill-opacity=\"1\" /><path clip-path=\"url(#clip480)\" d=\"M2249.51 1542.97 L2254.4 1542.97 L2254.4 1548.85 L2249.51 1548.85 L2249.51 1542.97 Z\" fill=\"#000000\" fill-rule=\"evenodd\" fill-opacity=\"1\" /><path clip-path=\"url(#clip480)\" d=\"M2264.63 1514.29 L2282.99 1514.29 L2282.99 1518.22 L2268.91 1518.22 L2268.91 1526.7 Q2269.93 1526.35 2270.95 1526.19 Q2271.97 1526 2272.99 1526 Q2278.77 1526 2282.15 1529.17 Q2285.53 1532.34 2285.53 1537.76 Q2285.53 1543.34 2282.06 1546.44 Q2278.59 1549.52 2272.27 1549.52 Q2270.09 1549.52 2267.82 1549.15 Q2265.58 1548.78 2263.17 1548.04 L2263.17 1543.34 Q2265.26 1544.47 2267.48 1545.03 Q2269.7 1545.58 2272.18 1545.58 Q2276.18 1545.58 2278.52 1543.48 Q2280.86 1541.37 2280.86 1537.76 Q2280.86 1534.15 2278.52 1532.04 Q2276.18 1529.94 2272.18 1529.94 Q2270.3 1529.94 2268.43 1530.35 Q2266.57 1530.77 2264.63 1531.65 L2264.63 1514.29 Z\" fill=\"#000000\" fill-rule=\"evenodd\" fill-opacity=\"1\" /><polyline clip-path=\"url(#clip484)\" style=\"stroke:#000000; stroke-linecap:round; stroke-linejoin:round; stroke-width:2; stroke-opacity:0.1; fill:none\" points=\"\n  1375.27,1401.9 2352.76,1401.9 \n  \"/>\n<polyline clip-path=\"url(#clip484)\" style=\"stroke:#000000; stroke-linecap:round; stroke-linejoin:round; stroke-width:2; stroke-opacity:0.1; fill:none\" points=\"\n  1375.27,1171.89 2352.76,1171.89 \n  \"/>\n<polyline clip-path=\"url(#clip484)\" style=\"stroke:#000000; stroke-linecap:round; stroke-linejoin:round; stroke-width:2; stroke-opacity:0.1; fill:none\" points=\"\n  1375.27,941.889 2352.76,941.889 \n  \"/>\n<polyline clip-path=\"url(#clip484)\" style=\"stroke:#000000; stroke-linecap:round; stroke-linejoin:round; stroke-width:2; stroke-opacity:0.1; fill:none\" points=\"\n  1375.27,711.884 2352.76,711.884 \n  \"/>\n<polyline clip-path=\"url(#clip484)\" style=\"stroke:#000000; stroke-linecap:round; stroke-linejoin:round; stroke-width:2; stroke-opacity:0.1; fill:none\" points=\"\n  1375.27,481.88 2352.76,481.88 \n  \"/>\n<polyline clip-path=\"url(#clip484)\" style=\"stroke:#000000; stroke-linecap:round; stroke-linejoin:round; stroke-width:2; stroke-opacity:0.1; fill:none\" points=\"\n  1375.27,251.876 2352.76,251.876 \n  \"/>\n<polyline clip-path=\"url(#clip480)\" style=\"stroke:#000000; stroke-linecap:round; stroke-linejoin:round; stroke-width:4; stroke-opacity:1; fill:none\" points=\"\n  1375.27,1486.45 1375.27,47.2441 \n  \"/>\n<polyline clip-path=\"url(#clip480)\" style=\"stroke:#000000; stroke-linecap:round; stroke-linejoin:round; stroke-width:4; stroke-opacity:1; fill:none\" points=\"\n  1375.27,1401.9 1394.16,1401.9 \n  \"/>\n<polyline clip-path=\"url(#clip480)\" style=\"stroke:#000000; stroke-linecap:round; stroke-linejoin:round; stroke-width:4; stroke-opacity:1; fill:none\" points=\"\n  1375.27,1171.89 1394.16,1171.89 \n  \"/>\n<polyline clip-path=\"url(#clip480)\" style=\"stroke:#000000; stroke-linecap:round; stroke-linejoin:round; stroke-width:4; stroke-opacity:1; fill:none\" points=\"\n  1375.27,941.889 1394.16,941.889 \n  \"/>\n<polyline clip-path=\"url(#clip480)\" style=\"stroke:#000000; stroke-linecap:round; stroke-linejoin:round; stroke-width:4; stroke-opacity:1; fill:none\" points=\"\n  1375.27,711.884 1394.16,711.884 \n  \"/>\n<polyline clip-path=\"url(#clip480)\" style=\"stroke:#000000; stroke-linecap:round; stroke-linejoin:round; stroke-width:4; stroke-opacity:1; fill:none\" points=\"\n  1375.27,481.88 1394.16,481.88 \n  \"/>\n<polyline clip-path=\"url(#clip480)\" style=\"stroke:#000000; stroke-linecap:round; stroke-linejoin:round; stroke-width:4; stroke-opacity:1; fill:none\" points=\"\n  1375.27,251.876 1394.16,251.876 \n  \"/>\n<path clip-path=\"url(#clip480)\" d=\"M1232.32 1402.35 L1262 1402.35 L1262 1406.28 L1232.32 1406.28 L1232.32 1402.35 Z\" fill=\"#000000\" fill-rule=\"evenodd\" fill-opacity=\"1\" /><path clip-path=\"url(#clip480)\" d=\"M1272.9 1415.24 L1280.54 1415.24 L1280.54 1388.88 L1272.23 1390.54 L1272.23 1386.28 L1280.49 1384.62 L1285.17 1384.62 L1285.17 1415.24 L1292.81 1415.24 L1292.81 1419.18 L1272.9 1419.18 L1272.9 1415.24 Z\" fill=\"#000000\" fill-rule=\"evenodd\" fill-opacity=\"1\" /><path clip-path=\"url(#clip480)\" d=\"M1302.25 1413.3 L1307.14 1413.3 L1307.14 1419.18 L1302.25 1419.18 L1302.25 1413.3 Z\" fill=\"#000000\" fill-rule=\"evenodd\" fill-opacity=\"1\" /><path clip-path=\"url(#clip480)\" d=\"M1327.32 1387.7 Q1323.71 1387.7 1321.88 1391.26 Q1320.08 1394.8 1320.08 1401.93 Q1320.08 1409.04 1321.88 1412.6 Q1323.71 1416.14 1327.32 1416.14 Q1330.96 1416.14 1332.76 1412.6 Q1334.59 1409.04 1334.59 1401.93 Q1334.59 1394.8 1332.76 1391.26 Q1330.96 1387.7 1327.32 1387.7 M1327.32 1383.99 Q1333.13 1383.99 1336.19 1388.6 Q1339.27 1393.18 1339.27 1401.93 Q1339.27 1410.66 1336.19 1415.26 Q1333.13 1419.85 1327.32 1419.85 Q1321.51 1419.85 1318.43 1415.26 Q1315.38 1410.66 1315.38 1401.93 Q1315.38 1393.18 1318.43 1388.6 Q1321.51 1383.99 1327.32 1383.99 Z\" fill=\"#000000\" fill-rule=\"evenodd\" fill-opacity=\"1\" /><path clip-path=\"url(#clip480)\" d=\"M1233.32 1172.34 L1262.99 1172.34 L1262.99 1176.28 L1233.32 1176.28 L1233.32 1172.34 Z\" fill=\"#000000\" fill-rule=\"evenodd\" fill-opacity=\"1\" /><path clip-path=\"url(#clip480)\" d=\"M1283.09 1157.69 Q1279.48 1157.69 1277.65 1161.26 Q1275.84 1164.8 1275.84 1171.93 Q1275.84 1179.03 1277.65 1182.6 Q1279.48 1186.14 1283.09 1186.14 Q1286.72 1186.14 1288.53 1182.6 Q1290.36 1179.03 1290.36 1171.93 Q1290.36 1164.8 1288.53 1161.26 Q1286.72 1157.69 1283.09 1157.69 M1283.09 1153.99 Q1288.9 1153.99 1291.95 1158.59 Q1295.03 1163.18 1295.03 1171.93 Q1295.03 1180.65 1291.95 1185.26 Q1288.9 1189.84 1283.09 1189.84 Q1277.28 1189.84 1274.2 1185.26 Q1271.14 1180.65 1271.14 1171.93 Q1271.14 1163.18 1274.2 1158.59 Q1277.28 1153.99 1283.09 1153.99 Z\" fill=\"#000000\" fill-rule=\"evenodd\" fill-opacity=\"1\" /><path clip-path=\"url(#clip480)\" d=\"M1303.25 1183.29 L1308.13 1183.29 L1308.13 1189.17 L1303.25 1189.17 L1303.25 1183.29 Z\" fill=\"#000000\" fill-rule=\"evenodd\" fill-opacity=\"1\" /><path clip-path=\"url(#clip480)\" d=\"M1318.36 1154.61 L1336.72 1154.61 L1336.72 1158.55 L1322.65 1158.55 L1322.65 1167.02 Q1323.67 1166.67 1324.68 1166.51 Q1325.7 1166.33 1326.72 1166.33 Q1332.51 1166.33 1335.89 1169.5 Q1339.27 1172.67 1339.27 1178.08 Q1339.27 1183.66 1335.79 1186.77 Q1332.32 1189.84 1326 1189.84 Q1323.83 1189.84 1321.56 1189.47 Q1319.31 1189.1 1316.91 1188.36 L1316.91 1183.66 Q1318.99 1184.8 1321.21 1185.35 Q1323.43 1185.91 1325.91 1185.91 Q1329.92 1185.91 1332.25 1183.8 Q1334.59 1181.7 1334.59 1178.08 Q1334.59 1174.47 1332.25 1172.37 Q1329.92 1170.26 1325.91 1170.26 Q1324.04 1170.26 1322.16 1170.68 Q1320.31 1171.09 1318.36 1171.97 L1318.36 1154.61 Z\" fill=\"#000000\" fill-rule=\"evenodd\" fill-opacity=\"1\" /><path clip-path=\"url(#clip480)\" d=\"M1282.09 927.687 Q1278.48 927.687 1276.65 931.252 Q1274.85 934.794 1274.85 941.923 Q1274.85 949.03 1276.65 952.595 Q1278.48 956.136 1282.09 956.136 Q1285.73 956.136 1287.53 952.595 Q1289.36 949.03 1289.36 941.923 Q1289.36 934.794 1287.53 931.252 Q1285.73 927.687 1282.09 927.687 M1282.09 923.984 Q1287.9 923.984 1290.96 928.59 Q1294.04 933.173 1294.04 941.923 Q1294.04 950.65 1290.96 955.257 Q1287.9 959.84 1282.09 959.84 Q1276.28 959.84 1273.2 955.257 Q1270.15 950.65 1270.15 941.923 Q1270.15 933.173 1273.2 928.59 Q1276.28 923.984 1282.09 923.984 Z\" fill=\"#000000\" fill-rule=\"evenodd\" fill-opacity=\"1\" /><path clip-path=\"url(#clip480)\" d=\"M1302.25 953.289 L1307.14 953.289 L1307.14 959.169 L1302.25 959.169 L1302.25 953.289 Z\" fill=\"#000000\" fill-rule=\"evenodd\" fill-opacity=\"1\" /><path clip-path=\"url(#clip480)\" d=\"M1327.32 927.687 Q1323.71 927.687 1321.88 931.252 Q1320.08 934.794 1320.08 941.923 Q1320.08 949.03 1321.88 952.595 Q1323.71 956.136 1327.32 956.136 Q1330.96 956.136 1332.76 952.595 Q1334.59 949.03 1334.59 941.923 Q1334.59 934.794 1332.76 931.252 Q1330.96 927.687 1327.32 927.687 M1327.32 923.984 Q1333.13 923.984 1336.19 928.59 Q1339.27 933.173 1339.27 941.923 Q1339.27 950.65 1336.19 955.257 Q1333.13 959.84 1327.32 959.84 Q1321.51 959.84 1318.43 955.257 Q1315.38 950.65 1315.38 941.923 Q1315.38 933.173 1318.43 928.59 Q1321.51 923.984 1327.32 923.984 Z\" fill=\"#000000\" fill-rule=\"evenodd\" fill-opacity=\"1\" /><path clip-path=\"url(#clip480)\" d=\"M1283.09 697.683 Q1279.48 697.683 1277.65 701.248 Q1275.84 704.79 1275.84 711.919 Q1275.84 719.026 1277.65 722.59 Q1279.48 726.132 1283.09 726.132 Q1286.72 726.132 1288.53 722.59 Q1290.36 719.026 1290.36 711.919 Q1290.36 704.79 1288.53 701.248 Q1286.72 697.683 1283.09 697.683 M1283.09 693.979 Q1288.9 693.979 1291.95 698.586 Q1295.03 703.169 1295.03 711.919 Q1295.03 720.646 1291.95 725.252 Q1288.9 729.836 1283.09 729.836 Q1277.28 729.836 1274.2 725.252 Q1271.14 720.646 1271.14 711.919 Q1271.14 703.169 1274.2 698.586 Q1277.28 693.979 1283.09 693.979 Z\" fill=\"#000000\" fill-rule=\"evenodd\" fill-opacity=\"1\" /><path clip-path=\"url(#clip480)\" d=\"M1303.25 723.285 L1308.13 723.285 L1308.13 729.164 L1303.25 729.164 L1303.25 723.285 Z\" fill=\"#000000\" fill-rule=\"evenodd\" fill-opacity=\"1\" /><path clip-path=\"url(#clip480)\" d=\"M1318.36 694.604 L1336.72 694.604 L1336.72 698.54 L1322.65 698.54 L1322.65 707.012 Q1323.67 706.665 1324.68 706.503 Q1325.7 706.317 1326.72 706.317 Q1332.51 706.317 1335.89 709.489 Q1339.27 712.66 1339.27 718.077 Q1339.27 723.655 1335.79 726.757 Q1332.32 729.836 1326 729.836 Q1323.83 729.836 1321.56 729.465 Q1319.31 729.095 1316.91 728.354 L1316.91 723.655 Q1318.99 724.79 1321.21 725.345 Q1323.43 725.901 1325.91 725.901 Q1329.92 725.901 1332.25 723.794 Q1334.59 721.688 1334.59 718.077 Q1334.59 714.465 1332.25 712.359 Q1329.92 710.253 1325.91 710.253 Q1324.04 710.253 1322.16 710.669 Q1320.31 711.086 1318.36 711.966 L1318.36 694.604 Z\" fill=\"#000000\" fill-rule=\"evenodd\" fill-opacity=\"1\" /><path clip-path=\"url(#clip480)\" d=\"M1272.9 495.225 L1280.54 495.225 L1280.54 468.86 L1272.23 470.526 L1272.23 466.267 L1280.49 464.6 L1285.17 464.6 L1285.17 495.225 L1292.81 495.225 L1292.81 499.16 L1272.9 499.16 L1272.9 495.225 Z\" fill=\"#000000\" fill-rule=\"evenodd\" fill-opacity=\"1\" /><path clip-path=\"url(#clip480)\" d=\"M1302.25 493.281 L1307.14 493.281 L1307.14 499.16 L1302.25 499.16 L1302.25 493.281 Z\" fill=\"#000000\" fill-rule=\"evenodd\" fill-opacity=\"1\" /><path clip-path=\"url(#clip480)\" d=\"M1327.32 467.679 Q1323.71 467.679 1321.88 471.244 Q1320.08 474.785 1320.08 481.915 Q1320.08 489.022 1321.88 492.586 Q1323.71 496.128 1327.32 496.128 Q1330.96 496.128 1332.76 492.586 Q1334.59 489.022 1334.59 481.915 Q1334.59 474.785 1332.76 471.244 Q1330.96 467.679 1327.32 467.679 M1327.32 463.975 Q1333.13 463.975 1336.19 468.582 Q1339.27 473.165 1339.27 481.915 Q1339.27 490.642 1336.19 495.248 Q1333.13 499.832 1327.32 499.832 Q1321.51 499.832 1318.43 495.248 Q1315.38 490.642 1315.38 481.915 Q1315.38 473.165 1318.43 468.582 Q1321.51 463.975 1327.32 463.975 Z\" fill=\"#000000\" fill-rule=\"evenodd\" fill-opacity=\"1\" /><path clip-path=\"url(#clip480)\" d=\"M1273.9 265.221 L1281.54 265.221 L1281.54 238.855 L1273.23 240.522 L1273.23 236.263 L1281.49 234.596 L1286.17 234.596 L1286.17 265.221 L1293.8 265.221 L1293.8 269.156 L1273.9 269.156 L1273.9 265.221 Z\" fill=\"#000000\" fill-rule=\"evenodd\" fill-opacity=\"1\" /><path clip-path=\"url(#clip480)\" d=\"M1303.25 263.277 L1308.13 263.277 L1308.13 269.156 L1303.25 269.156 L1303.25 263.277 Z\" fill=\"#000000\" fill-rule=\"evenodd\" fill-opacity=\"1\" /><path clip-path=\"url(#clip480)\" d=\"M1318.36 234.596 L1336.72 234.596 L1336.72 238.531 L1322.65 238.531 L1322.65 247.004 Q1323.67 246.656 1324.68 246.494 Q1325.7 246.309 1326.72 246.309 Q1332.51 246.309 1335.89 249.48 Q1339.27 252.652 1339.27 258.068 Q1339.27 263.647 1335.79 266.749 Q1332.32 269.827 1326 269.827 Q1323.83 269.827 1321.56 269.457 Q1319.31 269.087 1316.91 268.346 L1316.91 263.647 Q1318.99 264.781 1321.21 265.337 Q1323.43 265.892 1325.91 265.892 Q1329.92 265.892 1332.25 263.786 Q1334.59 261.679 1334.59 258.068 Q1334.59 254.457 1332.25 252.351 Q1329.92 250.244 1325.91 250.244 Q1324.04 250.244 1322.16 250.661 Q1320.31 251.078 1318.36 251.957 L1318.36 234.596 Z\" fill=\"#000000\" fill-rule=\"evenodd\" fill-opacity=\"1\" /><circle clip-path=\"url(#clip484)\" cx=\"2289.77\" cy=\"800.909\" r=\"14.4\" fill=\"#009af9\" fill-rule=\"evenodd\" fill-opacity=\"1\" stroke=\"#000000\" stroke-opacity=\"1\" stroke-width=\"3.2\"/>\n<circle clip-path=\"url(#clip484)\" cx=\"1621.3\" cy=\"886.222\" r=\"14.4\" fill=\"#009af9\" fill-rule=\"evenodd\" fill-opacity=\"1\" stroke=\"#000000\" stroke-opacity=\"1\" stroke-width=\"3.2\"/>\n<circle clip-path=\"url(#clip484)\" cx=\"1825.1\" cy=\"1445.72\" r=\"14.4\" fill=\"#009af9\" fill-rule=\"evenodd\" fill-opacity=\"1\" stroke=\"#000000\" stroke-opacity=\"1\" stroke-width=\"3.2\"/>\n<circle clip-path=\"url(#clip484)\" cx=\"1889.56\" cy=\"1396.59\" r=\"14.4\" fill=\"#009af9\" fill-rule=\"evenodd\" fill-opacity=\"1\" stroke=\"#000000\" stroke-opacity=\"1\" stroke-width=\"3.2\"/>\n<circle clip-path=\"url(#clip484)\" cx=\"1544.7\" cy=\"930.657\" r=\"14.4\" fill=\"#009af9\" fill-rule=\"evenodd\" fill-opacity=\"1\" stroke=\"#000000\" stroke-opacity=\"1\" stroke-width=\"3.2\"/>\n<circle clip-path=\"url(#clip484)\" cx=\"1949.32\" cy=\"1397.89\" r=\"14.4\" fill=\"#009af9\" fill-rule=\"evenodd\" fill-opacity=\"1\" stroke=\"#000000\" stroke-opacity=\"1\" stroke-width=\"3.2\"/>\n<circle clip-path=\"url(#clip484)\" cx=\"2023.14\" cy=\"1073.97\" r=\"14.4\" fill=\"#009af9\" fill-rule=\"evenodd\" fill-opacity=\"1\" stroke=\"#000000\" stroke-opacity=\"1\" stroke-width=\"3.2\"/>\n<circle clip-path=\"url(#clip484)\" cx=\"1858.41\" cy=\"1395.55\" r=\"14.4\" fill=\"#009af9\" fill-rule=\"evenodd\" fill-opacity=\"1\" stroke=\"#000000\" stroke-opacity=\"1\" stroke-width=\"3.2\"/>\n<circle clip-path=\"url(#clip484)\" cx=\"1907.56\" cy=\"784.713\" r=\"14.4\" fill=\"#009af9\" fill-rule=\"evenodd\" fill-opacity=\"1\" stroke=\"#000000\" stroke-opacity=\"1\" stroke-width=\"3.2\"/>\n<circle clip-path=\"url(#clip484)\" cx=\"1739.35\" cy=\"1000.64\" r=\"14.4\" fill=\"#009af9\" fill-rule=\"evenodd\" fill-opacity=\"1\" stroke=\"#000000\" stroke-opacity=\"1\" stroke-width=\"3.2\"/>\n<circle clip-path=\"url(#clip484)\" cx=\"1817.86\" cy=\"992.666\" r=\"14.4\" fill=\"#009af9\" fill-rule=\"evenodd\" fill-opacity=\"1\" stroke=\"#000000\" stroke-opacity=\"1\" stroke-width=\"3.2\"/>\n<circle clip-path=\"url(#clip484)\" cx=\"2009\" cy=\"87.9763\" r=\"14.4\" fill=\"#009af9\" fill-rule=\"evenodd\" fill-opacity=\"1\" stroke=\"#000000\" stroke-opacity=\"1\" stroke-width=\"3.2\"/>\n<circle clip-path=\"url(#clip484)\" cx=\"1913.74\" cy=\"1336.59\" r=\"14.4\" fill=\"#009af9\" fill-rule=\"evenodd\" fill-opacity=\"1\" stroke=\"#000000\" stroke-opacity=\"1\" stroke-width=\"3.2\"/>\n<circle clip-path=\"url(#clip484)\" cx=\"2091.65\" cy=\"717.425\" r=\"14.4\" fill=\"#009af9\" fill-rule=\"evenodd\" fill-opacity=\"1\" stroke=\"#000000\" stroke-opacity=\"1\" stroke-width=\"3.2\"/>\n<circle clip-path=\"url(#clip484)\" cx=\"1657.11\" cy=\"824.599\" r=\"14.4\" fill=\"#009af9\" fill-rule=\"evenodd\" fill-opacity=\"1\" stroke=\"#000000\" stroke-opacity=\"1\" stroke-width=\"3.2\"/>\n<circle clip-path=\"url(#clip484)\" cx=\"2304.29\" cy=\"549.185\" r=\"14.4\" fill=\"#009af9\" fill-rule=\"evenodd\" fill-opacity=\"1\" stroke=\"#000000\" stroke-opacity=\"1\" stroke-width=\"3.2\"/>\n<circle clip-path=\"url(#clip484)\" cx=\"2182.27\" cy=\"1262.15\" r=\"14.4\" fill=\"#009af9\" fill-rule=\"evenodd\" fill-opacity=\"1\" stroke=\"#000000\" stroke-opacity=\"1\" stroke-width=\"3.2\"/>\n<circle clip-path=\"url(#clip484)\" cx=\"2245\" cy=\"972.288\" r=\"14.4\" fill=\"#009af9\" fill-rule=\"evenodd\" fill-opacity=\"1\" stroke=\"#000000\" stroke-opacity=\"1\" stroke-width=\"3.2\"/>\n<circle clip-path=\"url(#clip484)\" cx=\"2033.4\" cy=\"1186.12\" r=\"14.4\" fill=\"#009af9\" fill-rule=\"evenodd\" fill-opacity=\"1\" stroke=\"#000000\" stroke-opacity=\"1\" stroke-width=\"3.2\"/>\n<circle clip-path=\"url(#clip484)\" cx=\"1709.15\" cy=\"1345.07\" r=\"14.4\" fill=\"#009af9\" fill-rule=\"evenodd\" fill-opacity=\"1\" stroke=\"#000000\" stroke-opacity=\"1\" stroke-width=\"3.2\"/>\n<circle clip-path=\"url(#clip484)\" cx=\"1434.85\" cy=\"400.271\" r=\"14.4\" fill=\"#009af9\" fill-rule=\"evenodd\" fill-opacity=\"1\" stroke=\"#000000\" stroke-opacity=\"1\" stroke-width=\"3.2\"/>\n<circle clip-path=\"url(#clip484)\" cx=\"2317.36\" cy=\"815.541\" r=\"14.4\" fill=\"#009af9\" fill-rule=\"evenodd\" fill-opacity=\"1\" stroke=\"#000000\" stroke-opacity=\"1\" stroke-width=\"3.2\"/>\n<circle clip-path=\"url(#clip484)\" cx=\"1847.46\" cy=\"856.127\" r=\"14.4\" fill=\"#009af9\" fill-rule=\"evenodd\" fill-opacity=\"1\" stroke=\"#000000\" stroke-opacity=\"1\" stroke-width=\"3.2\"/>\n<circle clip-path=\"url(#clip484)\" cx=\"2204.21\" cy=\"803.381\" r=\"14.4\" fill=\"#009af9\" fill-rule=\"evenodd\" fill-opacity=\"1\" stroke=\"#000000\" stroke-opacity=\"1\" stroke-width=\"3.2\"/>\n<circle clip-path=\"url(#clip484)\" cx=\"1582.14\" cy=\"866.861\" r=\"14.4\" fill=\"#009af9\" fill-rule=\"evenodd\" fill-opacity=\"1\" stroke=\"#000000\" stroke-opacity=\"1\" stroke-width=\"3.2\"/>\n<circle clip-path=\"url(#clip484)\" cx=\"2165.17\" cy=\"1096.76\" r=\"14.4\" fill=\"#009af9\" fill-rule=\"evenodd\" fill-opacity=\"1\" stroke=\"#000000\" stroke-opacity=\"1\" stroke-width=\"3.2\"/>\n<circle clip-path=\"url(#clip484)\" cx=\"1908.74\" cy=\"924.797\" r=\"14.4\" fill=\"#009af9\" fill-rule=\"evenodd\" fill-opacity=\"1\" stroke=\"#000000\" stroke-opacity=\"1\" stroke-width=\"3.2\"/>\n<circle clip-path=\"url(#clip484)\" cx=\"2088.47\" cy=\"810.031\" r=\"14.4\" fill=\"#009af9\" fill-rule=\"evenodd\" fill-opacity=\"1\" stroke=\"#000000\" stroke-opacity=\"1\" stroke-width=\"3.2\"/>\n<circle clip-path=\"url(#clip484)\" cx=\"1911.23\" cy=\"1286.14\" r=\"14.4\" fill=\"#009af9\" fill-rule=\"evenodd\" fill-opacity=\"1\" stroke=\"#000000\" stroke-opacity=\"1\" stroke-width=\"3.2\"/>\n<circle clip-path=\"url(#clip484)\" cx=\"1797.57\" cy=\"1102.76\" r=\"14.4\" fill=\"#009af9\" fill-rule=\"evenodd\" fill-opacity=\"1\" stroke=\"#000000\" stroke-opacity=\"1\" stroke-width=\"3.2\"/>\n<circle clip-path=\"url(#clip484)\" cx=\"1427.4\" cy=\"690.126\" r=\"14.4\" fill=\"#009af9\" fill-rule=\"evenodd\" fill-opacity=\"1\" stroke=\"#000000\" stroke-opacity=\"1\" stroke-width=\"3.2\"/>\n<circle clip-path=\"url(#clip484)\" cx=\"1956.11\" cy=\"967.936\" r=\"14.4\" fill=\"#009af9\" fill-rule=\"evenodd\" fill-opacity=\"1\" stroke=\"#000000\" stroke-opacity=\"1\" stroke-width=\"3.2\"/>\n<circle clip-path=\"url(#clip484)\" cx=\"1583.4\" cy=\"814.242\" r=\"14.4\" fill=\"#009af9\" fill-rule=\"evenodd\" fill-opacity=\"1\" stroke=\"#000000\" stroke-opacity=\"1\" stroke-width=\"3.2\"/>\n<circle clip-path=\"url(#clip484)\" cx=\"1543.39\" cy=\"1206.1\" r=\"14.4\" fill=\"#009af9\" fill-rule=\"evenodd\" fill-opacity=\"1\" stroke=\"#000000\" stroke-opacity=\"1\" stroke-width=\"3.2\"/>\n<circle clip-path=\"url(#clip484)\" cx=\"2071.01\" cy=\"1005.17\" r=\"14.4\" fill=\"#009af9\" fill-rule=\"evenodd\" fill-opacity=\"1\" stroke=\"#000000\" stroke-opacity=\"1\" stroke-width=\"3.2\"/>\n<circle clip-path=\"url(#clip484)\" cx=\"2117.81\" cy=\"643.342\" r=\"14.4\" fill=\"#009af9\" fill-rule=\"evenodd\" fill-opacity=\"1\" stroke=\"#000000\" stroke-opacity=\"1\" stroke-width=\"3.2\"/>\n<circle clip-path=\"url(#clip484)\" cx=\"1889.64\" cy=\"1304.48\" r=\"14.4\" fill=\"#009af9\" fill-rule=\"evenodd\" fill-opacity=\"1\" stroke=\"#000000\" stroke-opacity=\"1\" stroke-width=\"3.2\"/>\n<circle clip-path=\"url(#clip484)\" cx=\"1581.45\" cy=\"1015.33\" r=\"14.4\" fill=\"#009af9\" fill-rule=\"evenodd\" fill-opacity=\"1\" stroke=\"#000000\" stroke-opacity=\"1\" stroke-width=\"3.2\"/>\n<circle clip-path=\"url(#clip484)\" cx=\"1905.92\" cy=\"684.934\" r=\"14.4\" fill=\"#009af9\" fill-rule=\"evenodd\" fill-opacity=\"1\" stroke=\"#000000\" stroke-opacity=\"1\" stroke-width=\"3.2\"/>\n<circle clip-path=\"url(#clip484)\" cx=\"1960.97\" cy=\"1095.73\" r=\"14.4\" fill=\"#009af9\" fill-rule=\"evenodd\" fill-opacity=\"1\" stroke=\"#000000\" stroke-opacity=\"1\" stroke-width=\"3.2\"/>\n<circle clip-path=\"url(#clip484)\" cx=\"1517.05\" cy=\"1220.6\" r=\"14.4\" fill=\"#009af9\" fill-rule=\"evenodd\" fill-opacity=\"1\" stroke=\"#000000\" stroke-opacity=\"1\" stroke-width=\"3.2\"/>\n<circle clip-path=\"url(#clip484)\" cx=\"1664.62\" cy=\"1245.37\" r=\"14.4\" fill=\"#009af9\" fill-rule=\"evenodd\" fill-opacity=\"1\" stroke=\"#000000\" stroke-opacity=\"1\" stroke-width=\"3.2\"/>\n<circle clip-path=\"url(#clip484)\" cx=\"1504.16\" cy=\"1191.52\" r=\"14.4\" fill=\"#009af9\" fill-rule=\"evenodd\" fill-opacity=\"1\" stroke=\"#000000\" stroke-opacity=\"1\" stroke-width=\"3.2\"/>\n<circle clip-path=\"url(#clip484)\" cx=\"1779.19\" cy=\"1399.23\" r=\"14.4\" fill=\"#009af9\" fill-rule=\"evenodd\" fill-opacity=\"1\" stroke=\"#000000\" stroke-opacity=\"1\" stroke-width=\"3.2\"/>\n<circle clip-path=\"url(#clip484)\" cx=\"2003.23\" cy=\"1179.49\" r=\"14.4\" fill=\"#009af9\" fill-rule=\"evenodd\" fill-opacity=\"1\" stroke=\"#000000\" stroke-opacity=\"1\" stroke-width=\"3.2\"/>\n<circle clip-path=\"url(#clip484)\" cx=\"2288.83\" cy=\"747.774\" r=\"14.4\" fill=\"#009af9\" fill-rule=\"evenodd\" fill-opacity=\"1\" stroke=\"#000000\" stroke-opacity=\"1\" stroke-width=\"3.2\"/>\n<circle clip-path=\"url(#clip484)\" cx=\"2325.09\" cy=\"180.377\" r=\"14.4\" fill=\"#009af9\" fill-rule=\"evenodd\" fill-opacity=\"1\" stroke=\"#000000\" stroke-opacity=\"1\" stroke-width=\"3.2\"/>\n<circle clip-path=\"url(#clip484)\" cx=\"1808.14\" cy=\"775.409\" r=\"14.4\" fill=\"#009af9\" fill-rule=\"evenodd\" fill-opacity=\"1\" stroke=\"#000000\" stroke-opacity=\"1\" stroke-width=\"3.2\"/>\n<circle clip-path=\"url(#clip484)\" cx=\"1553.59\" cy=\"983.138\" r=\"14.4\" fill=\"#009af9\" fill-rule=\"evenodd\" fill-opacity=\"1\" stroke=\"#000000\" stroke-opacity=\"1\" stroke-width=\"3.2\"/>\n<circle clip-path=\"url(#clip484)\" cx=\"1859.52\" cy=\"885.847\" r=\"14.4\" fill=\"#009af9\" fill-rule=\"evenodd\" fill-opacity=\"1\" stroke=\"#000000\" stroke-opacity=\"1\" stroke-width=\"3.2\"/>\n<circle clip-path=\"url(#clip484)\" cx=\"1557.08\" cy=\"816.8\" r=\"14.4\" fill=\"#009af9\" fill-rule=\"evenodd\" fill-opacity=\"1\" stroke=\"#000000\" stroke-opacity=\"1\" stroke-width=\"3.2\"/>\n<circle clip-path=\"url(#clip484)\" cx=\"1539.21\" cy=\"862.385\" r=\"14.4\" fill=\"#009af9\" fill-rule=\"evenodd\" fill-opacity=\"1\" stroke=\"#000000\" stroke-opacity=\"1\" stroke-width=\"3.2\"/>\n<circle clip-path=\"url(#clip484)\" cx=\"2075.28\" cy=\"1344.22\" r=\"14.4\" fill=\"#009af9\" fill-rule=\"evenodd\" fill-opacity=\"1\" stroke=\"#000000\" stroke-opacity=\"1\" stroke-width=\"3.2\"/>\n<circle clip-path=\"url(#clip484)\" cx=\"1785.33\" cy=\"868.712\" r=\"14.4\" fill=\"#009af9\" fill-rule=\"evenodd\" fill-opacity=\"1\" stroke=\"#000000\" stroke-opacity=\"1\" stroke-width=\"3.2\"/>\n<circle clip-path=\"url(#clip484)\" cx=\"1822.66\" cy=\"740.857\" r=\"14.4\" fill=\"#009af9\" fill-rule=\"evenodd\" fill-opacity=\"1\" stroke=\"#000000\" stroke-opacity=\"1\" stroke-width=\"3.2\"/>\n<circle clip-path=\"url(#clip484)\" cx=\"1688.03\" cy=\"718.511\" r=\"14.4\" fill=\"#009af9\" fill-rule=\"evenodd\" fill-opacity=\"1\" stroke=\"#000000\" stroke-opacity=\"1\" stroke-width=\"3.2\"/>\n<circle clip-path=\"url(#clip484)\" cx=\"1955.99\" cy=\"1425.04\" r=\"14.4\" fill=\"#009af9\" fill-rule=\"evenodd\" fill-opacity=\"1\" stroke=\"#000000\" stroke-opacity=\"1\" stroke-width=\"3.2\"/>\n<circle clip-path=\"url(#clip484)\" cx=\"1402.93\" cy=\"620.966\" r=\"14.4\" fill=\"#009af9\" fill-rule=\"evenodd\" fill-opacity=\"1\" stroke=\"#000000\" stroke-opacity=\"1\" stroke-width=\"3.2\"/>\n<circle clip-path=\"url(#clip484)\" cx=\"1674.28\" cy=\"644.922\" r=\"14.4\" fill=\"#009af9\" fill-rule=\"evenodd\" fill-opacity=\"1\" stroke=\"#000000\" stroke-opacity=\"1\" stroke-width=\"3.2\"/>\n<circle clip-path=\"url(#clip484)\" cx=\"1954.85\" cy=\"727.571\" r=\"14.4\" fill=\"#009af9\" fill-rule=\"evenodd\" fill-opacity=\"1\" stroke=\"#000000\" stroke-opacity=\"1\" stroke-width=\"3.2\"/>\n<circle clip-path=\"url(#clip484)\" cx=\"2106.44\" cy=\"1070.41\" r=\"14.4\" fill=\"#009af9\" fill-rule=\"evenodd\" fill-opacity=\"1\" stroke=\"#000000\" stroke-opacity=\"1\" stroke-width=\"3.2\"/>\n<circle clip-path=\"url(#clip484)\" cx=\"1772.59\" cy=\"818.539\" r=\"14.4\" fill=\"#009af9\" fill-rule=\"evenodd\" fill-opacity=\"1\" stroke=\"#000000\" stroke-opacity=\"1\" stroke-width=\"3.2\"/>\n<circle clip-path=\"url(#clip484)\" cx=\"1942.58\" cy=\"1293.38\" r=\"14.4\" fill=\"#009af9\" fill-rule=\"evenodd\" fill-opacity=\"1\" stroke=\"#000000\" stroke-opacity=\"1\" stroke-width=\"3.2\"/>\n<circle clip-path=\"url(#clip484)\" cx=\"1652.26\" cy=\"1018.77\" r=\"14.4\" fill=\"#009af9\" fill-rule=\"evenodd\" fill-opacity=\"1\" stroke=\"#000000\" stroke-opacity=\"1\" stroke-width=\"3.2\"/>\n<circle clip-path=\"url(#clip484)\" cx=\"2001.53\" cy=\"788.1\" r=\"14.4\" fill=\"#009af9\" fill-rule=\"evenodd\" fill-opacity=\"1\" stroke=\"#000000\" stroke-opacity=\"1\" stroke-width=\"3.2\"/>\n<circle clip-path=\"url(#clip484)\" cx=\"2199.9\" cy=\"1264.52\" r=\"14.4\" fill=\"#009af9\" fill-rule=\"evenodd\" fill-opacity=\"1\" stroke=\"#000000\" stroke-opacity=\"1\" stroke-width=\"3.2\"/>\n<circle clip-path=\"url(#clip484)\" cx=\"1596.43\" cy=\"667.158\" r=\"14.4\" fill=\"#009af9\" fill-rule=\"evenodd\" fill-opacity=\"1\" stroke=\"#000000\" stroke-opacity=\"1\" stroke-width=\"3.2\"/>\n<circle clip-path=\"url(#clip484)\" cx=\"2046.6\" cy=\"1194.54\" r=\"14.4\" fill=\"#009af9\" fill-rule=\"evenodd\" fill-opacity=\"1\" stroke=\"#000000\" stroke-opacity=\"1\" stroke-width=\"3.2\"/>\n<circle clip-path=\"url(#clip484)\" cx=\"1834.39\" cy=\"741.231\" r=\"14.4\" fill=\"#009af9\" fill-rule=\"evenodd\" fill-opacity=\"1\" stroke=\"#000000\" stroke-opacity=\"1\" stroke-width=\"3.2\"/>\n<circle clip-path=\"url(#clip484)\" cx=\"1999.97\" cy=\"1069.18\" r=\"14.4\" fill=\"#009af9\" fill-rule=\"evenodd\" fill-opacity=\"1\" stroke=\"#000000\" stroke-opacity=\"1\" stroke-width=\"3.2\"/>\n<circle clip-path=\"url(#clip484)\" cx=\"2005.34\" cy=\"624.05\" r=\"14.4\" fill=\"#009af9\" fill-rule=\"evenodd\" fill-opacity=\"1\" stroke=\"#000000\" stroke-opacity=\"1\" stroke-width=\"3.2\"/>\n<circle clip-path=\"url(#clip484)\" cx=\"1950.9\" cy=\"1360.28\" r=\"14.4\" fill=\"#009af9\" fill-rule=\"evenodd\" fill-opacity=\"1\" stroke=\"#000000\" stroke-opacity=\"1\" stroke-width=\"3.2\"/>\n<circle clip-path=\"url(#clip484)\" cx=\"1431.65\" cy=\"734.908\" r=\"14.4\" fill=\"#009af9\" fill-rule=\"evenodd\" fill-opacity=\"1\" stroke=\"#000000\" stroke-opacity=\"1\" stroke-width=\"3.2\"/>\n<circle clip-path=\"url(#clip484)\" cx=\"1881.86\" cy=\"1295.59\" r=\"14.4\" fill=\"#009af9\" fill-rule=\"evenodd\" fill-opacity=\"1\" stroke=\"#000000\" stroke-opacity=\"1\" stroke-width=\"3.2\"/>\n<circle clip-path=\"url(#clip484)\" cx=\"1947.45\" cy=\"1000.39\" r=\"14.4\" fill=\"#009af9\" fill-rule=\"evenodd\" fill-opacity=\"1\" stroke=\"#000000\" stroke-opacity=\"1\" stroke-width=\"3.2\"/>\n<circle clip-path=\"url(#clip484)\" cx=\"1564.53\" cy=\"1321.07\" r=\"14.4\" fill=\"#009af9\" fill-rule=\"evenodd\" fill-opacity=\"1\" stroke=\"#000000\" stroke-opacity=\"1\" stroke-width=\"3.2\"/>\n<circle clip-path=\"url(#clip484)\" cx=\"1757.46\" cy=\"867.422\" r=\"14.4\" fill=\"#009af9\" fill-rule=\"evenodd\" fill-opacity=\"1\" stroke=\"#000000\" stroke-opacity=\"1\" stroke-width=\"3.2\"/>\n<circle clip-path=\"url(#clip484)\" cx=\"1792.77\" cy=\"882.79\" r=\"14.4\" fill=\"#009af9\" fill-rule=\"evenodd\" fill-opacity=\"1\" stroke=\"#000000\" stroke-opacity=\"1\" stroke-width=\"3.2\"/>\n<circle clip-path=\"url(#clip484)\" cx=\"1842.4\" cy=\"965.893\" r=\"14.4\" fill=\"#009af9\" fill-rule=\"evenodd\" fill-opacity=\"1\" stroke=\"#000000\" stroke-opacity=\"1\" stroke-width=\"3.2\"/>\n<circle clip-path=\"url(#clip484)\" cx=\"1838.53\" cy=\"1173.17\" r=\"14.4\" fill=\"#009af9\" fill-rule=\"evenodd\" fill-opacity=\"1\" stroke=\"#000000\" stroke-opacity=\"1\" stroke-width=\"3.2\"/>\n<circle clip-path=\"url(#clip484)\" cx=\"2250.5\" cy=\"749.586\" r=\"14.4\" fill=\"#009af9\" fill-rule=\"evenodd\" fill-opacity=\"1\" stroke=\"#000000\" stroke-opacity=\"1\" stroke-width=\"3.2\"/>\n<circle clip-path=\"url(#clip484)\" cx=\"1921.24\" cy=\"1181.66\" r=\"14.4\" fill=\"#009af9\" fill-rule=\"evenodd\" fill-opacity=\"1\" stroke=\"#000000\" stroke-opacity=\"1\" stroke-width=\"3.2\"/>\n<circle clip-path=\"url(#clip484)\" cx=\"1513.1\" cy=\"972.379\" r=\"14.4\" fill=\"#009af9\" fill-rule=\"evenodd\" fill-opacity=\"1\" stroke=\"#000000\" stroke-opacity=\"1\" stroke-width=\"3.2\"/>\n<circle clip-path=\"url(#clip484)\" cx=\"2066.9\" cy=\"1206.15\" r=\"14.4\" fill=\"#009af9\" fill-rule=\"evenodd\" fill-opacity=\"1\" stroke=\"#000000\" stroke-opacity=\"1\" stroke-width=\"3.2\"/>\n<circle clip-path=\"url(#clip484)\" cx=\"2000.33\" cy=\"1120.33\" r=\"14.4\" fill=\"#009af9\" fill-rule=\"evenodd\" fill-opacity=\"1\" stroke=\"#000000\" stroke-opacity=\"1\" stroke-width=\"3.2\"/>\n<circle clip-path=\"url(#clip484)\" cx=\"1753.82\" cy=\"872.225\" r=\"14.4\" fill=\"#009af9\" fill-rule=\"evenodd\" fill-opacity=\"1\" stroke=\"#000000\" stroke-opacity=\"1\" stroke-width=\"3.2\"/>\n<circle clip-path=\"url(#clip484)\" cx=\"2152.71\" cy=\"332.963\" r=\"14.4\" fill=\"#009af9\" fill-rule=\"evenodd\" fill-opacity=\"1\" stroke=\"#000000\" stroke-opacity=\"1\" stroke-width=\"3.2\"/>\n<path clip-path=\"url(#clip480)\" d=\"\nM2105.45 198.898 L2320.17 198.898 L2320.17 95.2176 L2105.45 95.2176  Z\n  \" fill=\"#ffffff\" fill-rule=\"evenodd\" fill-opacity=\"1\"/>\n<polyline clip-path=\"url(#clip480)\" style=\"stroke:#000000; stroke-linecap:round; stroke-linejoin:round; stroke-width:4; stroke-opacity:1; fill:none\" points=\"\n  2105.45,198.898 2320.17,198.898 2320.17,95.2176 2105.45,95.2176 2105.45,198.898 \n  \"/>\n<circle clip-path=\"url(#clip480)\" cx=\"2148.9\" cy=\"147.058\" r=\"23.04\" fill=\"#009af9\" fill-rule=\"evenodd\" fill-opacity=\"1\" stroke=\"#000000\" stroke-opacity=\"1\" stroke-width=\"5.12\"/>\n<path clip-path=\"url(#clip480)\" d=\"M2192.34 129.778 L2199.31 129.778 L2208.13 153.296 L2216.99 129.778 L2223.96 129.778 L2223.96 164.338 L2219.4 164.338 L2219.4 133.99 L2210.49 157.694 L2205.79 157.694 L2196.88 133.99 L2196.88 164.338 L2192.34 164.338 L2192.34 129.778 Z\" fill=\"#000000\" fill-rule=\"evenodd\" fill-opacity=\"1\" /><path clip-path=\"url(#clip480)\" d=\"M2233.06 138.412 L2237.32 138.412 L2237.32 164.338 L2233.06 164.338 L2233.06 138.412 M2233.06 128.319 L2237.32 128.319 L2237.32 133.713 L2233.06 133.713 L2233.06 128.319 Z\" fill=\"#000000\" fill-rule=\"evenodd\" fill-opacity=\"1\" /><path clip-path=\"url(#clip480)\" d=\"M2267.78 148.689 L2267.78 164.338 L2263.52 164.338 L2263.52 148.828 Q2263.52 145.148 2262.09 143.319 Q2260.65 141.49 2257.78 141.49 Q2254.33 141.49 2252.34 143.69 Q2250.35 145.889 2250.35 149.685 L2250.35 164.338 L2246.07 164.338 L2246.07 138.412 L2250.35 138.412 L2250.35 142.44 Q2251.88 140.102 2253.94 138.944 Q2256.02 137.787 2258.73 137.787 Q2263.2 137.787 2265.49 140.565 Q2267.78 143.319 2267.78 148.689 Z\" fill=\"#000000\" fill-rule=\"evenodd\" fill-opacity=\"1\" /><path clip-path=\"url(#clip480)\" d=\"M2298.45 150.31 L2298.45 152.393 L2278.87 152.393 Q2279.15 156.791 2281.51 159.106 Q2283.89 161.398 2288.13 161.398 Q2290.58 161.398 2292.87 160.796 Q2295.19 160.194 2297.46 158.99 L2297.46 163.018 Q2295.16 163.99 2292.76 164.5 Q2290.35 165.009 2287.87 165.009 Q2281.67 165.009 2278.03 161.398 Q2274.42 157.787 2274.42 151.629 Q2274.42 145.264 2277.85 141.537 Q2281.3 137.787 2287.13 137.787 Q2292.36 137.787 2295.4 141.166 Q2298.45 144.523 2298.45 150.31 M2294.19 149.06 Q2294.15 145.565 2292.22 143.481 Q2290.33 141.398 2287.18 141.398 Q2283.61 141.398 2281.46 143.412 Q2279.33 145.426 2279.01 149.083 L2294.19 149.06 Z\" fill=\"#000000\" fill-rule=\"evenodd\" fill-opacity=\"1\" /></svg>\n"
     },
     "execution_count": 209,
     "metadata": {},
     "output_type": "execute_result"
    }
   ],
   "source": [
    "#draw_results(pca_train, train_output, [:green,:red], [\"Rock\", \"Mine\"])\n",
    "\n",
    "x = pca_train\n",
    "y = train_output\n",
    "colors = [:green,:red]\n",
    "target_names = [\"Rock\", \"Mine\"]\n",
    "\n",
    "num_classes = length(unique(colors))\n",
    "println(\"x_shape=\", size(x))\n",
    "println(\"y_shape=\", size(y))\n",
    "if !isnothing(target_names)\n",
    "    @assert num_classes == length(target_names)\n",
    "    label = target_names\n",
    "else\n",
    "    label =  [string(i) for i in range(1,num_classes)]\n",
    "\n",
    "end\n",
    "fig = plot()\n",
    "for i in range(1, num_classes)\n",
    "    fig = scatter!(fig, scatter(x[y[:], 1], x[y[:], 2], makercolor=colors[i], label=label[i]))\n",
    "end\n",
    "\n",
    "fig"
   ]
  },
  {
   "cell_type": "markdown",
   "id": "bf5c8fbf",
   "metadata": {},
   "source": [
    "A reduction to 2 or 3 dimensions can be helpful when trying to make a first analysis to, for example, determine whether a linear classifier can give good results or whether there is a pattern in the distribution of the data. However, it is more usual to try to reduce the dimensionality while keeping as much variability as possible. To do this, the scikit-learn function allows you to pass a value between 0 and 1, which determines the percentage of variability that should be maintained. A typical value is 0.95 as it maintains almost all the relevant information and eliminates most of the noise. For example the same examble as before but making a reduction of 95% should be:"
   ]
  },
  {
   "cell_type": "code",
   "execution_count": 210,
   "id": "2eb8a358",
   "metadata": {},
   "outputs": [
    {
     "name": "stdout",
     "output_type": "stream",
     "text": [
      "Train Patterns (187, 60) -> (187, 27)Train Patterns (21, 60) -> (21, 27)"
     ]
    }
   ],
   "source": [
    "pca = PCA(0.95)\n",
    "fit!(pca, train_input)\n",
    "\n",
    "#Once it is ajusted it can be used to transform the data\n",
    "pca_train = pca.transform(train_input)\n",
    "pca_test = pca.transform(test_input)\n",
    "\n",
    "print(\"Train Patterns \", size(train_input), \" -> \", size(pca_train))\n",
    "print(\"Train Patterns \", size(test_input), \" -> \", size(pca_test))"
   ]
  },
  {
   "cell_type": "markdown",
   "id": "a9945296",
   "metadata": {},
   "source": [
    "Apart from being able to represent the information, reducing the dimensionality is often associated with an acceleration of training. This is because the computational complexity and computational effort of most learning algorithms is conditioned by the number of variables. In addition, there is also often an improvement in the models when some of the noise is removed."
   ]
  },
  {
   "cell_type": "code",
   "execution_count": 211,
   "id": "06e7c4f5",
   "metadata": {},
   "outputs": [
    {
     "data": {
      "text/latex": [
       "The analogue of IPython's \\texttt{\\%time statement} (also \\texttt{\\%timeit}) in Julia is \\texttt{@time statement}.  The analogue of \\texttt{\\%\\%time ...code...} is\n",
       "\n",
       "\\begin{verbatim}\n",
       "@time begin\n",
       "    ...code...\n",
       "end\n",
       "\\end{verbatim}\n",
       "Note, however, that you should put all performance-critical code into a function, avoiding global variables, before doing performance measurements in Julia; see the \\href{http://docs.julialang.org/en/latest/manual/performance-tips/}{performance tips in the Julia manual}.\n",
       "\n",
       "The \\texttt{@time} macro prints the timing results, and returns the value of evaluating the expression.  To instead return the time (in seconds), use \\texttt{@elapsed statement}.\n",
       "\n",
       "For more extensive benchmarking tools, including the ability to collect statistics from multiple runs, see the \\href{https://github.com/JuliaCI/BenchmarkTools.jl}{BenchmarkTools package}.\n",
       "\n"
      ],
      "text/markdown": [
       "The analogue of IPython's `%time statement` (also `%timeit`) in Julia is `@time statement`.  The analogue of `%%time ...code...` is\n",
       "\n",
       "```\n",
       "@time begin\n",
       "    ...code...\n",
       "end\n",
       "```\n",
       "\n",
       "Note, however, that you should put all performance-critical code into a function, avoiding global variables, before doing performance measurements in Julia; see the [performance tips in the Julia manual](http://docs.julialang.org/en/latest/manual/performance-tips/).\n",
       "\n",
       "The `@time` macro prints the timing results, and returns the value of evaluating the expression.  To instead return the time (in seconds), use `@elapsed statement`.\n",
       "\n",
       "For more extensive benchmarking tools, including the ability to collect statistics from multiple runs, see the [BenchmarkTools package](https://github.com/JuliaCI/BenchmarkTools.jl).\n"
      ],
      "text/plain": [
       "  The analogue of IPython's \u001b[36m%time statement\u001b[39m (also \u001b[36m%timeit\u001b[39m) in Julia is \u001b[36m@time\n",
       "  statement\u001b[39m. The analogue of \u001b[36m%%time ...code...\u001b[39m is\n",
       "\n",
       "\u001b[36m  @time begin\u001b[39m\n",
       "\u001b[36m      ...code...\u001b[39m\n",
       "\u001b[36m  end\u001b[39m\n",
       "\n",
       "  Note, however, that you should put all performance-critical code into a\n",
       "  function, avoiding global variables, before doing performance measurements\n",
       "  in Julia; see the performance tips in the Julia manual\n",
       "  (http://docs.julialang.org/en/latest/manual/performance-tips/).\n",
       "\n",
       "  The \u001b[36m@time\u001b[39m macro prints the timing results, and returns the value of\n",
       "  evaluating the expression. To instead return the time (in seconds), use\n",
       "  \u001b[36m@elapsed statement\u001b[39m.\n",
       "\n",
       "  For more extensive benchmarking tools, including the ability to collect\n",
       "  statistics from multiple runs, see the BenchmarkTools package\n",
       "  (https://github.com/JuliaCI/BenchmarkTools.jl)."
      ]
     },
     "metadata": {},
     "output_type": "display_data"
    }
   ],
   "source": [
    "%%timeit\n",
    "# A continuación veamos unas cuantas aproximaciones básicas y el tiempo que tardan\n",
    "@sk_import svm:SVC\n",
    "@sk_import tree:DecisionTreeClassifier\n",
    "@sk_import linear_model:LogisticRegression, SGDClassifier\n",
    "@sk_import naive_bayes:GaussianNB \n",
    "\n",
    "models = Dict( \"SVM\" => SVC(probability=true), \n",
    "         \"LR\" =>LogisticRegression(),\n",
    "         \"DT\"=> DecisionTreeClassifier(max_depth=4),\n",
    "         \"NB\"=> GaussianNB())\n",
    "base_models = ['SVM', 'LR','DT','NB']\n",
    "\n",
    "for key in keys(models)\n",
    "    model = models[key]\n",
    "    fit!(model,train_input, train_output)\n",
    "    acc = score(model,test_input, test_output)\n",
    "    println(\"$key: $(acc*100) %\")\n",
    "end"
   ]
  },
  {
   "cell_type": "markdown",
   "id": "fdf5952e",
   "metadata": {},
   "source": [
    "### Question\n",
    "Compares the results after applying PCA on the data. To do that, you have to implement the same train process as in the previous piece of code but this time using the PCA. "
   ]
  },
  {
   "cell_type": "code",
   "execution_count": null,
   "id": "1f3d0528",
   "metadata": {},
   "outputs": [],
   "source": [
    "%%timeit\n",
    "\n",
    "#TODO"
   ]
  },
  {
   "cell_type": "markdown",
   "id": "d5e7319f",
   "metadata": {},
   "source": [
    "Another important parameter within the `PCA` function indicates how the SVD matrix is calculated. The implementation available in `scikit-learn` presents different alternatives, of which two stand out:\n",
    "1. the first one extracts the eigenvectors based on the `LAPACK` implementation of another well-known package such as `scipy`.\n",
    "1. In case the dimensions of the matrix are small (less than 500x500) and the number of components to be extracted is less than 80%, it is recommended to use the implementation of the `randomized truncated SVD` algorithm presented in the articles [1, 2].\n",
    "\n",
    "Additionally, it is also worth mentioning that `scikit-learn` presents some of the most frequent variants of PCA, such as:\n",
    "* [Kernel Principal Component Analysis](https://scikit-learn.org/stable/modules/generated/sklearn.decomposition.KernelPCA.html#sklearn.decomposition.KernelPCA), this method transforms the initial space with the application of a kernel in which it is easier to subsequently apply PCA. Unlike PCA, it is not a linear transformation.\n",
    "\n",
    "* Sparse Principal Component Analysis](https://scikit-learn.org/stable/modules/generated/sklearn.decomposition.SparsePCA.html#sklearn.decomposition.SparsePCA), an implementation that first searches for a set of sparse features to reconstruct the original set by controlling the degree of diffusion and then applying PCA.\n",
    "\n",
    "* Dimensionality reduction using truncated SVD](https://scikit-learn.org/stable/modules/generated/sklearn.decomposition.TruncatedSVD.html#sklearn.decomposition.TruncatedSVD), a version that does not centre the data before the SVD calculation and can work with sparse matrices efficiently. \n",
    "\n",
    "* Incremental Principal Components Analysis (IPCA)](https://scikit-learn.org/stable/modules/generated/sklearn.decomposition.IncrementalPCA.html#sklearn.decomposition.IncrementalPCA) Batch application of PCA without scaling the data prior to SVD calculation. May be an improvement in memory usage, but due to batching may not be as accurate at times.\n",
    "\n",
    "[1] Halko, N., Martinsson, P. G., and Tropp, J. A. (2011). \"Finding structure with randomness: Probabilistic algorithms for constructing approximate matrix decompositions\". SIAM review, 53(2), 217-288](https://doi.org/10.1137/090771806)\n",
    "\n",
    "[2] Martinsson, P. G., Rokhlin, V., and Tygert, M. (2011). \"A randomized algorithm for the decomposition of matrices\". Applied and Computational Harmonic Analysis, 30(1), 47-68](https://doi.org/10.1016/j.acha.2010.02.003)"
   ]
  },
  {
   "cell_type": "markdown",
   "id": "745d85e1",
   "metadata": {},
   "source": [
    "## Independent Component Analysis (ICA)\n",
    "\n",
    "Although it is often not referred to as a dimensionality reduction technique, but rather as a principal component extraction technique, it is probably the second most popular technique applied in this sense. ICA is also a linear dimension reduction method, which transforms the dataset into columns of independent components. Blind source separation and the \"cocktail party problem\" are other names for it. ICA is an important tool in neuroimaging, fMRI and EEG analysis that helps to separate normal signals from abnormal ones.\n",
    "\n",
    "In the case of this algorithm, it assumes that the data presented are the result of a linear combination of two inputs and that neither of them has a Gaussian distribution. If this condition is not met, the results will not be good or will be inconsistent.\n",
    "\n",
    "Without going too much into the mathematical underpinnings, it should be noted that problems arising from non-linear dependencies or having a Gaussian distribution can be minimised by the use of entropy in the formulation of the algorithm.\n",
    "In general terms, the ICA pseudocode can be summarised as follows:\n",
    "```\n",
    "Initialise W\n",
    "X = PCA(X)\n",
    "While W changes:\n",
    "      W = average(X*G(WX)) - average(g(WTX))W\n",
    "      W = orthogonalize(W)\n",
    "return S = WX\n",
    "```\n",
    "\n",
    "Where $W$ is the weights matrix that allows the change to be made to the original data, $G$ is a Gentropy matrix (calculation of the entropy difference between two elements) and $g$ is the derivative of the above function. The `orthogonalize` function refers to the process by which the columns of a matrix become orthogonal. Fortunately a much faster implementation of this process can be found in `scikit-learn` with the function [FastICA](https://scikit-learn.org/stable/modules/generated/sklearn.decomposition.FastICA.html). We will now see how to apply it to the above data:"
   ]
  },
  {
   "cell_type": "code",
   "execution_count": null,
   "id": "b7be4e28",
   "metadata": {},
   "outputs": [],
   "source": [
    "@skimport decomposition:FastICA\n",
    "ica = FastICA(n_components=2)\n",
    "fit!(ica, train_input)\n",
    "\n",
    "ica_train = ica.transform(train_input)\n",
    "ica_test = ica.transform(test_input)\n",
    "\n",
    "print(\"Train Patterns \", size(train_input), \" -> \", size(ica_train))\n",
    "print(\"Train Patterns \", size(test_input), \" -> \", size(ica_test))"
   ]
  },
  {
   "cell_type": "markdown",
   "id": "aad99c3a",
   "metadata": {},
   "source": [
    "### Question\n",
    "Comparing the results of both apporach what can be observed on this ones, which is the one easier to classified. Note in the following section plot the output of ICA approach and compare it with the PCA."
   ]
  },
  {
   "cell_type": "code",
   "execution_count": null,
   "id": "458315dc",
   "metadata": {},
   "outputs": [],
   "source": [
    "# Plot the output of the ICA transformation\n",
    "\n",
    "#TODO"
   ]
  },
  {
   "cell_type": "markdown",
   "id": "b64e2f1b",
   "metadata": {},
   "source": [
    "`Answer here`"
   ]
  },
  {
   "cell_type": "markdown",
   "id": "004ddf5c",
   "metadata": {},
   "source": [
    "### Question\n",
    "Repeat the train of the classifiers and compare the results with the two previous approaches. Compare the results."
   ]
  },
  {
   "cell_type": "code",
   "execution_count": null,
   "id": "d2dc94d1",
   "metadata": {},
   "outputs": [],
   "source": [
    "# Repeat the training of previous approaches\n",
    "\n",
    "#TODO"
   ]
  },
  {
   "cell_type": "markdown",
   "id": "f4374845",
   "metadata": {},
   "source": [
    "`Answer here`"
   ]
  },
  {
   "cell_type": "markdown",
   "id": "fe880898",
   "metadata": {},
   "source": [
    "## Linear Discriminant Analysis (LDA)\n",
    "\n",
    "This linear machine learning algorithm is used for multi-class classification, although it is sometimes used as a dimensionality reduction algorithm. Beware of confusing it with Latent Dirichlet Allocation (LDA), which is also a dimensionality reduction technique but only applicable to text documents.\n",
    "\n",
    "LDA tries to separate (or discriminate) as best as possible the samples of the training dataset by their class value. Specifically, the model tries to find a linear combination of input variables that achieves the maximum separation of samples between classes (centroids or class means) and the minimum separation of samples within each class. Therefore, its major difference with PCA is that LDA takes the output class into account, while PCA is completely agnostic to this fact.\n",
    "\n",
    "Within the `scikit-learn` library, the implementation of the algorithm allows us to use it to classify or to transform the corresponding data. See the following example:"
   ]
  },
  {
   "cell_type": "code",
   "execution_count": null,
   "id": "7708eb8b",
   "metadata": {},
   "outputs": [],
   "source": [
    "@sk_import discriminant_analysis: LinearDiscriminantAnalysis\n",
    "# Be aware that the number of components when the dimensionality is reduced must be\n",
    "# n_components <= min(n_classes - 1, n_features))  \n",
    "lda = LinearDiscriminantAnalysis(n_components=1)\n",
    "fit!(lda, train_input, train_output)\n",
    "\n",
    "lda_train = lda.transform(train_input)\n",
    "lda_test = lda.transform(test_input)\n",
    "\n",
    "print(\"Train Patterns \", size(train_input), \" -> \", size(lda_train))\n",
    "print(\"Train Patterns \", size(test_input), \" -> \", size(lda_test))"
   ]
  },
  {
   "cell_type": "markdown",
   "id": "8b4eee5e",
   "metadata": {},
   "source": [
    "The most important parameters of the function include:\n",
    "\n",
    "* `solver{'svd', 'lsqr', 'eigen'}, default='svd'` Indicates which algorithm is used to solve the relation.\n",
    " - 'svd': Singular value decomposition which does not compute the covariance matrix and is therefore the one indicated with a large number of features.\n",
    "\n",
    " - lsqr: Least squares solution. Method that can use another of the parameters called *shrinkage* or custom covariance calculations.\n",
    "\n",
    " - eigen': Eigenvalue decomposition. As with the previous method, in this case the eigenvalues of the matrix are calculated.\n",
    "* `n_components`, refers to the number of components to be used for dimensionality reduction when applying the `transform` method. Note as a general constraint $n_components <= min(n classes - 1, nfeatures))$\n",
    "\n",
    "* `store_covariance(default=False)` Marks whether the class-weighted covariance matrix will be calculated for the estimator 'svd'. In the other cases it is always calculated independently of this parameter\n",
    "\n",
    "* `tol(default=1.0e-4)` Flag the tolerance limit for a feature to be considered significant.\n",
    "\n",
    "For more details, please check the documentation on the [scikit-learn](https://scikit-learn.org/stable/modules/generated/sklearn.discriminant_analysis.LinearDiscriminantAnalysis.html) page."
   ]
  },
  {
   "cell_type": "markdown",
   "id": "8b3995a2",
   "metadata": {},
   "source": [
    "## t-Distributed Stochastic Stochastic Neighbor Embedding (t-SNE)\n",
    "\n",
    "It is one of the NON-linear techniques that are focused on dimensionality reduction. It is usually reserved for high dimensionality problems. While PCA is a linear technique that seeks to maximise variance while preserving large pairwise distances (in other words, things that are different end up being far apart), t-SNE is statistically based and tries to overcome shortcomings of other techniques when it comes to exploring data that have a non-linear structure.\n",
    "\n",
    "![Comparison of distributions](./img/unit8/t-SNE.png) \n",
    "\n",
    "The algorithm starts by calculating the probability of similarity of the points in the high-dimensional space (Gaussian function) and calculating the probability of similarity of the points in the low-dimensional space (based on a Cauchy function). The similarity is calculated as the conditional probability that a point $A$ chooses point $B$ as a neighbour if the neighbours are chosen in proportion to their probability density under a Gaussian (normal distribution) centred on $A$. The difference between these conditional probabilities in the higher and lower dimensional space is then minimised for a representation of the data points in the lower dimensional space. To measure the minimisation of the sum of the conditional probability difference, t-SNE minimises the sum of the **Kullback-Leibler divergence** of the global data points using a gradient descent method. This asymmetric statistical function also used in *Generative Adversarial Networks(GAN)* or *Variational Auto Encoders(VAE)* allows optimisation of the distance between probabilistic distributions. \n",
    "\n",
    "In general terms, t-SNE attempts to minimise the divergence between two distributions, the first, a distribution that measures the pairwise similarities of the input objects, and the second, a distribution that measures the pairwise similarities of the corresponding points in the low-dimensional space.\n",
    "\n",
    "One point to note is that as a simplification of the Cauchy distribution, it is usually simplified to a single degree of freedom resulting in a t-student distribution, hence the name of the transformation.\n",
    "\n",
    "The other point to note is that, after this process, the input features are no longer identifiable, and no inference can be made based solely on the t-SNE result. Hence, it is primarily a data exploration and visualisation technique.\n",
    "\n",
    "\n",
    "To employ it, use can be made of the corresponding `scikit-learn` library."
   ]
  },
  {
   "cell_type": "code",
   "execution_count": null,
   "id": "51d8c40b",
   "metadata": {},
   "outputs": [],
   "source": [
    "@sk_import manifold:TSNE\n",
    "\n",
    "tsne = TSNE(n_components=2)\n",
    "tsne_train = tsne.fit_transform(train_input) \n",
    "tsne_test = tsne.fit_transform(test_input)\n",
    "\n",
    "print(\"Train Patterns \", size(train_input), \" -> \", size(tsne_train))\n",
    "print(\"Train Patterns \", size(test_input), \" -> \", size(tsne_test))"
   ]
  },
  {
   "cell_type": "markdown",
   "id": "b2898817",
   "metadata": {},
   "source": [
    "One of the striking features of the above code is that, as the transformation of t-SNE cannot be stored because it is unsupervised, it cannot be subsequently applied to another set. Furthermore, as they are only graphically meaningful and cannot/should not be used as input to a training method, there is no `transform` function call.\n",
    "\n",
    "It should be noted that, regarding the use of the t-SNE implementation, it is recommended that for use with high dimensionality (>50) or fuzzy (*sparse*) spaces, another type of dimensionality reduction technique, such as PCA, should be applied beforehand. Subsequently, t-SNE would be applied on the result of this dimensionality reduction technique. \n",
    "\n",
    "Among the most important parameters that can be passed to t-SNE are the following:\n",
    "\n",
    "* `n_components (default: 2)`: Dimensions to which you want to compress the result.\n",
    "* `perplexity (default: 30)`: this parameter is related to the neighbourhood used by the algorithm partitions. Typical values are in the range $[5,50]$.\n",
    "* `early_exaggeration (default: 12.0)`: Controls how tight the classes are in the reduction space and, therefore, the expected gap between them.\n",
    "* `learning_rate (default: 200.0)`: as the name suggests, this is the training parameter that controls learning by gradient descent. Generally speaking, a value in the range $[10.0, 1000.0]$ is usually used.\n",
    "* `n_iter (default: 1000)`: Maximum number of iterations applied to the optimisation algorithm. The library documentation recommends a number equal to or greater than 250.\n",
    "* `method (default: 'barnes_hut')`: The method to be applied. By default the Barnes-Hut approximation is used as it has a computational cost of $O(N log(N))$. Alternatively, although slower as it has a complexity of $O(N^2)$, the 'exact' method can be used which as the name suggests makes no assumptions or approximations but is the exact value."
   ]
  },
  {
   "cell_type": "markdown",
   "id": "c7f17a1d",
   "metadata": {},
   "source": []
  }
 ],
 "metadata": {
  "kernelspec": {
   "display_name": "Julia 1.8.2",
   "language": "julia",
   "name": "julia-1.8"
  },
  "language_info": {
   "file_extension": ".jl",
   "mimetype": "application/julia",
   "name": "julia",
   "version": "1.8.2"
  }
 },
 "nbformat": 4,
 "nbformat_minor": 5
}
