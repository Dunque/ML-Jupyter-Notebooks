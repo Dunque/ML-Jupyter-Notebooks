{
 "cells": [
  {
   "cell_type": "markdown",
   "id": "8f0c2c02",
   "metadata": {},
   "source": [
    "# Training Multilayer Perceptrons\n",
    "\n",
    "The aim of this tutorial is to learn how to train multilayer perceptrons in Julia. To do so, we will make use of the `Flux` library, whose documentation can be consulted at https://fluxml.ai/Flux.jl/.\n",
    "\n",
    "If not previously, the packege has to be installed on the system by executing the following commands"
   ]
  },
  {
   "cell_type": "code",
   "execution_count": 1,
   "id": "a530ceb6",
   "metadata": {
    "scrolled": false
   },
   "outputs": [
    {
     "name": "stderr",
     "output_type": "stream",
     "text": [
      "\u001b[32m\u001b[1m    Updating\u001b[22m\u001b[39m registry at `~/.julia/registries/General.toml`\n",
      "\u001b[32m\u001b[1m   Resolving\u001b[22m\u001b[39m package versions...\n",
      "\u001b[32m\u001b[1m  No Changes\u001b[22m\u001b[39m to `~/.julia/environments/v1.8/Project.toml`\n",
      "\u001b[32m\u001b[1m  No Changes\u001b[22m\u001b[39m to `~/.julia/environments/v1.8/Manifest.toml`\n"
     ]
    }
   ],
   "source": [
    "using Pkg; Pkg.add(\"Flux\")"
   ]
  },
  {
   "cell_type": "markdown",
   "id": "efe81995",
   "metadata": {},
   "source": [
    "Flux is a library which provides a set of functions to create neural networks with an arbitrary number of layers. This is a library designed to develop Deep Learning projects, whose ANNs usually have a large number of layers of different types, for example, convolutional or maxpooling layers.  In these exercises, only multilayer perceptrons will be developed, with fully-connected (dense) layers, with a maximum of two hidden layers. \n",
    "\n",
    "In order to implement an ANN in Julia, there is a function called `Chain`. This function receives as parameters the layers that the network will have (excluding the input layer, which does not perform any processing), which can be of different types.This function receives as parameters the layers that the network will have (excluding the input layer, which does not perform any processing), which can be of different types. Therefore, it is a function with a variable number of parameters.  Depending on the type of layer desired, there are different functions to create each one of them. A couple of examples are the functions `Conv`, which allows for the creation of convolutional layers, or `MaxPool`, which allows for the creation of MaxPooling layers. These layers are used in more advanced models that will be seen in other subjects of the programme and that are beyond the syllabus of this subject.  In this subject, as only multilayer perceptrons will be covered, the layers will always be created fully connected with the function `Dense`. This function accepts as parameters the number of inputs, outputs, and the transfer function of the neurons in the layer. In this sense, two different cases can be distinguished when creating ANNs, depending on the problem to be solved: \n",
    "\n",
    "- ***Regression problems***. In this type of problem, the output layer usually has a linear transfer function, while the hidden layers have a non-linear transfer function.  In the following examples, a sigmoidal transfer function is used as the transfer function in the hidden layers; for further information on other supported transfer functions, please refer to the library documentation.  \n",
    "\n",
    "  In the first example, an ANN is implemented with 10 inputs, a hidden layer with 5 neurons, and an output layer of 1 neuron."
   ]
  },
  {
   "cell_type": "code",
   "execution_count": 2,
   "id": "013ea6c3",
   "metadata": {},
   "outputs": [
    {
     "data": {
      "text/plain": [
       "Chain(\n",
       "  Dense(10 => 5, σ),                    \u001b[90m# 55 parameters\u001b[39m\n",
       "  Dense(5 => 1),                        \u001b[90m# 6 parameters\u001b[39m\n",
       ") \u001b[90m                  # Total: 4 arrays, \u001b[39m61 parameters, 500 bytes."
      ]
     },
     "execution_count": 2,
     "metadata": {},
     "output_type": "execute_result"
    }
   ],
   "source": [
    "using Flux;\n",
    "\n",
    "ann = Chain(    \n",
    "    Dense(10, 5, σ),    \n",
    "    Dense(5, 1, identity) )"
   ]
  },
  {
   "cell_type": "markdown",
   "id": "466c7de9",
   "metadata": {},
   "source": [
    "* The second example builds an ANN with 15 inputs, two hidden layers with 12 and 5 neurons, and an output layer with 2 neurons. "
   ]
  },
  {
   "cell_type": "code",
   "execution_count": 3,
   "id": "66502f27",
   "metadata": {},
   "outputs": [
    {
     "data": {
      "text/plain": [
       "Chain(\n",
       "  Dense(15 => 12, σ),                   \u001b[90m# 192 parameters\u001b[39m\n",
       "  Dense(12 => 5, σ),                    \u001b[90m# 65 parameters\u001b[39m\n",
       "  Dense(5 => 2),                        \u001b[90m# 12 parameters\u001b[39m\n",
       ") \u001b[90m                  # Total: 6 arrays, \u001b[39m269 parameters, 1.426 KiB."
      ]
     },
     "execution_count": 3,
     "metadata": {},
     "output_type": "execute_result"
    }
   ],
   "source": [
    "ann = Chain(    \n",
    "    Dense(15, 12, σ),    \n",
    "    Dense(12, 5, σ),    \n",
    "    Dense(5, 2, identity) )"
   ]
  },
  {
   "cell_type": "markdown",
   "id": "dc6a9bb0",
   "metadata": {},
   "source": [
    "**Warning:** Be aware that the number of neurons between the different layers has to match\n",
    "\n",
    "### Question\n",
    "What would happen if all the layers of the ANN have a linear transfer function?"
   ]
  },
  {
   "cell_type": "markdown",
   "id": "44d892b3",
   "metadata": {},
   "source": [
    "`If we use a linear transfer function in the hidden layers of the neuron we will make the ANN system to only be able to represent linear functions (i.e. straight lines).`"
   ]
  },
  {
   "cell_type": "markdown",
   "id": "976afc9b",
   "metadata": {},
   "source": [
    "- ***Classification problems***.  In this case, as explained in theory class, two different situations are considered, depending on whether there are two classes or more than two classes, whereas not belonging to any class is treated as another class:\n",
    "1. When there are only two classes, this is usually referred to as positives and negatives. In this case, the desired outputs will be either 1 or 0, and a single hidden neuron is, therefore, present.  Thus, such neuron is desired to return values between 0 and 1, which will be interpreted as the degree of certainty the system has that the output is positive.To ensure it returns a bounded value between 0 and 1, a sigmoidal function is applied to the output layer.In the following example, an ANN is defined with a hidden layer and an output neuron; in this example, the sigmoid function has also been used in the hidden layer, but this could be modified."
   ]
  },
  {
   "cell_type": "code",
   "execution_count": 4,
   "id": "f813d6c2",
   "metadata": {
    "scrolled": true
   },
   "outputs": [
    {
     "data": {
      "text/plain": [
       "Chain(\n",
       "  Dense(8 => 4, σ),                     \u001b[90m# 36 parameters\u001b[39m\n",
       "  Dense(4 => 1, σ),                     \u001b[90m# 5 parameters\u001b[39m\n",
       ") \u001b[90m                  # Total: 4 arrays, \u001b[39m41 parameters, 420 bytes."
      ]
     },
     "execution_count": 4,
     "metadata": {},
     "output_type": "execute_result"
    }
   ],
   "source": [
    "ann = Chain(    \n",
    "    Dense(8, 4, σ),    \n",
    "    Dense(4, 1, σ) )"
   ]
  },
  {
   "cell_type": "markdown",
   "id": "5660d303",
   "metadata": {},
   "source": [
    "2. With more than two classes, you have one output neuron per class. The desired output of a pattern is 1 for the neuron of the class it belongs to, and 0 for the rest. This kind of encoding is known as one-hot-encoding.  In this way, the output of a neuron for a pattern can be interpreted as the degree of certainty that the pattern belongs to the class corresponding to that neuron.  Unlike the previous case, a sigmoidal transfer function is not applied to the outputs of each neuron in the output layer to bound the output between 0 and 1, but no function (identity function) is applied.  Instead, a `softmax` function is applied to the outputs of all the neurons, which takes unbounded numeric values and returns numeric values between 0 and 1 such that the sum of all values is 1.  Even though this function does not constitute a layer of neurons, sometimes this last `softmax` function is considered as an additional layer, and in fact, from the point of view of programming with the `Flux` library, it is effectively performed as if it were a last layer, as can be seen in this example:"
   ]
  },
  {
   "cell_type": "code",
   "execution_count": 5,
   "id": "5f162550",
   "metadata": {},
   "outputs": [
    {
     "data": {
      "text/plain": [
       "Chain(\n",
       "  Dense(9 => 5, σ),                     \u001b[90m# 50 parameters\u001b[39m\n",
       "  Dense(5 => 3),                        \u001b[90m# 18 parameters\u001b[39m\n",
       "  NNlib.softmax,\n",
       ") \u001b[90m                  # Total: 4 arrays, \u001b[39m68 parameters, 528 bytes."
      ]
     },
     "execution_count": 5,
     "metadata": {},
     "output_type": "execute_result"
    }
   ],
   "source": [
    "ann = Chain(    \n",
    "    Dense(9, 5, σ),    \n",
    "    Dense(5, 3, identity),    \n",
    "    softmax )"
   ]
  },
  {
   "cell_type": "markdown",
   "id": "d7fe51cb",
   "metadata": {},
   "source": [
    "Another possibility to use the `Chain` function is by successive calls, adding layers to an already created network.  To do this, the ellipsis operator is used when specifying arguments to a function. In the following example, an equivalent ANN is created by first creating an empty ANN and successively adding layers to it: "
   ]
  },
  {
   "cell_type": "code",
   "execution_count": 6,
   "id": "c1d83bc0",
   "metadata": {},
   "outputs": [
    {
     "data": {
      "text/plain": [
       "Chain(\n",
       "  Dense(4 => 8, σ),                     \u001b[90m# 40 parameters\u001b[39m\n",
       "  Dense(8 => 3),                        \u001b[90m# 27 parameters\u001b[39m\n",
       "  NNlib.softmax,\n",
       ") \u001b[90m                  # Total: 4 arrays, \u001b[39m67 parameters, 524 bytes."
      ]
     },
     "execution_count": 6,
     "metadata": {},
     "output_type": "execute_result"
    }
   ],
   "source": [
    "ann = Chain(); \n",
    "ann = Chain(ann...,  Dense(4, 8, σ) );\n",
    "ann = Chain(ann...,  Dense(8, 3, identity) ); \n",
    "ann = Chain(ann...,  softmax )"
   ]
  },
  {
   "cell_type": "markdown",
   "id": "c810a352",
   "metadata": {},
   "source": [
    "This variable, obtained in either form, can be used as a function.  For example, the matrix inputs created in the previous tutorial can be taken and passed to the ANN resulting in the outputs of the network by simply writing the following code:"
   ]
  },
  {
   "cell_type": "code",
   "execution_count": 7,
   "id": "2b9c3f22",
   "metadata": {},
   "outputs": [
    {
     "name": "stderr",
     "output_type": "stream",
     "text": [
      "\u001b[32m\u001b[1m   Resolving\u001b[22m\u001b[39m package versions...\n",
      "\u001b[32m\u001b[1m  No Changes\u001b[22m\u001b[39m to `~/.julia/environments/v1.8/Project.toml`\n",
      "\u001b[32m\u001b[1m  No Changes\u001b[22m\u001b[39m to `~/.julia/environments/v1.8/Manifest.toml`\n"
     ]
    }
   ],
   "source": [
    "import Pkg; Pkg.add(\"DelimitedFiles\");\n",
    "using DelimitedFiles "
   ]
  },
  {
   "cell_type": "code",
   "execution_count": 8,
   "id": "17be43bf",
   "metadata": {},
   "outputs": [
    {
     "data": {
      "text/plain": [
       "150×3 adjoint(::BitMatrix) with eltype Bool:\n",
       " 1  0  0\n",
       " 1  0  0\n",
       " 1  0  0\n",
       " 1  0  0\n",
       " 1  0  0\n",
       " 1  0  0\n",
       " 1  0  0\n",
       " 1  0  0\n",
       " 1  0  0\n",
       " 1  0  0\n",
       " 1  0  0\n",
       " 1  0  0\n",
       " 1  0  0\n",
       " ⋮     \n",
       " 0  0  1\n",
       " 0  0  1\n",
       " 0  0  1\n",
       " 0  0  1\n",
       " 0  0  1\n",
       " 0  0  1\n",
       " 0  0  1\n",
       " 0  0  1\n",
       " 0  0  1\n",
       " 0  0  1\n",
       " 0  0  1\n",
       " 0  0  1"
      ]
     },
     "execution_count": 8,
     "metadata": {},
     "output_type": "execute_result"
    }
   ],
   "source": [
    "dataset = readdlm(\"iris.data\",',');\n",
    "\n",
    "# Split inputs and transform into floats\n",
    "inputs = dataset[:,1:4]\n",
    "inputs = convert(Array{Float32,2}, inputs); \n",
    "\n",
    "# Split outputs and one hot encode\n",
    "targets = dataset[:,5]\n",
    "function encode_categories(targets)\n",
    "    if (length(unique(targets)) > 2)\n",
    "        cats = unique(targets) .== permutedims(targets)\n",
    "        return cats'\n",
    "    else\n",
    "        cats = targets .== unique(targets)[1]\n",
    "        return cats\n",
    "    end\n",
    "end\n",
    "\n",
    "targets = encode_categories(targets)"
   ]
  },
  {
   "cell_type": "code",
   "execution_count": 9,
   "id": "5c627c11",
   "metadata": {},
   "outputs": [
    {
     "data": {
      "text/plain": [
       "3×150 Matrix{Float32}:\n",
       " 0.178432  0.179814  0.179357  0.182114  …  0.210366  0.213568  0.211515\n",
       " 0.558913  0.564351  0.561861  0.564084     0.584702  0.581881  0.588489\n",
       " 0.262655  0.255835  0.258783  0.253802     0.204932  0.204551  0.199996"
      ]
     },
     "execution_count": 9,
     "metadata": {},
     "output_type": "execute_result"
    }
   ],
   "source": [
    "outputs = ann(inputs')"
   ]
  },
  {
   "cell_type": "markdown",
   "id": "32d85b7c",
   "metadata": {},
   "source": [
    "***Warning***: due to the formulation used in the world of ANNs, the input and output matrices for the ANN have each pattern in each column, not in each row. Therefore, each row of the input matrix will represent one of the input attributes, while in the output matrix, each row will correspond to one of the desired outputs of the ANN. Consequently, a transpose of the matrices created in the previous practice is required."
   ]
  },
  {
   "cell_type": "markdown",
   "id": "1758a307",
   "metadata": {},
   "source": [
    "Thus, even if the ANN is not properly trained, it may be interesting to make a call similar to this one to verify that the ANN has been created correctly. Once it has been verified that the ANN has been created correctly, it is time to train it. \n",
    "\n",
    "To train an ANN, following the workflow described in the theory class, the patterns are presented to the network, then the output is compared with the desired output, and finally a loss value is calculated.  This loss value will be used to modify the weights of the connections and bias. Therefore, a key point is to define this loss function, which will be different for regression and classification problems. The Flux library includes the Losses module with a large number of loss functions used to train NRs. In this subject only the most common ones will be used and, therefore, the first step is to load this module with: "
   ]
  },
  {
   "cell_type": "code",
   "execution_count": 10,
   "id": "ee788074",
   "metadata": {},
   "outputs": [],
   "source": [
    "using Flux.Losses"
   ]
  },
  {
   "cell_type": "markdown",
   "id": "4c53217a",
   "metadata": {},
   "source": [
    "For any kind of problem, the usage of the `loss` functions is the same. The first argument is the outputs of the model, the second argument is the desired outputs (in both cases with a pattern in each column), and the third argument is the optional keyword `agg`, which indicates how to aggregate the loss values for each pattern. If no value is specified for this keyword, by default an average of all loss values for all patterns will be performed.\n",
    "\n",
    "* For a regression problem, the most commonly loss function is the **Mean Square Error** (MSE) between the model outputs and the desired targets.  This MSE function is already defined in the Losses module of Flux, although it is very simple to define. It can be used as follows, where `x` are the model inputs and `y` are the targets:"
   ]
  },
  {
   "cell_type": "code",
   "execution_count": 11,
   "id": "275883f0",
   "metadata": {},
   "outputs": [
    {
     "data": {
      "text/plain": [
       "loss (generic function with 1 method)"
      ]
     },
     "execution_count": 11,
     "metadata": {},
     "output_type": "execute_result"
    }
   ],
   "source": [
    "loss(x, y) = Losses.mse(ann(x), y)"
   ]
  },
  {
   "cell_type": "markdown",
   "id": "65fa6eac",
   "metadata": {},
   "source": [
    "  Other loss functions that may be of interest for regression problems are `Flux.Loss.mae` or `Flux.Loss.msle`."
   ]
  },
  {
   "cell_type": "markdown",
   "id": "8e93cb7d",
   "metadata": {},
   "source": [
    "* For a classification problem the loss function is different. As it was appointed during theory sessions, the binary cross-entropy function is the common choice for a  2-classes problem (only one output neuron)."
   ]
  },
  {
   "cell_type": "code",
   "execution_count": 12,
   "id": "def3bcb8",
   "metadata": {
    "scrolled": true
   },
   "outputs": [
    {
     "data": {
      "text/plain": [
       "loss (generic function with 1 method)"
      ]
     },
     "execution_count": 12,
     "metadata": {},
     "output_type": "execute_result"
    }
   ],
   "source": [
    "loss(x, y) = Losses.binarycrossentropy(ann(x), y)"
   ]
  },
  {
   "cell_type": "markdown",
   "id": "e7266f73",
   "metadata": {},
   "source": [
    "  Whereas, the cross-entropy function is main used for problems with more than 2  classes (one output neuron per class)."
   ]
  },
  {
   "cell_type": "code",
   "execution_count": 13,
   "id": "a9c1d20d",
   "metadata": {},
   "outputs": [
    {
     "data": {
      "text/plain": [
       "loss (generic function with 1 method)"
      ]
     },
     "execution_count": 13,
     "metadata": {},
     "output_type": "execute_result"
    }
   ],
   "source": [
    "loss(x, y) = Losses.crossentropy(ann(x), y)"
   ]
  },
  {
   "cell_type": "markdown",
   "id": "df78f212",
   "metadata": {},
   "source": [
    "Although, each of these functions could be declared in the various branches of an if statement, Julia has problems when making such function declarations. For this reason, these two declarations can be merged into one, with the following line of code:"
   ]
  },
  {
   "cell_type": "code",
   "execution_count": 14,
   "id": "c79bcd17",
   "metadata": {},
   "outputs": [
    {
     "data": {
      "text/plain": [
       "loss (generic function with 1 method)"
      ]
     },
     "execution_count": 14,
     "metadata": {},
     "output_type": "execute_result"
    }
   ],
   "source": [
    "loss(x, y) = (size(y,1) == 1) ? Losses.binarycrossentropy(ann(x),y) : Losses.crossentropy(ann(x),y)"
   ]
  },
  {
   "cell_type": "markdown",
   "id": "c1333f6f",
   "metadata": {},
   "source": [
    "### Question\n",
    "As it can be seen, first of all the number of rows of the desired output matrix (`y`) is checked, why is the number of rows checked and not the number of columns?"
   ]
  },
  {
   "cell_type": "markdown",
   "id": "a95b6608",
   "metadata": {},
   "source": [
    "`Because the output matrix y is transposed, making each one of the possible outputs of the classification problem into a row and making each one of the patterns into a column. Meaning, if we want to check if we are in a \"binary classification\" problem we need to check that the number of rows is 1 (meaning we have either 0 or 1 possible outputs), however in a multiclass classification we need to check if the number of rows is more than one (meaning we can have 001, 010, 100...)`"
   ]
  },
  {
   "cell_type": "markdown",
   "id": "c90b2fa9",
   "metadata": {},
   "source": [
    "It is important to remember that in both `x` (inputs) and `y` (targets) each pattern must be in a column, contrary to the usual practice. For this reason, as will be shown below, the matrices of inputs and desired outputs will be transposed.\n",
    "\n",
    "These functions use the variable `ann`, which is used as a function as it was previously described.  Therefore, it needs to be defined within the environment in which the function is defined.\n",
    "\n",
    "Once the loss function has been defined, it is necessary to indicate the optimizer to be used during training. The optimizer is nothing more than a specific implementation of one of the alternative backpropagation algorithms. Flux has a large number of those implementations, from the classical one based on gradient descent (`Descent`) or adding also the momentum (`Momentum`) to more advanced ones: `ADAM`, `RADAM`, `AdaMax`, `ADAGrad`, `ADADelta`, `AMSGrad`, `RMSProp`, etc.  Possibly, nowadays, the most widely used optimizer is ADAM, to which you have to indicate the learning rate. This value is usualy a small amount, however, you can find more information in the documentation of the library.\n",
    "\n",
    "Thus, training **an epoch** of the previous ANN can be done with the `train!` function as follows, where `learningRate` is a variable defined beforehand:"
   ]
  },
  {
   "cell_type": "code",
   "execution_count": 15,
   "id": "ce614f6a",
   "metadata": {},
   "outputs": [
    {
     "data": {
      "text/plain": [
       "\"Done\""
      ]
     },
     "execution_count": 15,
     "metadata": {},
     "output_type": "execute_result"
    }
   ],
   "source": [
    "learningRate=2\n",
    "\n",
    "Flux.train!(loss, Flux.params(ann), [(inputs', targets')], ADAM(learningRate))\n",
    "\n",
    "\"Done\""
   ]
  },
  {
   "cell_type": "markdown",
   "id": "59bdc91f",
   "metadata": {},
   "source": [
    "**Important**. It is worth mentioning that in Julia, by convention, when a function is defined by adding `!` (bang) as the last symbol, it is understood taht it modifies the contents of one or more of its arguments, which has therefore been passed by reference.\n",
    "\n",
    "That is the case of the function `train!`, which has four arguments:\n",
    "\n",
    "1. The `loss` function, which has been previously defined\n",
    "2. Weights and bias of the ANN. This can be achieved, as shown in the example, with the function `params`. \n",
    "3. A set of patterns, inputs and targets. As you can see in the example, an array with only one element is being passed. This element is a tuple with two elements: the arrays of inputs and desired outputs.  This way of passing the patterns, which may seem cumbersome, has its motivation, since when the set of patterns is very large, calculating the modifications to the weights with all the patterns can be very costly.  For this reason, the patterns are usually divided into batches so that each update is done with only one of these batches. If this were done, the array passed as a parameter, instead of having one tuple, would have several, one per batch.  However, in the exercises to be carried out in this subject, this will not be done, and all the patterns will be passed together. \n",
    "  * **Important**: As indicated above, these matrices of inputs and targets have each pattern in a column, contrary to what is usual.  For this reason, the input and target matrices passed as parameters are transposed, i.e. instead of passing `inputs` and `targets`, `inputs'` and `targets'` are passed. If the input and/or target matrices already had a pattern in each column, there would be no need to transpose the corresponding matrix.\n",
    "  * **Important**: The matrices given in this parameter are used for training the ANN. Therefore, they have to be completely different from those used for testing.\n",
    "4. Optimizer.  In this example, it is an ADAM with a learning rate equal to  `learningRate`, which usually takes values between 0.001 and 0.1. A common value is 0.01, although you should try different values until you find one that gives good results for the specific problem."
   ]
  },
  {
   "cell_type": "markdown",
   "id": "b10f9c4f",
   "metadata": {},
   "source": [
    "In this way only one loop is trained.  Therefore, to train an ANN it is necessary to create a loop that executes this function as long as some stop criterion is not met. Some of the most common criteria can be:\n",
    "\n",
    "* The loss in training is good enough.\n",
    "* The number of training cycles has reached a predefined maximum. \n",
    "* The change in training error is less than a predefined value. \n",
    "* etc.\n",
    "\n",
    "#### Question\n",
    "Could a similar stopping criterion to first one be made but with the test error? Why?"
   ]
  },
  {
   "cell_type": "markdown",
   "id": "44bef25d",
   "metadata": {},
   "source": [
    "`A similar stop criterium to \"the loss in training is good enough\" but for test error could lead to overfitting the network and therefore loosing generalization capabilities.`"
   ]
  },
  {
   "cell_type": "markdown",
   "id": "93d5c172",
   "metadata": {},
   "source": [
    "This way, it is possible to train an ANN so that the error or loss in the training set is minimised.   However, the training of ANNs is not deterministic, but has a random component, which is the random initialisation of the weights.  When this happens, to minimise the random component, the ANN is created and trained several times and the results are averaged.  If you want to train several ANNs, it will be necessary to nest two loops, where the outer loop will iterate through the different networks, and the inner loop will execute the different training cycles of each network.\n",
    "\n",
    "#### Question\n",
    "Where in the code (outside both loops, inside the first loop or inside the second loop) will it be necessary to put the call to the Chain function to create each network? Why shouldn't it be put elsewhere?"
   ]
  },
  {
   "cell_type": "markdown",
   "id": "0520901a",
   "metadata": {},
   "source": [
    "`It would be inside the first loop in order to initialize the networks with different weights each time, as the second one is devoted to training each network. It cannot be called outside both loops, as that would only create a network once.`"
   ]
  },
  {
   "cell_type": "markdown",
   "id": "d9389a2b",
   "metadata": {},
   "source": [
    "Through this process, the weights and biases, starting from initially random values, will take on different values until one of the stop criteria is met. \n",
    "\n",
    "In this sense, it is necessary to bear in mind that the weights corresponding to the connection of inputs with a very high absolute value will take on a low absolute value; on the other hand, the weights of those connections that connect inputs with a low absolute value will take on a high absolute value.  In this way, the ANN is able to combine inputs that are in very different ranges, passing them to values of similar scale.  similar scale values. In other words, the ANN is able to \"learn\" the relationship between the different scales on which the inputs move.\n",
    "\n",
    "When dealing with classification problems, the value of loss is often not easy to interpret.  For classification problems there are different metrics that will be the focus of later sessions.  For now, to assess the goodness of output of ANN, we will only use classification accuracy, defined as the ratio of well-classified patterns (number of well-classified patterns divided by the total number of patterns). Therefore, Two different cases can be identified:\n",
    "1. When there are two classes, the ANN has a single output neuron. As described above, a sigmoidal function, which returns a value between 0 and 1, is typically used as a transfer function. By simply passing a threshold (usually 0.5), the pattern can be classified as \"positive\" or \"negative\" depending on whether the output is greater or less than the threshold respectively.\n",
    "2. When there are more than two classes, applying the softmax function will result in different values of certainty, certainty or probability of belonging to each class.  Therefore, a pattern is classified as the class with the highest probability."
   ]
  },
  {
   "cell_type": "markdown",
   "id": "084554cc",
   "metadata": {},
   "source": [
    "**Important**: This process of normalisation, although it is applied here to ANNs, is common to the rest of the Machine Learning techniques. Therefore, the code to be developed regarding normalisation will also be used in the other models.\n",
    "\n",
    "On the following paragraph the requirements of the different exercises to devop are explained with the signature of the methods that has to be developed."
   ]
  },
  {
   "cell_type": "markdown",
   "id": "60a324e1",
   "metadata": {},
   "source": [
    "1. Develop a function called oneHotEncoding, containing the code developed in the previous session regarding the encoding of a categorical input or output.  That is, to receive a vector of values and encode it as explained in the previous tutorial.  This function will receive two parameters, called `feature` and `classes`, both of type `AbstractArray{<:Any,1}`, that is, they are vectors containing any type of value. The first one has the values of that attribute or desired output for each pattern, and the second one has the values of the categories. This function should perform the following tasks:\n",
    "  * When the number of values in the class vector is equal to 2, the attribute vector is compared with one of the two classes by broadcasting the `==` operator to generate a vector of Boolean values.   This vector is then transformed into a two-dimensional matrix of one column and returned. To do the latter, see the reshape function.\n",
    "  * When the number of classes is greater than 2, first a matrix of boolean values is created (of type Array{Bool,2} or BitArray{2}) with as many rows as patterns and as many columns as categories (one column per category). Subsequently, iterate over each column/category, and assign the values of that column as the result of comparing the vector `feature` with the corresponding category by performing a broadcast as in the previous point."
   ]
  },
  {
   "cell_type": "code",
   "execution_count": 16,
   "id": "e9c757c0",
   "metadata": {},
   "outputs": [
    {
     "data": {
      "text/plain": [
       "oneHotEncoding (generic function with 1 method)"
      ]
     },
     "execution_count": 16,
     "metadata": {},
     "output_type": "execute_result"
    }
   ],
   "source": [
    "function oneHotEncoding(feature::AbstractArray{<:Any,1}, classes::AbstractArray{<:Any,1})\n",
    "    numClasses = length(unique(classes))\n",
    "\n",
    "    if (numClasses == 2)\n",
    "        oneHot = Array{Bool,2}(undef, size(feature,1), 1)\n",
    "        oneHot[:,1] .= (feature.==classes[1])\n",
    "    else\n",
    "        oneHot = Array{Bool,2}(undef, size(feature,1), numClasses)\n",
    "        for numClass = 1:numClasses\n",
    "            oneHot[:,numClass] .= (feature.==classes[numClass])\n",
    "        end\n",
    "    end\n",
    "    return oneHot\n",
    "end"
   ]
  },
  {
   "cell_type": "markdown",
   "id": "45faa4ff",
   "metadata": {},
   "source": [
    "2. Overload this function called oneHotEncoding in these two ways: \n",
    "  * One that receives a single parameter called `feature`, of type AbstractArray{<:Any,1}, which takes the categories and makes a call to the previous function. The unique function can be used to extract the categories. Develop this function without explicitly declaring it using the word function."
   ]
  },
  {
   "cell_type": "code",
   "execution_count": 17,
   "id": "1ff8cb1e",
   "metadata": {},
   "outputs": [
    {
     "data": {
      "text/plain": [
       "oneHotEncoding (generic function with 2 methods)"
      ]
     },
     "execution_count": 17,
     "metadata": {},
     "output_type": "execute_result"
    }
   ],
   "source": [
    "function oneHotEncoding(feature::AbstractArray{<:Any,1})\n",
    "    return oneHotEncoding(feature, unique(feature))\n",
    "end"
   ]
  },
  {
   "cell_type": "markdown",
   "id": "cf1b3f83",
   "metadata": {},
   "source": [
    "  * Another function that receives a single parameter called `feature`, of type AbstractArray{Bool,1}, and therefore it will be a vector that contains for each pattern only two possibilities. As there are two categories, the output array must have a single column, which has the same elements. A simple way to do this function is to use the reshape function."
   ]
  },
  {
   "cell_type": "code",
   "execution_count": 18,
   "id": "613ffa98",
   "metadata": {},
   "outputs": [
    {
     "data": {
      "text/plain": [
       "oneHotEncoding (generic function with 3 methods)"
      ]
     },
     "execution_count": 18,
     "metadata": {},
     "output_type": "execute_result"
    }
   ],
   "source": [
    "function oneHotEncoding(feature::AbstractArray{Bool,1})\n",
    "    return oneHotEncoding(reshape(feature, 1, :))\n",
    "end"
   ]
  },
  {
   "cell_type": "markdown",
   "id": "ac7a436a",
   "metadata": {},
   "source": [
    "3. Develop a set of functions to normalise the data using the code developed in the previous practice.  For this, develop the following functions: \n",
    "  * Two functions called `calculateMinMaxNormalizationParameters` and `calculateZeroMeanNormalizationParameters` that receive a parameter of type `AbstractArray{<:Real,2}` and return a tuple with two values, each of them being a matrix with one row with the minimum and maximum values for each column (first function) or means and standard deviations for each column (second function)."
   ]
  },
  {
   "cell_type": "code",
   "execution_count": 19,
   "id": "537abc5b",
   "metadata": {},
   "outputs": [
    {
     "data": {
      "text/plain": [
       "calculateMinMaxNormalizationParameters (generic function with 1 method)"
      ]
     },
     "execution_count": 19,
     "metadata": {},
     "output_type": "execute_result"
    }
   ],
   "source": [
    "using Statistics;\n",
    "\n",
    "# function defined in Unit1\n",
    "function stats(outputs)\n",
    "    minimum = mapslices(Statistics.minimum, outputs; dims=1)[1]\n",
    "    maximum = mapslices(Statistics.maximum, outputs; dims=1)[1]\n",
    "    mean = mapslices(Statistics.mean, outputs; dims=1)[1]\n",
    "    std = mapslices(Statistics.std, outputs; dims=1)[1]\n",
    "    return [minimum, maximum, mean, std]\n",
    "end\n",
    "\n",
    "function calculateMinMaxNormalizationParameters(dataset::AbstractArray{<:Real,2})\n",
    "    # function that takes a real matrix (i.e. array of reals with dimension 2)\n",
    "    # this matrix is the data-set to our problem, where each row is a sample and each column is an attribute\n",
    "    # return a 2-tuple of matrixes where each row is the minimum and maximum respectivelly\n",
    "    \n",
    "    min_matrix = []\n",
    "    max_matrix = []\n",
    "    \n",
    "    for column in eachcol(dataset)\n",
    "        r = stats(column)\n",
    "        if min_matrix == [] || max_matrix == []\n",
    "            min_matrix = r[1]\n",
    "            max_matrix = r[2]\n",
    "        else\n",
    "            min_matrix = vcat(min_matrix, r[1])\n",
    "            max_matrix = hcat(max_matrix, r[2])\n",
    "        end\n",
    "    end\n",
    "    return reshape(min_matrix, (4,1)), reshape(max_matrix, (4,1))\n",
    "end"
   ]
  },
  {
   "cell_type": "code",
   "execution_count": 20,
   "id": "a5cc0f16",
   "metadata": {},
   "outputs": [
    {
     "data": {
      "text/plain": [
       "calculateZeroMeanNormalizationParameters (generic function with 1 method)"
      ]
     },
     "execution_count": 20,
     "metadata": {},
     "output_type": "execute_result"
    }
   ],
   "source": [
    "function calculateZeroMeanNormalizationParameters(dataset::AbstractArray{<:Real,2})\n",
    "    means_matrix = []\n",
    "    std_matrix = []\n",
    "    \n",
    "    for column in eachcol(dataset)\n",
    "        r = stats(column)\n",
    "        if means_matrix == [] || std_matrix == []\n",
    "            means_matrix = r[1]\n",
    "            std_matrix = r[2]\n",
    "        else\n",
    "            means_matrix = vcat(means_matrix, r[1])\n",
    "            std_matrix = vcat(std_matrix, r[2])\n",
    "        end\n",
    "    end\n",
    "    return means_matrix, std_matrix\n",
    "end"
   ]
  },
  {
   "cell_type": "markdown",
   "id": "d29062af",
   "metadata": {},
   "source": [
    "  * Develop four functions to normalise between maximum and minimum. \n",
    "    * The first one, called normalizeMinMax! receives two parameters, an array of values to normalise (of type `AbstractArray{<:Real,2})` and the normalisation parameters (of type `NTuple{2, AbstractArray{<:Real,2}}`), executes the code of the previous tutorial referred to normalise between maximum and minimum, and returns the same array with the normalised data. Subsequently, make another function with the same name (overloaded) but with a single parameter that is the data matrix, and what it will do is to calculate the normalisation parameters with the function developed in the previous point and call the function normalizeMinMax! These two functions end in `!` because the array of values passed as a parameter is modified."
   ]
  },
  {
   "cell_type": "code",
   "execution_count": 21,
   "id": "7376c64c",
   "metadata": {},
   "outputs": [
    {
     "data": {
      "text/plain": [
       "normalizeMinMax! (generic function with 1 method)"
      ]
     },
     "execution_count": 21,
     "metadata": {},
     "output_type": "execute_result"
    }
   ],
   "source": [
    "function normalizeMinMax!(dataset::AbstractArray{<:Real,2},      \n",
    "    normalizationParameters::NTuple{2, AbstractArray{<:Real,2}})\n",
    "    # x scaled = x - min(x) / max(x) - min(x)\n",
    "    min, max = normalizationParameters\n",
    "    for i in axes(dataset, 1)\n",
    "        for j in axes(dataset, 2)\n",
    "            cmin, cmax = min[j], max[j]\n",
    "            dataset[i,j] = dataset[i,j] - cmin / (cmax - cmin)\n",
    "        end\n",
    "    end\n",
    "end"
   ]
  },
  {
   "cell_type": "code",
   "execution_count": 22,
   "id": "74c52803",
   "metadata": {},
   "outputs": [
    {
     "data": {
      "text/plain": [
       "normalizeMinMax! (generic function with 2 methods)"
      ]
     },
     "execution_count": 22,
     "metadata": {},
     "output_type": "execute_result"
    }
   ],
   "source": [
    "function normalizeMinMax!(dataset::AbstractArray{<:Real,2})\n",
    "    # x scaled = x - min(x) / max(x) - min(x)\n",
    "    min, max = calculateMinMaxNormalizationParameters(dataset)\n",
    "    for i in axes(dataset, 1)\n",
    "        for j in axes(dataset, 2)\n",
    "            cmin, cmax = min[j], max[j]\n",
    "            dataset[i,j] = dataset[i,j] - cmin / (cmax - cmin)\n",
    "        end\n",
    "    end\n",
    "end"
   ]
  },
  {
   "cell_type": "markdown",
   "id": "63822b75",
   "metadata": {},
   "source": [
    "  Make two other functions with the name normalizeMinMax that do the same, but do not modify the data matrix, i.e. create a new one, modify it and return it.  To do this, see the copy function.  These two functions should make calls to the previous functions."
   ]
  },
  {
   "cell_type": "code",
   "execution_count": 23,
   "id": "090c6221",
   "metadata": {},
   "outputs": [
    {
     "data": {
      "text/plain": [
       "normalizeMinMax (generic function with 1 method)"
      ]
     },
     "execution_count": 23,
     "metadata": {},
     "output_type": "execute_result"
    }
   ],
   "source": [
    "function normalizeMinMax( dataset::AbstractArray{<:Real,2},      \n",
    "                normalizationParameters::NTuple{2, AbstractArray{<:Real,2}}) \n",
    "    # x scaled = x - min(x) / max(x) - min(x)\n",
    "    min, max = normalizationParameters\n",
    "    out = zeros(size(dataset, 1), size(dataset, 2))\n",
    "    for i in axes(dataset, 1)\n",
    "        for j in axes(dataset, 2)\n",
    "            cmin, cmax = min[j], max[j]\n",
    "            out[i,j] = dataset[i,j] - cmin / (cmax - cmin)\n",
    "        end\n",
    "    end\n",
    "    \n",
    "    return out\n",
    "end"
   ]
  },
  {
   "cell_type": "code",
   "execution_count": 24,
   "id": "faa814c5",
   "metadata": {},
   "outputs": [
    {
     "data": {
      "text/plain": [
       "normalizeMinMax (generic function with 2 methods)"
      ]
     },
     "execution_count": 24,
     "metadata": {},
     "output_type": "execute_result"
    }
   ],
   "source": [
    "function normalizeMinMax( dataset::AbstractArray{<:Real,2})\n",
    "    # x scaled = x - min(x) / max(x) - min(x)\n",
    "    min, max = calculateMinMaxNormalizationParameters(dataset)\n",
    "    out = zeros(size(dataset, 1), size(dataset, 2))\n",
    "    for i in axes(dataset, 1)\n",
    "        for j in axes(dataset, 2)\n",
    "            cmin, cmax = min[j], max[j]\n",
    "            out[i,j] = dataset[i,j] - cmin / (cmax - cmin)\n",
    "        end\n",
    "    end\n",
    "    \n",
    "    return out\n",
    "end"
   ]
  },
  {
   "cell_type": "markdown",
   "id": "e25f1866",
   "metadata": {},
   "source": [
    "- Develop four similar functions for the case of performing a 0-mean normalisation, whose names are `normalizeZeroMean!` and  `normalizeZeroMean`."
   ]
  },
  {
   "cell_type": "code",
   "execution_count": 25,
   "id": "ca6e6c9d",
   "metadata": {},
   "outputs": [
    {
     "data": {
      "text/plain": [
       "normalizeZeroMean! (generic function with 1 method)"
      ]
     },
     "execution_count": 25,
     "metadata": {},
     "output_type": "execute_result"
    }
   ],
   "source": [
    "function normalizeZeroMean!(dataset::AbstractArray{<:Real,2},      \n",
    "                        normalizationParameters::NTuple{2, AbstractArray{<:Real,2}}) \n",
    "    mean, std = normalizationParameters\n",
    "    for i in axes(dataset, 1)\n",
    "        for j in axes(dataset, 2)\n",
    "            cmean, cstd = mean[j], std[j]\n",
    "            dataset[i,j] = dataset[i,j] - cmean / cstd\n",
    "        end\n",
    "    end\n",
    "end\n",
    "    "
   ]
  },
  {
   "cell_type": "code",
   "execution_count": 26,
   "id": "9bbe49ef",
   "metadata": {},
   "outputs": [
    {
     "data": {
      "text/plain": [
       "normalizeZeroMean! (generic function with 2 methods)"
      ]
     },
     "execution_count": 26,
     "metadata": {},
     "output_type": "execute_result"
    }
   ],
   "source": [
    "function normalizeZeroMean!(dataset::AbstractArray{<:Real,2})\n",
    "    mean, std = calculateZeroMeanNormalizationParameters(dataset)\n",
    "    for i in axes(dataset, 1)\n",
    "        for j in axes(dataset, 2)\n",
    "            cmean, cstd = mean[j], std[j]\n",
    "            dataset[i,j] = dataset[i,j] - cmean / cstd\n",
    "        end\n",
    "    end\n",
    "end             "
   ]
  },
  {
   "cell_type": "code",
   "execution_count": 27,
   "id": "dbdf7502",
   "metadata": {},
   "outputs": [
    {
     "data": {
      "text/plain": [
       "normalizeZeroMean (generic function with 1 method)"
      ]
     },
     "execution_count": 27,
     "metadata": {},
     "output_type": "execute_result"
    }
   ],
   "source": [
    "function normalizeZeroMean( dataset::AbstractArray{<:Real,2},      \n",
    "                            normalizationParameters::NTuple{2, AbstractArray{<:Real,2}})\n",
    "    mean, std = normalizationParameters\n",
    "    out = zeros(size(dataset, 1), size(dataset, 2))\n",
    "    for i in axes(dataset, 1)\n",
    "        for j in axes(dataset, 2)\n",
    "            cmean, cstd = mean[j], std[j]\n",
    "            out[i,j] = dataset[i,j] - cmean / cstd\n",
    "        end\n",
    "    end\n",
    "    return out\n",
    "end\n",
    "                     "
   ]
  },
  {
   "cell_type": "code",
   "execution_count": 28,
   "id": "6c164721",
   "metadata": {},
   "outputs": [
    {
     "data": {
      "text/plain": [
       "normalizeZeroMean (generic function with 2 methods)"
      ]
     },
     "execution_count": 28,
     "metadata": {},
     "output_type": "execute_result"
    }
   ],
   "source": [
    "function normalizeZeroMean( dataset::AbstractArray{<:Real,2}) \n",
    "    mean, std = calculateZeroMeanNormalizationParameters(dataset)\n",
    "    out = zeros(size(dataset, 1), size(dataset, 2))\n",
    "    for i in axes(dataset, 1)\n",
    "        for j in axes(dataset, 2)\n",
    "            cmean, cstd = mean[j], std[j]\n",
    "            out[i,j] = dataset[i,j] - cmean / cstd\n",
    "        end\n",
    "    end\n",
    "    return out\n",
    "end        "
   ]
  },
  {
   "cell_type": "markdown",
   "id": "b50d4550",
   "metadata": {},
   "source": [
    "4. Develop a function called `classifyOutputs`, which receives a parameter called outputs of type `AbstractArray{<:Real,2}`. It will contain the outputs of a model (not necessarily for an ANN) with `a single sample/patten in each row` and convert it to an array of boolean values that each row only has a value of true, indicating the class to which that pattern is classified.  To do this, first look at the number of columns the outputs matrix has, and then do the following: \n",
    "\n",
    "   * If you have one column, compare the matrix with a threshold value by broadcasting the >= operator to generate a matrix of boolean values of a column to be returned. To do this, the function needs to receive the threshold value as an optional parameter, with a default value of 0.5. \n",
    "\n",
    "   * If you have more than one column, you must create an array of boolean values of the same size, and, for each row, set the column with a larger value to true. This can be done without writing any loops. \n",
    "\n",
    "  This aim of this exercise, together with the next one, is to develop skills in  vector programming. Below this lines are the steps that could be taken to write the code for this second scenario, when you have more than one column (assuming that each pattern is in each row):\n",
    "  \n",
    "   * First, for each row, it needs to be found out in which column is the maximum output value for each pattern. This can be done with the `findmax` function, which returns a tuple with two values: the maximum in each row or column, and the coordinates in the matrix in which that maximum was found, which is what we are really interested in. With the keyword `dims` you can indicate whether you want to search for the maximums in the rows or in the columns.  The line of code would be as follows:\n",
    "   ```julia\n",
    "        (_,indicesMaxEachInstance) = findmax(outputs, dims=2);\n",
    "    ```\n",
    "  * Once you have it, you can create a boolean array of the same dimensionality as the output array, where each value indicates the membership of the corresponding class of that pattern. This matrix is initialised to false, so it can be easily created with the function `false`. Such as:\n",
    " ```julia\n",
    "        outputs = falses(size(outputs));\n",
    "    ``` \n",
    "  * Finally, the values of the indices containing the largest values of each row, which are collected in the `indicesMaxEachInstance` variable created earlier, are set to true in this array.  This can be done by comparing with the `outputs` array as follows:\n",
    " ```julia\n",
    "        outputs[indicesMaxEachInstance] .= true;\n",
    "    ``` "
   ]
  },
  {
   "cell_type": "code",
   "execution_count": 29,
   "id": "b85e30ec",
   "metadata": {},
   "outputs": [
    {
     "data": {
      "text/plain": [
       "classifyOutputs (generic function with 1 method)"
      ]
     },
     "execution_count": 29,
     "metadata": {},
     "output_type": "execute_result"
    }
   ],
   "source": [
    "function classifyOutputs(outputs::AbstractArray{<:Real,2}; \n",
    "                        threshold::Real=0.5)\n",
    "    if size(outputs, 2) == 1\n",
    "        output = dataset .>= threshold\n",
    "    else\n",
    "        (_,indicesMaxEachInstance) = findmax(outputs, dims=2);\n",
    "        bool_outputs = falses(size(outputs));\n",
    "        bool_outputs[indicesMaxEachInstance] .= true\n",
    "    end\n",
    "    return bool_outputs\n",
    "end"
   ]
  },
  {
   "cell_type": "markdown",
   "id": "ba3bce71",
   "metadata": {},
   "source": [
    "5.  Develop a function called `accuracy` given a matrix of desired outputs (`targets`) and a matrix of outputs emitted by a model (not necessarily for an ANN), calculate the accuracy in a classification problem.  Both matrices should have a number of rows equal to the number of patterns, i.e. each pattern will be placed in each row. Develop this function in such a way that it works for the cases of having 2 classes (one output neuron) as well as more than two classes (one output neuron per class).\n",
    "\n",
    "    To develop this function, four functions with the same name must be carried out:\n",
    "    \n",
    "    * In the first one, `targets` and `outputs` are of type `AbstractArray{Bool,1}`, i.e. vectors of boolean values.  The precision will simply be the average value of the comparison of both vectors."
   ]
  },
  {
   "cell_type": "code",
   "execution_count": 30,
   "id": "388a808a",
   "metadata": {},
   "outputs": [
    {
     "data": {
      "text/plain": [
       "0.5"
      ]
     },
     "execution_count": 30,
     "metadata": {},
     "output_type": "execute_result"
    }
   ],
   "source": [
    "using Statistics\n",
    "\n",
    "function accuracy(outputs::AbstractArray{Bool,1}, targets::AbstractArray{Bool,1}) \n",
    "    return Statistics.mean(outputs.==targets)\n",
    "end\n",
    "\n",
    "out = [false,true,false,true,false,true]\n",
    "tar = [true,true,true,true,true,true]\n",
    "\n",
    "accuracy(out,tar)"
   ]
  },
  {
   "cell_type": "markdown",
   "id": "3e942f1e",
   "metadata": {},
   "source": [
    "  * In the second of the functions, `targets` and `outputs` are of type `AbstractArray{Bool,2}`, i.e. two-dimensional arrays of Boolean values.  In this case, it will be necessary to examine the number of columns.  If they have only one column, a call to the above function will be made taking the first column of targets and outputs as vectors. If the number of columns is greater than 2, it will be necessary to compare both matrices to see in which rows the values do not match.\n",
    "  \n",
    "### Question\n",
    " What would happen if the number of columns is equal to 2? (put your answer into a comment in the code below)\n",
    " "
   ]
  },
  {
   "cell_type": "code",
   "execution_count": 31,
   "id": "88daf403",
   "metadata": {},
   "outputs": [
    {
     "data": {
      "text/plain": [
       "0.5"
      ]
     },
     "execution_count": 31,
     "metadata": {},
     "output_type": "execute_result"
    }
   ],
   "source": [
    "function accuracy(outputs::AbstractArray{Bool,2}, targets::AbstractArray{Bool,2}) \n",
    "\n",
    "    if (size(targets,2)==1)\n",
    "        return accuracy(outputs[:,1], targets[:,1])\n",
    "    else\n",
    "        classComparison = targets .== outputs\n",
    "        correctClassifications = all(classComparison, dims=2)\n",
    "        return mean(correctClassifications)\n",
    "    end\n",
    "end\n",
    "\n",
    "out = [false true false true false; \n",
    "       false true false true false]\n",
    "tar = [true true true true true; \n",
    "       false true false true false ]\n",
    "\n",
    "accuracy(out,tar)"
   ]
  },
  {
   "cell_type": "markdown",
   "id": "ff28ee46",
   "metadata": {},
   "source": [
    "  * In the third of the functions, `targets` will be of type `AbstractArray{Bool,1}` (a vector of boolean values) while `outputs` will be of type `AbstractArray{<:Real,1}`, i.e. real outputs that have not yet been interpreted as \"positive\"/\"negative\" class membership values.  In this case, the function could accept an optional `threshold` parameter with a default value of 0.5, and what it would do would be to pass the threshold to the outputs vector, and call the first `accuracy` function."
   ]
  },
  {
   "cell_type": "code",
   "execution_count": 32,
   "id": "2642d2a3",
   "metadata": {},
   "outputs": [
    {
     "data": {
      "text/plain": [
       "accuracy (generic function with 4 methods)"
      ]
     },
     "execution_count": 32,
     "metadata": {},
     "output_type": "execute_result"
    }
   ],
   "source": [
    "function accuracy(outputs::AbstractArray{<:Real,1}, targets::AbstractArray{Bool,1}, threshold::Real=0.5)\n",
    "    return accuracy(Array{Bool,1}(outputs.>=threshold), targets)\n",
    "end"
   ]
  },
  {
   "cell_type": "markdown",
   "id": "3079a0a5",
   "metadata": {},
   "source": [
    "  * Finally, in the last of the functions, `targets` will be of type `AbstractArray{Bool,2}` (an array of boolean values) while `outputs` will be of type `AbstractArray{<:Real,2}`, i.e. be real outputs that have not yet been interpreted as values belonging to N classes (N: number of columns). In this case, it is again necessary to distinguish whether you have 1 or more than 2 columns. In the first case, a call to `accuracy` should be made with the vectors corresponding to the first column of outputs and targets. In the second case, a call should be made to the function classifyOutputs to convert outputs into a variable of type AbstractArray{Bool,2}, and then make a call to `accuracy`."
   ]
  },
  {
   "cell_type": "code",
   "execution_count": 33,
   "id": "84b032c2",
   "metadata": {},
   "outputs": [
    {
     "data": {
      "text/plain": [
       "accuracy (generic function with 6 methods)"
      ]
     },
     "execution_count": 33,
     "metadata": {},
     "output_type": "execute_result"
    }
   ],
   "source": [
    "function accuracy(outputs::AbstractArray{<:Real,2}, targets::AbstractArray{Bool,2}, threshold::Real=0.5)\n",
    "    if (size(targets,2)==1)\n",
    "        return accuracy(outputs[:,1], targets[:,1])\n",
    "    else\n",
    "        classified_outputs=classifyOutputs(outputs)\n",
    "        return accuracy(classified_outputs, targets)\n",
    "    end\n",
    "end"
   ]
  },
  {
   "cell_type": "markdown",
   "id": "e728ae87",
   "metadata": {},
   "source": [
    "As in the previous exercise, due to the aim of this one is to develop the vectorial programming skills of the students, the main steps will be pointed out considering that we want ot calculate the accurry of more than 2 classes, the samples are in the rows of the matrices, and both outputs and targgets matrices are `AbstractArray{Bool, 2}`.\n",
    "\n",
    "  * Once the outputs variable has the desired form (array of Boolean values), it is compared with the targets array as follows: \n",
    "   ```julia\n",
    "        classComparison = targets .== outputs\n",
    "    ```\n",
    "  * In this new array, for each pattern, when the class matches, all elements of that row will be true. On the other hand, when the class does not match, more than one element in that row will be false. Therefore, one way to know for a pattern if it is well sorted is to look if in its row all elements are true.  This can be checked with the function `all`, which receives an array and returns true if all elements are true, but also accepts the keyword `dims`, with which it applies this same function across the given dimension. To do this on rows, you would have to do like this:\n",
    "   ```julia\n",
    "        correctClassifications = all(classComparison, dims=2)\n",
    "    ```\n",
    "  * Finally, the only thing left to do is to average this matrix. Remember that you can operate with boolean values in the same way as with real values, in this case they will be treated as 0 or 1. \n",
    "     ```julia\n",
    "        accuracy = mean(correctClassifications)\n",
    "    ```\n",
    "  * These last steps could have been performed by looking, instead of the matches between the two arrays, at the patterns where there are no matches.  For that you can use the function `any`, which receives an array of boolean values and returns true if there is any value equal to true, and also accepts the keyword `dims`. This would calculate the error rate instead of the accuracy, but the accuracy can be calculated from the error rate by simply subtracting it from 1. The code would look like:\n",
    "      ```julia\n",
    "        classComparison = targets .!= outputs \n",
    "        incorrectClassifications = any(classComparison, dims=2)\n",
    "        accuracy = 1 - mean(incorrectClassifications)\n",
    "    ```"
   ]
  },
  {
   "cell_type": "markdown",
   "id": "9c517c72",
   "metadata": {},
   "source": [
    "6. Develop a function to create ANNs to solve classification problems.  This function must receive the `topology` (number of hidden layers and neurons in each, and optionally activation functions in each hidden layer, the number of input neurons and the number of output neurons).\n",
    "   **Important** It is worth pointing out that the transfer function of the output layer is not given by the user but by the problem itself (regression/classification).  Similarly, the number of neurons in the input and output layers is given by the problem to be solved.\n",
    "   A straightforward way to create this ANN is to receive the topology as a parameter called topology of type AbstractArray{<:Int,1}, which contains the number of neurons in each hidden layer (empty for networks without hidden layers), and create the ANN as follows:\n",
    "   * Create an empty ANN\n",
    "   ```julia\n",
    "            ann = Chain();\n",
    "   ```\n",
    "   * Create a variable called numInputsLayer, initialized to the number of inputs of the ANN.\n",
    "   * If there are hidden layers, i.e. if the `topology` vector is not empty, iterate through this vector (the value of the loop will be equal to the number of neurons in each layer) and in each iteration create a hidden layer where the number of inputs will be equal to the value of the numInputsLayer variable and the number of outputs equal to the current value of the loop. If the transfer function of each hidden layer has not been specified, use the same transfer function σ in all hidden layers. After this, update the value of numInputsLayer to the value used in that iteration.\n",
    "   ```julia\n",
    "            for numOutputsLayer = topology      \n",
    "                ann = Chain(ann..., Dense(numInputsLayer, numOutputsLayer, σ) );      \n",
    "                numInputsLayer = numOutputsLayer; \n",
    "            end;\n",
    "   ```\n",
    "   If these lines are written in the script without being inside a loop or function, compiling the code will give several warnings and the code will not properly work. This is automatically corrected by using this code inside a function.  To use it in the main body, you should write `global ann, numInputsLayer;` at the beginning of the loop.\n",
    "   * Finally, add the final layer, with the number of neurons and transfer function appropriate to the number of classes as described above, adding the `softmax` function if there are more than two output classes. \n"
   ]
  },
  {
   "cell_type": "code",
   "execution_count": 34,
   "id": "686ad280",
   "metadata": {},
   "outputs": [
    {
     "data": {
      "text/plain": [
       "buildClassANN (generic function with 1 method)"
      ]
     },
     "execution_count": 34,
     "metadata": {},
     "output_type": "execute_result"
    }
   ],
   "source": [
    "function buildClassANN(numInputs::Int, topology::AbstractArray{<:Int,1}, numOutputs::Int;\n",
    "                    transferFunctions::AbstractArray{<:Function,1}=fill(σ, length(topology))) \n",
    "    ann = Chain()\n",
    "    numInputsLayer = numInputs\n",
    "    for numOutputLayers = topology\n",
    "        ann = Chain(ann..., Dense(numInputsLayer, numOutputLayers, σ))\n",
    "        numInputsLayer = numOutputLayers\n",
    "    end\n",
    "    if (numOutputs == 1)\n",
    "        ann = Chain(ann..., Dense(numInputsLayer, 1, σ))\n",
    "    else\n",
    "        ann = Chain(ann..., Dense(numInputsLayer, numOutputs, identity))\n",
    "        ann = Chain(ann..., softmax)\n",
    "    end\n",
    "    return ann\n",
    "end"
   ]
  },
  {
   "cell_type": "markdown",
   "id": "07d4e6a2",
   "metadata": {},
   "source": [
    "7. Develop a function that creates an ANN to perform classification (via a call to the above function) and trains it.   To do this, this function should implement a loop in which the ANN is trained with the training set passed as a parameter until one of the stop criteria passed as parameters is met.  The function should return the trained ANN.  The argumentes shopuld be:\n",
    "  * **topology**, of type `AbstractArray{<:Int,1}` with the topology (hidden layers) of the ANN. \n",
    "  * **dataset**, of type `Tuple{AbstractArray{<:Real,2},  AbstractArray{Bool,2}} with the  matrix of inputs and targets.  From these matrices, the number of input and output neurons necessary to call the previous function can be obtained by means of the size function.\n",
    "  * Optional parameters controlling other aspects of the algorithm such as the stopping criteria of the algorithm, with default values:\n",
    "    * **maxEpochs**, of type Int, with a default value of 1000\n",
    "    * **minLoss**, of type Real, with a default value of 0\n",
    "    * **learningRate**, of type Real, with a default value of 0.01.\n",
    "    \n",
    "  It is important to highlight that the set of patterns used here will have each pattern in a row, while the Flux library (in general, most Genetic Algorithms libraries do) expect matrices in which each pattern is in a column.  This is not a problem, matrices only need to be transposed on certain occasions, such as when supplying the function to train an ANN cycle, when calculating the loss value, or when taking the output matrices obtained by running the ANN.\n",
    "  \n",
    "  Bear in mind that a call to the train! function trains the ANN for one loop only. Therefore, it is necessary, first, to create the ANN by calling the above function, and then to run a loop that calls the `train!` function only once in each iteration.  That is, if you want to train for n cycles, this loop will have to perform `n` iterations.\n",
    "  \n",
    "  The output of this function should be at least the trained ANN and a vector with the loss values for each training cycle."
   ]
  },
  {
   "cell_type": "code",
   "execution_count": 35,
   "id": "1ed65c9f",
   "metadata": {},
   "outputs": [
    {
     "data": {
      "text/plain": [
       "trainClassANN (generic function with 1 method)"
      ]
     },
     "execution_count": 35,
     "metadata": {},
     "output_type": "execute_result"
    }
   ],
   "source": [
    "function trainClassANN(topology::AbstractArray{<:Int,1},      \n",
    "                    dataset::Tuple{AbstractArray{<:Real,2}, AbstractArray{Bool,2}};\n",
    "                    transferFunctions::AbstractArray{<:Function,1}=fill(σ, length(topology)),\n",
    "                    maxEpochs::Int=1000, minLoss::Real=0.0, learningRate::Real=0.01) \n",
    "    \n",
    "    # Create ANN and loss function for classification problems\n",
    "    inputs, outputs = dataset\n",
    "    n_inputs, n_outputs = size(inputs,2), size(outputs,2)\n",
    "    ann = buildClassANN(n_inputs, topology, n_outputs);\n",
    "    loss(x, y) = (size(y,1) == 1) ? Losses.binarycrossentropy(ann(x),y) : Losses.crossentropy(ann(x),y)\n",
    "    \n",
    "    # Compute base array\n",
    "    losses = Float64[]\n",
    "    \n",
    "    # Compute initial epoch metrics\n",
    "    current_epoch = 0                    \n",
    "    current_loss = 999\n",
    "    # Train\n",
    "    while current_epoch < maxEpochs || current_loss < minLoss\n",
    "        Flux.train!(loss, Flux.params(ann), [(inputs', outputs')], ADAM(learningRate))\n",
    "        \n",
    "        current_epoch += 1\n",
    "        ann_outputs = ann(inputs')\n",
    "        \n",
    "\n",
    "        current_loss = loss(inputs', ann_outputs);\n",
    "        acc = accuracy(ann_outputs', Array{Bool,2}(outputs))\n",
    "        \n",
    "        push!(losses, current_loss)\n",
    "        println(\"epoch:\",current_epoch,\"; loss:\",current_loss,\"; accuracy\",acc,\"...\")\n",
    "    end\n",
    "    \n",
    "    return (ann, losses)\n",
    "end\n"
   ]
  },
  {
   "cell_type": "markdown",
   "id": "867622f0",
   "metadata": {},
   "source": [
    "8. Occasionally, when the classification problem is of two classes, instead of having the desired outputs as a single column matrix, it will be as a vector.  To deal with these cases, a function of the same name as above and accepting the same arguments is requested, except that the second argument, dataset, is of type `Tuple{AbstractArray{<:Real,2}, AbstractArray{Bool,1}}`. This function should only convert the desired output vector into an array with one column and call the above function.  To do this conversion, see the reshape function."
   ]
  },
  {
   "cell_type": "code",
   "execution_count": 36,
   "id": "eef7b93a",
   "metadata": {},
   "outputs": [
    {
     "data": {
      "text/plain": [
       "trainClassANN (generic function with 2 methods)"
      ]
     },
     "execution_count": 36,
     "metadata": {},
     "output_type": "execute_result"
    }
   ],
   "source": [
    "function trainClassANN(topology::AbstractArray{<:Int,1},      \n",
    "                    (inputs, targets)::Tuple{AbstractArray{<:Real,2}, AbstractArray{Bool,1}};      \n",
    "                    transferFunctions::AbstractArray{<:Function,1}=fill(σ, length(topology)),      \n",
    "                    maxEpochs::Int=1000, minLoss::Real=0.0, learningRate::Real=0.01)\n",
    "    targets_reshape = reshape(targets, (size(targets,1),1))\n",
    "    trainClassANN(topology, (inputs, targets_reshape), transferFunctions, maxEpoch, minLoss, learningRate)\n",
    "end"
   ]
  },
  {
   "cell_type": "code",
   "execution_count": 62,
   "id": "d9e10b92",
   "metadata": {},
   "outputs": [
    {
     "name": "stdout",
     "output_type": "stream",
     "text": [
      "epoch:1; loss:0.49098216946321627; accuracy0.3333333333333333...\n",
      "epoch:2; loss:1.092472140886108; accuracy0.3333333333333333...\n",
      "epoch:3; loss:1.0079381959100666; accuracy0.3333333333333333...\n",
      "epoch:4; loss:1.0986122073684819; accuracy0.3333333333333333...\n",
      "epoch:5; loss:1.017329334455836; accuracy0.3333333333333333...\n",
      "epoch:6; loss:1.098612173559643; accuracy0.3333333333333333...\n",
      "epoch:7; loss:1.0173952541709632; accuracy0.3333333333333333...\n",
      "epoch:8; loss:1.0986120774294628; accuracy0.3333333333333333...\n",
      "epoch:9; loss:1.0174026847083446; accuracy0.3333333333333333...\n",
      "epoch:10; loss:1.0986120043576586; accuracy0.3333333333333333...\n",
      "epoch:11; loss:1.0174089750372397; accuracy0.3333333333333333...\n",
      "epoch:12; loss:1.0986118183663582; accuracy0.3333333333333333...\n",
      "epoch:13; loss:1.0174139451170081; accuracy0.3333333333333333...\n",
      "epoch:14; loss:1.0986115616279704; accuracy0.3333333333333333...\n",
      "epoch:15; loss:1.028955020463009; accuracy0.3333333333333333...\n",
      "epoch:16; loss:0.39915812955843666; accuracy0.3333333333333333...\n",
      "epoch:17; loss:1.0311569158380918; accuracy0.3333333333333333...\n",
      "epoch:18; loss:0.4465217581235504; accuracy0.3333333333333333...\n",
      "epoch:19; loss:1.0246597475124104; accuracy0.3333333333333333...\n",
      "epoch:20; loss:0.4465335510113991; accuracy0.3333333333333333...\n",
      "epoch:21; loss:1.0246595859405105; accuracy0.3333333333333333...\n",
      "epoch:22; loss:0.44654524535413004; accuracy0.3333333333333333...\n",
      "epoch:23; loss:1.0246594265505096; accuracy0.3333333333333333...\n",
      "epoch:24; loss:0.4465569197112499; accuracy0.3333333333333333...\n",
      "epoch:25; loss:1.0246592728659083; accuracy0.3333333333333333...\n",
      "epoch:26; loss:0.44656859386844977; accuracy0.3333333333333333...\n",
      "epoch:27; loss:1.0246591293128589; accuracy0.3333333333333333...\n",
      "epoch:28; loss:0.446580438394896; accuracy0.3333333333333333...\n",
      "epoch:29; loss:1.0246609135497329; accuracy0.3333333333333333...\n",
      "epoch:30; loss:0.45457005864827843; accuracy0.3333333333333333...\n",
      "epoch:31; loss:1.0255803534799481; accuracy0.3333333333333333...\n",
      "epoch:32; loss:0.5172234863291361; accuracy0.3333333333333333...\n",
      "epoch:33; loss:1.0211385299832414; accuracy0.3333333333333333...\n",
      "epoch:34; loss:0.517479234399768; accuracy0.3333333333333333...\n",
      "epoch:35; loss:1.0210674124265662; accuracy0.3333333333333333...\n",
      "epoch:36; loss:0.5176420260067015; accuracy0.3333333333333333...\n",
      "epoch:37; loss:1.0210188926305825; accuracy0.3333333333333333...\n",
      "epoch:38; loss:0.5177028789090267; accuracy0.3333333333333333...\n",
      "epoch:39; loss:1.0210172144318848; accuracy0.3333333333333333...\n",
      "epoch:40; loss:0.517751683787344; accuracy0.3333333333333333...\n",
      "epoch:41; loss:1.0210156339738878; accuracy0.3333333333333333...\n",
      "epoch:42; loss:0.5185639161220922; accuracy0.3333333333333333...\n",
      "epoch:43; loss:1.0209534480688596; accuracy0.3333333333333333...\n",
      "epoch:44; loss:0.5387883945498337; accuracy0.3333333333333333...\n",
      "epoch:45; loss:1.0198613805855117; accuracy0.3333333333333333...\n",
      "epoch:46; loss:0.538902033588404; accuracy0.3333333333333333...\n",
      "epoch:47; loss:1.0198200743290278; accuracy0.3333333333333333...\n",
      "epoch:48; loss:0.5390161144871187; accuracy0.3333333333333333...\n",
      "epoch:49; loss:1.019784928280904; accuracy0.3333333333333333...\n",
      "epoch:50; loss:0.5390785039179438; accuracy0.3333333333333333...\n",
      "epoch:51; loss:1.019784697460107; accuracy0.3333333333333333...\n",
      "epoch:52; loss:0.539140887825831; accuracy0.3333333333333333...\n",
      "epoch:53; loss:1.0197844705250145; accuracy0.3333333333333333...\n",
      "epoch:54; loss:0.5392033717731471; accuracy0.3333333333333333...\n",
      "epoch:55; loss:1.0197842342658148; accuracy0.3333333333333333...\n",
      "epoch:56; loss:0.5392658823698915; accuracy0.3333333333333333...\n",
      "epoch:57; loss:1.019784006058638; accuracy0.3333333333333333...\n",
      "epoch:58; loss:0.5393284473240918; accuracy0.3333333333333333...\n",
      "epoch:59; loss:1.0197837786921329; accuracy0.3333333333333333...\n",
      "epoch:60; loss:0.5393910142902786; accuracy0.3333333333333333...\n",
      "epoch:61; loss:1.0197835532575288; accuracy0.3333333333333333...\n",
      "epoch:62; loss:0.5394536165922166; accuracy0.3333333333333333...\n",
      "epoch:63; loss:1.0197833227809603; accuracy0.3333333333333333...\n",
      "epoch:64; loss:0.5395162502046843; accuracy0.3333333333333333...\n",
      "epoch:65; loss:1.0197831002232065; accuracy0.3333333333333333...\n",
      "epoch:66; loss:0.5395789329206194; accuracy0.3333333333333333...\n",
      "epoch:67; loss:1.0197828839750018; accuracy0.3333333333333333...\n",
      "epoch:68; loss:0.5396416398840047; accuracy0.3333333333333333...\n",
      "epoch:69; loss:1.0197826579059361; accuracy0.3333333333333333...\n",
      "epoch:70; loss:0.5397044232047972; accuracy0.3333333333333333...\n",
      "epoch:71; loss:1.0197824325782825; accuracy0.3333333333333333...\n",
      "epoch:72; loss:0.5397672292741692; accuracy0.3333333333333333...\n",
      "epoch:73; loss:1.019782205688557; accuracy0.3333333333333333...\n",
      "epoch:74; loss:0.5398300859922744; accuracy0.3333333333333333...\n",
      "epoch:75; loss:1.0197819747193173; accuracy0.3333333333333333...\n",
      "epoch:76; loss:0.5398930352198047; accuracy0.3333333333333333...\n",
      "epoch:77; loss:1.0197817521648562; accuracy0.3333333333333333...\n",
      "epoch:78; loss:0.5399559908943361; accuracy0.3333333333333333...\n",
      "epoch:79; loss:1.0197815302317093; accuracy0.3333333333333333...\n",
      "epoch:80; loss:0.5400189749005087; accuracy0.3333333333333333...\n",
      "epoch:81; loss:1.0197813103738893; accuracy0.3333333333333333...\n",
      "epoch:82; loss:0.5400820654364775; accuracy0.3333333333333333...\n",
      "epoch:83; loss:1.0197810866646597; accuracy0.3333333333333333...\n",
      "epoch:84; loss:0.540145195134805; accuracy0.3333333333333333...\n",
      "epoch:85; loss:1.019780867295845; accuracy0.3333333333333333...\n",
      "epoch:86; loss:0.540208321402162; accuracy0.3333333333333333...\n",
      "epoch:87; loss:1.019780644521674; accuracy0.3333333333333333...\n",
      "epoch:88; loss:0.5402714835237479; accuracy0.3333333333333333...\n",
      "epoch:89; loss:1.0197804219676099; accuracy0.3333333333333333...\n",
      "epoch:90; loss:0.5403347165087152; accuracy0.3333333333333333...\n",
      "epoch:91; loss:1.0197801994948157; accuracy0.3333333333333333...\n",
      "epoch:92; loss:0.5403979855102649; accuracy0.3333333333333333...\n",
      "epoch:93; loss:1.0197799776751206; accuracy0.3333333333333333...\n",
      "epoch:94; loss:0.5404613025797245; accuracy0.3333333333333333...\n",
      "epoch:95; loss:1.0197797577475103; accuracy0.3333333333333333...\n",
      "epoch:96; loss:0.5405247006594176; accuracy0.3333333333333333...\n",
      "epoch:97; loss:1.0197795421323455; accuracy0.3333333333333333...\n",
      "epoch:98; loss:0.5405881192733104; accuracy0.3333333333333333...\n",
      "epoch:99; loss:1.0197793212514394; accuracy0.3333333333333333...\n",
      "epoch:100; loss:0.5406516090533606; accuracy0.3333333333333333...\n",
      "epoch:101; loss:1.019779100399721; accuracy0.3333333333333333...\n",
      "epoch:102; loss:0.5407151115715064; accuracy0.3333333333333333...\n",
      "epoch:103; loss:1.0197788858783516; accuracy0.3333333333333333...\n",
      "epoch:104; loss:0.5407786290682574; accuracy0.3333333333333333...\n",
      "epoch:105; loss:1.0197786680670806; accuracy0.3333333333333333...\n",
      "epoch:106; loss:0.5408421548470393; accuracy0.3333333333333333...\n",
      "epoch:107; loss:1.0197784445763016; accuracy0.3333333333333333...\n",
      "epoch:108; loss:0.5409057728426298; accuracy0.3333333333333333...\n",
      "epoch:109; loss:1.0197782288451065; accuracy0.3333333333333333...\n",
      "epoch:110; loss:0.5409695479171563; accuracy0.3333333333333333...\n",
      "epoch:111; loss:1.0197780093487119; accuracy0.3333333333333333...\n",
      "epoch:112; loss:0.5410332480655682; accuracy0.3333333333333333...\n",
      "epoch:113; loss:1.0197777959905547; accuracy0.3333333333333333...\n",
      "epoch:114; loss:0.5410970389907865; accuracy0.3333333333333333...\n",
      "epoch:115; loss:1.0197775784787013; accuracy0.3333333333333333...\n",
      "epoch:116; loss:0.5411609144401811; accuracy0.3333333333333333...\n",
      "epoch:117; loss:1.0197773578495704; accuracy0.3333333333333333...\n",
      "epoch:118; loss:0.5412248266264806; accuracy0.3333333333333333...\n",
      "epoch:119; loss:1.0197771437592391; accuracy0.3333333333333333...\n",
      "epoch:120; loss:0.5412887529150222; accuracy0.3333333333333333...\n",
      "epoch:121; loss:1.0197769295909205; accuracy0.3333333333333333...\n",
      "epoch:122; loss:0.5413526963280649; accuracy0.3333333333333333...\n",
      "epoch:123; loss:1.0197767158042574; accuracy0.3333333333333333...\n",
      "epoch:124; loss:0.5414167356980828; accuracy0.3333333333333333...\n",
      "epoch:125; loss:1.019776501845607; accuracy0.3333333333333333...\n",
      "epoch:126; loss:0.5414808177428567; accuracy0.3333333333333333...\n",
      "epoch:127; loss:1.0197762811207483; accuracy0.3333333333333333...\n",
      "epoch:128; loss:0.5415449483431183; accuracy0.3333333333333333...\n",
      "epoch:129; loss:1.0197760659365718; accuracy0.3333333333333333...\n",
      "epoch:130; loss:0.5416090912180475; accuracy0.3333333333333333...\n",
      "epoch:131; loss:1.0197758528732284; accuracy0.3333333333333333...\n",
      "epoch:132; loss:0.5416733189169584; accuracy0.3333333333333333...\n",
      "epoch:133; loss:1.0197756400317284; accuracy0.3333333333333333...\n",
      "epoch:134; loss:0.5417376912769998; accuracy0.3333333333333333...\n",
      "epoch:135; loss:1.0197754210558478; accuracy0.3333333333333333...\n",
      "epoch:136; loss:0.5418020547748823; accuracy0.3333333333333333...\n",
      "epoch:137; loss:1.0197752086828318; accuracy0.3333333333333333...\n",
      "epoch:138; loss:0.5418665540122278; accuracy0.3333333333333333...\n",
      "epoch:139; loss:1.0197749902662008; accuracy0.3333333333333333...\n",
      "epoch:140; loss:0.5419310502646421; accuracy0.3333333333333333...\n",
      "epoch:141; loss:1.019774772317679; accuracy0.3333333333333333...\n",
      "epoch:142; loss:0.5419955933527795; accuracy0.3333333333333333...\n",
      "epoch:143; loss:1.0197745567447754; accuracy0.3333333333333333...\n",
      "epoch:144; loss:0.5420601721708237; accuracy0.3333333333333333...\n",
      "epoch:145; loss:1.0197743356517988; accuracy0.3333333333333333...\n",
      "epoch:146; loss:0.5421247769662761; accuracy0.3333333333333333...\n",
      "epoch:147; loss:1.0197741165218466; accuracy0.3333333333333333...\n",
      "epoch:148; loss:0.5421894180914991; accuracy0.3333333333333333...\n",
      "epoch:149; loss:1.0197738974523654; accuracy0.3333333333333333...\n",
      "epoch:150; loss:0.5422541970661385; accuracy0.3333333333333333...\n",
      "epoch:151; loss:1.0197736848752024; accuracy0.3333333333333333...\n",
      "epoch:152; loss:0.5423189817992413; accuracy0.3333333333333333...\n",
      "epoch:153; loss:1.019773468368815; accuracy0.3333333333333333...\n",
      "epoch:154; loss:0.5423837835889977; accuracy0.3333333333333333...\n",
      "epoch:155; loss:1.0197732502713606; accuracy0.3333333333333333...\n",
      "epoch:156; loss:0.5424487003903686; accuracy0.3333333333333333...\n",
      "epoch:157; loss:1.0197730338195816; accuracy0.3333333333333333...\n"
     ]
    },
    {
     "name": "stdout",
     "output_type": "stream",
     "text": [
      "epoch:158; loss:0.5425136968421054; accuracy0.3333333333333333...\n",
      "epoch:159; loss:1.0197728117536302; accuracy0.3333333333333333...\n",
      "epoch:160; loss:0.5425787377771015; accuracy0.3333333333333333...\n",
      "epoch:161; loss:1.019772593904717; accuracy0.3333333333333333...\n",
      "epoch:162; loss:0.5426439008423418; accuracy0.3333333333333333...\n",
      "epoch:163; loss:1.0197723703126653; accuracy0.3333333333333333...\n",
      "epoch:164; loss:0.5427090507979208; accuracy0.3333333333333333...\n",
      "epoch:165; loss:1.019772156755897; accuracy0.3333333333333333...\n",
      "epoch:166; loss:0.5427742344808223; accuracy0.3333333333333333...\n",
      "epoch:167; loss:1.0197719473928817; accuracy0.3333333333333333...\n",
      "epoch:168; loss:0.542839438605366; accuracy0.3333333333333333...\n",
      "epoch:169; loss:1.0197717422203716; accuracy0.3333333333333333...\n",
      "epoch:170; loss:0.5429046959625186; accuracy0.3333333333333333...\n",
      "epoch:171; loss:1.0197715332701296; accuracy0.3333333333333333...\n",
      "epoch:172; loss:0.5429700580143582; accuracy0.3333333333333333...\n",
      "epoch:173; loss:1.0197713168269131; accuracy0.3333333333333333...\n",
      "epoch:174; loss:0.5430354777083578; accuracy0.3333333333333333...\n",
      "epoch:175; loss:1.0197711102210458; accuracy0.3333333333333333...\n",
      "epoch:176; loss:0.5431008824477239; accuracy0.3333333333333333...\n",
      "epoch:177; loss:1.0197708943558679; accuracy0.3333333333333333...\n",
      "epoch:178; loss:0.54316644727035; accuracy0.3333333333333333...\n",
      "epoch:179; loss:1.0197706822131658; accuracy0.3333333333333333...\n",
      "epoch:180; loss:0.5432320266128399; accuracy0.3333333333333333...\n",
      "epoch:181; loss:1.0197704720410212; accuracy0.3333333333333333...\n",
      "epoch:182; loss:0.543297688599406; accuracy0.3333333333333333...\n",
      "epoch:183; loss:1.0197702621449314; accuracy0.3333333333333333...\n",
      "epoch:184; loss:0.5433634287827147; accuracy0.3333333333333333...\n",
      "epoch:185; loss:1.0197700446660602; accuracy0.3333333333333333...\n",
      "epoch:186; loss:0.5434292348277368; accuracy0.3333333333333333...\n",
      "epoch:187; loss:1.0197698296131847; accuracy0.3333333333333333...\n",
      "epoch:188; loss:0.5434950443694344; accuracy0.3333333333333333...\n",
      "epoch:189; loss:1.019769622064552; accuracy0.3333333333333333...\n",
      "epoch:190; loss:0.5435609354660906; accuracy0.3333333333333333...\n",
      "epoch:191; loss:1.0197694208599162; accuracy0.3333333333333333...\n",
      "epoch:192; loss:0.5436269147262571; accuracy0.3333333333333333...\n",
      "epoch:193; loss:1.0197692077343683; accuracy0.3333333333333333...\n",
      "epoch:194; loss:0.5436929417952163; accuracy0.3333333333333333...\n",
      "epoch:195; loss:1.019769000750537; accuracy0.3333333333333333...\n",
      "epoch:196; loss:0.5437590115740497; accuracy0.3333333333333333...\n",
      "epoch:197; loss:1.0197687921289704; accuracy0.3333333333333333...\n",
      "epoch:198; loss:0.5438251416768032; accuracy0.3333333333333333...\n",
      "epoch:199; loss:1.0197685855508207; accuracy0.3333333333333333...\n",
      "epoch:200; loss:0.5438913692537924; accuracy0.3333333333333333...\n",
      "epoch:201; loss:1.019768369429453; accuracy0.3333333333333333...\n",
      "epoch:202; loss:0.5439576866643548; accuracy0.3333333333333333...\n",
      "epoch:203; loss:1.0197681528377187; accuracy0.3333333333333333...\n",
      "epoch:204; loss:0.5440240663245328; accuracy0.3333333333333333...\n",
      "epoch:205; loss:1.0197679389348702; accuracy0.3333333333333333...\n",
      "epoch:206; loss:0.5440905194761999; accuracy0.3333333333333333...\n",
      "epoch:207; loss:1.0197677366058706; accuracy0.3333333333333333...\n",
      "epoch:208; loss:0.544156973362074; accuracy0.3333333333333333...\n",
      "epoch:209; loss:1.0197675248880358; accuracy0.3333333333333333...\n",
      "epoch:210; loss:0.5442235484967057; accuracy0.3333333333333333...\n",
      "epoch:211; loss:1.0197673116302588; accuracy0.3333333333333333...\n",
      "epoch:212; loss:0.5442901043054735; accuracy0.3333333333333333...\n",
      "epoch:213; loss:1.0197671043239782; accuracy0.3333333333333333...\n",
      "epoch:214; loss:0.5443568317421744; accuracy0.3333333333333333...\n",
      "epoch:215; loss:1.0197668930603758; accuracy0.3333333333333333...\n",
      "epoch:216; loss:0.544423607185427; accuracy0.3333333333333333...\n",
      "epoch:217; loss:1.0197666817909026; accuracy0.3333333333333333...\n",
      "epoch:218; loss:0.5444904350885821; accuracy0.3333333333333333...\n",
      "epoch:219; loss:1.0197664748895692; accuracy0.3333333333333333...\n",
      "epoch:220; loss:0.5445573261410973; accuracy0.3333333333333333...\n",
      "epoch:221; loss:1.019766260524801; accuracy0.3333333333333333...\n",
      "epoch:222; loss:0.5446242680206478; accuracy0.3333333333333333...\n",
      "epoch:223; loss:1.0197660480240875; accuracy0.3333333333333333...\n",
      "epoch:224; loss:0.5446912885162886; accuracy0.3333333333333333...\n",
      "epoch:225; loss:1.0197658396899778; accuracy0.3333333333333333...\n",
      "epoch:226; loss:0.5447582984921797; accuracy0.3333333333333333...\n",
      "epoch:227; loss:1.019765637619526; accuracy0.3333333333333333...\n",
      "epoch:228; loss:0.5448254486329066; accuracy0.3333333333333333...\n",
      "epoch:229; loss:1.019765425821671; accuracy0.3333333333333333...\n",
      "epoch:230; loss:0.5448926734384123; accuracy0.3333333333333333...\n",
      "epoch:231; loss:1.019765217658117; accuracy0.3333333333333333...\n",
      "epoch:232; loss:0.5449600002663896; accuracy0.3333333333333333...\n",
      "epoch:233; loss:1.0197650101490348; accuracy0.3333333333333333...\n",
      "epoch:234; loss:0.5450273396278713; accuracy0.3333333333333333...\n",
      "epoch:235; loss:1.0197647985650933; accuracy0.3333333333333333...\n",
      "epoch:236; loss:0.5450948553566698; accuracy0.3333333333333333...\n",
      "epoch:237; loss:1.01976459659942; accuracy0.3333333333333333...\n",
      "epoch:238; loss:0.54516239304888; accuracy0.3333333333333333...\n",
      "epoch:239; loss:1.0197643894168542; accuracy0.3333333333333333...\n",
      "epoch:240; loss:0.5452299690739992; accuracy0.3333333333333333...\n",
      "epoch:241; loss:1.019764184474873; accuracy0.3333333333333333...\n",
      "epoch:242; loss:0.5452976282085484; accuracy0.3333333333333333...\n",
      "epoch:243; loss:1.0197639792900866; accuracy0.3333333333333333...\n",
      "epoch:244; loss:0.5453653803917634; accuracy0.3333333333333333...\n",
      "epoch:245; loss:1.0197637705608098; accuracy0.3333333333333333...\n",
      "epoch:246; loss:0.545433221952228; accuracy0.3333333333333333...\n",
      "epoch:247; loss:1.0197635616898917; accuracy0.3333333333333333...\n",
      "epoch:248; loss:0.5455011407983352; accuracy0.3333333333333333...\n",
      "epoch:249; loss:1.0197633511784863; accuracy0.3333333333333333...\n",
      "epoch:250; loss:0.5455691208932586; accuracy0.3333333333333333...\n",
      "epoch:251; loss:1.0197631525585245; accuracy0.3333333333333333...\n",
      "epoch:252; loss:0.5456371216464375; accuracy0.3333333333333333...\n",
      "epoch:253; loss:1.019762946509102; accuracy0.3333333333333333...\n",
      "epoch:254; loss:0.5457052672781945; accuracy0.3333333333333333...\n",
      "epoch:255; loss:1.0197627362242028; accuracy0.3333333333333333...\n",
      "epoch:256; loss:0.5457735026067099; accuracy0.3333333333333333...\n",
      "epoch:257; loss:1.0197625263156072; accuracy0.3333333333333333...\n",
      "epoch:258; loss:0.5458418487366553; accuracy0.3333333333333333...\n",
      "epoch:259; loss:1.0197623147293629; accuracy0.3333333333333333...\n",
      "epoch:260; loss:0.545910271803998; accuracy0.3333333333333333...\n",
      "epoch:261; loss:1.0197621033177675; accuracy0.3333333333333333...\n",
      "epoch:262; loss:0.5459787675747891; accuracy0.3333333333333333...\n",
      "epoch:263; loss:1.019761903308809; accuracy0.3333333333333333...\n",
      "epoch:264; loss:0.5460473233457165; accuracy0.3333333333333333...\n",
      "epoch:265; loss:1.0197616976622634; accuracy0.3333333333333333...\n",
      "epoch:266; loss:0.546115968019445; accuracy0.3333333333333333...\n",
      "epoch:267; loss:1.019761491933292; accuracy0.3333333333333333...\n",
      "epoch:268; loss:0.5461847359551182; accuracy0.3333333333333333...\n",
      "epoch:269; loss:1.019761283209351; accuracy0.3333333333333333...\n",
      "epoch:270; loss:0.5462535314424624; accuracy0.3333333333333333...\n",
      "epoch:271; loss:1.01976107814708; accuracy0.3333333333333333...\n",
      "epoch:272; loss:0.5463224442595995; accuracy0.3333333333333333...\n",
      "epoch:273; loss:1.01976086751319; accuracy0.3333333333333333...\n",
      "epoch:274; loss:0.5463914519250941; accuracy0.3333333333333333...\n",
      "epoch:275; loss:1.0197606566264266; accuracy0.3333333333333333...\n",
      "epoch:276; loss:0.5464605269378283; accuracy0.3333333333333333...\n",
      "epoch:277; loss:1.0197604538764806; accuracy0.3333333333333333...\n",
      "epoch:278; loss:0.5465297279810835; accuracy0.3333333333333333...\n",
      "epoch:279; loss:1.0197602512355277; accuracy0.3333333333333333...\n",
      "epoch:280; loss:0.5465989740974807; accuracy0.3333333333333333...\n",
      "epoch:281; loss:1.019760048858469; accuracy0.3333333333333333...\n",
      "epoch:282; loss:0.5466683248200805; accuracy0.3333333333333333...\n",
      "epoch:283; loss:1.0197598424454353; accuracy0.3333333333333333...\n",
      "epoch:284; loss:0.5467377996588979; accuracy0.3333333333333333...\n",
      "epoch:285; loss:1.0197596383059464; accuracy0.3333333333333333...\n",
      "epoch:286; loss:0.5468073173959039; accuracy0.3333333333333333...\n",
      "epoch:287; loss:1.019759436683346; accuracy0.3333333333333333...\n",
      "epoch:288; loss:0.5468769865511491; accuracy0.3333333333333333...\n",
      "epoch:289; loss:1.0197592325588776; accuracy0.3333333333333333...\n",
      "epoch:290; loss:0.5469467315353426; accuracy0.3333333333333333...\n",
      "epoch:291; loss:1.0197590268506351; accuracy0.3333333333333333...\n",
      "epoch:292; loss:0.5470165316879426; accuracy0.3333333333333333...\n",
      "epoch:293; loss:1.0197588251858474; accuracy0.3333333333333333...\n",
      "epoch:294; loss:0.5470864953057037; accuracy0.3333333333333333...\n",
      "epoch:295; loss:1.0197586176343494; accuracy0.3333333333333333...\n",
      "epoch:296; loss:0.5471565510127578; accuracy0.3333333333333333...\n",
      "epoch:297; loss:1.0197584139686886; accuracy0.3333333333333333...\n",
      "epoch:298; loss:0.5472266815913933; accuracy0.3333333333333333...\n",
      "epoch:299; loss:1.0197582184401746; accuracy0.3333333333333333...\n",
      "epoch:300; loss:0.5472969802611077; accuracy0.3333333333333333...\n",
      "epoch:301; loss:1.0197580211621744; accuracy0.3333333333333333...\n",
      "epoch:302; loss:0.547367346716041; accuracy0.3333333333333333...\n",
      "epoch:303; loss:1.0197578145739434; accuracy0.3333333333333333...\n",
      "epoch:304; loss:0.5474378231257064; accuracy0.3333333333333333...\n",
      "epoch:305; loss:1.0197576175918313; accuracy0.3333333333333333...\n",
      "epoch:306; loss:0.5475083560250285; accuracy0.3333333333333333...\n",
      "epoch:307; loss:1.0197574150968736; accuracy0.3333333333333333...\n",
      "epoch:308; loss:0.5475790482514455; accuracy0.3333333333333333...\n",
      "epoch:309; loss:1.0197572106776127; accuracy0.3333333333333333...\n",
      "epoch:310; loss:0.547649792336007; accuracy0.3333333333333333...\n",
      "epoch:311; loss:1.0197570082583582; accuracy0.3333333333333333...\n",
      "epoch:312; loss:0.5477206799367852; accuracy0.3333333333333333...\n"
     ]
    },
    {
     "name": "stdout",
     "output_type": "stream",
     "text": [
      "epoch:313; loss:1.0197568001080792; accuracy0.3333333333333333...\n",
      "epoch:314; loss:0.5477916653821171; accuracy0.3333333333333333...\n",
      "epoch:315; loss:1.0197566040784811; accuracy0.3333333333333333...\n",
      "epoch:316; loss:0.5478627735693252; accuracy0.3333333333333333...\n",
      "epoch:317; loss:1.0197564057379822; accuracy0.3333333333333333...\n",
      "epoch:318; loss:0.5479340437378621; accuracy0.3333333333333333...\n",
      "epoch:319; loss:1.019756201924748; accuracy0.3333333333333333...\n",
      "epoch:320; loss:0.5480054556753178; accuracy0.3333333333333333...\n",
      "epoch:321; loss:1.019755999706364; accuracy0.3333333333333333...\n",
      "epoch:322; loss:0.5480769677863021; accuracy0.3333333333333333...\n",
      "epoch:323; loss:1.0197557998924245; accuracy0.3333333333333333...\n",
      "epoch:324; loss:0.5481485964144636; accuracy0.3333333333333333...\n",
      "epoch:325; loss:1.0197556004487456; accuracy0.3333333333333333...\n",
      "epoch:326; loss:0.5482203208361122; accuracy0.3333333333333333...\n",
      "epoch:327; loss:1.0197553989415309; accuracy0.3333333333333333...\n",
      "epoch:328; loss:0.5482922341712526; accuracy0.3333333333333333...\n",
      "epoch:329; loss:1.0197551991786578; accuracy0.3333333333333333...\n",
      "epoch:330; loss:0.548364246462989; accuracy0.3333333333333333...\n",
      "epoch:331; loss:1.0197550075051145; accuracy0.3333333333333333...\n",
      "epoch:332; loss:0.5484363994032445; accuracy0.3333333333333333...\n",
      "epoch:333; loss:1.0197548043122444; accuracy0.3333333333333333...\n",
      "epoch:334; loss:0.5485087212111917; accuracy0.3333333333333333...\n",
      "epoch:335; loss:1.019754606778424; accuracy0.3333333333333333...\n",
      "epoch:336; loss:0.5485811981711503; accuracy0.3333333333333333...\n",
      "epoch:337; loss:1.019754403605543; accuracy0.3333333333333333...\n",
      "epoch:338; loss:0.5486537990822172; accuracy0.3333333333333333...\n",
      "epoch:339; loss:1.0197542049380954; accuracy0.3333333333333333...\n",
      "epoch:340; loss:0.5487264875136054; accuracy0.3333333333333333...\n",
      "epoch:341; loss:1.0197540043447904; accuracy0.3333333333333333...\n",
      "epoch:342; loss:0.5487993550351125; accuracy0.3333333333333333...\n",
      "epoch:343; loss:1.0197537999255164; accuracy0.3333333333333333...\n",
      "epoch:344; loss:0.548872432785986; accuracy0.3333333333333333...\n",
      "epoch:345; loss:1.0197535953787427; accuracy0.3333333333333333...\n",
      "epoch:346; loss:0.5489455907885359; accuracy0.3333333333333333...\n",
      "epoch:347; loss:1.0197534006537694; accuracy0.3333333333333333...\n",
      "epoch:348; loss:0.5490189504113278; accuracy0.3333333333333333...\n",
      "epoch:349; loss:1.019753198691004; accuracy0.3333333333333333...\n",
      "epoch:350; loss:0.5490924926343751; accuracy0.3333333333333333...\n",
      "epoch:351; loss:1.0197529927114828; accuracy0.3333333333333333...\n",
      "epoch:352; loss:0.5491661336700899; accuracy0.3333333333333333...\n",
      "epoch:353; loss:1.0197527908797166; accuracy0.3333333333333333...\n",
      "epoch:354; loss:0.5492399954306009; accuracy0.3333333333333333...\n",
      "epoch:355; loss:1.0197525984100333; accuracy0.3333333333333333...\n",
      "epoch:356; loss:0.5493140227992596; accuracy0.3333333333333333...\n",
      "epoch:357; loss:1.0197523965059658; accuracy0.3333333333333333...\n",
      "epoch:358; loss:0.5493882349064799; accuracy0.3333333333333333...\n",
      "epoch:359; loss:1.0197521949129773; accuracy0.3333333333333333...\n",
      "epoch:360; loss:0.5494626535060261; accuracy0.3333333333333333...\n",
      "epoch:361; loss:1.0197519971887188; accuracy0.3333333333333333...\n",
      "epoch:362; loss:0.5495372085195408; accuracy0.3333333333333333...\n",
      "epoch:363; loss:1.0197517980428599; accuracy0.3333333333333333...\n",
      "epoch:364; loss:0.5496119338436977; accuracy0.3333333333333333...\n",
      "epoch:365; loss:1.0197516043618935; accuracy0.3333333333333333...\n",
      "epoch:366; loss:0.5496869357217007; accuracy0.3333333333333333...\n",
      "epoch:367; loss:1.0197513992127647; accuracy0.3333333333333333...\n",
      "epoch:368; loss:0.5497621284912164; accuracy0.3333333333333333...\n",
      "epoch:369; loss:1.0197512042944425; accuracy0.3333333333333333...\n",
      "epoch:370; loss:0.5498375333110755; accuracy0.3333333333333333...\n",
      "epoch:371; loss:1.01975100354348; accuracy0.3333333333333333...\n",
      "epoch:372; loss:0.5499131456723397; accuracy0.3333333333333333...\n",
      "epoch:373; loss:1.0197508010706713; accuracy0.3333333333333333...\n",
      "epoch:374; loss:0.5499889647177354; accuracy0.3333333333333333...\n",
      "epoch:375; loss:1.0197506062633779; accuracy0.3333333333333333...\n",
      "epoch:376; loss:0.5500650268678947; accuracy0.3333333333333333...\n",
      "epoch:377; loss:1.019750407918385; accuracy0.3333333333333333...\n",
      "epoch:378; loss:0.5501413218940201; accuracy0.3333333333333333...\n",
      "epoch:379; loss:1.019750217275702; accuracy0.3333333333333333...\n",
      "epoch:380; loss:0.5502178687560714; accuracy0.3333333333333333...\n",
      "epoch:381; loss:1.0197500187094675; accuracy0.3333333333333333...\n",
      "epoch:382; loss:0.550294708181243; accuracy0.3333333333333333...\n",
      "epoch:383; loss:1.0197498242591754; accuracy0.3333333333333333...\n",
      "epoch:384; loss:0.5503717787862715; accuracy0.3333333333333333...\n",
      "epoch:385; loss:1.0197496304820866; accuracy0.3333333333333333...\n",
      "epoch:386; loss:0.5504491211482904; accuracy0.3333333333333333...\n",
      "epoch:387; loss:1.0197494344952205; accuracy0.3333333333333333...\n",
      "epoch:388; loss:0.5505266790118019; accuracy0.3333333333333333...\n",
      "epoch:389; loss:1.0197492447540841; accuracy0.3333333333333333...\n",
      "epoch:390; loss:0.5506045246498991; accuracy0.3333333333333333...\n",
      "epoch:391; loss:1.0197490475476003; accuracy0.3333333333333333...\n",
      "epoch:392; loss:0.5506826811320329; accuracy0.3333333333333333...\n",
      "epoch:393; loss:1.0197488521645963; accuracy0.3333333333333333...\n",
      "epoch:394; loss:0.5507610641046525; accuracy0.3333333333333333...\n",
      "epoch:395; loss:1.0197486627243348; accuracy0.3333333333333333...\n",
      "epoch:396; loss:0.5508397240096004; accuracy0.3333333333333333...\n",
      "epoch:397; loss:1.0197484653619513; accuracy0.3333333333333333...\n",
      "epoch:398; loss:0.5509186882735385; accuracy0.3333333333333333...\n",
      "epoch:399; loss:1.0197482702759226; accuracy0.3333333333333333...\n",
      "epoch:400; loss:0.5509977715761948; accuracy0.3333333333333333...\n",
      "epoch:401; loss:1.0197480811567443; accuracy0.3333333333333333...\n",
      "epoch:402; loss:0.5510769843140537; accuracy0.3333333333333333...\n",
      "epoch:403; loss:1.0197478849961465; accuracy0.3333333333333333...\n",
      "epoch:404; loss:0.5511561451379285; accuracy0.3333333333333333...\n",
      "epoch:405; loss:1.0197476949430309; accuracy0.3333333333333333...\n",
      "epoch:406; loss:0.5512350627839763; accuracy0.3333333333333333...\n",
      "epoch:407; loss:1.0197474970373759; accuracy0.3333333333333333...\n",
      "epoch:408; loss:0.5513131219630784; accuracy0.3333333333333333...\n",
      "epoch:409; loss:1.0197473035463565; accuracy0.3333333333333333...\n",
      "epoch:410; loss:0.5513894505089089; accuracy0.3333333333333333...\n",
      "epoch:411; loss:1.01974711469894; accuracy0.3333333333333333...\n",
      "epoch:412; loss:0.5514622911847983; accuracy0.3333333333333333...\n",
      "epoch:413; loss:1.0197469227422065; accuracy0.3333333333333333...\n",
      "epoch:414; loss:0.5515297600226904; accuracy0.3333333333333333...\n",
      "epoch:415; loss:1.0197467350478469; accuracy0.3333333333333333...\n",
      "epoch:416; loss:0.5515914863985771; accuracy0.3333333333333333...\n",
      "epoch:417; loss:1.0197465346061985; accuracy0.3333333333333333...\n",
      "epoch:418; loss:0.551650192789658; accuracy0.3333333333333333...\n",
      "epoch:419; loss:1.019746345775198; accuracy0.3333333333333333...\n",
      "epoch:420; loss:0.5517081066621367; accuracy0.3333333333333333...\n",
      "epoch:421; loss:1.0197461534114192; accuracy0.3333333333333333...\n",
      "epoch:422; loss:0.551765837073122; accuracy0.3333333333333333...\n",
      "epoch:423; loss:1.0197459592762086; accuracy0.3333333333333333...\n",
      "epoch:424; loss:0.5518235686398179; accuracy0.3333333333333333...\n",
      "epoch:425; loss:1.0197457690850318; accuracy0.3333333333333333...\n",
      "epoch:426; loss:0.551881418631806; accuracy0.3333333333333333...\n",
      "epoch:427; loss:1.0197455764120167; accuracy0.3333333333333333...\n",
      "epoch:428; loss:0.5519392333953239; accuracy0.3333333333333333...\n",
      "epoch:429; loss:1.0197453881229557; accuracy0.3333333333333333...\n",
      "epoch:430; loss:0.5519971489184902; accuracy0.3333333333333333...\n",
      "epoch:431; loss:1.0197451961889716; accuracy0.3333333333333333...\n",
      "epoch:432; loss:0.5520551013723018; accuracy0.3333333333333333...\n",
      "epoch:433; loss:1.0197450000342971; accuracy0.3333333333333333...\n",
      "epoch:434; loss:0.5521130882536401; accuracy0.3333333333333333...\n",
      "epoch:435; loss:1.0197448040743644; accuracy0.3333333333333333...\n",
      "epoch:436; loss:0.5521711399856324; accuracy0.3333333333333333...\n",
      "epoch:437; loss:1.0197446142010176; accuracy0.3333333333333333...\n",
      "epoch:438; loss:0.5522292829146784; accuracy0.3333333333333333...\n",
      "epoch:439; loss:1.0197444225698524; accuracy0.3333333333333333...\n",
      "epoch:440; loss:0.5522873628053375; accuracy0.3333333333333333...\n",
      "epoch:441; loss:1.0197442332504087; accuracy0.3333333333333333...\n",
      "epoch:442; loss:0.5523455357083022; accuracy0.3333333333333333...\n",
      "epoch:443; loss:1.019744041410018; accuracy0.3333333333333333...\n",
      "epoch:444; loss:0.5524037726071321; accuracy0.3333333333333333...\n",
      "epoch:445; loss:1.0197438560197716; accuracy0.3333333333333333...\n",
      "epoch:446; loss:0.5524620984407393; accuracy0.3333333333333333...\n",
      "epoch:447; loss:1.0197436666997501; accuracy0.3333333333333333...\n",
      "epoch:448; loss:0.5525204277040306; accuracy0.3333333333333333...\n",
      "epoch:449; loss:1.019743471417434; accuracy0.3333333333333333...\n",
      "epoch:450; loss:0.5525788254888452; accuracy0.3333333333333333...\n",
      "epoch:451; loss:1.0197432762305; accuracy0.3333333333333333...\n",
      "epoch:452; loss:0.5526373155860852; accuracy0.3333333333333333...\n",
      "epoch:453; loss:1.0197430811570103; accuracy0.3333333333333333...\n",
      "epoch:454; loss:0.5526958649692848; accuracy0.3333333333333333...\n",
      "epoch:455; loss:1.0197428896700211; accuracy0.3333333333333333...\n",
      "epoch:456; loss:0.5527544250553209; accuracy0.3333333333333333...\n",
      "epoch:457; loss:1.019742698758194; accuracy0.3333333333333333...\n",
      "epoch:458; loss:0.5528130324574282; accuracy0.3333333333333333...\n",
      "epoch:459; loss:1.0197425039887589; accuracy0.3333333333333333...\n"
     ]
    },
    {
     "name": "stdout",
     "output_type": "stream",
     "text": [
      "epoch:460; loss:0.5528717140880697; accuracy0.3333333333333333...\n",
      "epoch:461; loss:1.0197423147906883; accuracy0.3333333333333333...\n",
      "epoch:462; loss:0.5529304568634007; accuracy0.3333333333333333...\n",
      "epoch:463; loss:1.0197421317267938; accuracy0.3333333333333333...\n",
      "epoch:464; loss:0.5529891985979187; accuracy0.3333333333333333...\n",
      "epoch:465; loss:1.0197419393504235; accuracy0.3333333333333333...\n",
      "epoch:466; loss:0.5530480492093173; accuracy0.3333333333333333...\n",
      "epoch:467; loss:1.019741754467334; accuracy0.3333333333333333...\n",
      "epoch:468; loss:0.5531069475599069; accuracy0.3333333333333333...\n",
      "epoch:469; loss:1.0197415638588927; accuracy0.3333333333333333...\n",
      "epoch:470; loss:0.5531659118315623; accuracy0.3333333333333333...\n",
      "epoch:471; loss:1.019741373183056; accuracy0.3333333333333333...\n",
      "epoch:472; loss:0.5532249832208079; accuracy0.3333333333333333...\n",
      "epoch:473; loss:1.0197411844992563; accuracy0.3333333333333333...\n",
      "epoch:474; loss:0.5532839893120328; accuracy0.3333333333333333...\n",
      "epoch:475; loss:1.0197409903539403; accuracy0.3333333333333333...\n",
      "epoch:476; loss:0.5533431023139185; accuracy0.3333333333333333...\n",
      "epoch:477; loss:1.019740803708335; accuracy0.3333333333333333...\n",
      "epoch:478; loss:0.5534022918635237; accuracy0.3333333333333333...\n",
      "epoch:479; loss:1.0197406131601783; accuracy0.3333333333333333...\n",
      "epoch:480; loss:0.5534615175469617; accuracy0.3333333333333333...\n",
      "epoch:481; loss:1.019740417189444; accuracy0.3333333333333333...\n",
      "epoch:482; loss:0.5535207742790978; accuracy0.3333333333333333...\n",
      "epoch:483; loss:1.0197402349729174; accuracy0.3333333333333333...\n",
      "epoch:484; loss:0.5535800944819724; accuracy0.3333333333333333...\n",
      "epoch:485; loss:1.0197400447680602; accuracy0.3333333333333333...\n",
      "epoch:486; loss:0.5536395405507136; accuracy0.3333333333333333...\n",
      "epoch:487; loss:1.019739856561175; accuracy0.3333333333333333...\n",
      "epoch:488; loss:0.5536990646002606; accuracy0.3333333333333333...\n",
      "epoch:489; loss:1.0197396642670982; accuracy0.3333333333333333...\n",
      "epoch:490; loss:0.5537585884929386; accuracy0.3333333333333333...\n",
      "epoch:491; loss:1.0197394706471625; accuracy0.3333333333333333...\n",
      "epoch:492; loss:0.5538181533164465; accuracy0.3333333333333333...\n",
      "epoch:493; loss:1.0197392848888593; accuracy0.3333333333333333...\n",
      "epoch:494; loss:0.5538777911637905; accuracy0.3333333333333333...\n",
      "epoch:495; loss:1.0197390987385235; accuracy0.3333333333333333...\n",
      "epoch:496; loss:0.5539375211133638; accuracy0.3333333333333333...\n",
      "epoch:497; loss:1.0197389125741254; accuracy0.3333333333333333...\n",
      "epoch:498; loss:0.5539972275951022; accuracy0.3333333333333333...\n",
      "epoch:499; loss:1.019738727159117; accuracy0.3333333333333333...\n",
      "epoch:500; loss:0.5540570061734011; accuracy0.3333333333333333...\n",
      "epoch:501; loss:1.0197385414463662; accuracy0.3333333333333333...\n",
      "epoch:502; loss:0.5541168469257691; accuracy0.3333333333333333...\n",
      "epoch:503; loss:1.019738348163332; accuracy0.3333333333333333...\n",
      "epoch:504; loss:0.5541767487931689; accuracy0.3333333333333333...\n",
      "epoch:505; loss:1.0197381606888334; accuracy0.3333333333333333...\n",
      "epoch:506; loss:0.5542367286012579; accuracy0.3333333333333333...\n",
      "epoch:507; loss:1.0197379733328278; accuracy0.3333333333333333...\n",
      "epoch:508; loss:0.5542967809255716; accuracy0.3333333333333333...\n",
      "epoch:509; loss:1.0197377801409775; accuracy0.3333333333333333...\n",
      "epoch:510; loss:0.5543568329115537; accuracy0.3333333333333333...\n",
      "epoch:511; loss:1.0197375911562025; accuracy0.3333333333333333...\n",
      "epoch:512; loss:0.5544170892872701; accuracy0.3333333333333333...\n",
      "epoch:513; loss:1.0197374014428036; accuracy0.3333333333333333...\n",
      "epoch:514; loss:0.5544773721681687; accuracy0.3333333333333333...\n",
      "epoch:515; loss:1.019737204657892; accuracy0.3333333333333333...\n",
      "epoch:516; loss:0.554537660141014; accuracy0.3333333333333333...\n",
      "epoch:517; loss:1.019737021197933; accuracy0.3333333333333333...\n",
      "epoch:518; loss:0.5545979944539988; accuracy0.3333333333333333...\n",
      "epoch:519; loss:1.0197368303421035; accuracy0.3333333333333333...\n",
      "epoch:520; loss:0.5546583874564323; accuracy0.3333333333333333...\n",
      "epoch:521; loss:1.0197366433154471; accuracy0.3333333333333333...\n",
      "epoch:522; loss:0.5547188510990769; accuracy0.3333333333333333...\n",
      "epoch:523; loss:1.0197364525589223; accuracy0.3333333333333333...\n",
      "epoch:524; loss:0.5547794573141455; accuracy0.3333333333333333...\n",
      "epoch:525; loss:1.019736265297498; accuracy0.3333333333333333...\n",
      "epoch:526; loss:0.5548400407434231; accuracy0.3333333333333333...\n",
      "epoch:527; loss:1.0197360864720155; accuracy0.3333333333333333...\n",
      "epoch:528; loss:0.5549006798408117; accuracy0.3333333333333333...\n",
      "epoch:529; loss:1.0197358997615404; accuracy0.3333333333333333...\n",
      "epoch:530; loss:0.5549613966073008; accuracy0.3333333333333333...\n",
      "epoch:531; loss:1.0197357128769697; accuracy0.3333333333333333...\n",
      "epoch:532; loss:0.5550222100436532; accuracy0.3333333333333333...\n",
      "epoch:533; loss:1.0197355206557233; accuracy0.3333333333333333...\n",
      "epoch:534; loss:0.5550830183391057; accuracy0.3333333333333333...\n",
      "epoch:535; loss:1.0197353362175416; accuracy0.3333333333333333...\n",
      "epoch:536; loss:0.555143897355664; accuracy0.3333333333333333...\n",
      "epoch:537; loss:1.0197351499691152; accuracy0.3333333333333333...\n",
      "epoch:538; loss:0.5552049107099183; accuracy0.3333333333333333...\n",
      "epoch:539; loss:1.0197349612856523; accuracy0.3333333333333333...\n",
      "epoch:540; loss:0.5552659553382541; accuracy0.3333333333333333...\n",
      "epoch:541; loss:1.0197347731165722; accuracy0.3333333333333333...\n",
      "epoch:542; loss:0.5553270803350298; accuracy0.3333333333333333...\n",
      "epoch:543; loss:1.0197345867663195; accuracy0.3333333333333333...\n",
      "epoch:544; loss:0.5553881886237882; accuracy0.3333333333333333...\n",
      "epoch:545; loss:1.0197344061836697; accuracy0.3333333333333333...\n",
      "epoch:546; loss:0.5554494534841123; accuracy0.3333333333333333...\n",
      "epoch:547; loss:1.0197342140754047; accuracy0.3333333333333333...\n",
      "epoch:548; loss:0.555510737277486; accuracy0.3333333333333333...\n",
      "epoch:549; loss:1.0197340278927463; accuracy0.3333333333333333...\n",
      "epoch:550; loss:0.5555721018029283; accuracy0.3333333333333333...\n",
      "epoch:551; loss:1.019733843740086; accuracy0.3333333333333333...\n",
      "epoch:552; loss:0.5556335294973683; accuracy0.3333333333333333...\n",
      "epoch:553; loss:1.0197336595733428; accuracy0.3333333333333333...\n",
      "epoch:554; loss:0.5556950527283125; accuracy0.3333333333333333...\n",
      "epoch:555; loss:1.0197334676871277; accuracy0.3333333333333333...\n",
      "epoch:556; loss:0.5557565930087556; accuracy0.3333333333333333...\n",
      "epoch:557; loss:1.0197332799911565; accuracy0.3333333333333333...\n",
      "epoch:558; loss:0.5558182236662175; accuracy0.3333333333333333...\n",
      "epoch:559; loss:1.019733094148038; accuracy0.3333333333333333...\n",
      "epoch:560; loss:0.5558799045351527; accuracy0.3333333333333333...\n",
      "epoch:561; loss:1.019732904628023; accuracy0.3333333333333333...\n",
      "epoch:562; loss:0.5559416556527385; accuracy0.3333333333333333...\n",
      "epoch:563; loss:1.019732720817569; accuracy0.3333333333333333...\n",
      "epoch:564; loss:0.5560034600381887; accuracy0.3333333333333333...\n",
      "epoch:565; loss:1.0197325311857641; accuracy0.3333333333333333...\n",
      "epoch:566; loss:0.5560653680232942; accuracy0.3333333333333333...\n",
      "epoch:567; loss:1.0197323468751391; accuracy0.3333333333333333...\n",
      "epoch:568; loss:0.5561273782206619; accuracy0.3333333333333333...\n",
      "epoch:569; loss:1.019732159187357; accuracy0.3333333333333333...\n",
      "epoch:570; loss:0.5561894022968352; accuracy0.3333333333333333...\n",
      "epoch:571; loss:1.019731967864777; accuracy0.3333333333333333...\n",
      "epoch:572; loss:0.5562515218765577; accuracy0.3333333333333333...\n",
      "epoch:573; loss:1.0197317842342133; accuracy0.3333333333333333...\n",
      "epoch:574; loss:0.5563137068266791; accuracy0.3333333333333333...\n",
      "epoch:575; loss:1.0197315912967524; accuracy0.3333333333333333...\n",
      "epoch:576; loss:0.5563759275698908; accuracy0.3333333333333333...\n",
      "epoch:577; loss:1.019731407902726; accuracy0.3333333333333333...\n",
      "epoch:578; loss:0.5564382274225517; accuracy0.3333333333333333...\n",
      "epoch:579; loss:1.019731216870567; accuracy0.3333333333333333...\n",
      "epoch:580; loss:0.5565006810201287; accuracy0.3333333333333333...\n",
      "epoch:581; loss:1.0197310278698775; accuracy0.3333333333333333...\n",
      "epoch:582; loss:0.55656313863585; accuracy0.3333333333333333...\n",
      "epoch:583; loss:1.0197308426372307; accuracy0.3333333333333333...\n",
      "epoch:584; loss:0.5566257090989534; accuracy0.3333333333333333...\n",
      "epoch:585; loss:1.0197306574099494; accuracy0.3333333333333333...\n",
      "epoch:586; loss:0.5566882766897088; accuracy0.3333333333333333...\n",
      "epoch:587; loss:1.0197304739826725; accuracy0.3333333333333333...\n",
      "epoch:588; loss:0.5567510182878199; accuracy0.3333333333333333...\n",
      "epoch:589; loss:1.0197302749564567; accuracy0.3333333333333333...\n",
      "epoch:590; loss:0.5568137888265309; accuracy0.3333333333333333...\n",
      "epoch:591; loss:1.0197300898988153; accuracy0.3333333333333333...\n",
      "epoch:592; loss:0.5568766337503365; accuracy0.3333333333333333...\n",
      "epoch:593; loss:1.019729905050378; accuracy0.3333333333333333...\n",
      "epoch:594; loss:0.5569394849074046; accuracy0.3333333333333333...\n",
      "epoch:595; loss:1.019729718830802; accuracy0.3333333333333333...\n",
      "epoch:596; loss:0.557002419662674; accuracy0.3333333333333333...\n",
      "epoch:597; loss:1.0197295298283862; accuracy0.3333333333333333...\n",
      "epoch:598; loss:0.5570654981074576; accuracy0.3333333333333333...\n",
      "epoch:599; loss:1.0197293431314611; accuracy0.3333333333333333...\n",
      "epoch:600; loss:0.5571285980774175; accuracy0.3333333333333333...\n",
      "epoch:601; loss:1.0197291602577356; accuracy0.3333333333333333...\n",
      "epoch:602; loss:0.557191707737666; accuracy0.3333333333333333...\n",
      "epoch:603; loss:1.019728973704042; accuracy0.3333333333333333...\n",
      "epoch:604; loss:0.5572549675795595; accuracy0.3333333333333333...\n",
      "epoch:605; loss:1.0197287945340892; accuracy0.3333333333333333...\n",
      "epoch:606; loss:0.5573182851043528; accuracy0.3333333333333333...\n",
      "epoch:607; loss:1.019728612240752; accuracy0.3333333333333333...\n",
      "epoch:608; loss:0.5573816965197451; accuracy0.3333333333333333...\n",
      "epoch:609; loss:1.019728425803148; accuracy0.3333333333333333...\n",
      "epoch:610; loss:0.5574451879253219; accuracy0.3333333333333333...\n",
      "epoch:611; loss:1.0197282369768979; accuracy0.3333333333333333...\n",
      "epoch:612; loss:0.5575088377837103; accuracy0.3333333333333333...\n",
      "epoch:613; loss:1.0197280464711744; accuracy0.3333333333333333...\n",
      "epoch:614; loss:0.5575724895187019; accuracy0.3333333333333333...\n"
     ]
    },
    {
     "name": "stdout",
     "output_type": "stream",
     "text": [
      "epoch:615; loss:1.019727859916994; accuracy0.3333333333333333...\n",
      "epoch:616; loss:0.5576362726294514; accuracy0.3333333333333333...\n",
      "epoch:617; loss:1.0197276691982808; accuracy0.3333333333333333...\n",
      "epoch:618; loss:0.5577000227428103; accuracy0.3333333333333333...\n",
      "epoch:619; loss:1.0197274793300244; accuracy0.3333333333333333...\n",
      "epoch:620; loss:0.5577638663022387; accuracy0.3333333333333333...\n",
      "epoch:621; loss:1.01972729715175; accuracy0.3333333333333333...\n",
      "epoch:622; loss:0.5578278048565476; accuracy0.3333333333333333...\n",
      "epoch:623; loss:1.0197271125797673; accuracy0.3333333333333333...\n",
      "epoch:624; loss:0.5578919339432679; accuracy0.3333333333333333...\n",
      "epoch:625; loss:1.0197269224801566; accuracy0.3333333333333333...\n",
      "epoch:626; loss:0.5579561025434632; accuracy0.3333333333333333...\n",
      "epoch:627; loss:1.0197267361646736; accuracy0.3333333333333333...\n",
      "epoch:628; loss:0.5580203420858509; accuracy0.3333333333333333...\n",
      "epoch:629; loss:1.0197265482466833; accuracy0.3333333333333333...\n",
      "epoch:630; loss:0.5580845472892907; accuracy0.3333333333333333...\n",
      "epoch:631; loss:1.0197263626103064; accuracy0.3333333333333333...\n",
      "epoch:632; loss:0.5581488914576224; accuracy0.3333333333333333...\n",
      "epoch:633; loss:1.0197261750079083; accuracy0.3333333333333333...\n",
      "epoch:634; loss:0.5582132683007133; accuracy0.3333333333333333...\n",
      "epoch:635; loss:1.019725987662471; accuracy0.3333333333333333...\n",
      "epoch:636; loss:0.5582776961412169; accuracy0.3333333333333333...\n",
      "epoch:637; loss:1.0197258001415679; accuracy0.3333333333333333...\n",
      "epoch:638; loss:0.558342265744251; accuracy0.3333333333333333...\n",
      "epoch:639; loss:1.019725607074464; accuracy0.3333333333333333...\n",
      "epoch:640; loss:0.5584068799188668; accuracy0.3333333333333333...\n",
      "epoch:641; loss:1.019725425158275; accuracy0.3333333333333333...\n",
      "epoch:642; loss:0.5584716690466542; accuracy0.3333333333333333...\n",
      "epoch:643; loss:1.01972524347237; accuracy0.3333333333333333...\n",
      "epoch:644; loss:0.5585364983199452; accuracy0.3333333333333333...\n",
      "epoch:645; loss:1.0197250619425304; accuracy0.3333333333333333...\n",
      "epoch:646; loss:0.5586013414742409; accuracy0.3333333333333333...\n",
      "epoch:647; loss:1.0197248809924198; accuracy0.3333333333333333...\n",
      "epoch:648; loss:0.5586663225050374; accuracy0.3333333333333333...\n",
      "epoch:649; loss:1.019724702888976; accuracy0.3333333333333333...\n",
      "epoch:650; loss:0.5587314223395325; accuracy0.3333333333333333...\n",
      "epoch:651; loss:1.0197245098016554; accuracy0.3333333333333333...\n",
      "epoch:652; loss:0.5587965504231365; accuracy0.3333333333333333...\n",
      "epoch:653; loss:1.0197243190705632; accuracy0.3333333333333333...\n",
      "epoch:654; loss:0.5588617526109639; accuracy0.3333333333333333...\n",
      "epoch:655; loss:1.019724131831168; accuracy0.3333333333333333...\n",
      "epoch:656; loss:0.5589270678468735; accuracy0.3333333333333333...\n",
      "epoch:657; loss:1.0197239483049436; accuracy0.3333333333333333...\n",
      "epoch:658; loss:0.5589924836271225; accuracy0.3333333333333333...\n",
      "epoch:659; loss:1.0197237635557455; accuracy0.3333333333333333...\n",
      "epoch:660; loss:0.5590579522713466; accuracy0.3333333333333333...\n",
      "epoch:661; loss:1.0197235786087095; accuracy0.3333333333333333...\n",
      "epoch:662; loss:0.5591235079014313; accuracy0.3333333333333333...\n",
      "epoch:663; loss:1.0197233939409913; accuracy0.3333333333333333...\n",
      "epoch:664; loss:0.5591891606960255; accuracy0.3333333333333333...\n",
      "epoch:665; loss:1.019723205384234; accuracy0.3333333333333333...\n",
      "epoch:666; loss:0.5592548784628452; accuracy0.3333333333333333...\n",
      "epoch:667; loss:1.0197230223858325; accuracy0.3333333333333333...\n",
      "epoch:668; loss:0.5593206844407258; accuracy0.3333333333333333...\n",
      "epoch:669; loss:1.0197228376163392; accuracy0.3333333333333333...\n",
      "epoch:670; loss:0.5593866344152522; accuracy0.3333333333333333...\n",
      "epoch:671; loss:1.0197226566717228; accuracy0.3333333333333333...\n",
      "epoch:672; loss:0.5594525642005198; accuracy0.3333333333333333...\n",
      "epoch:673; loss:1.0197224719632019; accuracy0.3333333333333333...\n",
      "epoch:674; loss:0.559518697034188; accuracy0.3333333333333333...\n",
      "epoch:675; loss:1.019722283803554; accuracy0.3333333333333333...\n",
      "epoch:676; loss:0.559584864269284; accuracy0.3333333333333333...\n",
      "epoch:677; loss:1.01972210096031; accuracy0.3333333333333333...\n",
      "epoch:678; loss:0.5596511581679583; accuracy0.3333333333333333...\n",
      "epoch:679; loss:1.0197219144625285; accuracy0.3333333333333333...\n",
      "epoch:680; loss:0.5597174592317056; accuracy0.3333333333333333...\n",
      "epoch:681; loss:1.0197217297508736; accuracy0.3333333333333333...\n",
      "epoch:682; loss:0.5597839558562758; accuracy0.3333333333333333...\n",
      "epoch:683; loss:1.0197215473727017; accuracy0.3333333333333333...\n",
      "epoch:684; loss:0.5598505243746871; accuracy0.3333333333333333...\n",
      "epoch:685; loss:1.0197213646295937; accuracy0.3333333333333333...\n",
      "epoch:686; loss:0.559917151401415; accuracy0.3333333333333333...\n",
      "epoch:687; loss:1.019721180254018; accuracy0.3333333333333333...\n",
      "epoch:688; loss:0.5599838197775662; accuracy0.3333333333333333...\n",
      "epoch:689; loss:1.0197209959816245; accuracy0.3333333333333333...\n",
      "epoch:690; loss:0.560050674263407; accuracy0.3333333333333333...\n",
      "epoch:691; loss:1.019720812012194; accuracy0.3333333333333333...\n",
      "epoch:692; loss:0.5601175402800306; accuracy0.3333333333333333...\n",
      "epoch:693; loss:1.019720627643966; accuracy0.3333333333333333...\n",
      "epoch:694; loss:0.5601845855721073; accuracy0.3333333333333333...\n",
      "epoch:695; loss:1.0197204413243657; accuracy0.3333333333333333...\n",
      "epoch:696; loss:0.560251661533143; accuracy0.3333333333333333...\n",
      "epoch:697; loss:1.019720262991506; accuracy0.3333333333333333...\n",
      "epoch:698; loss:0.5603188152993497; accuracy0.3333333333333333...\n",
      "epoch:699; loss:1.0197200748626878; accuracy0.3333333333333333...\n",
      "epoch:700; loss:0.56038608841709; accuracy0.3333333333333333...\n",
      "epoch:701; loss:1.0197198984845768; accuracy0.3333333333333333...\n",
      "epoch:702; loss:0.5604534707509248; accuracy0.3333333333333333...\n",
      "epoch:703; loss:1.019719716098427; accuracy0.3333333333333333...\n",
      "epoch:704; loss:0.5605209805006285; accuracy0.3333333333333333...\n",
      "epoch:705; loss:1.019719535428292; accuracy0.3333333333333333...\n",
      "epoch:706; loss:0.5605886218217719; accuracy0.3333333333333333...\n",
      "epoch:707; loss:1.0197193510645848; accuracy0.3333333333333333...\n",
      "epoch:708; loss:0.560656281867177; accuracy0.3333333333333333...\n",
      "epoch:709; loss:1.0197191748009375; accuracy0.3333333333333333...\n",
      "epoch:710; loss:0.5607239784831534; accuracy0.3333333333333333...\n",
      "epoch:711; loss:1.0197189930772468; accuracy0.3333333333333333...\n",
      "epoch:712; loss:0.560791816686018; accuracy0.3333333333333333...\n",
      "epoch:713; loss:1.0197188074661334; accuracy0.3333333333333333...\n",
      "epoch:714; loss:0.5608597393005352; accuracy0.3333333333333333...\n",
      "epoch:715; loss:1.0197186276129109; accuracy0.3333333333333333...\n",
      "epoch:716; loss:0.5609277527969254; accuracy0.3333333333333333...\n",
      "epoch:717; loss:1.0197184440119968; accuracy0.3333333333333333...\n",
      "epoch:718; loss:0.5609959072611832; accuracy0.3333333333333333...\n",
      "epoch:719; loss:1.019718262110317; accuracy0.3333333333333333...\n",
      "epoch:720; loss:0.5610641727414629; accuracy0.3333333333333333...\n",
      "epoch:721; loss:1.0197180900998724; accuracy0.3333333333333333...\n",
      "epoch:722; loss:0.5611325634636112; accuracy0.3333333333333333...\n",
      "epoch:723; loss:1.0197179031308576; accuracy0.3333333333333333...\n",
      "epoch:724; loss:0.5612009779885123; accuracy0.3333333333333333...\n",
      "epoch:725; loss:1.0197177257660488; accuracy0.3333333333333333...\n",
      "epoch:726; loss:0.5612695034420105; accuracy0.3333333333333333...\n",
      "epoch:727; loss:1.0197175384432657; accuracy0.3333333333333333...\n",
      "epoch:728; loss:0.5613381964642262; accuracy0.3333333333333333...\n",
      "epoch:729; loss:1.0197173643226358; accuracy0.3333333333333333...\n",
      "epoch:730; loss:0.5614069821163192; accuracy0.3333333333333333...\n",
      "epoch:731; loss:1.0197171735233255; accuracy0.3333333333333333...\n",
      "epoch:732; loss:0.5614757538570229; accuracy0.3333333333333333...\n",
      "epoch:733; loss:1.0197169946164761; accuracy0.3333333333333333...\n",
      "epoch:734; loss:0.5615446764828247; accuracy0.3333333333333333...\n",
      "epoch:735; loss:1.0197168114987667; accuracy0.3333333333333333...\n",
      "epoch:736; loss:0.5616137577723123; accuracy0.3333333333333333...\n",
      "epoch:737; loss:1.0197166263885735; accuracy0.3333333333333333...\n",
      "epoch:738; loss:0.5616828598850986; accuracy0.3333333333333333...\n",
      "epoch:739; loss:1.019716443284695; accuracy0.3333333333333333...\n",
      "epoch:740; loss:0.5617521298760232; accuracy0.3333333333333333...\n",
      "epoch:741; loss:1.0197162635107142; accuracy0.3333333333333333...\n",
      "epoch:742; loss:0.5618215510672014; accuracy0.3333333333333333...\n",
      "epoch:743; loss:1.0197160782630608; accuracy0.3333333333333333...\n",
      "epoch:744; loss:0.5618910671634846; accuracy0.3333333333333333...\n",
      "epoch:745; loss:1.019715891350418; accuracy0.3333333333333333...\n",
      "epoch:746; loss:0.5619606661351823; accuracy0.3333333333333333...\n",
      "epoch:747; loss:1.01971570854429; accuracy0.3333333333333333...\n",
      "epoch:748; loss:0.562030305156908; accuracy0.3333333333333333...\n",
      "epoch:749; loss:1.0197155333841932; accuracy0.3333333333333333...\n",
      "epoch:750; loss:0.5621001024997084; accuracy0.3333333333333333...\n",
      "epoch:751; loss:1.019715346833306; accuracy0.3333333333333333...\n",
      "epoch:752; loss:0.5621700050595789; accuracy0.3333333333333333...\n",
      "epoch:753; loss:1.0197151680197256; accuracy0.3333333333333333...\n",
      "epoch:754; loss:0.5622400129774285; accuracy0.3333333333333333...\n",
      "epoch:755; loss:1.0197149793991007; accuracy0.3333333333333333...\n",
      "epoch:756; loss:0.562310133477974; accuracy0.3333333333333333...\n",
      "epoch:757; loss:1.0197147980863326; accuracy0.3333333333333333...\n",
      "epoch:758; loss:0.5623803842477868; accuracy0.3333333333333333...\n",
      "epoch:759; loss:1.0197146075841268; accuracy0.3333333333333333...\n",
      "epoch:760; loss:0.5624507227582947; accuracy0.3333333333333333...\n",
      "epoch:761; loss:1.0197144252007488; accuracy0.3333333333333333...\n",
      "epoch:762; loss:0.5625211793201828; accuracy0.3333333333333333...\n",
      "epoch:763; loss:1.0197142408620508; accuracy0.3333333333333333...\n",
      "epoch:764; loss:0.5625917195120775; accuracy0.3333333333333333...\n",
      "epoch:765; loss:1.0197140639654731; accuracy0.3333333333333333...\n",
      "epoch:766; loss:0.5626623910377321; accuracy0.3333333333333333...\n",
      "epoch:767; loss:1.019713877454528; accuracy0.3333333333333333...\n",
      "epoch:768; loss:0.5627331693497905; accuracy0.3333333333333333...\n",
      "epoch:769; loss:1.0197136990382727; accuracy0.3333333333333333...\n",
      "epoch:770; loss:0.5628040390360903; accuracy0.3333333333333333...\n"
     ]
    },
    {
     "name": "stdout",
     "output_type": "stream",
     "text": [
      "epoch:771; loss:1.0197135146775247; accuracy0.3333333333333333...\n",
      "epoch:772; loss:0.5628750333314317; accuracy0.3333333333333333...\n",
      "epoch:773; loss:1.0197133340445423; accuracy0.3333333333333333...\n",
      "epoch:774; loss:0.5629461319631806; accuracy0.3333333333333333...\n",
      "epoch:775; loss:1.0197131518026408; accuracy0.3333333333333333...\n",
      "epoch:776; loss:0.5630173715889047; accuracy0.3333333333333333...\n",
      "epoch:777; loss:1.0197129719401858; accuracy0.3333333333333333...\n",
      "epoch:778; loss:0.563088667902127; accuracy0.3333333333333333...\n",
      "epoch:779; loss:1.0197127919259967; accuracy0.3333333333333333...\n",
      "epoch:780; loss:0.5631601453346654; accuracy0.3333333333333333...\n",
      "epoch:781; loss:1.0197126157499043; accuracy0.3333333333333333...\n",
      "epoch:782; loss:0.5632317632082585; accuracy0.3333333333333333...\n",
      "epoch:783; loss:1.0197124299025857; accuracy0.3333333333333333...\n",
      "epoch:784; loss:0.563303477337819; accuracy0.3333333333333333...\n",
      "epoch:785; loss:1.0197122494783035; accuracy0.3333333333333333...\n",
      "epoch:786; loss:0.5633753813932333; accuracy0.3333333333333333...\n",
      "epoch:787; loss:1.0197120648566604; accuracy0.3333333333333333...\n",
      "epoch:788; loss:0.5634472927724692; accuracy0.3333333333333333...\n",
      "epoch:789; loss:1.019711890548026; accuracy0.3333333333333333...\n",
      "epoch:790; loss:0.5635193613423414; accuracy0.3333333333333333...\n",
      "epoch:791; loss:1.0197117146654064; accuracy0.3333333333333333...\n",
      "epoch:792; loss:0.5635914624666188; accuracy0.3333333333333333...\n",
      "epoch:793; loss:1.0197115384235418; accuracy0.3333333333333333...\n",
      "epoch:794; loss:0.5636637932602941; accuracy0.3333333333333333...\n",
      "epoch:795; loss:1.0197113543000358; accuracy0.3333333333333333...\n",
      "epoch:796; loss:0.5637362620641864; accuracy0.3333333333333333...\n",
      "epoch:797; loss:1.0197111744502318; accuracy0.3333333333333333...\n",
      "epoch:798; loss:0.5638087766721654; accuracy0.3333333333333333...\n",
      "epoch:799; loss:1.0197109890891876; accuracy0.3333333333333333...\n",
      "epoch:800; loss:0.5638814522611999; accuracy0.3333333333333333...\n",
      "epoch:801; loss:1.0197108053506236; accuracy0.3333333333333333...\n",
      "epoch:802; loss:0.5639543167624588; accuracy0.3333333333333333...\n",
      "epoch:803; loss:1.0197106195537697; accuracy0.3333333333333333...\n",
      "epoch:804; loss:0.5640272062838804; accuracy0.3333333333333333...\n",
      "epoch:805; loss:1.019710441258599; accuracy0.3333333333333333...\n",
      "epoch:806; loss:0.5641003084910527; accuracy0.3333333333333333...\n",
      "epoch:807; loss:1.019710255608569; accuracy0.3333333333333333...\n",
      "epoch:808; loss:0.5641734892187557; accuracy0.3333333333333333...\n",
      "epoch:809; loss:1.019710077714437; accuracy0.3333333333333333...\n",
      "epoch:810; loss:0.564246783979345; accuracy0.3333333333333333...\n",
      "epoch:811; loss:1.0197098865745196; accuracy0.3333333333333333...\n",
      "epoch:812; loss:0.5643202381110822; accuracy0.3333333333333333...\n",
      "epoch:813; loss:1.019709714919301; accuracy0.3333333333333333...\n",
      "epoch:814; loss:0.5643938360953386; accuracy0.3333333333333333...\n",
      "epoch:815; loss:1.019709533178447; accuracy0.3333333333333333...\n",
      "epoch:816; loss:0.5644675181431289; accuracy0.3333333333333333...\n",
      "epoch:817; loss:1.0197093520668565; accuracy0.3333333333333333...\n",
      "epoch:818; loss:0.5645413003997032; accuracy0.3333333333333333...\n",
      "epoch:819; loss:1.0197091671344864; accuracy0.3333333333333333...\n",
      "epoch:820; loss:0.564615284795883; accuracy0.3333333333333333...\n",
      "epoch:821; loss:1.0197089893464748; accuracy0.3333333333333333...\n",
      "epoch:822; loss:0.5646894270653582; accuracy0.3333333333333333...\n",
      "epoch:823; loss:1.0197088041999915; accuracy0.3333333333333333...\n",
      "epoch:824; loss:0.5647636464734899; accuracy0.3333333333333333...\n",
      "epoch:825; loss:1.0197086250359948; accuracy0.3333333333333333...\n",
      "epoch:826; loss:0.5648379977959649; accuracy0.3333333333333333...\n",
      "epoch:827; loss:1.0197084420851068; accuracy0.3333333333333333...\n",
      "epoch:828; loss:0.5649124702695495; accuracy0.3333333333333333...\n",
      "epoch:829; loss:1.0197082592822313; accuracy0.3333333333333333...\n",
      "epoch:830; loss:0.5649870542294746; accuracy0.3333333333333333...\n",
      "epoch:831; loss:1.0197080762451005; accuracy0.3333333333333333...\n",
      "epoch:832; loss:0.5650618249501306; accuracy0.3333333333333333...\n",
      "epoch:833; loss:1.0197078991959556; accuracy0.3333333333333333...\n",
      "epoch:834; loss:0.5651367315475485; accuracy0.3333333333333333...\n",
      "epoch:835; loss:1.019707720465789; accuracy0.3333333333333333...\n",
      "epoch:836; loss:0.5652117286192861; accuracy0.3333333333333333...\n",
      "epoch:837; loss:1.0197075356261347; accuracy0.3333333333333333...\n",
      "epoch:838; loss:0.565286917535414; accuracy0.3333333333333333...\n",
      "epoch:839; loss:1.0197073545603739; accuracy0.3333333333333333...\n",
      "epoch:840; loss:0.5653622982734702; accuracy0.3333333333333333...\n",
      "epoch:841; loss:1.0197071733550034; accuracy0.3333333333333333...\n",
      "epoch:842; loss:0.5654377640994764; accuracy0.3333333333333333...\n",
      "epoch:843; loss:1.019706994232861; accuracy0.3333333333333333...\n",
      "epoch:844; loss:0.565513415506777; accuracy0.3333333333333333...\n",
      "epoch:845; loss:1.0197068115493229; accuracy0.3333333333333333...\n",
      "epoch:846; loss:0.5655892134214562; accuracy0.3333333333333333...\n",
      "epoch:847; loss:1.019706636405307; accuracy0.3333333333333333...\n",
      "epoch:848; loss:0.565665101718637; accuracy0.3333333333333333...\n",
      "epoch:849; loss:1.0197064518658054; accuracy0.3333333333333333...\n",
      "epoch:850; loss:0.5657412054682976; accuracy0.3333333333333333...\n",
      "epoch:851; loss:1.0197062730280049; accuracy0.3333333333333333...\n",
      "epoch:852; loss:0.5658174400453779; accuracy0.3333333333333333...\n",
      "epoch:853; loss:1.0197060939455713; accuracy0.3333333333333333...\n",
      "epoch:854; loss:0.5658937901563159; accuracy0.3333333333333333...\n",
      "epoch:855; loss:1.0197059192711202; accuracy0.3333333333333333...\n",
      "epoch:856; loss:0.5659702135572662; accuracy0.3333333333333333...\n",
      "epoch:857; loss:1.0197057387047743; accuracy0.3333333333333333...\n",
      "epoch:858; loss:0.5660468347713136; accuracy0.3333333333333333...\n",
      "epoch:859; loss:1.0197055641193593; accuracy0.3333333333333333...\n",
      "epoch:860; loss:0.5661236506930749; accuracy0.3333333333333333...\n",
      "epoch:861; loss:1.0197053815215873; accuracy0.3333333333333333...\n",
      "epoch:862; loss:0.5662006216956237; accuracy0.3333333333333333...\n",
      "epoch:863; loss:1.0197051987216617; accuracy0.3333333333333333...\n",
      "epoch:864; loss:0.5662777988678054; accuracy0.3333333333333333...\n",
      "epoch:865; loss:1.0197050184088587; accuracy0.3333333333333333...\n",
      "epoch:866; loss:0.5663550350552089; accuracy0.3333333333333333...\n",
      "epoch:867; loss:1.0197048344282853; accuracy0.3333333333333333...\n",
      "epoch:868; loss:0.5664324134147813; accuracy0.3333333333333333...\n",
      "epoch:869; loss:1.0197046481027539; accuracy0.3333333333333333...\n",
      "epoch:870; loss:0.5665100146222718; accuracy0.3333333333333333...\n",
      "epoch:871; loss:1.0197044696783393; accuracy0.3333333333333333...\n",
      "epoch:872; loss:0.5665877527374379; accuracy0.3333333333333333...\n",
      "epoch:873; loss:1.019704288912611; accuracy0.3333333333333333...\n",
      "epoch:874; loss:0.5666657154527744; accuracy0.3333333333333333...\n",
      "epoch:875; loss:1.0197041118385166; accuracy0.3333333333333333...\n",
      "epoch:876; loss:0.5667437063571075; accuracy0.3333333333333333...\n",
      "epoch:877; loss:1.0197039394192347; accuracy0.3333333333333333...\n",
      "epoch:878; loss:0.5668218925170424; accuracy0.3333333333333333...\n",
      "epoch:879; loss:1.0197037552464294; accuracy0.3333333333333333...\n",
      "epoch:880; loss:0.5669002081621131; accuracy0.3333333333333333...\n",
      "epoch:881; loss:1.0197035771427243; accuracy0.3333333333333333...\n",
      "epoch:882; loss:0.5669787345615166; accuracy0.3333333333333333...\n",
      "epoch:883; loss:1.0197033951463357; accuracy0.3333333333333333...\n",
      "epoch:884; loss:0.5670573516916109; accuracy0.3333333333333333...\n",
      "epoch:885; loss:1.0197032188048212; accuracy0.3333333333333333...\n",
      "epoch:886; loss:0.567136241157009; accuracy0.3333333333333333...\n",
      "epoch:887; loss:1.0197030365958997; accuracy0.3333333333333333...\n",
      "epoch:888; loss:0.567215216582958; accuracy0.3333333333333333...\n",
      "epoch:889; loss:1.019702866180205; accuracy0.3333333333333333...\n",
      "epoch:890; loss:0.5672944218471245; accuracy0.3333333333333333...\n",
      "epoch:891; loss:1.0197026826225721; accuracy0.3333333333333333...\n",
      "epoch:892; loss:0.5673737552227798; accuracy0.3333333333333333...\n",
      "epoch:893; loss:1.019702506470158; accuracy0.3333333333333333...\n",
      "epoch:894; loss:0.5674532358205321; accuracy0.3333333333333333...\n",
      "epoch:895; loss:1.0197023211092602; accuracy0.3333333333333333...\n",
      "epoch:896; loss:0.5675328804576709; accuracy0.3333333333333333...\n",
      "epoch:897; loss:1.019702140929421; accuracy0.3333333333333333...\n",
      "epoch:898; loss:0.5676127637165184; accuracy0.3333333333333333...\n",
      "epoch:899; loss:1.0197019572045318; accuracy0.3333333333333333...\n",
      "epoch:900; loss:0.5676928002504369; accuracy0.3333333333333333...\n",
      "epoch:901; loss:1.0197017811478166; accuracy0.3333333333333333...\n",
      "epoch:902; loss:0.5677729954045934; accuracy0.3333333333333333...\n",
      "epoch:903; loss:1.0197016108502075; accuracy0.3333333333333333...\n",
      "epoch:904; loss:0.5678533895459578; accuracy0.3333333333333333...\n",
      "epoch:905; loss:1.0197014311628512; accuracy0.3333333333333333...\n",
      "epoch:906; loss:0.5679339211042702; accuracy0.3333333333333333...\n",
      "epoch:907; loss:1.0197012498651405; accuracy0.3333333333333333...\n",
      "epoch:908; loss:0.5680146631981807; accuracy0.3333333333333333...\n",
      "epoch:909; loss:1.0197010675591496; accuracy0.3333333333333333...\n",
      "epoch:910; loss:0.568095560869592; accuracy0.3333333333333333...\n",
      "epoch:911; loss:1.0197008883580474; accuracy0.3333333333333333...\n",
      "epoch:912; loss:0.5681766287823914; accuracy0.3333333333333333...\n",
      "epoch:913; loss:1.0197007107734064; accuracy0.3333333333333333...\n",
      "epoch:914; loss:0.5682579066303591; accuracy0.3333333333333333...\n",
      "epoch:915; loss:1.019700526777998; accuracy0.3333333333333333...\n",
      "epoch:916; loss:0.5683393902631045; accuracy0.3333333333333333...\n",
      "epoch:917; loss:1.01970034744003; accuracy0.3333333333333333...\n",
      "epoch:918; loss:0.568420947945476; accuracy0.3333333333333333...\n",
      "epoch:919; loss:1.0197001700922654; accuracy0.3333333333333333...\n",
      "epoch:920; loss:0.568502748764247; accuracy0.3333333333333333...\n",
      "epoch:921; loss:1.0196999883952715; accuracy0.3333333333333333...\n",
      "epoch:922; loss:0.5685847980777271; accuracy0.3333333333333333...\n",
      "epoch:923; loss:1.0196998127910522; accuracy0.3333333333333333...\n",
      "epoch:924; loss:0.5686670230117411; accuracy0.3333333333333333...\n",
      "epoch:925; loss:1.0196996372176843; accuracy0.3333333333333333...\n",
      "epoch:926; loss:0.5687494331187598; accuracy0.3333333333333333...\n"
     ]
    },
    {
     "name": "stdout",
     "output_type": "stream",
     "text": [
      "epoch:927; loss:1.019699461339929; accuracy0.3333333333333333...\n",
      "epoch:928; loss:0.5688320544442472; accuracy0.3333333333333333...\n",
      "epoch:929; loss:1.0196992842204582; accuracy0.3333333333333333...\n",
      "epoch:930; loss:0.5689148271336454; accuracy0.3333333333333333...\n",
      "epoch:931; loss:1.0196991007303533; accuracy0.3333333333333333...\n",
      "epoch:932; loss:0.5689978150942675; accuracy0.3333333333333333...\n",
      "epoch:933; loss:1.0196989234070415; accuracy0.3333333333333333...\n",
      "epoch:934; loss:0.569080908509155; accuracy0.3333333333333333...\n",
      "epoch:935; loss:1.0196987422870605; accuracy0.3333333333333333...\n",
      "epoch:936; loss:0.569164299795281; accuracy0.3333333333333333...\n",
      "epoch:937; loss:1.019698560865062; accuracy0.3333333333333333...\n",
      "epoch:938; loss:0.5692479187194062; accuracy0.3333333333333333...\n",
      "epoch:939; loss:1.019698379740821; accuracy0.3333333333333333...\n",
      "epoch:940; loss:0.5693316655432629; accuracy0.3333333333333333...\n",
      "epoch:941; loss:1.0196982048457506; accuracy0.3333333333333333...\n",
      "epoch:942; loss:0.5694155466813268; accuracy0.3333333333333333...\n",
      "epoch:943; loss:1.0196980235775777; accuracy0.3333333333333333...\n",
      "epoch:944; loss:0.5694997977750643; accuracy0.3333333333333333...\n",
      "epoch:945; loss:1.0196978481938552; accuracy0.3333333333333333...\n",
      "epoch:946; loss:0.5695841830941323; accuracy0.3333333333333333...\n",
      "epoch:947; loss:1.0196976692528166; accuracy0.3333333333333333...\n",
      "epoch:948; loss:0.5696688308856146; accuracy0.3333333333333333...\n",
      "epoch:949; loss:1.019697487956246; accuracy0.3333333333333333...\n",
      "epoch:950; loss:0.5697536121093041; accuracy0.3333333333333333...\n",
      "epoch:951; loss:1.0196973149453896; accuracy0.3333333333333333...\n",
      "epoch:952; loss:0.5698385890860709; accuracy0.3333333333333333...\n",
      "epoch:953; loss:1.019697133838652; accuracy0.3333333333333333...\n",
      "epoch:954; loss:0.5699238120540361; accuracy0.3333333333333333...\n",
      "epoch:955; loss:1.0196969553568176; accuracy0.3333333333333333...\n",
      "epoch:956; loss:0.5700091919204144; accuracy0.3333333333333333...\n",
      "epoch:957; loss:1.0196967749267962; accuracy0.3333333333333333...\n",
      "epoch:958; loss:0.5700947954118696; accuracy0.3333333333333333...\n",
      "epoch:959; loss:1.0196965996269267; accuracy0.3333333333333333...\n",
      "epoch:960; loss:0.5701806401496707; accuracy0.3333333333333333...\n",
      "epoch:961; loss:1.0196964227767267; accuracy0.3333333333333333...\n",
      "epoch:962; loss:0.5702666600841968; accuracy0.3333333333333333...\n",
      "epoch:963; loss:1.0196962442539912; accuracy0.3333333333333333...\n",
      "epoch:964; loss:0.5703529161862765; accuracy0.3333333333333333...\n",
      "epoch:965; loss:1.0196960672999518; accuracy0.3333333333333333...\n",
      "epoch:966; loss:0.5704393841687473; accuracy0.3333333333333333...\n",
      "epoch:967; loss:1.0196958925125876; accuracy0.3333333333333333...\n",
      "epoch:968; loss:0.5705260666893314; accuracy0.3333333333333333...\n",
      "epoch:969; loss:1.0196957231420025; accuracy0.3333333333333333...\n",
      "epoch:970; loss:0.5706130057052945; accuracy0.3333333333333333...\n",
      "epoch:971; loss:1.019695542690084; accuracy0.3333333333333333...\n",
      "epoch:972; loss:0.5707001442979305; accuracy0.3333333333333333...\n",
      "epoch:973; loss:1.019695366213976; accuracy0.3333333333333333...\n",
      "epoch:974; loss:0.5707876063421604; accuracy0.3333333333333333...\n",
      "epoch:975; loss:1.0196951833308332; accuracy0.3333333333333333...\n",
      "epoch:976; loss:0.5708753107907015; accuracy0.3333333333333333...\n",
      "epoch:977; loss:1.019695002527799; accuracy0.3333333333333333...\n",
      "epoch:978; loss:0.5709632198732657; accuracy0.3333333333333333...\n",
      "epoch:979; loss:1.0196948239371864; accuracy0.3333333333333333...\n",
      "epoch:980; loss:0.571051277256008; accuracy0.3333333333333333...\n",
      "epoch:981; loss:1.0196946440378665; accuracy0.3333333333333333...\n",
      "epoch:982; loss:0.5711395531511314; accuracy0.3333333333333333...\n",
      "epoch:983; loss:1.0196944652608284; accuracy0.3333333333333333...\n",
      "epoch:984; loss:0.5712281217056231; accuracy0.3333333333333333...\n",
      "epoch:985; loss:1.0196942832166775; accuracy0.3333333333333333...\n",
      "epoch:986; loss:0.5713168415082752; accuracy0.3333333333333333...\n",
      "epoch:987; loss:1.0196941068904382; accuracy0.3333333333333333...\n",
      "epoch:988; loss:0.5714058840964341; accuracy0.3333333333333333...\n",
      "epoch:989; loss:1.0196939325291348; accuracy0.3333333333333333...\n",
      "epoch:990; loss:0.5714950832162993; accuracy0.3333333333333333...\n",
      "epoch:991; loss:1.0196937581480774; accuracy0.3333333333333333...\n",
      "epoch:992; loss:0.5715846015340789; accuracy0.3333333333333333...\n",
      "epoch:993; loss:1.019693579778409; accuracy0.3333333333333333...\n",
      "epoch:994; loss:0.5716743463082123; accuracy0.3333333333333333...\n",
      "epoch:995; loss:1.0196933999530917; accuracy0.3333333333333333...\n",
      "epoch:996; loss:0.5717642514367276; accuracy0.3333333333333333...\n",
      "epoch:997; loss:1.019693217918197; accuracy0.3333333333333333...\n",
      "epoch:998; loss:0.5718544847308444; accuracy0.3333333333333333...\n",
      "epoch:999; loss:1.0196930413263487; accuracy0.3333333333333333...\n",
      "epoch:1000; loss:0.5719450058610056; accuracy0.3333333333333333...\n"
     ]
    },
    {
     "data": {
      "text/plain": [
       "(Chain(Dense(4 => 4, σ), Dense(4 => 8, σ), Dense(8 => 3, σ), Dense(3 => 3), softmax), [0.49098216946321627, 1.092472140886108, 1.0079381959100666, 1.0986122073684819, 1.017329334455836, 1.098612173559643, 1.0173952541709632, 1.0986120774294628, 1.0174026847083446, 1.0986120043576586  …  1.0196937581480774, 0.5715846015340789, 1.019693579778409, 0.5716743463082123, 1.0196933999530917, 0.5717642514367276, 1.019693217918197, 0.5718544847308444, 1.0196930413263487, 0.5719450058610056])"
      ]
     },
     "execution_count": 62,
     "metadata": {},
     "output_type": "execute_result"
    }
   ],
   "source": [
    "norm_input = normalizeMinMax(inputs)\n",
    "\n",
    "trainClassANN([4,8,3],(norm_input, targets), learningRate=0.5)"
   ]
  },
  {
   "cell_type": "markdown",
   "id": "bd8ffa64",
   "metadata": {},
   "source": [
    "#### Warning\n",
    "Remember to integrate this functions with the code developed on the previous tutorial in a separate file.\n",
    "\n",
    "Once the training function returns a trained ANN, it can be used to simulated on different problems by passing it a set of inputs (with the patterns in columns, i.e. transposed) and will return the outputs for that set (again, the patterns will be in columns, so the outputs of the ANN will have to be transposed).  These outputs, along with the desired outputs for that set of inputs, can be applied to the accuracy function to calculate the accuracy on that set. \n",
    "\n",
    "Run multiple times to train different networks with different architectures - which one will give the highest accuracy on the training set? Also test different learning rate values."
   ]
  },
  {
   "cell_type": "markdown",
   "id": "2a675f36",
   "metadata": {},
   "source": [
    "`If we use a big topology like [3,9,27,48,65] the network performs badly, obtaining an average of 0.6 accuracy. If we use a small topology like [1] the network also performs badly, obtaing an average of 0.7 accuracy. When using an topology shaped like the input and output data like [4,8,3] we obtain average better results with an 0.97 accuracy. For the best topology ([4,8,3]) we tried different learning rates: for 0.01 the results flucutate between 0.97 and 0.98, for a greater LR of 0.1 the results fluctuate between 0.65 and 0.7. For greater LR values like 0.5 the results were the worst with a 0.33 accuracy.` "
   ]
  },
  {
   "cell_type": "markdown",
   "id": "8659529c",
   "metadata": {},
   "source": [
    "Repeat the experiments performed above, with the unstandardised data, and compare the results with the standardised data. Are there important differences when using standardised data? Which one is the est topology?"
   ]
  },
  {
   "cell_type": "markdown",
   "id": "d6f2d622",
   "metadata": {},
   "source": [
    "`The experiments were performed using MinMax normalization technique. When repeating the experiments without the normalization applied the results were overall lower, ranking with lower accuracy metrics for almost all topologies.\n",
    "\n",
    "Overall, we can say that the best topology is the one that better fits the given problem [4,8,3] and the best LR is the lowest one. We can also say that the normalisation techniques provide useful increases in metrics`"
   ]
  },
  {
   "cell_type": "markdown",
   "id": "80b1a6e1",
   "metadata": {},
   "source": [
    "# Julia Notes\n",
    "\n",
    "As any other language, Julia allows the creation of functions. There are several ways to create functions, the most common are these two:\n",
    "\n",
    "1. When the operation to be performed is simple, the function can be declared on one line without the need for the reserved word function.  This is the case for operations that can be performed in one or a few lines of code.  In the latter case, parentheses can be used to enclose the actions to be performed, and `;` to separate them.  The value to be returned by the function will be the last thing to be evaluated, although the reserved word `return` can also be used.  Here are a couple of examples of this way of declaring functions:\n",
    "    ```julia\n",
    "         add(x::Float32, y::Float32) = x+x; \n",
    "         mse(outputs::Array{Float32,1}, targets:: Array{Float32,1}) = mean((targets.-outputs).^2);\n",
    "         avgGreaterThan0(valores::Array{Float32,1}) = mean(values[values.>0]); \n",
    "         avgGreaterThan0(valores::Array{Float32,1}) = ( positives=values.>0; mean(values[positives]); )   \n",
    "    ```\n",
    "2. In many other cases, a function may perform many complex operations that are impractical to write on a single line.  In this case, you can declare the function with the reserved word `function`, and return the result with the reserved word `return`.  As is common in programming languages, evaluating `return` immediately exits the function.  If `return` is not used, the result returned by function will be the last one evaluated.  The example above is shown below: \n",
    "   ```julia\n",
    "         function avgGreaterThan0(Values::Array{Float32,1})    \n",
    "            positives=values.>0;    \n",
    "            return mean(Values[positives]); \n",
    "         end;  \n",
    "    ```\n",
    "  When passing parameters, it is not mandatory, but recommended, to indicate the type of the parameters.  If this is not done, they are assumed to be of type `Any`.  However, a common practice in Julia is to overload functions, i.e. to define functions with the same name but different parameters or of different types.  When calling a function, the correct function will be executed, if any of the ones defined match the parameters passed. This allows different behaviours to be defined. When a function call is made, Julia checks that there exists in memory a definition with that name in which the types of the passed arguments match the defined ones and, if it exists, it will execute it with those parameters.\n",
    "  \n",
    "  In the examples above, the parameters have been defined as `Float32` or `Array{Float32,2}`, which means that the functions are defined for those specific types, and therefore, if calls are made with parameters of type `Float64` or `Array{Float64,2}`, a suitable function definition will not be found, and an error will be raised.  To solve this, it is worthy to apply the subtyping properties as seen in the previous tutorial to define the most generic types that the function can work with. For example, instead of using `Float32`, you can use `AbstractFloat`, `Real` or `Number` types (be aware that the latter type includes complex numbers). Instead of using `Array{Float32,2}`, you could use `Array{<:AbstractFloat}`, `Array{<:Real}` or `Array{<:Number}`. Additionaly, it is needed to take into remember that there are other types that behave like arrays but are not arrays. An important example that will be used in this subject is when transposing arrays, which creates an object that is not of type `Array`, but of type `LinearAlgebra.Adjoint`, but that can be used as if it were an array because its operations are defined as such.  Both `Array` and `LinearAlgebra.Adjoint` are subtypes of `AbstractArray`, as can be seen in the following example: "
   ]
  },
  {
   "cell_type": "code",
   "execution_count": 38,
   "id": "b5a04b50",
   "metadata": {},
   "outputs": [],
   "source": [
    "m = [1. 2.; 3. 4.]; "
   ]
  },
  {
   "cell_type": "code",
   "execution_count": 39,
   "id": "69d3ed07",
   "metadata": {},
   "outputs": [
    {
     "data": {
      "text/plain": [
       "true"
      ]
     },
     "execution_count": 39,
     "metadata": {},
     "output_type": "execute_result"
    }
   ],
   "source": [
    "isa(m, Array)"
   ]
  },
  {
   "cell_type": "code",
   "execution_count": 40,
   "id": "cfa17fe1",
   "metadata": {},
   "outputs": [
    {
     "data": {
      "text/plain": [
       "true"
      ]
     },
     "execution_count": 40,
     "metadata": {},
     "output_type": "execute_result"
    }
   ],
   "source": [
    "isa(m, AbstractArray)"
   ]
  },
  {
   "cell_type": "code",
   "execution_count": 41,
   "id": "bc7a1ffb",
   "metadata": {},
   "outputs": [
    {
     "data": {
      "text/plain": [
       "LinearAlgebra.Adjoint{Float64, Matrix{Float64}}"
      ]
     },
     "execution_count": 41,
     "metadata": {},
     "output_type": "execute_result"
    }
   ],
   "source": [
    "typeof(m') "
   ]
  },
  {
   "cell_type": "code",
   "execution_count": 42,
   "id": "7249074a",
   "metadata": {},
   "outputs": [
    {
     "data": {
      "text/plain": [
       "false"
      ]
     },
     "execution_count": 42,
     "metadata": {},
     "output_type": "execute_result"
    }
   ],
   "source": [
    "isa(m', Array)"
   ]
  },
  {
   "cell_type": "code",
   "execution_count": 43,
   "id": "19a7cf1d",
   "metadata": {},
   "outputs": [
    {
     "data": {
      "text/plain": [
       "true"
      ]
     },
     "execution_count": 43,
     "metadata": {},
     "output_type": "execute_result"
    }
   ],
   "source": [
    "isa(m', AbstractArray)"
   ]
  },
  {
   "cell_type": "markdown",
   "id": "43600581",
   "metadata": {},
   "source": [
    "Since both types, `Array` and `LinearAlgebra.Adjoint` are subtypes of `AbstractArray`, to allow an argument to be of one type or the other, this will be the type to be used in the function arguments. Therefore, the above functions will be as follows: \n",
    "\n",
    "   ```julia\n",
    "        add(x::Real, y:: Real) = x+x;\n",
    "        mse(outputs::AbstractArray{<:Real,1},targets::AbstractArray{<:Real,1})=mean((targets.-outputs).^2)\n",
    "        avgGreaterThan0(values::AbstractArray{<:Real,1}) = mean(values[values.>0]); \n",
    "        avgGreaterThan0(values:: AbstractArray{<:Real,1})=(positives=values.>0; mean(values[poitives]);) \n",
    "        \n",
    "        function avgGreaterThan0(values::AbstractArray{<:Real,1})    \n",
    "            positives=values.>0;    \n",
    "            return mean(Values[positives]); \n",
    "        end;  \n",
    "   ```\n",
    "When an argument is a vector or array of boolean values, as is the case of the desired outputs in a classification problem, the type to use will be `AbstractArray{Bool,N}`, where N is the dimensionality of the array.  As mentioned in the previous tutorial, this type is a supertype of both `Array{Bool,N}` and `BitArray{N}`. \n",
    "\n",
    "An interesting feature of Julia functions is that they can return more than one value. This is done by using the type `Tuple{...}`, which designates tuples where each element has a certain type, for example `Tuple{Float32,Float32}`, `Tuple{Array{Float32,2}, Int64}` or `Tuple{Float32, Tuple{Int64, Int4}}`. In general, if you want to return more than one element, you return a tuple with the elements you want to return, for example:\n",
    "\n",
    "   ```julia\n",
    "        function avgGreaterThan0(values::AbstractArray{<:Real,1})    \n",
    "            positives=valores.>0;    \n",
    "            return (positives, mean(values[positives])) \n",
    "        end; \n",
    "\n",
    "        (positives, average) = avgGreaterThan0([1.2 , -1.3 , 5.5 , -3.8 , -2.1])\n",
    "   ```\n",
    "\n",
    "When creating tuples where all elements have the same type, a simplified way to define the type is to use `NTuple`, specifying the number of elements and the type. For example:"
   ]
  },
  {
   "cell_type": "code",
   "execution_count": 44,
   "id": "73e6a43f",
   "metadata": {},
   "outputs": [
    {
     "data": {
      "text/plain": [
       "true"
      ]
     },
     "execution_count": 44,
     "metadata": {},
     "output_type": "execute_result"
    }
   ],
   "source": [
    "Tuple{Float64,Float64}==NTuple{2,Float64}"
   ]
  },
  {
   "cell_type": "markdown",
   "id": "8072b588",
   "metadata": {},
   "source": [
    "As was aforementioned, the names of those functions that modify the values of one of their arguments are usually terminated with `!` by convention."
   ]
  }
 ],
 "metadata": {
  "kernelspec": {
   "display_name": "Julia 1.8.0",
   "language": "julia",
   "name": "julia-1.8"
  },
  "language_info": {
   "file_extension": ".jl",
   "mimetype": "application/julia",
   "name": "julia",
   "version": "1.8.1"
  }
 },
 "nbformat": 4,
 "nbformat_minor": 5
}
