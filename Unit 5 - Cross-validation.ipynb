{
 "cells": [
  {
   "cell_type": "markdown",
   "id": "923c9266",
   "metadata": {
    "pycharm": {
     "name": "#%% md\n"
    }
   },
   "source": [
    "# Cross-validation\n",
    "\n",
    "With the code developed so far, it is possible to train an ANN and provide an estimate of the results it would offer in its real execution (with unseen patterns, represented by a test set). However, in this last aspect there are two factors to consider, as a consequence of the non-deterministic nature of the process we are following:\n",
    "\n",
    "- The partitioning of the set of patterns into training/test is random (hold out), and is therefore overly dependent on good or bad luck in choosing training and test patterns.\n",
    "- ANN training is not deterministic, as the initialisation of the weights is random. As before, it is too dependent on good or bad luck to start the training at a good or bad starting point.\n",
    "\n",
    "For these two reasons, the test result of a single training is not significant when assessing the goodness of fit of the model in the presence of unseen patterns. To solve this problem, the experiment is repeated several times and the results are averaged. This can be implemented in a simple way by means of a loop; however, it is necessary to do this in an orderly way as there are two different sources of randomness.\n",
    "\n",
    "Firstly, to minimise the randomness due to the partitioning of the data set, it is necessary to have a method that ensures that each data is used for training at least once, and for testing at least once. The most commonly used method is cross-validation. In this method, the data set is split into k disjoint subsets and k experiments are performed. In the k-th experiment, the k subset is separated for testing, and the remaining k-1 substes are used for training, performing a k-fold cross-validation. A common value is k=10, which gives a 10-fold cross-validation. Finally, the test value corresponding to the appropriate metric will be the average value of the values of the k experiments.\n",
    "\n",
    "A widely used variant of cross-validation is stratified cross-validation. In this case, each subset is created in such a way as to keep the proportion of patterns of each class the same (or similar) as in the original dataset. This is particularly used when the data set is imbalanced.\n",
    "\n",
    "It is usual to save not only the mean, but also the k values, in order to subsequently perform a paired hypothesis test with another model. To do this, it is necessary that both models have been trained using the same training and test sets.\n",
    "\n",
    "This way of evaluating the model is often considered to be slightly pessimistic, i.e. the results obtained in tests are slightly worse than those that would be obtained from real training with all available data. In a hold out experiment, as mentioned above, several data are separated for testing. This means that the model is trained with less data than is available, and that by chance the data separated for testing can be of great importance (especially if there is little data). For this reason, when training with less data and possibly no \"important\" data, hold out is considered a pessimistic assessment. In the same way, cross-validation also separates data for testing, so it does not train on all available data, and is therefore also pessimistic. However, it is guaranteed that all data are used at least once in training and once in testing, thus trying to minimise the impact of chance in separating data, so it is considered only a slightly pessimistic evaluation.\n",
    "\n",
    "Doing this is as simple as splitting the data set and performing a loop with k iterations in which at the k-th iteration a model is trained and evaluated with the corresponding sets. However, if the model is not deterministic, the result obtained at the k-th iteration will not be meaningful, since it is again dependent on chance. In this case, what needs to be done is a second nested loop within iteration k in which the model is repeatedly trained, and finally an average of the results is made to finally output the result of iteration k. The number of trainings must be high for the average results to be really significant, at least 50 trainings.\n",
    "\n",
    "### Question\n",
    "\n",
    "If this second loop is performed with a deterministic model, what will be the standard deviation of the test results obtained? Is there a difference between performing this second loop and averaging the results, or doing a single training?"
   ]
  },
  {
   "cell_type": "markdown",
   "id": "0294d11a",
   "metadata": {
    "pycharm": {
     "name": "#%% md\n"
    }
   },
   "source": [
    "`If the model is deterministic the deviation will be 0. In this case we could just do a single training iteration.`"
   ]
  },
  {
   "cell_type": "markdown",
   "id": "af15c6a2",
   "metadata": {
    "pycharm": {
     "name": "#%% md\n"
    }
   },
   "source": [
    "In this way, it is possible to evaluate a model together with its hyperparameters in solving a problem. A very common situation is to compare several models (or the same model with different hyperparameters), for which this scheme has to be applied with an important caveat: the sets used in the cross-validation must be the same for each model. Since the distribution of patterns in different sets is random, having the same subsets in different runs is achieved by setting the random seed at the beginning of the program to be executed. Setting the random seed not only allows the same subsets to be generated, but is also important in order to be able to repeat the results in different runs.\n",
    "\n",
    "It is also important to bear in mind that this methodology allows estimating the real performance of a model (although slightly pessimistic). The final model that would be used in production would be the result of training it with all the available patterns, since, as seen in the theory class, and very generally speaking, the more patterns you train with, the better the model will be.\n",
    "\n",
    "In this assignment, you are asked to:\n",
    "\n",
    "1. Develop a function called `crossvalidation` that receives a value `N` (equal to the number of patterns), and a value `k` (number of subsets into which the dataset is to be split), and returns a vector of length N, where each element indicates in which subset that pattern should be included.\n",
    "\n",
    "    To do this function, one possibility is to perform the following steps:\n",
    "    \n",
    "    - Create a vetor with k sorted elements, from 1 to k.\n",
    "    - Create a new vector with repetitions of the previous vector until its length is greater than or equal to N. The functions `repeat` and `ceil` can be used for this purpose.\n",
    "    - Take the first N values of this vector.\n",
    "    - Shuffle this vector (using the function `shuffle!` and return it. To use this function, the module `Random` should be loaded.\n",
    "    \n",
    "    No loop function should be used in the developed function."
   ]
  },
  {
   "cell_type": "code",
   "execution_count": 9,
   "id": "35def6db",
   "metadata": {
    "pycharm": {
     "name": "#%%\n"
    }
   },
   "outputs": [
    {
     "data": {
      "text/plain": [
       "100-element Vector{Int64}:\n",
       " 2\n",
       " 5\n",
       " 4\n",
       " 1\n",
       " 4\n",
       " 4\n",
       " 5\n",
       " 5\n",
       " 5\n",
       " 1\n",
       " 1\n",
       " 4\n",
       " 1\n",
       " ⋮\n",
       " 5\n",
       " 4\n",
       " 2\n",
       " 5\n",
       " 2\n",
       " 4\n",
       " 5\n",
       " 1\n",
       " 2\n",
       " 2\n",
       " 3\n",
       " 3"
      ]
     },
     "execution_count": 9,
     "metadata": {},
     "output_type": "execute_result"
    }
   ],
   "source": [
    "using Random\n",
    "\n",
    "function crossvalidation(N::Int64, k::Int64)\n",
    "    indices = repeat(1:k, Int64(ceil(N/k)))\n",
    "    indices = indices[1:N]\n",
    "    shuffle!(indices)\n",
    "    return indices\n",
    "end;\n",
    "\n",
    "# perform 5-fold cross-validation for a 100-elements set\n",
    "crossvalidation(100, 5)"
   ]
  },
  {
   "cell_type": "markdown",
   "id": "45ee3465",
   "metadata": {
    "pycharm": {
     "name": "#%% md\n"
    }
   },
   "source": [
    "2. Create a new function called `crossvalidation`, which in this case receives as first argument `targets` of type `AbstractArray{Bool,2}` with the desired outputs, and as second argument a value `k` (number of subsets in which the dataset will be split), and returns a vector of length N (equal to the number of rows of targets), where each element indicates in which subset that pattern must be included. This partition has also to be stratified. To do this, the following steps can be followed:\n",
    "\n",
    "    - Create a vector of indices, with as many values as rows in the `target` matrix.\n",
    "    - Write a loop that iterates over the classes (columns in the `target` matrix), and does the following:\n",
    "        - Take the number of elements belonging to that class. This can be done by making a call to the `sum` function applied to the corresponding column.\n",
    "        - Make a call to the `crossvalidation` function developed earlier passing as parameters this number of elements and the value of k.\n",
    "        - Update the index vector positions indicated by the corresponding column of the `targets` matrix with the values of the vector resulting from the call to the `crossvalidation` function.\n",
    "        \n",
    "        ### Question\n",
    "        \n",
    "        Could you perform these 3 operations in a single function call?\n",
    "        \n",
    "        ```Yes, as shown in the function we developed```\n",
    "        </br>\n",
    "    - Return the vector of indices.\n",
    "    \n",
    "    As it can be seen in this explanation, a loop iterating all classes can be used in this function. However, you need to make sure that each class has at least k patterns. A usual value is k=10. Therefore, it is important to make sure that you have at least 10 patterns of each class.\n",
    "        \n",
    "    ### Question\n",
    "    \n",
    "    What would happen if any class has a number of patterns less than k? What would be the consequences for calculating metrics?\n",
    "    \n",
    "    ```It could result into a case of imbalance, where some folds don't feature all the classes```\n",
    "    \n",
    "    > If, for whatever reason, it is impossible to ensure that you have at least 10 patterns of each class, one possibility would be to lower the value of k. In this case, consult with the teacher to assess this option, and what impact it might have on the final result of the trained models. In this case, consult with the teacher to assess this option, and what impact it might have on the final result of the trained models."
   ]
  },
  {
   "cell_type": "code",
   "execution_count": 15,
   "id": "676a50c4-ac1c-47db-b3fb-80d83e45e275",
   "metadata": {},
   "outputs": [
    {
     "data": {
      "text/plain": [
       "150×3 Matrix{Bool}:\n",
       " 1  0  0\n",
       " 1  0  0\n",
       " 1  0  0\n",
       " 1  0  0\n",
       " 1  0  0\n",
       " 1  0  0\n",
       " 1  0  0\n",
       " 1  0  0\n",
       " 1  0  0\n",
       " 1  0  0\n",
       " 1  0  0\n",
       " 1  0  0\n",
       " 1  0  0\n",
       " ⋮     \n",
       " 0  0  1\n",
       " 0  0  1\n",
       " 0  0  1\n",
       " 0  0  1\n",
       " 0  0  1\n",
       " 0  0  1\n",
       " 0  0  1\n",
       " 0  0  1\n",
       " 0  0  1\n",
       " 0  0  1\n",
       " 0  0  1\n",
       " 0  0  1"
      ]
     },
     "execution_count": 15,
     "metadata": {},
     "output_type": "execute_result"
    }
   ],
   "source": [
    "using DelimitedFiles \n",
    "\n",
    "dataset = readdlm(\"iris.data\",',');\n",
    "\n",
    "inputs = dataset[:,1:4];\n",
    "targets = dataset[:,5];"
   ]
  },
  {
   "cell_type": "code",
   "execution_count": 57,
   "id": "5491483d",
   "metadata": {
    "pycharm": {
     "name": "#%%\n"
    }
   },
   "outputs": [
    {
     "data": {
      "text/plain": [
       "crossvalidation (generic function with 2 methods)"
      ]
     },
     "execution_count": 57,
     "metadata": {},
     "output_type": "execute_result"
    }
   ],
   "source": [
    "## Implementation of stratified crossvalidation.\n",
    "##   Both the test and train sets must have the\n",
    "##   same proportion of the different classes and\n",
    "##   therefore improve the quality of the obtained model.\n",
    "##   \n",
    "##   I.E: If our dataset has 100 elements from which 80 are\n",
    "##   of class a, 10 of class b and 10 of class c then our\n",
    "##   10-fold crossvalidation sets must be of 10 elements from\n",
    "##   which 8 are of class a, 1 of class b and 1 of class c.\n",
    "\n",
    "## Implementacion\n",
    "\n",
    "##   crossvalidamos los elementos\n",
    "##   relativos a sus indices\n",
    "##   ejemplo\n",
    "##   a b b b b d d a\n",
    "##    step1: 1 - - - - - - 2\n",
    "##    step2: 1 1 2 1 2 - - 2\n",
    "##    step3: 1 1 2 1 2 1 2 2\n",
    "##   asi quedan los k-folds estratificados\n",
    "\n",
    "function crossvalidation(targets::AbstractArray{Bool,2}, k::Int64)\n",
    "    # compute the nubmer of elements in our targets dataset\n",
    "    n_rows = size(targets,1)\n",
    "    \n",
    "    indexes = zeros(Int64, size(targets,1))\n",
    "    for class in eachcol(targets)\n",
    "        n_elements = sum(class)\n",
    "        current_class_indexes = crossvalidation(n_elements, k)\n",
    "        \n",
    "        i = 1\n",
    "        j = 1\n",
    "        for element in class\n",
    "            if element == true \n",
    "                indexes[i] = current_class_indexes[j]\n",
    "                j+=1\n",
    "            end\n",
    "            i+=1\n",
    "        end\n",
    "    end\n",
    "    return indexes;\n",
    "end"
   ]
  },
  {
   "cell_type": "markdown",
   "id": "cbc74a4b",
   "metadata": {
    "pycharm": {
     "name": "#%% md\n"
    }
   },
   "source": [
    "3. Perform a final function called crossvalidation, but in this case with the first parameter `targets` of type `AbstractArray{<:Any,1}` (i.e. a vector with heterogeneous elements), the same second argument, and perform stratified cross-validation.\n",
    "\n",
    "    In this case, the steps to follow in this function are not specified. However, they are similar to the previous one. A simple way to do it would be to call the function `oneHotEncoding` passing the vector `targets` as an argument.\n",
    "    \n",
    "      ### Question\n",
    "      \n",
    "      Could you develop this function without calling oneHotEncoding?\n",
    "      \n",
    "      ```The one hot encoding is needed in order to homogenize the targets, otherwise it would make no sense```"
   ]
  },
  {
   "cell_type": "code",
   "execution_count": 59,
   "id": "bbc619c8",
   "metadata": {
    "pycharm": {
     "name": "#%%\n"
    }
   },
   "outputs": [
    {
     "name": "stdout",
     "output_type": "stream",
     "text": [
      "number of class_1 in fold 1: 17\n",
      "number of class_2 in fold 1: 17\n",
      "number of class_3 in fold 1: 17\n",
      "number of class_1 in fold 2: 17\n",
      "number of class_2 in fold 2: 17\n",
      "number of class_3 in fold 2: 17\n",
      "number of class_1 in fold 3: 16\n",
      "number of class_2 in fold 3: 16\n",
      "number of class_3 in fold 3: 16\n"
     ]
    }
   ],
   "source": [
    "function oneHotEncoding(feature::AbstractArray{<:Any,1}, classes::AbstractArray{<:Any,1})\n",
    "    numClasses = length(unique(classes))\n",
    "\n",
    "    if (numClasses == 2)\n",
    "        oneHot = Array{Bool,2}(undef, size(feature,1), 1)\n",
    "        oneHot[:,1] .= (feature.==classes[1])\n",
    "    else\n",
    "        oneHot = Array{Bool,2}(undef, size(feature,1), numClasses)\n",
    "        for numClass = 1:numClasses\n",
    "            oneHot[:,numClass] .= (feature.==classes[numClass])\n",
    "        end\n",
    "    end\n",
    "    return oneHot\n",
    "end\n",
    "function oneHotEncoding(feature::AbstractArray{<:Any,1})\n",
    "    return oneHotEncoding(feature, unique(feature))\n",
    "end\n",
    "\n",
    "targets_ohc = oneHotEncoding(targets)\n",
    "\n",
    "\n",
    "function crossvalidation(targets::AbstractArray{<:Any,1}, k::Int64)\n",
    "    targets = oneHotEncoding(targets, unique(targets));\n",
    "    \n",
    "    crossValidationIndices = crossvalidation(size(targets,1), k);\n",
    "    \n",
    "    return crossValidationIndices;\n",
    "end;\n",
    "\n",
    "\n",
    "\n",
    "## Check that the folds are balanced\n",
    "folds_dict = Dict([(1,[]),(2,[]),(3,[])])\n",
    "for i = 1:length(folds_indexes)\n",
    "    selected_fold = folds_indexes[i]\n",
    "    selected_fold_list = folds_dict[selected_fold]\n",
    "    append!(selected_fold_list, [targets_ohc[i,:]])\n",
    "end\n",
    "\n",
    "for i = 1:3\n",
    "    check_dict = folds_dict[i]\n",
    "    println(\"number of class_1 in fold \",i,\": \",count(i->(i==[true, false, false]),check_dict))\n",
    "    println(\"number of class_2 in fold \",i,\": \",count(i->(i==[false, true, false]),check_dict))\n",
    "    println(\"number of class_3 in fold \",i,\": \",count(i->(i==[false, false, true]),check_dict))\n",
    "end\n"
   ]
  },
  {
   "cell_type": "markdown",
   "id": "34ddb115",
   "metadata": {
    "pycharm": {
     "name": "#%% md\n"
    }
   },
   "source": [
    "4. Integrate these functions into the code developed so far and define two functions to train ANNs following the stratified cross-validation strategy. To do this:\n",
    "\n",
    "- First, it is necessary to set the random seed to ensure that the experiments are repeatable. This can be done with the `seed!` function of the `Random` module.\n",
    "- Once the data is loaded and encoded, generate an index vector by calling the `crossvalidation` function.\n",
    "- Create a function called `trainClassANN`, which receives as parameters the topology, the training set and the indices used for cross-validation. Optionally, it can receive the rest of the parameters used in previous assignments. Inside this function, the following steps may be followed:\n",
    "    - Create a vector with k elements, which will contain the test results of the cross-validation process with the selected metric. If more than one metric is to be used, create one vector per metric.\n",
    "    - Make a loop with k iterations (k folds) where, within each iteration, 4 matrices are created from the desired input and output matrices by means of the index vector resulting from the previous function. Namely, the desired inputs and outputs for training and test. As always, do this process of creating new matrices without loops.\n",
    "    - Within this loop, add a call to generate the model with the training set, and test with the corresponding test set according to the value of k. This can be done by calling the `trainClassANN` function developed in previous assignments, passing as parameters the corresponding sets.\n",
    "    - As indicated in the previous assignment, the training of ANNs is not deterministic, so that, for each iteration k of the cross-validation, it will be necessary to train several ANNs and return the average of the test results (with the selected metric or metrics) in order to have the test value corresponding to this k.\n",
    "    - Furthermore, in the case of training ANNs, the training set can be split into training and validation if the ratio of patterns to be used for the validation set is greater than 0. To do this, use the `holdOut` function developed in a previous assignment.\n",
    "    - Once the model has been trained (several times) on each fold, take the result and fill in the vector(s) created earlier (one for each metric).\n",
    "    - Finally, provide the result of averaging the values of these vectors for each metric together with their standard deviations.\n",
    "    - As a result of this call, at least the test value in the selected metric(s) should be returned. If the model is not deterministic (as is the case for the ANNs), it will be the average of the results of several trainings.\n",
    "- Once this function is done, develop a second one, of the same name, so that it accepts as desired outputs a vector instead of an array, as in a previous assignment, and its operation is simply to make a call to this newly developed function.\n",
    "\n",
    "> **Remarks**:\n",
    "> - Although we have only seen how to train ANNs, in the next assignment we will use other models contained in another library (Scikit-Learn). The idea is to use the same code used for cross-validation with this global loop, changing only the line in which the model is generated.\n",
    "> - Note that other Machine Learning models are deterministic, so they do not need the inner loop (whenever they are trained with the same data they return the same outputs), but only the loop for each fold."
   ]
  },
  {
   "cell_type": "code",
   "execution_count": 61,
   "id": "9404004f",
   "metadata": {},
   "outputs": [
    {
     "data": {
      "text/plain": [
       "trainClassANN (generic function with 2 methods)"
      ]
     },
     "execution_count": 61,
     "metadata": {},
     "output_type": "execute_result"
    }
   ],
   "source": [
    "using Flux\n",
    "using Flux.Losses\n",
    "\n",
    "function classifyOutputs(outputs::AbstractArray{<:Real,2}, threshold::Real=0.5)\n",
    "    if size(outputs, 2) == 1\n",
    "        output = dataset .>= threshold\n",
    "    else\n",
    "        (_,indicesMaxEachInstance) = findmax(outputs, dims=2);\n",
    "        bool_outputs = falses(size(outputs));\n",
    "        bool_outputs[indicesMaxEachInstance] .= true\n",
    "    end\n",
    "    return bool_outputs\n",
    "end\n",
    "\n",
    "function accuracy(outputs::AbstractArray{Bool,2}, targets::AbstractArray{Bool,2}) \n",
    "\n",
    "    if (size(targets,2)==1)\n",
    "        return accuracy(outputs[:,1], targets[:,1])\n",
    "    else\n",
    "        classComparison = targets .== outputs\n",
    "        correctClassifications = all(classComparison, dims=2)\n",
    "        return mean(correctClassifications)\n",
    "    end\n",
    "end\n",
    "\n",
    "function accuracy(outputs::AbstractArray{<:Real,2}, targets::AbstractArray{Bool,2}, threshold::Real=0.5)\n",
    "    if (size(targets,2)==1)\n",
    "        return accuracy(outputs[:,1], targets[:,1])\n",
    "    else\n",
    "        classified_outputs=classifyOutputs(outputs)\n",
    "        return accuracy(classified_outputs, targets)\n",
    "    end\n",
    "end\n",
    "\n",
    "# Function to generate classification artificial neural networks\n",
    "function buildClassANN(numInputs::Int, topology::AbstractArray{<:Int,1}, numOutputs::Int;\n",
    "                    transferFunctions::AbstractArray{<:Function,1}=fill(σ, length(topology))) \n",
    "    ann = Chain()\n",
    "    numInputsLayer = numInputs\n",
    "    for numOutputLayers = topology\n",
    "        ann = Chain(ann..., Dense(numInputsLayer, numOutputLayers, σ))\n",
    "        numInputsLayer = numOutputLayers\n",
    "    end\n",
    "    if (numOutputs == 1)\n",
    "        ann = Chain(ann..., Dense(numInputsLayer, 1, σ))\n",
    "    else\n",
    "        ann = Chain(ann..., Dense(numInputsLayer, numOutputs, identity))\n",
    "        ann = Chain(ann..., softmax)\n",
    "    end\n",
    "    return ann\n",
    "end\n",
    "\n",
    "# Function to train classification artificial neural networks\n",
    "function trainClassANN(\n",
    "        topology::AbstractArray{<:Int,1},  \n",
    "        trainingDataset::Tuple{AbstractArray{<:Real,2}, AbstractArray{Bool,2}}; \n",
    "        validationDataset::Tuple{AbstractArray{<:Real,2}, AbstractArray{Bool,2}}= \n",
    "                    (Array{eltype(trainingDataset[1]),2}(undef,0,0), falses(0,0)), \n",
    "        testDataset::Tuple{AbstractArray{<:Real,2}, AbstractArray{Bool,2}}= \n",
    "                    (Array{eltype(trainingDataset[1]),2}(undef,0,0), falses(0,0)), \n",
    "        transferFunctions::AbstractArray{<:Function,1}=fill(σ, length(topology)), \n",
    "        maxEpochs::Int=1000, \n",
    "        minLoss::Real=0.0, \n",
    "        learningRate::Real=0.01,  \n",
    "        maxEpochsVal::Int=20, \n",
    "        showText::Bool=false)\n",
    "    \n",
    "    # Create ANN and loss function for classification problems\n",
    "    training_inputs, training_outputs = trainingDataset\n",
    "    validation_inputs, validation_outputs = validationDataset\n",
    "    test_inputs, test_outputs = testDataset\n",
    "    \n",
    "    input_feats_size, output_classes_size = size(training_inputs,2), size(training_outputs,2)\n",
    "    \n",
    "    ann = buildClassANN(input_feats_size, topology, output_classes_size)\n",
    "    loss(x, y) = (size(y,1) == 1) ? Losses.binarycrossentropy(ann(x),y) : Losses.crossentropy(ann(x),y)\n",
    "    \n",
    "    # Compute base array\n",
    "    training_losses = Float64[]\n",
    "    validation_losses = Float64[]\n",
    "    test_losses = Float64[]\n",
    "    \n",
    "    # Metrics computation inner function\n",
    "    \n",
    "    current_epoch = 0  \n",
    "    current_epoch_val = 0\n",
    "\n",
    "    function compute_metrics()\n",
    "        training_loss = loss(training_inputs', training_outputs')\n",
    "        validation_loss = loss(validation_inputs', validation_outputs')\n",
    "        test_loss = loss(test_inputs', test_outputs')\n",
    "        \n",
    "        training_ann_outputs = ann(training_inputs')\n",
    "        validation_ann_outputs = ann(validation_inputs')\n",
    "        test_ann_outputs = ann(test_inputs')\n",
    "        \n",
    "        training_accuracy = accuracy(training_ann_outputs', training_outputs)\n",
    "        validation_accuracy = accuracy(validation_ann_outputs', validation_outputs)\n",
    "        test_accuracy = accuracy(test_ann_outputs', test_outputs)\n",
    "\n",
    "        if showText\n",
    "            println(\"Epoch \", current_epoch)\n",
    "            println(\"Training loss: \", training_loss, \", Training accuracy: \", 100*training_accuracy,\" %\")\n",
    "            if length(validation_inputs) > 1\n",
    "                println(\"Validation loss: \", validation_loss, \", Validation accuracy: \", 100*validation_accuracy, \" %\") \n",
    "            end\n",
    "            if length(test_inputs) > 1\n",
    "                println(\"Test loss: \", test_loss, \", Test accuracy: \", 100*test_accuracy,\" %\")\n",
    "            end\n",
    "        end\n",
    "        return (training_loss, training_accuracy, validation_loss, \n",
    "            validation_accuracy, test_loss, test_accuracy)\n",
    "    end\n",
    "    \n",
    "    \n",
    "    # Compute initial metrics\n",
    "    (training_loss, training_accuracy, validation_loss, \n",
    "        validation_accuracy, test_loss, test_accuracy) = compute_metrics()\n",
    "    push!(training_losses, training_loss)\n",
    "    push!(validation_losses, validation_loss)\n",
    "    push!(test_losses, test_loss)\n",
    "    \n",
    "        \n",
    "    # Store initial ANN as the 'best'\n",
    "    best_validation_loss = validation_loss;\n",
    "    final_ann = deepcopy(ann);\n",
    "    \n",
    "    # Training loop\n",
    "    while (current_epoch < maxEpochs) && (training_loss > minLoss) && (current_epoch_val < maxEpochsVal)\n",
    "        current_epoch += 1\n",
    "        \n",
    "        Flux.train!(loss, Flux.params(ann), [(training_inputs', training_outputs')], ADAM(learningRate))\n",
    "        (training_loss, training_accuracy, validation_loss, \n",
    "            validation_accuracy, test_loss, test_accuracy) = compute_metrics();\n",
    "        \n",
    "        push!(training_losses, training_loss)\n",
    "        push!(validation_losses, validation_loss)\n",
    "        push!(test_losses, test_loss)\n",
    "        \n",
    "        # Check for early stop (only if we have a validation dataset)\n",
    "        if length(validation_inputs) > 1\n",
    "            if (validation_loss < best_validation_loss)\n",
    "                # reset the number of validation epochs, because we have an improved metric\n",
    "                # and store current ann as best\n",
    "                if showText\n",
    "                    println(\"[->] Found new best model: old_val_loss=\",validation_loss,\", new_val_loss=\",best_validation_loss)\n",
    "                end\n",
    "                current_epoch_val = 0;\n",
    "                best_validation_loss = validation_loss;\n",
    "                final_ann = deepcopy(ann);\n",
    "            else\n",
    "                current_epoch_val += 1;\n",
    "            end\n",
    "        end\n",
    "        \n",
    "    end\n",
    "    \n",
    "    return (final_ann, training_losses, validation_losses, test_losses)\n",
    "end\n",
    "\n"
   ]
  },
  {
   "cell_type": "code",
   "execution_count": 62,
   "id": "44bcc770",
   "metadata": {
    "pycharm": {
     "name": "#%%\n"
    }
   },
   "outputs": [
    {
     "data": {
      "text/plain": [
       "trainClassANN (generic function with 2 methods)"
      ]
     },
     "execution_count": 62,
     "metadata": {},
     "output_type": "execute_result"
    }
   ],
   "source": [
    "## Training with k-fold cross-validation\n",
    "##   1) divide the dataset into k-folds of train/test sets\n",
    "##   2) for each fold, create a validation set making a hold-out into the train set\n",
    "##   3) train the ann k times and for each training check the desired metrics and store them\n",
    "##   4) once the k-trains is finished, average the metrics vectors\n",
    "\n",
    "function holdOut(N::Int, P::Real)\n",
    "    index_vector = [1:N;]'\n",
    "    cut_point = floor(Int,N*P)\n",
    "    index_vector=Random.randperm(MersenneTwister(Dates.datetime2epochms(Dates.now())), N)\n",
    "    \n",
    "    # return (indexes_training, indexes_texting)\n",
    "    cut_set = index_vector[1:cut_point]\n",
    "    train_set = index_vector[cut_point:length(index_vector)]\n",
    "    return train_set, cut_set\n",
    "end\n",
    "\n",
    "function trainClassANN(\n",
    "        topology::AbstractArray{<:Int,1}, \n",
    "        trainingDataset::Tuple{AbstractArray{<:Real,2}, AbstractArray{Bool,2}}, \n",
    "        kFoldIndices::\tArray{Int64,1}; \n",
    "        transferFunctions::AbstractArray{<:Function,1}=fill(σ, length(topology)), \n",
    "        maxEpochs::Int=1000, \n",
    "        minLoss::Real=0.0, \n",
    "        learningRate::Real=0.01, \n",
    "        repetitionsTraining::Int=1, \n",
    "        validationRatio::Real=0.0, \n",
    "        maxEpochsVal::Int=20)\n",
    "\n",
    "    \n",
    "    # Transform the kFoldIndexes into a set to remove duplicate and\n",
    "    # compute the number of folds as the size of that set\n",
    "    numFolds = size(Set(kFoldIndices))\n",
    "    \n",
    "    # create our metrics vectors\n",
    "    train_losses_array = []\n",
    "    test_losses_array  = []\n",
    "    \n",
    "    if holdout>0\n",
    "        validation_losses_array = []\n",
    "    end\n",
    "    \n",
    "    for numFold in 1:numFolds\n",
    "        # extract the train and test dataset using the k-folds\n",
    "        train_dataset = trainingDataset[kFoldIndices.!=numFold,:];\n",
    "        test_dataset  = trainingDataset[kFoldIndices.==numFold,:];\n",
    "        \n",
    "        # if we are using a validation dataset, perform a holdout\n",
    "        if holdout > 0\n",
    "            train_idx, val_idx = holdOut(size(train_dataset), holdout)\n",
    "            \n",
    "            train_dataset      = train_dataset[train_idx]\n",
    "            validation_dataset = train_dataset[val_idx]\n",
    "            \n",
    "            for i=1:repetitionsTraining\n",
    "                (final_ann, train_losses, validation_losses, test_losses) = trainClassANN(\n",
    "                    topology, train_dataset, validation_dataset, test_dataset, transferFunctions, \n",
    "                    maxEpochs, minLoss, learningRate, maxEpochsVal)\n",
    "\n",
    "                # append the data to our arrays\n",
    "                append!(train_losses_array, train_losses)\n",
    "                append!(test_losses_array, test_losses)\n",
    "                append!(validation_losses_array, validation_losses)\n",
    "            end\n",
    "            \n",
    "            return training_losses_array, test_losses_array, validation_losses_array\n",
    "            \n",
    "        else\n",
    "            # train using the previously developed trainClassANN function\n",
    "            \n",
    "            for i=1:repetitionsTraining\n",
    "                (final_ann, training_losses, _, test_losses) = trainClassANN(\n",
    "                    topology, train_dataset, test_dataset, transferFunctions, \n",
    "                    maxEpochs, minLoss, learningRate, maxEpochsVal)\n",
    "\n",
    "                append!(train_losses_array, train_losses)\n",
    "                append!(test_losses_array, test_losses)\n",
    "            end\n",
    "            \n",
    "            return training_losses_array, test_losses_array, _\n",
    "            \n",
    "        end\n",
    "    end\n",
    "end"
   ]
  },
  {
   "cell_type": "code",
   "execution_count": 8,
   "id": "f0116667",
   "metadata": {
    "pycharm": {
     "name": "#%%\n"
    }
   },
   "outputs": [
    {
     "data": {
      "text/plain": [
       "trainClassANN (generic function with 2 methods)"
      ]
     },
     "execution_count": 8,
     "metadata": {},
     "output_type": "execute_result"
    }
   ],
   "source": [
    "function trainClassANN(topology::AbstractArray{<:Int,1},\n",
    "        trainingDataset::Tuple{AbstractArray{<:Real,2}, AbstractArray{Bool,1}},\n",
    "        kFoldIndices::\tArray{Int64,1};\n",
    "        transferFunctions::AbstractArray{<:Function,1}=fill(σ, length(topology)),\n",
    "        maxEpochs::Int=1000, minLoss::Real=0.0, learningRate::Real=0.01,repetitionsTraining::Int=1, \n",
    "        validationRatio::Real=0.0, maxEpochsVal::Int=20)\n",
    "    \n",
    "    training_inputs, training_outputs = trainingDataset\n",
    "    \n",
    "    return trainClassANN(topology, (training_inputs, oneHotEncoding(training_outputs)),\n",
    "    kFoldIndices, transferFunctions, maxEpochs, minLoss, learningRate, repetitionsTraining,\n",
    "    validationRatio, maxEpochsVal)\n",
    "end"
   ]
  }
 ],
 "metadata": {
  "kernelspec": {
   "display_name": "Julia 1.8.2",
   "language": "julia",
   "name": "julia-1.8"
  },
  "language_info": {
   "file_extension": ".jl",
   "mimetype": "application/julia",
   "name": "julia",
   "version": "1.8.2"
  }
 },
 "nbformat": 4,
 "nbformat_minor": 5
}
