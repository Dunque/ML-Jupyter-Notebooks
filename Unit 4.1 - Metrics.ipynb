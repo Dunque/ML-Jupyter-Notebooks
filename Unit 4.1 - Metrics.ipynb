{
 "cells": [
  {
   "cell_type": "markdown",
   "id": "57c56216",
   "metadata": {
    "pycharm": {
     "name": "#%% md\n"
    }
   },
   "source": [
    "# Metrics\n",
    "\n",
    "We have used simple functions in the previous assignments, such as MSE in regression problems or accuracy in classification problems, to quantify the goodness-of-fit of the model. While in regression problems the functions are based on an error calculated in one way or another (mean error, mean square error, etc.), in classification problems other types of metrics can be derived depending on what the problem being solved is like. Many of these metrics, at least those that will be used in practice, are based on the calculation of the confusion matrix.\n",
    "\n",
    "A confusion matrix is a square matrix, with as many rows and columns as classes, showing the distribution of patterns in classes, and the classification performed by the model. Usually the rows show how the model has performed the classification, and the columns show the actual classification values, although this may vary depending on the source consulted.\n",
    "\n",
    "The simplest case corresponds to 2 classes, where one is considered \"negative\" and the other \"positive\". A two-class confusion matrix would be as follows:"
   ]
  },
  {
   "cell_type": "raw",
   "id": "f36c1274",
   "metadata": {
    "pycharm": {
     "name": "#%% raw\n"
    }
   },
   "source": [
    "                         Prediction      \n",
    "                  +----------+----------+\n",
    "                  | Negative | Positive |\n",
    "       +----------+----------+----------+\n",
    "       | Negative |    TN    |    FP    |\n",
    "  Real +----------+----------+----------+\n",
    "       | Positive |    FN    |    TP    |\n",
    "       +----------+----------+----------+"
   ]
  },
  {
   "cell_type": "markdown",
   "id": "43f184c9",
   "metadata": {
    "pycharm": {
     "name": "#%% md\n"
    }
   },
   "source": [
    "This confusion matrix contains 4 values, which can be divided\n",
    "\n",
    "- according to the output of the model: positive or negative.\n",
    "- depending on whether the model is wrong or not: true or false. \n",
    "\n",
    "Thus, these 4 values are called true negatives (TN), false positives (FP), false negatives (FN) and true positives (TP). For example, false negatives would be the number of patterns that the system has classified as negative, and has been wrong because they were actually positive.\n",
    "\n",
    "From this confusion matrix, different metrics can be calculated. Depending on the problem you are working on, it will be more interesting to follow one or the other. Some of the most most commonly used metrics are:\n",
    "\n",
    "- **Accuracy**. Ratio of patterns in which the prediction is correct. Calculated as $$\\frac{TN+TP}{TN+TP+FN+FP}$$\n",
    "- **Error rate**. Ratio of patterns in which the prediction is wrong. Calculated as $$\\frac{FP+FN}{TN+TP+FN+FP}$$\n",
    "- **Sensitivity** or **recall**. Indicates the probability that a positive classification result is obtained for a positive case. It is calculated as $$\\frac{TP}{FN+TP}$$\n",
    "    - In a medical test, the test sensitivity represents the probability that a sick (positive) subject will have a positive test result.\n",
    "- **Specificity**. Indicates the probability that a negative classification result is obatined for a negative case. It is calculated as $$\\frac{TN}{FP+TN}$$\n",
    "    - The specificity of a test represents the probability that a healthy (negative) subject will have a negative test result.\n",
    "- **Precision** or **positive predictive value**. Ratio of positive patterns that have been correctly classified. Calculated as $$\\frac{TP}{TP+FP}$$\n",
    "- **Negative predictive value**. Ratio of positive patterns that have been correctly classified. Calculated as $$\\frac{TN}{TN+FN}$$\n",
    "- **F-score**, **F1-score** or **F-measurement**. It is defined as the harmonic mean of precision and recall.\n",
    "\n",
    "It is worth clarifying that these metrics, as well as others seen in theory class (ROC curve, Kappa index) are used to assess already trained classifiers, not to perform the training process. To be trained, each model has its own function to quantify the error or goodness of fit, such as the cross-entropy function in the case of neural networks.\n",
    "\n",
    "The accuracy is probably the most commonly used value, as it indicates the success rate of the classifier in a simple way. However, depending on the problem you are working with, it may not be the most appropriate metric. For example, in a mass population-based test for a disease where it is known that most people do not have the disease, a model that classifies everyone as negative (healthy) will have a very high accuracy, even though the model does not actually do anything.\n",
    "\n",
    "For this reason, it is necessary to assess which metric or metrics are the most used for each kind of problem. In many problems where the different classes are of equal importance, the accuracy value may be enough. However, in other problems, it may be of more interest to evaluate the situations in which a positive response is or should be produced by the model, as it could indicate something critical, such as detecting a disease or raising some kind of alarm. For this reason, sensitivity and positive predictive value values are often taken into account in addition to accuracy. There is a more extensive discussion of this in the theory notes, but a possible informal guide might be the following:\n",
    "\n",
    "- If you want to minimise the number of positives incorrectly classified as negative (e.g. maximise the number of correctly diagnosed sick subjects, or maximise the number of alarms given for risky situations), the indicated metric is sensitivity (recall).\n",
    "- If one wishes to minimise the number of samples incorrectly classified as positives (false positives, e.g. sick subjects diagnosed as healthy, or situations where an alarm should not has been raised but it was), the indicated metric is the positive predictive value (precision).\n",
    "\n",
    "Therefore, the most appropriate metric depends entirely on the specific problem, according to the relative importance of the classifier output and its behaviour. In this type of problem, the F-score is a metric that may be more useful than accuracy.\n",
    "\n",
    "Another issue to be considered is the data imbalance. Accuracy is a metric that gives a \"global\" view, which can be misleading when the distribution in classes is unbalanced. In these cases, F-score is a better metric. Having unbalanced databases is very common, which provides an extra argument for using F-score rather than accuracy.\n",
    "\n",
    "Finally, if you have more than two classes, it is possible to build a confusion matrix in a similar way by having one row and column per class. For example:\n"
   ]
  },
  {
   "cell_type": "raw",
   "id": "03ce5ee0",
   "metadata": {
    "pycharm": {
     "name": "#%% raw\n"
    }
   },
   "source": [
    "             Prediction \n",
    "           +---+---+---+\n",
    "           | A | B | C |\n",
    "       +---+---+---+---+\n",
    "       | A |   |   |   |\n",
    "       +---+---+---+---+\n",
    "  Real | B |   |   |   |\n",
    "       +---+---+---+---+\n",
    "       | C |   |   |   |\n",
    "       +---+---+---+---+"
   ]
  },
  {
   "cell_type": "markdown",
   "id": "37f6a477",
   "metadata": {
    "pycharm": {
     "name": "#%% md\n"
    }
   },
   "source": [
    "In these cases, it is no longer possible to speak of positive or negative patterns, since there are more than two classes, nor to take values for sensitivity or positive predictive value. However, this confusion matrix can offer very interesting information when it comes to understanding how the model works, assessing which are the classes between which the model finds it easiest and most difficult to separate.\n",
    "\n",
    "### Question\n",
    "If the pattern set has been divided into training and test subsets, which subset should be used to calculated the confusion matrix?"
   ]
  },
  {
   "cell_type": "markdown",
   "id": "fdc6397f",
   "metadata": {
    "pycharm": {
     "name": "#%% md\n"
    }
   },
   "source": [
    "`We would use the test set`"
   ]
  },
  {
   "cell_type": "markdown",
   "id": "8354cd47",
   "metadata": {
    "pycharm": {
     "name": "#%% md\n"
    }
   },
   "source": [
    "In this assignment, you are asked to:\n",
    "\n",
    "1. Develop a function called `confusionMatrix` which takes two vectors of equal length (the number of patterns), the first one containing the outputs obtained by a model (`outputs`) and the second with the desired outputs (`targets`), both of type `AbstractArray{Bool,1}`. This function should return:\n",
    "    - Accuracy\n",
    "    - Error rate\n",
    "    - Sensitivity\n",
    "    - Specificity\n",
    "    - Positive predicitive value\n",
    "    - Negative predicitve value\n",
    "    - F-score\n",
    "    - Confusion matrix, as an object of type `Array{Int64,2}` with two rows and two columns\n",
    "    \n",
    "    As this function is being fed with boolean-valued vectors, it will be applicable to problems with two classes (positive and negative cases).\n",
    "\n",
    "    It is necessary to consider some particular situations when calculated the required classification metrics.\n",
    "    \n",
    "        - If every pattern is a true negative, neither the sensitivity nor the positive predictive value can be calculated. In this case the system works correctly, so these two metrics will be 1.\n",
    "        - Similarly, neither the specificity nor the negative predictive value can be obtained and if every pattern is a true positive, so both metrics have to be manually set to 1.\n",
    "        - If neither of these two cases has occurred and there is still any metric which cannot be calculated, it will take the value of 0. For example, if the sensitivity could not be calculated, it means that there was no pattern with a positive desired output.\n",
    "        - It both sensitivity and positive predictive values are equal to 0, the value of F-score cannot be obtained, and thus it will be 0.\n",
    "        \n",
    "    Do not use loops inside the developed function.\n"
   ]
  },
  {
   "cell_type": "code",
   "execution_count": 1,
   "id": "eaaca9d3",
   "metadata": {},
   "outputs": [
    {
     "data": {
      "text/plain": [
       "encode_categories (generic function with 1 method)"
      ]
     },
     "execution_count": 1,
     "metadata": {},
     "output_type": "execute_result"
    }
   ],
   "source": [
    "using Statistics\n",
    "using DelimitedFiles\n",
    "\n",
    "\n",
    "function stats(outputs)\n",
    "    minimum = mapslices(Statistics.minimum, outputs; dims=1)[1]\n",
    "    maximum = mapslices(Statistics.maximum, outputs; dims=1)[1]\n",
    "    mean = mapslices(Statistics.mean, outputs; dims=1)[1]\n",
    "    std = mapslices(Statistics.std, outputs; dims=1)[1]\n",
    "    return [minimum, maximum, mean, std]\n",
    "end\n",
    "\n",
    "function calculateMinMaxNormalizationParameters(dataset::AbstractArray{<:Real,2})\n",
    "    # function that takes a real matrix (i.e. array of reals with dimension 2)\n",
    "    # this matrix is the data-set to our problem, where each row is a sample and each column is an attribute\n",
    "    # return a 2-tuple of matrixes where each row is the minimum and maximum respectivelly\n",
    "    \n",
    "    min_matrix = []\n",
    "    max_matrix = []\n",
    "    \n",
    "    for column in eachcol(dataset)\n",
    "        r = stats(column)\n",
    "        if min_matrix == [] || max_matrix == []\n",
    "            min_matrix = r[1]\n",
    "            max_matrix = r[2]\n",
    "        else\n",
    "            min_matrix = vcat(min_matrix, r[1])\n",
    "            max_matrix = hcat(max_matrix, r[2])\n",
    "        end\n",
    "    end\n",
    "    return reshape(min_matrix, (4,1)), reshape(max_matrix, (4,1))\n",
    "end\n",
    "\n",
    "function normalizeMinMax( dataset::AbstractArray{<:Real,2})\n",
    "    # x scaled = x - min(x) / max(x) - min(x)\n",
    "    min, max = calculateMinMaxNormalizationParameters(dataset)\n",
    "    out = zeros(size(dataset, 1), size(dataset, 2))\n",
    "    for i in axes(dataset, 1)\n",
    "        for j in axes(dataset, 2)\n",
    "            cmin, cmax = min[j], max[j]\n",
    "            out[i,j] = dataset[i,j] - cmin / (cmax - cmin)\n",
    "        end\n",
    "    end\n",
    "    \n",
    "    return out\n",
    "end\n",
    "function normalizeZeroMean( dataset::AbstractArray{<:Real,2}) \n",
    "    mean, std = calculateZeroMeanNormalizationParameters(dataset)\n",
    "    out = zeros(size(dataset, 1), size(dataset, 2))\n",
    "    for i in axes(dataset, 1)\n",
    "        for j in axes(dataset, 2)\n",
    "            cmean, cstd = mean[j], std[j]\n",
    "            out[i,j] = dataset[i,j] - cmean / cstd\n",
    "        end\n",
    "    end\n",
    "    return out\n",
    "end       \n",
    "\n",
    "function classifyOutputs(outputs::AbstractArray{<:Real,2}; \n",
    "                        threshold::Real=0.5)\n",
    "    if size(outputs, 2) == 1\n",
    "        output = dataset .>= threshold\n",
    "    else\n",
    "        (_,indicesMaxEachInstance) = findmax(outputs, dims=2);\n",
    "        bool_outputs = falses(size(outputs));\n",
    "        bool_outputs[indicesMaxEachInstance] .= true\n",
    "    end\n",
    "    return bool_outputs\n",
    "end\n",
    "\n",
    "function accuracy(outputs::AbstractArray{Bool,2}, targets::AbstractArray{Bool,2}) \n",
    "\n",
    "    if (size(targets,2)==1)\n",
    "        return accuracy(outputs[:,1], targets[:,1])\n",
    "    else\n",
    "        classComparison = targets .== outputs\n",
    "        correctClassifications = all(classComparison, dims=2)\n",
    "        return mean(correctClassifications)\n",
    "    end\n",
    "end\n",
    "\n",
    "function accuracy(outputs::AbstractArray{<:Real,2}, targets::AbstractArray{Bool,2}, threshold::Real=0.5)\n",
    "    if (size(targets,2)==1)\n",
    "        return accuracy(outputs[:,1], targets[:,1])\n",
    "    else\n",
    "        classified_outputs=classifyOutputs(outputs)\n",
    "        return accuracy(classified_outputs, targets)\n",
    "    end\n",
    "end\n",
    "\n",
    "\n",
    "function encode_categories(targets)\n",
    "    if (length(unique(targets)) > 2)\n",
    "        cats = unique(targets) .== permutedims(targets)\n",
    "        return cats'\n",
    "    else\n",
    "        cats = targets .== unique(targets)[1]\n",
    "        return cats\n",
    "    end\n",
    "end"
   ]
  },
  {
   "cell_type": "code",
   "execution_count": 2,
   "id": "bd4df5f7",
   "metadata": {
    "pycharm": {
     "name": "#%%\n"
    }
   },
   "outputs": [
    {
     "data": {
      "text/plain": [
       "(1.0, 0.0, 1, 1, 1, 1, 0, [8 0; 0 2])"
      ]
     },
     "execution_count": 2,
     "metadata": {},
     "output_type": "execute_result"
    }
   ],
   "source": [
    "function confusionMatrix(outputs::AbstractArray{Bool,1}, targets::AbstractArray{Bool,1})\n",
    "    \n",
    "    tp = sum(outputs .& targets)      # select all true outputs that are true on target\n",
    "    fp = sum(outputs .& .!targets)    # select all true outputs that are false on target\n",
    "    tn = sum(.!outputs .& .!targets)  # select all false outputs that are false on target\n",
    "    fn = sum(.!outputs .& targets)    # select all false outputs that are true on target\n",
    "    \n",
    "    conf_matrix = [tn fp; fn tp]\n",
    "    \n",
    "    accu= (tn+tp)/(tn+tp+fn+fp)\n",
    "    erra= (fp+fn)/(tn+tp+fn+fp)\n",
    "    reca= (tn==length(targets)) ? (tp/(fn+tp)) : 1\n",
    "    spec= (tp==length(targets)) ? (tn/(fp+tn)) : 1\n",
    "    prec= (tn==length(targets)) ? (tp/(tp+fp)) : 1\n",
    "    npre= (tp==length(targets)) ? (tn/(tn+fn)) : 1\n",
    "    \n",
    "    f1 = (reca==prec==0) ? 2*(prec*reca/prec+reca) : 0\n",
    "    \n",
    "    return accu,erra,reca,spec,prec,npre,f1,conf_matrix\n",
    "end\n",
    "    \n",
    "outputs = [true, false, false, false, false, true, false, false, false, false]\n",
    "targets = [true, false, false, false, false, true, false, false, false, false]\n",
    "\n",
    "confusionMatrix(outputs, targets) "
   ]
  },
  {
   "cell_type": "markdown",
   "id": "720b35e9",
   "metadata": {
    "pycharm": {
     "name": "#%% md\n"
    }
   },
   "source": [
    "2. Many models (e.g. artificial neural networks) do not return a categorial output for each pattern, but the probability that it is \"positive\". For this reason, it is requested to develop a function with the same name as the previous one, whose first parameter is not a vector of boolean values but a vector of real values (of type `AbstractArray{<:Real}`). It also receives an optional third parameter with a threshold, with a default value, which is used to apply the previous function and return, therefore, the same values."
   ]
  },
  {
   "cell_type": "code",
   "execution_count": 13,
   "id": "2b7712ee",
   "metadata": {
    "pycharm": {
     "name": "#%%\n"
    }
   },
   "outputs": [
    {
     "data": {
      "text/plain": [
       "(1.0, 0.0, 1, 1, 1, 1, 0, [8 0; 0 2])"
      ]
     },
     "execution_count": 13,
     "metadata": {},
     "output_type": "execute_result"
    }
   ],
   "source": [
    "function confusionMatrix(outputs::AbstractArray{<:Real,1},targets::AbstractArray{Bool,1}; threshold::Real=0.5)\n",
    "    outputs_boolean = outputs .> threshold\n",
    "    return confusionMatrix(outputs_boolean, targets)\n",
    "end\n",
    "\n",
    "outputs = [0.6, 0.3, 0.3, 0.3, 0.3, 0.6, 0.3, 0.3, 0.3, 0.3]\n",
    "targets = [true, false, false, false, false, true, false, false, false, false]\n",
    "\n",
    "confusionMatrix(outputs, targets) "
   ]
  },
  {
   "cell_type": "markdown",
   "id": "3b1b8dad",
   "metadata": {
    "pycharm": {
     "name": "#%% md\n"
    }
   },
   "source": [
    "3. Develop two functions with the same name, `printConfusionMatrix`, that receive the model outputs and the desired outputs, call the previous functions and display the results obtained, including the confusion matrix. One of these functions shall receive a vector of model classifications (`outputs`) of type `AbstractArray{Bool,1}`, while for the other one this parameter shall be a vector of real values (of type `AbstractArray{<:Real}`). These functions will make calls to the previous functions."
   ]
  },
  {
   "cell_type": "code",
   "execution_count": 10,
   "id": "90e01e78",
   "metadata": {
    "pycharm": {
     "name": "#%%\n"
    }
   },
   "outputs": [
    {
     "name": "stdout",
     "output_type": "stream",
     "text": [
      "            Prediction\n",
      "      +-----------------+\n",
      "      |      8 |      0 |\n",
      "Real  +-----------------+\n",
      "      |      0 |      2 |\n",
      "      +-----------------+\n",
      "\n",
      "Accuracy = 1.0\n",
      "Error rate = 0.0\n",
      "Recall = 1\n",
      "Specificity = 1\n",
      "Precision = 1\n",
      "Negative Precision = 1\n",
      "F-Score = 0\n"
     ]
    }
   ],
   "source": [
    "function printConfusionMatrix(outputs::AbstractArray{Bool,1},targets::AbstractArray{Bool,1})\n",
    "    accu,erra,reca,spec,prec,npre,f1,cm = confusionMatrix(outputs, targets)\n",
    "    println(\"Accuracy = \",accu)\n",
    "    println(\"Error rate = \",erra)\n",
    "    println(\"Recall = \",reca)\n",
    "    println(\"Specificity = \",spec)\n",
    "    println(\"Precision = \",prec)\n",
    "    println(\"Negative Precision = \",npre)\n",
    "    println(\"F-Score = \",f1)\n",
    "    \n",
    "    println(\"\")\n",
    "    \n",
    "    println(\"            Prediction\")\n",
    "    println(\"      +-----------------+\")\n",
    "    println(\"      |      \",cm[1,1],\" |      \",cm[1,2],\" |\")\n",
    "    println(\"Real  +-----------------+\")\n",
    "    println(\"      |      \",cm[2,1],\" |      \",cm[2,2],\" |\")\n",
    "    println(\"      +-----------------+\")\n",
    "    \n",
    "\n",
    "end\n",
    "\n",
    "outputs = [true, false, false, false, false, true, false, false, false, false]\n",
    "targets = [true, false, false, false, false, true, false, false, false, false]\n",
    "\n",
    "printConfusionMatrix(outputs, targets) "
   ]
  },
  {
   "cell_type": "code",
   "execution_count": 12,
   "id": "13c6f9c8",
   "metadata": {
    "pycharm": {
     "name": "#%%\n"
    }
   },
   "outputs": [
    {
     "ename": "LoadError",
     "evalue": "MethodError: no method matching confusionMatrix(::Vector{Float64}, ::Vector{Bool}, ::Float64)\n\u001b[0mClosest candidates are:\n\u001b[0m  confusionMatrix(::AbstractVector{<:Real}, ::AbstractVector{Bool}; threshold) at In[3]:1\n\u001b[0m  confusionMatrix(\u001b[91m::AbstractVector{Bool}\u001b[39m, ::AbstractVector{Bool}) at In[2]:1",
     "output_type": "error",
     "traceback": [
      "MethodError: no method matching confusionMatrix(::Vector{Float64}, ::Vector{Bool}, ::Float64)\n\u001b[0mClosest candidates are:\n\u001b[0m  confusionMatrix(::AbstractVector{<:Real}, ::AbstractVector{Bool}; threshold) at In[3]:1\n\u001b[0m  confusionMatrix(\u001b[91m::AbstractVector{Bool}\u001b[39m, ::AbstractVector{Bool}) at In[2]:1",
      "",
      "Stacktrace:",
      " [1] printConfusionMatrix(outputs::Vector{Float64}, targets::Vector{Bool}; threshold::Float64)",
      "   @ Main ./In[12]:2",
      " [2] top-level scope",
      "   @ In[12]:26",
      " [3] eval",
      "   @ ./boot.jl:368 [inlined]",
      " [4] include_string(mapexpr::typeof(REPL.softscope), mod::Module, code::String, filename::String)",
      "   @ Base ./loading.jl:1428"
     ]
    }
   ],
   "source": [
    "function printConfusionMatrix(outputs::AbstractArray{<:Real,1},targets::AbstractArray{Bool,1}; threshold::Real=0.5)\n",
    "    accu,erra,reca,spec,prec,npre,f1,cm = confusionMatrix(outputs, targets, threshold)\n",
    "    \n",
    "    println(\"Accuracy = \",accu)\n",
    "    println(\"Error rate = \",erra)\n",
    "    println(\"Recall = \",reca)\n",
    "    println(\"Specificity = \",spec)\n",
    "    println(\"Precision = \",prec)\n",
    "    println(\"Negative Precision = \",npre)\n",
    "    println(\"F-Score = \",f1)\n",
    "    \n",
    "    println(\"\")\n",
    "    \n",
    "    println(\"            Prediction\")\n",
    "    println(\"      +-----------------+\")\n",
    "    println(\"      |      \",cm[1,1],\" |      \",cm[1,2],\" |\")\n",
    "    println(\"Real  +-----------------+\")\n",
    "    println(\"      |      \",cm[2,1],\" |      \",cm[2,2],\" |\")\n",
    "    println(\"      +-----------------+\")\n",
    "\n",
    "end\n",
    "\n",
    "outputs = [0.6, 0.3, 0.3, 0.3, 0.3, 0.6, 0.3, 0.3, 0.3, 0.3]\n",
    "targets = [true, false, false, false, false, true, false, false, false, false]\n",
    "\n",
    "printConfusionMatrix(outputs, targets, threshold=0.5)"
   ]
  }
 ],
 "metadata": {
  "kernelspec": {
   "display_name": "Julia 1.8.2",
   "language": "julia",
   "name": "julia-1.8"
  },
  "language_info": {
   "file_extension": ".jl",
   "mimetype": "application/julia",
   "name": "julia",
   "version": "1.8.2"
  }
 },
 "nbformat": 4,
 "nbformat_minor": 5
}
